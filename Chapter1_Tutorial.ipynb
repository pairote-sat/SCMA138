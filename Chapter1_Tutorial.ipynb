{
 "cells": [
  {
   "cell_type": "markdown",
   "id": "24711cb5-e386-4451-a904-9628584978c3",
   "metadata": {},
   "source": [
    "# Tutorial for Chapter 1: \n",
    "Group Research Project: Exploring the Historical Evolution of Actuarial Science."
   ]
  },
  {
   "cell_type": "markdown",
   "id": "ed215c1d-84ec-4bcd-98bc-6cb766f6ac15",
   "metadata": {},
   "source": [
    "## Objective:\n",
    "Engage students in a collaborative exploration of the historical developments in actuarial science, with a focus on its applications in Life and Health Insurance, Casualty Insurance, Pensions, Investments, and additional related domains."
   ]
  },
  {
   "cell_type": "markdown",
   "id": "57e518a5-14ce-41c8-bd70-294e20e12b79",
   "metadata": {},
   "source": [
    "```{admonition} Deadline\n",
    ":class: caution\n",
    "\n",
    "This is a custom admonition box for a deadline.\n",
    "```"
   ]
  },
  {
   "cell_type": "markdown",
   "id": "e84d8de0-0e70-468c-aa0f-000f9db529bc",
   "metadata": {},
   "source": [
    "## Actuarial Science History Research Worksheet\n",
    "\n",
    ":\n",
    "        - Description:\n",
    "\n",
    "    2. \n",
    "        - Date:\n",
    "        - Description:\n",
    "\n",
    "    3. \n",
    "        - Date:\n",
    "        - Description:"
   ]
  },
  {
   "cell_type": "code",
   "execution_count": null,
   "id": "07aa053e-1304-46cb-a6f3-46b51372b88c",
   "metadata": {},
   "outputs": [],
   "source": []
  }
 ],
 "metadata": {
  "kernelspec": {
   "display_name": "Python 3 (ipykernel)",
   "language": "python",
   "name": "python3"
  },
  "language_info": {
   "codemirror_mode": {
    "name": "ipython",
    "version": 3
   },
   "file_extension": ".py",
   "mimetype": "text/x-python",
   "name": "python",
   "nbconvert_exporter": "python",
   "pygments_lexer": "ipython3",
   "version": "3.10.9"
  }
 },
 "nbformat": 4,
 "nbformat_minor": 5
}