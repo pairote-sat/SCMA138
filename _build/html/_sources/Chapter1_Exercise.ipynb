{
 "cells": [
  {
   "cell_type": "markdown",
   "id": "24711cb5-e386-4451-a904-9628584978c3",
   "metadata": {},
   "source": [
    "# Exercises for Chapter 1"
   ]
  },
  {
   "cell_type": "markdown",
   "id": "6e24f846-594a-4a62-ab0c-183c093959d6",
   "metadata": {},
   "source": [
    "```{admonition} **Exercise 1.1** 2023 Global and Thailand Top Finance and Economic Stories\n",
    ":class: tip\n",
    "\n",
    "\n",
    "## **Objective:**\n",
    "This exercise aims to develop your skills in summarizing and citing important finance and economic events from both global and Thailand contexts in the year 2023. The emphasis on proper referencing encourages good research practices and ensures the credibility of your findings.\n",
    "\n",
    "## **Instructions:**\n",
    "1. Look up the internet to find and choose the top three stories about Finance and Economy in 2023 for both the global or Thailand perspectives.\n",
    "2. Summarize each story in simple words, emphasizing key events and their impact on the global and Thai economies.\n",
    "3. Include appropriate references and citations for each story. Failure to do so will result in a 50% deduction of total marks.\n",
    "4. Submit your results on the Google Form, the link for which will be provided in class.\n",
    "\n",
    "```"
   ]
  },
  {
   "cell_type": "markdown",
   "id": "2f38d27a-6d9d-432c-a55c-ff3f390ed34e",
   "metadata": {},
   "source": [
    "```{admonition}  **Exercise 1.2** **Group Reading Project:** Exploring the Historical Evolution of Actuarial Science\n",
    ":class: tip\n",
    "\n",
    "\n",
    "## **Objectives:** In the exercise section, we will focus on hands-on activities and materials related to the historical development of actuarial science. These practical tasks will help you apply what you've learned and gain a better understanding of how actuarial science has evolved.\n",
    "\n",
    "## **Group Size:** Up to 4 students per group\n",
    "\n",
    "## **Instructions:**\n",
    "\n",
    "1. **Reading and Analysis:** Read the materials carefully about the history of actuarial science. Look for important dates, people, and events that shaped its development.\n",
    "\n",
    "2. **Summarization:** Work together to create a short summary highlighting the main points you found. Include key facts, notable figures, and any significant changes in actuarial science over time.\n",
    "\n",
    "3. **References:** Don't forget to mention where you got the information. Write down the titles, authors, or sources of the materials you used in your summary.\n",
    "\n",
    "4. **Submission:** Submit your results on the Google Form, the link for which will be provided in class."
   ]
  },
  {
   "cell_type": "markdown",
   "id": "eacb3d59-ab7e-4a8e-8ff9-1e0fbcbb7ce3",
   "metadata": {},
   "source": [
    "```{admonition}  **Exercise 1.3** Property/Casualty Insurance Pricing: Car Insurance\n",
    ":class: tip\n",
    "\n",
    "## Objective\n",
    "The goal is to estimate the premium for car insurance based on the given information about claim frequency, claim amount, and policy count.\n",
    "\n",
    "## Given Information\n",
    "1. **Claim Frequency ($\\lambda$):** 0.5 accidents per person per year.\n",
    "2. **Claim Amount (Claim Severity):** 20,000 Baht per claim.\n",
    "3. **Policy Count ($N$):** 100 policies in the portfolio.\n",
    "\n",
    "## Assumptions\n",
    "1. The number of claims follows a **Poisson distribution**, which is a common assumption for modeling rare events like accidents.\n",
    "2. Claim amounts are independent and identically distributed.\n",
    "\n",
    "## Calculation Process\n",
    "\n",
    "### 1. Expected Claims per Policy\n",
    "- The Poisson distribution is used to model the number of claims.\n",
    "\n",
    "  $\n",
    "  \\begin{align}\n",
    "  \\text{Expected Total Number of Claims} &= \\text{Claim Frequency} \\times \\text{Policy Count} \\\\\n",
    "   &= 0.5 \\times 100 = 50\n",
    "  \\end{align} \n",
    "  $\n",
    "\n",
    "### 2. Expected Total Cost\n",
    "- The expected total cost is calculated by multiplying the expected total number of claims by the average claim amount.\n",
    "\n",
    "  $\n",
    "  \\begin{align}\n",
    "  \\text{Expected Total Cost} &= \\text{Expected Total Number of Claims} \\times \\text{Claim Amount} \\\\\n",
    "   &= 50 \\times 20,000 = 1,000,000 \\, \\text{Baht}\n",
    "  \\end{align}\n",
    "  $\n",
    "\n",
    "### 3. Premium Calculation\n",
    "- The premium is then determined by dividing the expected total cost by the number of policies.\n",
    "\n",
    "  $\n",
    "  \\begin{align}\n",
    "  \\text{Premium} &= \\frac{\\text{Expected Total Cost}}{\\text{Policy Count}} \\\\\n",
    "                &= \\frac{1,000,000}{100} = 10,000 \\, \\text{Baht}\n",
    "  \\end{align}\n",
    "  $\n",
    "\n",
    "## Conclusion\n",
    "Based on the provided claim frequency, claim amount, and policy count, the estimated premium for car insurance is 10,000 Baht per person per year. \n",
    "```"
   ]
  },
  {
   "cell_type": "markdown",
   "id": "756a875f-bc84-4a0d-a723-6be070810a13",
   "metadata": {},
   "source": [
    "```{admonition}  **Exercise 1.4**\n",
    ":class: tip\n",
    "\n",
    "In Exercise 1.3, we use the expected values to figure out how much insurance should cost, what problems or challenges do you think might come up? \n",
    "\n",
    "Can you give an example to explain why relying only on expected values might not be enough?\n",
    "\n",
    "```"
   ]
  },
  {
   "cell_type": "markdown",
   "id": "5e3363e8-b54f-4aa0-880b-0778c0ab8baf",
   "metadata": {},
   "source": [
    "```{admonition}  **Exercise 1.5**\n",
    ":class: tip\n",
    "\n",
    "When determining car insurance premiums, accidents don't happen the same way for everyone, and their costs can vary. How could using a probability distribution help us capture the range of possible scenarios and their likelihood? Can you explain how considering probabilities might be more informative than just using a single average value when setting premiums?\n",
    "\n",
    "```"
   ]
  }
 ],
 "metadata": {
  "kernelspec": {
   "display_name": "Python 3 (ipykernel)",
   "language": "python",
   "name": "python3"
  },
  "language_info": {
   "codemirror_mode": {
    "name": "ipython",
    "version": 3
   },
   "file_extension": ".py",
   "mimetype": "text/x-python",
   "name": "python",
   "nbconvert_exporter": "python",
   "pygments_lexer": "ipython3",
   "version": "3.9.12"
  }
 },
 "nbformat": 4,
 "nbformat_minor": 5
}
