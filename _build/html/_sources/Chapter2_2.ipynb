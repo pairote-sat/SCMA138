{
 "cells": [
  {
   "cell_type": "markdown",
   "id": "cf3262f3-53ce-4dfc-82af-7ce5ca526b01",
   "metadata": {},
   "source": [
    "## <span style=\"color: dimgray;\">**2.2 Probability Basics**</span>"
   ]
  },
  {
   "cell_type": "markdown",
   "id": "1dabf831-a57b-48b2-981b-871b271d30a9",
   "metadata": {},
   "source": [
    "**Probability** is essentially a way of quantifying uncertainty. In our daily lives, we are often faced with situations where we're uncertain about the outcome. For example, when we flip a coin, we are uncertain whether it will land heads or tails. Probability helps us understand and measure that uncertainty.\n",
    "\n",
    "In actuarial science, probability plays a crucial role in **assessing risk** and **predicting future events**, especially in insurance and finance. Actuaries use probability to analyze the likelihood of different outcomes, such as the probability of a person getting into a car accident or the probability of a house being damaged in a storm."
   ]
  },
  {
   "cell_type": "markdown",
   "id": "43e268df-328c-4de0-af1f-8590bc1ac954",
   "metadata": {},
   "source": [
    "```{admonition} Definition\n",
    ":class: tip\n",
    "\n",
    "Probability is the measure of the likelihood that an event will occur.\n",
    "```"
   ]
  },
  {
   "cell_type": "markdown",
   "id": "bd71fb7b-f1de-4f2c-9212-0c17f64af62c",
   "metadata": {},
   "source": [
    "Probability is typically represented as a number between 0 and 1, where 0 indicates that the event will not occur, and 1 indicates that the event will definitely occur. The closer the probability is to 1, the more likely the event is to occur, and the closer it is to 0, the less likely it is to occur."
   ]
  },
  {
   "cell_type": "markdown",
   "id": "d15bc1b2-17b7-46de-8a66-fc470c371e6e",
   "metadata": {
    "tags": []
   },
   "source": [
    "### <span style=\"color: dimgray;\">**Introduction to Events in Probability Theory**</span>\n",
    "\n",
    "In probability theory, an **event** is simply an outcome or a set of outcomes of an experiment or a random phenomenon. Events can range from simple outcomes, like flipping heads on a coin, to more complex outcomes involving multiple events, such as drawing a red card from a deck of playing cards.\n",
    "\n",
    "#### <span style=\"color: dimgray;\">**Key Concepts Related to Events:**</span>\n",
    "\n",
    "\n",
    "1. **Simple Event**: A basic outcome of an experiment that cannot be broken down further.\n",
    "   \n",
    "2. **Compound Event**: Consists of two or more simple events, representing a combination of outcomes.\n",
    "\n",
    "3. **Sample Space**: The set of all possible outcomes of an experiment, denoted by $S$.\n",
    "\n",
    "4. **Event**: A subset of the sample space, consisting of one or more outcomes of the experiment.\n",
    "\n",
    "5. **Impossible Event**: An event that cannot occur under any circumstances, with a probability of 0.\n",
    "\n",
    "6. **Certain Event**: An event guaranteed to occur, with a probability of 1.\n",
    "\n",
    "Understanding events is fundamental in probability theory because probabilities are assigned to events, allowing us to quantify the likelihood of different outcomes occurring in various experiments or situations.\n"
   ]
  },
  {
   "cell_type": "markdown",
   "id": "52d1a5a8-a058-47da-b94f-373bc8827ded",
   "metadata": {},
   "source": [
    "```{admonition}  **Example 2.23** Events in Actuarial Science\n",
    "\n",
    "Suppose an insurance company offers a policy that covers damages to homes due to fire. Let's define the following events:\n",
    "\n",
    "1. **Simple Event**: The occurrence of a fire damaging a specific house insured by the company.\n",
    "\n",
    "2. **Compound Event**: The event that a house experiences either fire damage or water damage (from firefighting efforts) within a given year.\n",
    "\n",
    "3. **Sample Space**: The set of all possible outcomes of the insurance policy over a year, including houses experiencing fire damage, houses experiencing water damage, and houses with no damage. For example:\n",
    "\n",
    "$$S = \\{\\text{Fire Damage, Water Damage, No Damage}\\}$$\n",
    "\n",
    "4. **Event**: Let's define the event $A$ as the occurrence of fire damage to a house insured by the company. The event $A$ is a subset of the sample space $S$.\n",
    "\n",
    "5. **Impossible Event**: An example of an impossible event in this context might be the event that a house experiences both fire damage and no damage simultaneously. This event is impossible because the occurrence of fire damage excludes the possibility of no damage. Its probability is 0.\n",
    "\n",
    "6. **Certain Event**: A certain event in this context could be the event that at least one house insured by the company experiences some form of damage (fire or water) within a year. This event is certain because it's highly probable that at least one house will experience damage over time. Its probability is 1.\n",
    "```"
   ]
  },
  {
   "cell_type": "markdown",
   "id": "cb6e1424-75f9-4624-bccc-f0cccb11baf7",
   "metadata": {},
   "source": [
    "```{admonition}  **Example 2.24** Events in Actuarial Science - Mortality Analysis\n",
    "\n",
    "Suppose an actuary is analyzing the mortality rates of a population for an insurance company offering life insurance policies. Here's how we can relate the key concepts related to events to this scenario:\n",
    "\n",
    "1. **Simple Event**: The death of an individual within a specified period, such as one year, is a simple event in this context.\n",
    "\n",
    "2. **Compound Event**: The event that an individual either passes away due to natural causes or an accident within a given year could be considered a compound event.\n",
    "\n",
    "3. **Sample Space**: The set of all possible outcomes regarding an individual's survival status over a year, including surviving, dying from natural causes, or dying from an accident. For example:\n",
    "\n",
    "$$S = \\{ \\text{Survival}, \\text{Natural Death}, \\text{Accidental Death} \\}$$\n",
    "\n",
    "\n",
    "\n",
    "\n",
    "4. **Event**: Let's define the event $B$ as the occurrence of an individual passing away from natural causes. The event $B$ is a subset of the sample space $S$.\n",
    "\n",
    "5. **Impossible Event**: An impossible event could be the event that an individual both survives and dies within the same year. This event is impossible because an individual cannot be both alive and deceased simultaneously. Its probability is 0.\n",
    "\n",
    "6. **Certain Event**: A certain event in this context could be the event that at least one individual within the population passes away within a year. This event is certain because, over time, it's highly probable that individuals will experience mortality. Its probability is 1.\n",
    "```"
   ]
  },
  {
   "cell_type": "markdown",
   "id": "281cf565-ba7e-49ea-b699-1b1fb81c75f1",
   "metadata": {},
   "source": [
    "```{admonition}  **Example 2.25** Events in Actuarial Science - Auto Insurance Claims\n",
    "\n",
    "In auto insurance, one common event of interest is the occurrence of claims, where policyholders request compensation for damages to their vehicles. Let's relate this example to the key concepts related to events:\n",
    "\n",
    "1. **Simple Event**: The occurrence of a single auto insurance claim is a simple event. It represents an individual claim made by a policyholder for damages to their vehicle.\n",
    "\n",
    "2. **Compound Event**: A compound event could be the occurrence of multiple auto insurance claims within a specific time period, such as a month or a year. This event consists of two or more individual claims.\n",
    "\n",
    "3. **Sample Space**: The sample space consists of all possible outcomes regarding the number of auto insurance claims within the defined time period. For example, if we're considering the number of claims in a month, the sample space could range from 0 claims to a certain maximum number of claims based on historical data and statistical analysis.\n",
    "\n",
    "4. **Event**: An event could be defined as the occurrence of a specific number of auto insurance claims within the defined time period. For instance, the event \\( A \\) could represent the occurrence of exactly three claims in a month.\n",
    "\n",
    "5. **Impossible Event**: An impossible event could be the event that no auto insurance claims occur within the defined time period. While unlikely, this event has a probability greater than zero but very close to zero.\n",
    "\n",
    "6. **Certain Event**: A certain event could be the event that at least one auto insurance claim occurs within the defined time period. Given the nature of auto accidents and insurance coverage, it's highly probable that at least one claim will be made. "
   ]
  },
  {
   "cell_type": "markdown",
   "id": "8a6f4a4c-7670-436d-935c-c989e0854d94",
   "metadata": {},
   "source": [
    "### <span style=\"color: dimgray;\">**Using R to simulate events**</span>"
   ]
  },
  {
   "cell_type": "markdown",
   "id": "f169cc43-2ec0-4145-a6bc-b91f51a91652",
   "metadata": {},
   "source": [
    "```{admonition}  **Example 2.26** Rolling two six-sided dice\n",
    "\n",
    "Explain what the sample space is for rolling two six-sided dice and provide examples of possible outcomes. Additionally, include R code to simulate this experiment.\n",
    "```"
   ]
  },
  {
   "cell_type": "markdown",
   "id": "324d099a-c0eb-4753-b40d-386a85511782",
   "metadata": {},
   "source": [
    "```{admonition}  **Solution to Example 2.26**\n",
    ":class: important\n",
    "\n",
    "**Sample Space:**\n",
    "When rolling two six-sided dice, each die has six possible outcomes: 1, 2, 3, 4, 5, or 6. Therefore, the sample space consists of all possible combinations of outcomes from rolling two dice. Since each die roll is independent, there are $6 \\times 6 = 36$ possible outcomes in the sample space.\n",
    "\n",
    "$$S = \\{(1,1),(1,2),(1,3),\\ldots,(6,6) \\}$$\n",
    "\n",
    "**Events:**\n",
    "\n",
    "1. **Event A:** Event A represents the occurrence where the sum of the numbers rolled by two six-sided dice is 7.\n",
    "\n",
    "$$A = \\{(1,6),(2,5),(3,4),(4,3),(5,2),(6,1) \\}$$\n",
    "\n",
    "2. **Event B:** Event B represents the occurrence where At least one die shows a 4.\n",
    "\n",
    "$$B = \\{(1,4),(2,4),(3,4),(4,1),(4,2),(4,3),(4,4),(4,5),(4,6),(5,4),(6,4) \\}$$\n",
    "\n",
    "3. **Event C:** Event C represents the occurrence where the two dice show the same number..\n",
    "\n",
    "$$C = \\{(1,1),(2,2),(3,3),(4,4),(5,5),(6,6) \\}$$\n",
    "\n",
    "These examples illustrate different events that can occur when rolling two six-sided dice, each corresponding to specific outcomes within the sample space.\n",
    "\n",
    "Here's the R code to simulate the experiment of rolling two  rolling of two six-sided dice and provides information on the outcomes and possible combinations.\n",
    "```"
   ]
  },
  {
   "cell_type": "code",
   "execution_count": 8,
   "id": "1a70b3a3-6432-4be9-9fed-0c2ee88bbadb",
   "metadata": {},
   "outputs": [
    {
     "name": "stdout",
     "output_type": "stream",
     "text": [
      "The sum of the numbers rolled is: 8 \n"
     ]
    }
   ],
   "source": [
    "# Simulate rolling two six-sided dice\n",
    "die1 <- sample(1:6, 1, replace = TRUE)\n",
    "die2 <- sample(1:6, 1, replace = TRUE)\n",
    "\n",
    "# Display the outcomes and possible outcomes\n",
    "cat(\"Outcomes of rolling two six-sided dice:\")\n",
    "cat(\"Die 1:\", die1, \"\\n\")\n",
    "cat(\"Die 2:\", die2, \"\\n\")\n",
    "\n",
    "# Display the possible outcomes for rolling two six-sided dice\n",
    "cat(\"Possible outcomes for rolling two six-sided dice:\\n\")\n",
    "outcomes <- expand.grid(1:6, 1:6)\n",
    "for (i in 1:nrow(outcomes)) {\n",
    "  cat(\"(\", outcomes[i, 1], \", \", outcomes[i, 2], \")\", sep = \"\")\n",
    "  if (i < nrow(outcomes)) {\n",
    "    cat(\", \")\n",
    "  }\n",
    "}"
   ]
  },
  {
   "cell_type": "markdown",
   "id": "b98eb81f-54c9-44c8-ac29-db924aebdddf",
   "metadata": {},
   "source": [
    "This R code simulates the rolling of two six-sided dice and provides information on the outcomes and possible combinations. \n",
    "\n",
    "* Initially, it randomly generates the outcomes for each die roll using the `sample()` function, storing the results in variables `die1` and `die2`. Subsequently, the code displays the outcomes of each die roll. \n",
    "\n",
    "* Additionally, it calculates and displays all possible outcomes for rolling two six-sided dice in tuple format `(x, y)`, where `x` and `y` represent the numbers rolled on each die. This is achieved by creating all possible combinations of rolls using the `expand.grid()` function and then iterating through each combination to display it accordingly.\n"
   ]
  },
  {
   "cell_type": "markdown",
   "id": "57e1f7c1-5709-462e-9b58-4f349e7d39be",
   "metadata": {},
   "source": [
    "```{admonition}  **Example 2.27** Simulation of Fire Damage in Insured Homes\n",
    "\n",
    "The experiment in Example 2.23 aims to assess fire damage in 1000 insured homes by simulation using R.\n",
    "\n",
    "To simulate the event of an insurance company offering a policy that covers damages to homes **due to fire** in R, you can follow these steps:\n",
    "\n",
    "1. Define the parameters of your simulation, such as the number of policies sold and the probability of a house experiencing fire damage.\n",
    "\n",
    "2. Simulate whether each house covered by the policy experiences fire damage or not using random number generation.\n",
    "\n",
    "3. Repeat the simulation process multiple times to generate a distribution of outcomes.\n",
    "\n",
    "Here's an example code in R:"
   ]
  },
  {
   "cell_type": "code",
   "execution_count": 1,
   "id": "39f8a6d0-ff5d-4c1f-8427-7247dcb4bca3",
   "metadata": {},
   "outputs": [
    {
     "name": "stdout",
     "output_type": "stream",
     "text": [
      "Number of houses with fire damage: 42 \n",
      "Proportion of houses with fire damage: 0.042 \n"
     ]
    }
   ],
   "source": [
    "# Set the parameters\n",
    "num_policies <- 1000  # Number of policies sold\n",
    "fire_prob <- 0.05     # Probability of a house experiencing fire damage\n",
    "\n",
    "# Simulate the event for each policy\n",
    "fire_damage <- rbinom(num_policies, 1, fire_prob)\n",
    "\n",
    "# Count the number of houses with fire damage\n",
    "num_houses_damaged <- sum(fire_damage)\n",
    "\n",
    "# Calculate the proportion of houses with fire damage\n",
    "proportion_damaged <- num_houses_damaged / num_policies\n",
    "\n",
    "# Print the results\n",
    "cat(\"Number of houses with fire damage:\", num_houses_damaged, \"\\n\")\n",
    "cat(\"Proportion of houses with fire damage:\", proportion_damaged, \"\\n\")"
   ]
  },
  {
   "cell_type": "markdown",
   "id": "15fdd587-4db6-45b5-8f66-65d5ea668585",
   "metadata": {},
   "source": [
    "In this example, we use the `rbinom()` function to simulate whether each house covered by the policy experiences fire damage or not. \n",
    "\n",
    "```{admonition} Syntax and Arguments for rbinom()\n",
    ":class: tip\n",
    "\n",
    "`rbinom(n, size, prob)`\n",
    "\n",
    "* `n`: Represents the number of observations you want to simulate.\n",
    "* `size`: Specifies the number of trials per observation.\n",
    "* `prob`: Indicates the probability of success for each trial.\n",
    "```\n",
    "\n",
    "The `rbinom()` function generates random binomial variates, where we set `size` to 1 because each policy is treated as an independent observation, and we're interested in a single trial (observation) for each policy. The resulting vector of random numbers `fire_damage` consists of 1s, representing fire damage, and 0s, indicating no damage, based on the specified probability `fire_prob`. We repeat this process `num_policies` times to simulate the event for each policy.\n",
    "\n",
    "You can adjust the parameters `num_policies` and `fire_prob` to reflect different scenarios and run the simulation multiple times to observe variations in outcomes."
   ]
  },
  {
   "cell_type": "markdown",
   "id": "7bbd45a0-1e6b-4c72-a77a-4a47d404b35e",
   "metadata": {},
   "source": [
    "### <span style=\"color: dimgray;\">**Probability of an event**</span>\n",
    "\n",
    "Probability is a fundamental concept in mathematics and statistics that quantifies the likelihood of an event occurring. Whether it's predicting the outcome of a dice roll, the chances of rain tomorrow, or the risk of an insurance claim, probability provides a framework for understanding uncertainty and making informed decisions in various fields.\n",
    "\n",
    "#### <span style=\"color: dimgray;\">**Calculating Probability**</span>\n",
    "\n",
    "\n",
    "When all outcomes are equally likely, the probability of an event, denoted as $P(A)$, is calculated by dividing the number of favorable outcomes by the total number of possible outcomes. This can be expressed as:\n",
    "\n",
    "$$ P(A) = \\frac{{\\text{{Number of Favorable Outcomes}}}}{{\\text{{Total Number of Possible Outcomes}}}} $$\n",
    "\n",
    "Consider a standard six-sided die. To calculate the probability of rolling a 3, there is only one favorable outcome (rolling a 3) out of six possible outcomes (rolling any number from 1 to 6). Therefore, the probability of rolling a 3 is $\\frac{1}{6}$.\n",
    "\n",
    "#### <span style=\"color: dimgray;\">**Applications in Actuarial Science**</span>\n",
    "\n",
    "Actuarial science utilizes probability theory extensively to **assess risk and uncertainty in insurance and finance**. For example, actuaries use probability to determine insurance premiums by estimating the likelihood of policyholders making claims.\n",
    "\n",
    "Let's say an insurance company wants to calculate the probability of a 40-year-old male policyholder experiencing a heart attack within the next year. Actuaries collect data on similar individuals and analyze factors such as age, health history, lifestyle, and medical conditions. Based on historical data and statistical models, they estimate the probability of a heart attack occurring within a specific time frame for this demographic.\n",
    "\n",
    "Actuaries also **use probability to model financial risks, such as fluctuations in investment returns or the likelihood of loan defaults**. By understanding the probabilities associated with different scenarios, they can help businesses and organizations make informed decisions to manage and mitigate risks effectively.\n",
    "\n",
    "In actuarial science, precise probability calculations and accurate risk assessments are essential for maintaining the financial stability of insurance companies, pension funds, and other financial institutions.\n"
   ]
  },
  {
   "cell_type": "markdown",
   "id": "45c820b4-fee0-4aba-b6b8-ba51c4467a2f",
   "metadata": {},
   "source": [
    "### <span style=\"color: dimgray;\">**Introduction to Empirical Probability**</span>\n",
    "\n",
    "**Empirical probability**, also known as **experimental probability**, is a method of determining the likelihood of an event based on observations or experiments. Unlike theoretical probability, which relies on mathematical calculations and assumptions about the underlying probabilities of events, empirical probability is derived from actual data obtained through observation or experimentation.\n",
    "\n",
    "\n",
    "```{figure} _build/images/Theoretical_and_experimental_probability.png\n",
    ":name: figure-Theoretical_and_experimental_probability\n",
    "\n",
    "Theoretical: based on mathematical principles and Empirical: based on observed data. \n",
    "\n",
    "Image from https://learnwell.co.nz/pages/theoretical-and-experimental-probability-poster\n",
    "```\n",
    "\n",
    "\n",
    "#### <span style=\"color: dimgray;\">**Calculating Empirical Probability**</span>\n",
    "\n",
    "To calculate empirical probability, you simply count the number of times the event of interest occurs and divide it by the total number of trials or observations. This can be expressed as:\n",
    "\n",
    "$$ P(E) = \\frac{{\\text{{Number of Times Event E Occurs}}}}{{\\text{{Total Number of Trials or Observations}}}} $$\n",
    "\n",
    "Let's consider a simple example to illustrate empirical probability:\n",
    "\n",
    "\n",
    "```{admonition}  **Example 2.28** Coin Toss\n",
    "\n",
    "Suppose you want to determine the probability of landing heads when flipping a coin. You conduct an experiment where you flip the coin 100 times and record the outcomes. After completing the experiment, you find that the coin lands heads 47 times.\n",
    "\n",
    "To calculate the empirical probability of landing heads:\n",
    "\n",
    "$$ P(\\text{{Heads}}) = \\frac{{47}}{{100}} = 0.47 $$\n",
    "\n",
    "So, based on your experiment, the empirical probability of landing heads when flipping this particular coin is 0.47 or 47%.\n",
    "```\n",
    "\n",
    "\n",
    "#### <span style=\"color: dimgray;\">**Importance of Empirical Probability**</span>\n",
    "\n",
    "\n",
    "Empirical probability is valuable because it provides real-world insights into the likelihood of events based on observed data. It is particularly useful when theoretical probabilities are difficult to determine or when there is limited information about the underlying probabilities.\n",
    "\n",
    "By conducting experiments and collecting data, we can estimate probabilities for various events and make informed decisions in areas such as science, business, sports, and gambling. However, it's important to note that empirical probabilities may vary depending on the sample size and the conditions of the experiment, so larger sample sizes generally lead to more reliable estimates.\n"
   ]
  },
  {
   "cell_type": "markdown",
   "id": "d3294e49-1cb9-437c-8a43-1a10a98fc457",
   "metadata": {},
   "source": [
    "```{admonition}  **Example 2.29**\n",
    "\n",
    "Write R code to simulate flipping a coin and use the simulation results to calculate the empirical probability of landing heads.\n",
    "\n",
    "Simulate flipping a fair coin 100 times and record the outcomes. Then, calculate the empirical probability of landing heads based on the simulation results.\n",
    "```"
   ]
  },
  {
   "cell_type": "markdown",
   "id": "aa85d296-0d32-4892-b38f-8d97a6cd6059",
   "metadata": {},
   "source": [
    "#### <span style=\"color: dimgray;\">**Relationship between Empirical and Theoretical Probabilities**</span>\n",
    "\n",
    "\n",
    "* Empirical and theoretical probabilities are related in that they both aim to quantify the likelihood of events occurring.\n",
    "\n",
    "* Empirical probabilities can be used to validate theoretical predictions. For example, if theoretical calculations suggest that a coin should land heads 50% of the time, conducting a large number of coin flips and observing the frequency of heads can verify whether this theoretical prediction holds true in practice.\n",
    "\n",
    "* In situations where empirical data is unavailable or impractical to obtain, theoretical probabilities serve as a basis for making predictions and decisions.\n",
    "\n",
    "* Additionally, theoretical probabilities can be used to guide the design of experiments to collect empirical data. For instance, theoretical calculations may help determine the sample size needed for an experiment to achieve a desired level of confidence in the empirical results.\n",
    "\n",
    "In summary, while empirical and theoretical probabilities differ in their methods of calculation and underlying assumptions, they are complementary approaches that contribute to our understanding and prediction of uncertain events.\n"
   ]
  },
  {
   "cell_type": "markdown",
   "id": "831c2d3e-b889-4d51-bc53-2f0e95383e51",
   "metadata": {},
   "source": [
    "### <span style=\"color: dimgray;\">**Law of large numbers**</span>\n",
    "\n",
    "The relationship between empirical and theoretical probabilities is made evident by the **Law of Large Numbers**, which suggests that as the number of trials in an experiment increases, the observed empirical probability tends to converge towards the theoretical probability.\n",
    "\n",
    "#### <span style=\"color: dimgray;\">**Illustrative Examples Demonstrating the Connection between Empirical and Theoretical Probabilities**</span>\n",
    "\n",
    "\n",
    "- **Coin Toss Experiment:** Imagine flipping a fair coin repeatedly. Initially, the empirical probability of landing heads may fluctuate, but as the number of flips increases, it tends to stabilize around the theoretical probability of 0.5. This convergence demonstrates the Law of Large Numbers in action, as the observed empirical probability aligns more closely with the theoretical probability with a larger number of trials.\n",
    "\n",
    "- **Dice Rolling Experiment:** Similarly, consider rolling a fair six-sided die multiple times. Initially, the empirical probability of rolling a specific number may vary, but with more rolls, it tends to approach the theoretical probability of 1/6 for each face of the die. Again, this exemplifies how the Law of Large Numbers manifests the convergence of empirical probabilities towards theoretical expectations with increased trials.\n"
   ]
  },
  {
   "cell_type": "markdown",
   "id": "ce214e36-6bf5-435e-964d-470dd95e9f00",
   "metadata": {},
   "source": [
    "```{admonition} **Law of Large Numbers**\n",
    ":class: tip\n",
    "\n",
    "The Law of Large Numbers states that as the number of repetitions in an experiment increases, the ratio of successful outcomes to the total number of trials tends to converge towards the theoretical probability of a single trial's outcome.\n",
    "```"
   ]
  },
  {
   "cell_type": "markdown",
   "id": "1e5de37e-4d32-4c4b-a368-e679a08df2f1",
   "metadata": {},
   "source": [
    "### <span style=\"color: dimgray;\">**Probability Properties**</span>\n",
    "\n",
    "In this section, we explore fundamental properties of probability that underpin its interpretation and application in various contexts.\n",
    "\n",
    "#### <span style=\"color: dimgray;\">**Probability of an Event**</span>\n",
    "\n",
    "Probabilities are constrained within the range of 0 to 1, inclusively. A probability of 0 indicates that the event is impossible, while a probability of 1 signifies certainty that the event will occur. Intermediate probabilities closer to 0 suggest the event is less likely, whereas values nearing 1 indicate a high likelihood of occurrence. The probability of an event $A$ is denoted as $P(A)$.\n",
    "\n",
    "##### <span style=\"color: dimgray;\">**Range of Probability for Any Event $A$**</span>\n",
    "\n",
    "The probability of any event $A$ always falls within the inclusive range of 0 to 1.\n",
    "\n",
    "$$0 \\le P(A) \\le 1.$$\n",
    "\n",
    "##### <span style=\"color: dimgray;\">**Probability of a Complement**</span>\n",
    "\n",
    "The complement of an event $A$, denoted as $A'$, represents all outcomes not included in event $A$. The probability of the complement of $A$, denoted as $P(A')$, is equal to 1 minus the probability of $A$.\n",
    "\n",
    "$$P(A') = 1-  P(A)$$\n",
    "\n",
    "\n",
    "\n",
    "##### <span style=\"color: dimgray;\">**Probability of the Empty Set**</span>\n",
    "\n",
    "The empty set, denoted as $\\emptyset$, represents an event that cannot occur. Therefore, the probability of the empty set is 0. \n",
    "\n",
    "If $A$ and $B$ are mutually exclusive, then \n",
    "$P(A \\cap B) = \\emptyset$. Therefore,\n",
    "\n",
    "$$P(A \\cap B)= 0$$\n",
    "\n",
    "\n",
    "##### <span style=\"color: dimgray;\">**Probability of the Union of Two Events**</span>\n",
    "\n",
    "The probability of the union of two events $A$ and $B$, denoted as $P(A \\cup B)$, represents the likelihood of either event $A$ or event $B$, or both, occurring.\n",
    "\n",
    "For general events A and B, the probability of their union is given by:\n",
    "\n",
    "$$P(A \\cup B) = P(A) + P(B) - P(A \\cap B)$$\n",
    "\n",
    "If A and B are mutually exclusive, then \n",
    "\n",
    "$$P(A \\cup B) = P(A) + P(B)$$ \n"
   ]
  }
 ],
 "metadata": {
  "kernelspec": {
   "display_name": "R",
   "language": "R",
   "name": "ir"
  },
  "language_info": {
   "codemirror_mode": "r",
   "file_extension": ".r",
   "mimetype": "text/x-r-source",
   "name": "R",
   "pygments_lexer": "r",
   "version": "4.2.1"
  }
 },
 "nbformat": 4,
 "nbformat_minor": 5
}
