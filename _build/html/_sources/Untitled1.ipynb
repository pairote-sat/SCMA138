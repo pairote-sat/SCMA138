{
 "cells": [
  {
   "cell_type": "code",
   "execution_count": 2,
   "id": "41c3351b-9015-4e39-a5a6-30d7fa321579",
   "metadata": {},
   "outputs": [],
   "source": [
    "import pandas as pd"
   ]
  },
  {
   "cell_type": "code",
   "execution_count": null,
   "id": "6f19a6e1-52ba-47c5-9fe0-a72ecbf43358",
   "metadata": {},
   "outputs": [],
   "source": [
    "pd.S"
   ]
  }
 ],
 "metadata": {
  "kernelspec": {
   "display_name": "Python 3 (ipykernel)",
   "language": "python",
   "name": "python3"
  },
  "language_info": {
   "codemirror_mode": {
    "name": "ipython",
    "version": 3
   },
   "file_extension": ".py",
   "mimetype": "text/x-python",
   "name": "python",
   "nbconvert_exporter": "python",
   "pygments_lexer": "ipython3",
   "version": "3.10.9"
  }
 },
 "nbformat": 4,
 "nbformat_minor": 5
}
