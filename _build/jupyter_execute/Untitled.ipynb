{
 "cells": [
  {
   "cell_type": "markdown",
   "id": "3ad61355-9a47-4226-b6a4-1fe2730aabb0",
   "metadata": {},
   "source": [
    "# Property/Casualty Insurance Pricing: Car Insurance\n",
    "\n",
    "## Objective\n",
    "The goal is to estimate the premium for car insurance based on the given information about claim frequency, claim amount, and policy count.\n",
    "\n",
    "## Given Information\n",
    "1. **Claim Frequency ($\\lambda$):** 0.5 accidents per person per year.\n",
    "2. **Claim Amount (Claim Severity):** 20,000 Baht per claim.\n",
    "3. **Policy Count ($N$):** 100 policies in the portfolio.\n",
    "\n",
    "## Assumptions\n",
    "1. The number of claims follows a **Poisson distribution**, which is a common assumption for modeling rare events like accidents.\n",
    "2. Claim amounts are independent and identically distributed.\n",
    "\n",
    "## Calculation Process\n",
    "\n",
    "### 1. Expected Claims per Policy\n",
    "- The Poisson distribution is used to model the number of claims.\n",
    "  $$\n",
    "  \\begin{align}\n",
    "  \\text{Expected Total Number of Claims} &= \\text{Claim Frequency} \\times \\text{Policy Count} \\\\\n",
    "   &= 0.5 \\times 100 = 50\n",
    "  \\end{align} \n",
    "  $$\n",
    "\n",
    "### 2. Expected Total Cost\n",
    "- The expected total cost is calculated by multiplying the expected total number of claims by the average claim amount.\n",
    "  $$\n",
    "  \\begin{align}\n",
    "  \\text{Expected Total Cost} &= \\text{Expected Total Number of Claims} \\times \\text{Claim Amount} \\\\\n",
    "   &= 50 \\times 20,000 = 1,000,000 \\, \\text{Baht}\n",
    "  \\end{align}\n",
    "  $$\n",
    "\n",
    "### 3. Premium Calculation\n",
    "- The premium is then determined by dividing the expected total cost by the number of policies.\n",
    "  $$\n",
    "  \\begin{align}\n",
    "  \\text{Premium} &= \\frac{\\text{Expected Total Cost}}{\\text{Policy Count}} \\\\\n",
    "                &= \\frac{1,000,000}{100} = 10,000 \\, \\text{Baht}\n",
    "  \\end{align}\n",
    "  $$\n",
    "\n",
    "## Conclusion\n",
    "Based on the provided claim frequency, claim amount, and policy count, the estimated premium for car insurance is 10,000 Baht per person per year. This calculation incorporates the Poisson distribution to model claim frequency and basic statistical analysis to determine the expected total cost and premium.\n"
   ]
  },
  {
   "cell_type": "markdown",
   "id": "554b33a5-3de7-4e8e-ae2f-edec17bb781a",
   "metadata": {},
   "source": [
    "# Exercises\n",
    "\n",
    "## Exercise\n",
    "\n",
    "*Question:* Consider the limitations of relying solely on expected values in risk assessment. Discuss the importance of variability and how it impacts decision-making in insurance.\n",
    "\n",
    "## Exercise\n",
    "\n",
    "*Question:* Explore the concept of tail events in insurance. Provide examples of extreme events and explain why relying on expected values might be insufficient to address the impact of such events.\n",
    "\n",
    "## Exercise\n",
    "\n",
    "*Question:* Imagine you are designing an insurance policy. Discuss how you would incorporate information about probability distributions, beyond expected values, to create a more robust and client-friendly policy.\n",
    "\n",
    "# Conclusion\n",
    "\n",
    "In this section, we explored various exercises that delve into the limitations of using expected values in insurance and the importance of probability distributions.\n"
   ]
  },
  {
   "cell_type": "code",
   "execution_count": null,
   "id": "a39dbb60-2699-417d-bade-731b9eea5b46",
   "metadata": {},
   "outputs": [],
   "source": []
  }
 ],
 "metadata": {
  "kernelspec": {
   "display_name": "Python 3 (ipykernel)",
   "language": "python",
   "name": "python3"
  },
  "language_info": {
   "codemirror_mode": {
    "name": "ipython",
    "version": 3
   },
   "file_extension": ".py",
   "mimetype": "text/x-python",
   "name": "python",
   "nbconvert_exporter": "python",
   "pygments_lexer": "ipython3",
   "version": "3.10.9"
  }
 },
 "nbformat": 4,
 "nbformat_minor": 5
}