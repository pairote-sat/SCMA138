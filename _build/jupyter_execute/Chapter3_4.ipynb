{
 "cells": [
  {
   "cell_type": "markdown",
   "id": "a30081bd-4943-40f6-ac82-29a2b19712d7",
   "metadata": {},
   "source": [
    "## <span style=\"color: dimgray;\">**3.4 Cashflows and Annuities**</span>\n",
    "\n",
    "In this section, we will explore the basics of cashflows, how money moves over time, and what factors affect it. We will also break down annuities, which are financial tools designed to provide a steady income for a specific period."
   ]
  },
  {
   "cell_type": "markdown",
   "id": "ade9fbf1-68fc-44be-b1d0-02b18ac65c1b",
   "metadata": {},
   "source": [
    "```{admonition}  **Definitions**\n",
    ":class: tip\n",
    "\n",
    "(1) **Cashflows** refer to the movement of money into or out of a business, investment, or financial instrument over a specific period. They can be either positive (inflows) when money is received, or negative (outflows) when money is paid out.\n",
    "\n",
    "Understanding cashflows is crucial in financial analysis as they reflect the liquidity and financial health of an entity.\n",
    "\n",
    "(2) **Annuities** are financial products typically offered by insurance companies, structured to provide a **series of payments at regular intervals**, usually monthly, quarterly, or annually, in exchange for a lump sum payment or a series of payments made over time.\n",
    "\n",
    "They are commonly used as retirement income vehicles but can also serve other purposes such as structured settlements or funding for education.\n"
   ]
  },
  {
   "cell_type": "markdown",
   "id": "e8b23466-7a4d-4b44-a0ca-2be1418c3f01",
   "metadata": {},
   "source": [
    "```{admonition}  **Classification of Annuities**\n",
    ":class: tip\n",
    "\n",
    "**Based on Payment Structure**\n",
    "\n",
    "- **Immediate Annuities**: Immediate annuities begin providing payments to the annuitant shortly after the initial investment, usually within a year. They are often purchased with a lump sum and offer immediate income for a specified period or for life.\n",
    "\n",
    "- **Deferred Annuities**: Deferred annuities delay payments until a future date chosen by the annuitant, allowing the initial investment to grow tax-deferred until withdrawals begin. They can be fixed, variable, or indexed, offering flexibility in investment choices and payout options.\n",
    "\n"
   ]
  },
  {
   "cell_type": "markdown",
   "id": "0ad300c3-cd4e-4e6f-aaf3-4703d095b12e",
   "metadata": {},
   "source": [
    "```{figure} _build/images/Annuity.jpeg\n",
    ":name: figure-Annuity\n",
    "\n",
    "Image from https://napkinfinance.com/napkin/annuities/\n",
    "```"
   ]
  },
  {
   "cell_type": "markdown",
   "id": "913ef4dc-621f-4353-aeae-38e4a72f640f",
   "metadata": {},
   "source": [
    "```{admonition}  **Classification of Annuities**\n",
    ":class: tip\n",
    "\n",
    "**Based on Timing of Payments**\n",
    "\n",
    "- **Ordinary Annuity (or Annuity in Arrears)**\n",
    "  - Payments are made at the end of each period, after the period has elapsed.\n",
    "  - Commonly seen in loans, mortgages, and some retirement plans.\n",
    "\n",
    "- **Annuity Due**\n",
    "  - Start making payments immediately after the initial investment.\n",
    "  - Payments are made at the beginning of each period.\n",
    "\n",
    "**Based on Payment Structure**\n",
    "\n",
    "- **Level Annuities (or Fixed Annuities)**\n",
    "  - Offer a constant stream of payments throughout the annuity period.\n",
    "  - Payments remain the same over time, providing predictability to the annuitant.\n",
    "\n",
    "- **Increasing Annuities (or Escalating Annuities)**\n",
    "  - Provide payments that gradually increase over time, typically to account for inflation or changing needs of the annuitant.\n",
    "\n",
    "- **Decreasing Annuities**\n",
    "  - Offer payments that decrease over time, often chosen when the annuitant expects their expenses to decrease, such as in retirement.\n"
   ]
  },
  {
   "cell_type": "markdown",
   "id": "47b502e4-9a2a-4428-8596-f6873ab65f13",
   "metadata": {
    "editable": true,
    "slideshow": {
     "slide_type": ""
    },
    "tags": []
   },
   "source": [
    "### <span style=\"color: dimgray;\">**Present Value and Future Value of Cash Flows and Annuities**</span>\n",
    "\n",
    "**Present Value of Annuities (PVA)** Present value of annuities is the current worth of a series of future cash flows received or paid at regular intervals, discounted at the effective rate of interest.\n",
    "\n",
    "**Future Value of Annuities (FVA)** Future value of annuities is the value of a series of equal payments or cash flows received or paid at regular intervals, compounded at the effective rate of interest to a specified future date.\n"
   ]
  },
  {
   "cell_type": "markdown",
   "id": "ac8f745f-a00e-4bed-881c-4620d23879be",
   "metadata": {
    "editable": true,
    "slideshow": {
     "slide_type": ""
    },
    "tags": []
   },
   "source": [
    "```{admonition}  **Example 3.21: Present Value of Annuities ($PV A$) Example**\n",
    "\n",
    "Suppose you have an annuity that pays $200 at the end of each year for 5 years, and the effective annual interest rate is 6%. You want to calculate the present value of this annuity.\n",
    "\n",
    "Using the present value of annuities formula:\n",
    "\n",
    "$$PVA = PMT \\times \\left( \\frac{1 - (1 + i)^{-n}}{i} \\right)$$\n",
    "\n",
    "Where:\n",
    "- $PVA$ = Present Value of Annuities\n",
    "- $PMT$ = Payment per period ($200 in this case)\n",
    "- $i$ = Effective rate of interest per period (6% in this case)\n",
    "- $n$ = Number of periods (5 years in this case)\n",
    "\n",
    "Substituting the values:\n",
    "\n",
    "$$PVA = 200 \\times \\left( \\frac{1 - (1 + 0.06)^{-5}}{0.06} \\right)$$\n",
    "$$PVA ≈ 200 \\times \\left( \\frac{1 - (1.06)^{-5}}{0.06} \\right)$$\n",
    "$$PVA ≈ 200 \\times \\left( \\frac{1 - 0.747258}{0.06} \\right)$$\n",
    "$$PVA ≈ 200 \\times \\left( \\frac{0.252742}{0.06} \\right)$$\n",
    "$$PVA ≈ 200 \\times 4.212367$$\n",
    "$$PVA ≈ 842.47$$ (rounded to two decimal places)\n",
    "\n",
    "**Interpretation**:\n",
    "The present value of receiving \\$200 at the end of each year for 5 years, with an effective annual interest rate of 6%, is approximately \\$842.47.\n",
    "```"
   ]
  },
  {
   "cell_type": "code",
   "execution_count": 1,
   "id": "e0c163fb-e980-405f-b689-8a5503925e22",
   "metadata": {
    "scrolled": true,
    "tags": [
     "hide-input"
    ]
   },
   "outputs": [
    {
     "data": {
      "image/png": "[encoded data removed]",
      "text/plain": [
       "<Figure size 800x150 with 1 Axes>"
      ]
     },
     "metadata": {},
     "output_type": "display_data"
    }
   ],
   "source": [
    "import numpy as np\n",
    "import matplotlib.pyplot as plt\n",
    "%matplotlib inline\n",
    "\n",
    "# Parameters\n",
    "payment = 200\n",
    "years = 5\n",
    "interest_rate = 0.06\n",
    "\n",
    "# Compute present value\n",
    "present_value = np.sum([payment / (1 + interest_rate)**i for i in range(1, years + 1)])\n",
    "\n",
    "# Plotting\n",
    "plt.figure(figsize=(8, 1.5))  # Adjusted width to 2 cm\n",
    "\n",
    "# Adding arrows\n",
    "for i in range(1, years + 1):\n",
    "    plt.arrow(i, payment, 0, -payment * 0.9, head_width=0.03, head_length=payment * 0.1, fc='blue', ec='blue')\n",
    "\n",
    "# Adjusted x and y data to remove dot at 0\n",
    "plt.plot([i for i in range(1, years + 1)], [payment]*years, marker='o', linestyle='', color='b')\n",
    "\n",
    "# Adjusted text position\n",
    "for i in range(1, years + 1):\n",
    "    plt.text(i, payment + 10, f'+{payment}', verticalalignment='bottom', horizontalalignment='center')\n",
    "\n",
    "plt.xlabel('Years')\n",
    "plt.ylabel('Cash Flow ($)')\n",
    "plt.title('Timeline of Annuity', y=1.3)  # Adding small space above the figure\n",
    "plt.xticks(np.arange(0, years + 1, 1))\n",
    "plt.grid(False)\n",
    "plt.gca().spines['top'].set_visible(False)\n",
    "plt.gca().spines['right'].set_visible(False)\n",
    "plt.gca().spines['left'].set_visible(False)\n",
    "plt.gca().get_yaxis().set_visible(False)\n",
    "\n",
    "\n",
    "\n",
    "# Adjusted text position\n",
    "plt.text(0, payment + 10, f'$PV = {present_value:.2f}$', verticalalignment='bottom', horizontalalignment='left')\n",
    "\n",
    "plt.show()"
   ]
  },
  {
   "cell_type": "markdown",
   "id": "d188919e-7a65-4cca-89b2-a3e48e67e4ca",
   "metadata": {
    "editable": true,
    "slideshow": {
     "slide_type": ""
    },
    "tags": []
   },
   "source": [
    "```{admonition}  **Example 3.22: Future Value of Annuities ($FV A$) Example**\n",
    "\n",
    "Suppose you invest \\$500 at the end of each year for 3 years in an account with an effective annual interest rate of 8%. You want to calculate the future value of this annuity.\n",
    "\n",
    "Using the future value of annuities formula:\n",
    "\n",
    "$$FVA = PMT \\times \\left( \\frac{(1 + i)^n - 1}{i} \\right)$$\n",
    "\n",
    "Where:\n",
    "- $FVA$ = Future Value of Annuities\n",
    "- $PMT$ = Payment per period ($500 in this case)\n",
    "- $i$ = Effective rate of interest per period (8% in this case)\n",
    "- $n$ = Number of periods (3 years in this case)\n",
    "\n",
    "Substituting the values:\n",
    "\n",
    "$$FVA = 500 \\times \\left( \\frac{(1 + 0.08)^3 - 1}{0.08} \\right)$$\n",
    "$$FVA ≈ 500 \\times \\left( \\frac{(1.08)^3 - 1}{0.08} \\right)$$\n",
    "$$FVA ≈ 500 \\times \\left( \\frac{1.259712 - 1}{0.08} \\right)$$\n",
    "$$FVA ≈ 500 \\times \\left( \\frac{0.259712}{0.08} \\right)$$\n",
    "$$FVA ≈ 500 \\times 3.2464$$\n",
    "$$FVA ≈ 1,623.20$$ (rounded to two decimal places)\n",
    "\n",
    "**Interpretation**:\n",
    "The future value of investing \\$500 at the end of each year for 3 years, with an effective annual interest rate of 8%, will be approximately \\$1,623.20.\n",
    "\n"
   ]
  },
  {
   "cell_type": "code",
   "execution_count": 2,
   "id": "bd487437-78c7-4875-945e-c9415823c7b5",
   "metadata": {
    "editable": true,
    "scrolled": true,
    "slideshow": {
     "slide_type": ""
    },
    "tags": [
     "hide-input"
    ]
   },
   "outputs": [
    {
     "data": {
      "image/png": "[encoded data removed]",
      "text/plain": [
       "<Figure size 800x150 with 1 Axes>"
      ]
     },
     "metadata": {},
     "output_type": "display_data"
    }
   ],
   "source": [
    "import numpy as np\n",
    "import matplotlib.pyplot as plt\n",
    "%matplotlib inline\n",
    "\n",
    "# Parameters\n",
    "investment = 500\n",
    "years = 3\n",
    "interest_rate = 0.08\n",
    "\n",
    "# Compute future value\n",
    "future_value = np.sum([investment * (1 + interest_rate)**i for i in range(years)])\n",
    "\n",
    "# Plotting\n",
    "plt.figure(figsize=(8, 1.5))  # Adjusted height to 2 cm\n",
    "\n",
    "# Adding arrows\n",
    "for i in range(1, years + 1):\n",
    "    plt.arrow(i, investment, 0, -investment * 0.8 , head_width=0.02, head_length=investment * 0.1, fc='blue', ec='blue')\n",
    "\n",
    "# Adjusted y-coordinate for the dots and text\n",
    "plt.plot([i for i in range(1, years + 1)], [investment - 20]*years, marker='o', linestyle='', color='b')  \n",
    "\n",
    "for i in range(1, years + 1):\n",
    "    plt.text(i, investment - 5, f'+{investment}', verticalalignment='bottom', horizontalalignment='center') \n",
    "\n",
    "plt.xlabel('Years')\n",
    "plt.ylabel('Cash Flow ($)')\n",
    "plt.title('Timeline of Future Value Annuity', y=1.3)  \n",
    "plt.xticks(np.arange(0, years + 1, 1))  \n",
    "plt.grid(False)\n",
    "plt.gca().spines['top'].set_visible(False)\n",
    "plt.gca().spines['right'].set_visible(False)\n",
    "plt.gca().spines['left'].set_visible(False)\n",
    "plt.gca().get_yaxis().set_visible(False)\n",
    "\n",
    "plt.text(3, investment + 65, f'$FV = {future_value:.2f}$', verticalalignment='bottom', horizontalalignment='left')  \n",
    "\n",
    "plt.show()\n"
   ]
  },
  {
   "cell_type": "markdown",
   "id": "3734e799-8fd3-4d59-b54d-30b59e4b7539",
   "metadata": {
    "editable": true,
    "jp-MarkdownHeadingCollapsed": true,
    "slideshow": {
     "slide_type": ""
    },
    "tags": []
   },
   "source": [
    "### <span style=\"color: dimgray;\">**Actuarial Notation for Annuities**</span>\n",
    "\n",
    "In actuarial science, the present value and future value of annuities are often represented using specific notation. This notation helps actuaries and financial professionals to succinctly express these calculations."
   ]
  },
  {
   "cell_type": "markdown",
   "id": "df8fc2f7-d6f2-4b45-a0c3-8361e1b45155",
   "metadata": {
    "editable": true,
    "slideshow": {
     "slide_type": ""
    },
    "tags": []
   },
   "source": [
    "```{admonition}  **The expression $a_{\\overline{n|}i}$**\n",
    ":class: tip\n",
    "\n",
    "The expression $a_{\\overline{n|}i}$ (read a-angle-n at i) denotes the present value of an annuity-immediate, which is a series of unit payments at the end of each year for $n$ years. Mathematically, it represents the sum of the present values of these unit payments.\n",
    "\n",
    "The formula to calculate $a_{\\overline{n|}i}$ is:\n",
    "\n",
    "$$a_{\\overline{n|}i} = v + v^2 + \\cdots + v^n = \\frac{1 - v^n}{i}$$\n",
    "\n",
    "where:\n",
    "- $v$ is the discount factor for one period (often denoted as $\\frac{1}{1+i}$, where $i$ is the interest rate or discount rate).\n",
    "- $n$ is the number of periods (years in this case).\n",
    "- $i$ is the interest rate or discount rate.\n",
    "\n",
    "So, $a_{\\overline{n|}i}$ represents the present value of receiving $n$ unit payments at the end of each year, discounted at an interest rate $i$. It's essentially the sum of a geometric series of payments.\n",
    "```"
   ]
  },
  {
   "cell_type": "markdown",
   "id": "a394c53b-e6e5-4090-9bef-dd90bd0343e3",
   "metadata": {
    "editable": true,
    "slideshow": {
     "slide_type": ""
    },
    "tags": []
   },
   "source": [
    "```{admonition}  **The expression $s_{\\overline{n|}i}$**\n",
    ":class: tip\n",
    "\n",
    "The expression $s_{\\overline{n|}i}$ \n",
    "(read s-angle-n at i) represents the value at the time of the last payment of an annuity-immediate, which is a series of unit payments at the end of each year for $n$ years. This value is obtained from:\n",
    "\n",
    "$$s_{\\overline{n|}i} = (1 + i)^{n-1} + (1 + i)^{n-2} + \\cdots + 1 = \\frac{1 - v^n}{i} = \\frac{(1 + i)^n - 1}{i}$$\n",
    "\n",
    "where:\n",
    "- $v$ is the discount factor for one period (often denoted as $\\frac{1}{1+i}$, where $i$ is the interest rate or discount rate).\n",
    "- $n$ is the number of periods (years in this case).\n",
    "- $i$ is the interest rate or discount rate.\n",
    "\n",
    "So, $s_{\\overline{n|}i}$ represents the value at the time of the last payment of an annuity-immediate, discounted at an interest rate $i$. It's essentially the sum of a geometric series of payments plus the initial payment at time 0.\n"
   ]
  },
  {
   "cell_type": "markdown",
   "id": "e75245e4-d4c6-4798-9805-f12627a0fe80",
   "metadata": {
    "editable": true,
    "slideshow": {
     "slide_type": ""
    },
    "tags": []
   },
   "source": [
    "```{figure} _build/images/tikz-ex9-1.png\n",
    ":name: figure-tikz-ex9-1.png\n",
    "\n",
    "a series of unit payments at the end of each year for $n$ years\n",
    "```"
   ]
  },
  {
   "cell_type": "markdown",
   "id": "577ee2e9-4fad-467a-b069-b014d1b783d7",
   "metadata": {
    "editable": true,
    "slideshow": {
     "slide_type": ""
    },
    "tags": []
   },
   "source": [
    "#### <span style=\"color: dimgray;\">**Present Value of Annuities**</span>\n",
    "\n",
    "\n",
    "The present value of annuities represents the current worth of a series of future cash flows received or paid at regular intervals, discounted at a specified interest rate.\n",
    "\n",
    "```{admonition}  **Formula for the present value of annuities**\n",
    ":class: tip\n",
    "\n",
    "The formula for the present value of annuities is expressed as:\n",
    "\n",
    "$$PV = PMT \\times a_{\\overline{n|}i} = PMT \\times \\left( \\frac{1 - v^n}{i} \\right)$$\n",
    "\n",
    "Where:\n",
    "- $PV$ = Present Value of Annuities with $n$ payments at an interest rate of $i$\n",
    "- $PMT$ = Payment per period\n",
    "- $i$ = Interest rate per period\n",
    "- $n$ = Number of periods\n",
    "- $v$ = The discount factor for one period (often denoted as $\\frac{1}{1+i}$, where $i$ is the interest rate or discount rate).\n",
    "```\n",
    "\n",
    "#### <span style=\"color: dimgray;\">**Future Value of Annuities**</span>\n",
    "\n",
    "The future value of annuities represents the value of a series of equal payments or cash flows received or paid at regular intervals, compounded at a specified interest rate to a future date.\n",
    "\n",
    "```{admonition}  **Formula for the future value of annuities**\n",
    ":class: tip\n",
    "The formula for the future value of annuities is expressed as:\n",
    "\n",
    "$$FV = PMT \\times s_{\\overline{n|}i} = PMT \\times \\left( \\frac{(1 + i)^n - 1}{i} \\right)$$\n",
    "\n",
    "\n",
    "Where:\n",
    "- $FV$ = Future Value of Annuities with $n$ payments at an interest rate of $i$\n",
    "- $PMT$ = Payment per period\n",
    "- $i$ = Interest rate per period\n",
    "- $n$ = Number of periods\n",
    "```\n",
    "\n",
    "These notations are commonly used in actuarial calculations and financial analysis to represent the present and future values of annuities.\n"
   ]
  },
  {
   "cell_type": "markdown",
   "id": "3c7d33ab-99db-464b-a454-87f01c6cc73c",
   "metadata": {
    "editable": true,
    "slideshow": {
     "slide_type": ""
    },
    "tags": []
   },
   "source": [
    "```{admonition}  **Example 3.23: Present and Future Values of Annuities**\n",
    "\n",
    "Given the effective rate of interest of $8\\%$ p.a., calculate\n",
    "\n",
    "1.  the accumulation at 12 years of ฿500 payable yearly in arrears for\n",
    "    the next 12 years.\n",
    "\n",
    "2.  the present value now of ฿2,000 payable yearly in arrears for the\n",
    "    next 6 years.\n",
    "\n",
    "3.  the present value now of ฿1,000 payable half-yearly in arrears for\n",
    "    the next 12.5 years.\n",
    "```"
   ]
  },
  {
   "cell_type": "markdown",
   "id": "e3f35c5f-cda1-4808-9659-9a9dcd1cb96b",
   "metadata": {
    "editable": true,
    "slideshow": {
     "slide_type": ""
    },
    "tags": []
   },
   "source": [
    "```{admonition}  **Solution to Example 3.23**\n",
    ":class: important\n",
    "\n",
    "<details>\n",
    "  <summary>Click to toggle answer</summary>\n",
    "\n",
    "1.   The accumulation of the payments is\n",
    "\n",
    "$$500 \\cdot s_{\\overline{12}|}  = 500 \\cdot \\frac{1.08^{12} - 1 }{0.08 } = 9488.563230.$$\n",
    "\n",
    "2.  The present value of the payments is\n",
    "\n",
    "$$2000\\cdot a_{\\overline{6}|}  = 2000 \\cdot \\frac{1 - 1.08^{-6} }{0.08 } = 9245.759328.$$\n",
    "\n",
    "3.  An interest rate of 8% p.a. is equivalent to an effective half-yearly interest rate, denoted by $j$, of\n",
    "\n",
    "$$j = 1.08^{1/2} -1 = 0.039230.$$ \n",
    "\n",
    "There are 25 payments of 1000 each, starting in six months' time.\n",
    "\n",
    "Working in terms of half year, the present value of the payment is\n",
    "    \n",
    "$$1000 \\cdot a^j_{\\overline{25}|} = 1000 \\cdot \\frac{1 - 1.039230^{-25} }{0.039230 } = 15750.003911.$$\n",
    "\n",
    "\n",
    "</details>\n",
    "```"
   ]
  },
  {
   "cell_type": "markdown",
   "id": "61ec4e4d-e679-46bb-b271-b1364c89f276",
   "metadata": {
    "editable": true,
    "slideshow": {
     "slide_type": ""
    },
    "tags": []
   },
   "source": [
    "\n",
    "### <span style=\"color: dimgray;\">**Importance of Calculating the Present and Future Value of Annuities**</span>\n",
    "\n",
    "\n",
    "Calculating the present value (PV) and future value (FV) of annuities is essential for several reasons:\n",
    "\n",
    "1. **Financial Planning**: PV and FV calculations help individuals and businesses in financial planning. By knowing the present and future worth of annuities, they can make informed decisions about saving, investing, borrowing, or lending money.\n",
    "\n",
    "2. **Investment Analysis**: Investors use PV and FV calculations to evaluate the attractiveness of investment opportunities. Comparing the present value of expected cash flows (such as dividends or interest payments) to the initial investment helps determine the profitability of an investment.\n",
    "\n",
    "3. **Budgeting**: Understanding the present value of annuities allows individuals to budget their finances effectively. It helps them plan for regular expenses or income streams, ensuring financial stability over time.\n",
    "\n",
    "4. **Loan and Mortgage Decisions**: Lenders and borrowers use PV and FV calculations to assess the affordability and terms of loans or mortgages. Knowing the present value of loan payments helps borrowers understand the total cost of borrowing, while lenders can determine the profitability of lending.\n",
    "\n",
    "5. **Retirement Planning**: For retirement planning, individuals need to calculate the future value of annuities to ensure they have sufficient funds to maintain their desired lifestyle after retirement. Knowing the future value helps them set savings goals and make contributions to retirement accounts accordingly.\n",
    "\n",
    "6. **Insurance Planning**: Insurance companies use PV and FV calculations to determine premiums and payouts for annuity products. Understanding the present and future value of annuities helps insurers manage risk and ensure they can meet their financial obligations to policyholders.\n",
    "\n",
    "Overall, calculating the present and future value of annuities provides valuable insights into the timing and magnitude of cash flows, enabling better financial decision-making and planning for both individuals and businesses.\n"
   ]
  }
 ],
 "metadata": {
  "kernelspec": {
   "display_name": "Python 3 (ipykernel)",
   "language": "python",
   "name": "python3"
  },
  "language_info": {
   "codemirror_mode": {
    "name": "ipython",
    "version": 3
   },
   "file_extension": ".py",
   "mimetype": "text/x-python",
   "name": "python",
   "nbconvert_exporter": "python",
   "pygments_lexer": "ipython3",
   "version": "3.10.9"
  }
 },
 "nbformat": 4,
 "nbformat_minor": 5
}