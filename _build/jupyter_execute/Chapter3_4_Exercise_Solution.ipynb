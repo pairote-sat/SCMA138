{
 "cells": [
  {
   "cell_type": "markdown",
   "id": "68cce759-14ed-4b7b-b8e9-a540becc848d",
   "metadata": {},
   "source": [
    "# Solutions to Exercises for Chapter 3.3 and 3.4"
   ]
  },
  {
   "cell_type": "markdown",
   "id": "ebd34f9b-e553-4cce-b99f-1e5618e4b5bb",
   "metadata": {},
   "source": [
    "```{admonition} **Exercise 3.10**\n",
    ":class: tip\n",
    "\n",
    "Calculate the following accumulation:\n",
    "\n",
    "1. Accumulate ฿5,000 for 4 years at 7.5\\% per annum effective.\n",
    "2. Accumulate ฿800 for 2.7 years at 3\\% per quarter-year effective.\n",
    "3. Accumulate ฿10,000 for 27 months at 4.25\\% per half-year effective.\n",
    "```"
   ]
  },
  {
   "cell_type": "markdown",
   "id": "7eead5c5-686c-4c1a-bb5e-80876bcc72b1",
   "metadata": {},
   "source": [
    "```{admonition}  **Solution to Exercise 3.10**\n",
    ":class: important\n",
    "\n",
    "<details>\n",
    "  <summary>Click to toggle answer</summary>\n",
    "\n",
    "\n",
    "The solutions to each question are as follows:\n",
    "    \n",
    "1. $5000 (1.075)^4 = 6677.345703$ \n",
    "\n",
    "2. Let $i\\%$ be the annual rate effective equivalent to $3\\%$ per quarter-effective, $i = (1.03)^4 - 1$. \n",
    "\n",
    "Hence, the accumulation is\n",
    "\n",
    "$$800(1+i)^{2.7} = 800(1.03)^{4\\times2.7} = 1100.859802.$$\n",
    "\n",
    "3. Let $j\\%$ be the monthly rate effective equivalent to $4.25\\%$ per half-year effective, $j = (1.0425)^{2/12} - 1$. \n",
    "\n",
    "Hence, the accumulation is\n",
    "\n",
    "$$10000(1.0425)^{(2/12)\\times27} = 12059.86056.$$\n",
    "\n",
    "</details>\n",
    "```"
   ]
  },
  {
   "cell_type": "markdown",
   "id": "4c6977c7-2744-477b-b844-6156dc6c6ca1",
   "metadata": {},
   "source": [
    "```{admonition} **Exercise 3.11**\n",
    ":class: tip\n",
    "\n",
    "Calculate the present values on 1 January 2015 of the following payments at the given rates of interest:\n",
    "1. ฿1,000 on 1 January 2016, at 7.5\\% per annum effective.\n",
    "2. ฿100 on 1 October 2016, at 3\\% per quarter-year effective.\n",
    "3. ฿10,000 on 1 April 2016, at 4.25\\% per half-year effective.\n",
    "```"
   ]
  },
  {
   "cell_type": "markdown",
   "id": "3f341319-b71b-4ba9-88e0-cf0b4e3e3a1b",
   "metadata": {},
   "source": [
    "```{admonition}  **Solution to Exercise 3.11**\n",
    ":class: important\n",
    "\n",
    "<details>\n",
    "  <summary>Click to toggle answer</summary>\n",
    "\n",
    "The solutions to each question are as follows:\n",
    "\n",
    "1. $\\frac{1000}{1.075} = 930.232558$.\n",
    "\n",
    "2. $\\frac{100}{(1.03)^7} = 81.309151$.\n",
    "\n",
    "3. Let $j\\%$ be the quarterly rate effective equivalent to         $4.25\\%$ per half-year effective, $j = (1.0425)^{2/4} - 1$. \n",
    "\n",
    "Hence, the present value is\n",
    "\n",
    "$$10000\\times (1+j)^{-5} = 10000(1.0425)^{-(5/2)} = 9011.764643.$$\n",
    "\n",
    "\n",
    "</details>\n",
    "```"
   ]
  },
  {
   "cell_type": "markdown",
   "id": "509b1ffb-a6c3-4061-b2bd-fcd95fa6fb50",
   "metadata": {},
   "source": [
    "```{admonition} **Exercise 3.12**\n",
    ":class: tip\n",
    "\n",
    "1. If the effective rate of interest is 4\\% per annum, calculate the effective rate of interest per month?\n",
    "\n",
    "2. If the effective rate of interest is 6.5\\% per half-year, calculate the effective rate of interest per quarter-year?\n",
    "```"
   ]
  },
  {
   "cell_type": "markdown",
   "id": "4f5ba093-efa5-48bc-8b44-f198e2ffe4a2",
   "metadata": {},
   "source": [
    "```{admonition}  **Solution to Exercise 3.12**\n",
    ":class: important\n",
    "\n",
    "<details>\n",
    "  <summary>Click to toggle answer</summary>\n",
    "\n",
    "The solutions to each question are as follows:\n",
    "      \n",
    "1. 0.3274%\n",
    "2. 3.1988%\n",
    "\n",
    "\n",
    "</details>\n",
    "```"
   ]
  },
  {
   "cell_type": "markdown",
   "id": "cb35804a-1a3a-4845-8385-ba4dff6042ad",
   "metadata": {},
   "source": [
    "```{admonition} **Exercise 3.13**\n",
    ":class: tip\n",
    "\n",
    "The effective rate of interest per annum was 4\\% during 2015, 5\\% during 2016 and 6\\% thereafter.\n",
    "\n",
    "1. Calculate the accumulation of ฿500 from 1 January 2015 to 1 January 2018.\n",
    "2. Calculate the accumulation of ฿2000 from 1 April 2015 to 1 October 2017.\n",
    "3. Calculate the accumulation factor from 1 January 2015 to 1 January 2018.\n",
    "```"
   ]
  },
  {
   "cell_type": "markdown",
   "id": "9ca83cc2-1e18-4391-b178-514756bb0802",
   "metadata": {},
   "source": [
    "```{admonition}  **Solution to Exercise 3.13**\n",
    ":class: important\n",
    "\n",
    "<details>\n",
    "  <summary>Click to toggle answer</summary>\n",
    "\n",
    "The solutions to each question are as follows:\n",
    "      \n",
    "1. 500(1.04)(1.05)(1.06) =578.76\n",
    "2. $2000(1.04)^{3/4}(1.05)(1.06)^{3/4} =2259.299$\n",
    "3. (1.04)(1.05)(1.06) = 1.15752\n",
    "\n",
    "</details>\n",
    "```"
   ]
  },
  {
   "cell_type": "markdown",
   "id": "cfc89be8-0e73-4597-b96f-c9507130097e",
   "metadata": {},
   "source": [
    "```{admonition} **Exercise 3.14**\n",
    ":class: tip\n",
    "\n",
    "You deposit ฿3000 to an account that earns 2.5\\% compounded annually. How much will you have in three years?\n",
    "```"
   ]
  },
  {
   "cell_type": "markdown",
   "id": "398c7507-73ba-48b0-8174-408b092098e9",
   "metadata": {},
   "source": [
    "```{admonition}  **Solution to Exercise 3.14**\n",
    ":class: important\n",
    "\n",
    "<details>\n",
    "  <summary>Click to toggle answer</summary>\n",
    "\n",
    "The account balance in 3 years is $3000(1.025)^{3} = 3230.67$.\n",
    "\n",
    "</details>\n",
    "```"
   ]
  },
  {
   "cell_type": "markdown",
   "id": "3b1ae694-d131-46c0-abcf-062177ccf60d",
   "metadata": {},
   "source": [
    "```{admonition} **Exercise 3.15**\n",
    ":class: tip\n",
    "\n",
    "A person borrows a sum of ฿5,000 and agrees to pay this back at the end of 1 year with interest calculated at an effective rate of 10\\% per annum. Calculate the amount to be repaid for the loan.\n",
    "```"
   ]
  },
  {
   "cell_type": "markdown",
   "id": "9959941e-bf01-4200-a32c-a5677c5cfbaf",
   "metadata": {},
   "source": [
    "```{admonition}  **Solution to Exercise 3.15**\n",
    ":class: important\n",
    "\n",
    "<details>\n",
    "  <summary>Click to toggle answer</summary>\n",
    "\n",
    "The amount to be repaid for the loan is 5000(1.1) = 5500.\n",
    "\n",
    "</details>\n",
    "```"
   ]
  },
  {
   "cell_type": "markdown",
   "id": "aa49fe22-bcd8-4e64-a62f-5362bd5cb01f",
   "metadata": {},
   "source": [
    "```{admonition} **Exercise 3.16**\n",
    ":class: tip\n",
    "\n",
    "You want to have ฿1000 in 2 years and ฿2000 in 4 years. How much should you deposit now into an account earning the effective rate of 5.75\\% semiannually?\n",
    "```"
   ]
  },
  {
   "cell_type": "markdown",
   "id": "4216ddc3-b09e-44c5-bf0e-3a011d8f134d",
   "metadata": {},
   "source": [
    "```{admonition}  **Solution to Exercise 3.16**\n",
    ":class: important\n",
    "\n",
    "<details>\n",
    "  <summary>Click to toggle answer</summary>\n",
    "\n",
    "Let $X$ be the amount to be deposited now. \n",
    "\n",
    "$$X = \\frac{1000}{(1.0575)^4} + \\frac{2000}{(1.0575)^8} = 2078.36. $$\n",
    "\n",
    "</details>\n",
    "```"
   ]
  },
  {
   "cell_type": "markdown",
   "id": "41c750f1-90d6-41f3-bcba-6293c4d75601",
   "metadata": {},
   "source": [
    "```{admonition} **Exercise 3.17**\n",
    ":class: tip\n",
    "\n",
    "An ordinary annuity is a series of equal payments made at the end of consecutive periods over a fixed length of time. Draw a timeline for the following annuity having cashflow of 1 unit at the end of each of the next n time units.\n",
    "```"
   ]
  },
  {
   "cell_type": "markdown",
   "id": "5dcee9fd-5832-4d1b-93bf-241ee9f0faa9",
   "metadata": {},
   "source": [
    "```{admonition}  **Solution to Exercise 3.17**\n",
    ":class: important\n",
    "\n",
    "<details>\n",
    "  <summary>Click to toggle answer</summary>\n",
    "\n",
    "```{figure} _build/images/tikz-ex9-1.png\n",
    ":name: figure-tikz-ex9-1.png\n",
    "\n",
    "A series of unit payments at the end of each year for $n$ years\n",
    "```\n",
    "\n",
    "</details>\n"
   ]
  },
  {
   "cell_type": "markdown",
   "id": "eeb65795-c967-4d87-a70b-62b53f636e25",
   "metadata": {},
   "source": [
    "```{admonition} **Exercise 3.18**\n",
    ":class: tip\n",
    "\n",
    "Draw a timeline to illustrate this insurance benefit:\n",
    "\n",
    "Whole Life Insurance - payable immediately on death - has following conditions:\n",
    "\n",
    "- death benefit (sum insured) of 1\n",
    "- payable immediately on the death\n",
    "- of an individual currently aged x\n",
    "- for death occurring any time in the future.\n",
    "```"
   ]
  },
  {
   "cell_type": "markdown",
   "id": "d33bea51-268b-417e-bc1d-0b842967b6f9",
   "metadata": {},
   "source": [
    "```{admonition}  **Solution to Exercise 3.18**\n",
    ":class: important\n",
    "\n",
    "<details>\n",
    "  <summary>Click to toggle answer</summary>\n",
    "\n",
    "We need to define a random variable  \n",
    "\n",
    "$$T_x = \\text{the remaining future life time of a life aged }x.$$\n",
    "\n",
    "In this timeline below:\n",
    "- **Age x**: Represents the current age of the insured individual when the insurance policy is taken out.\n",
    "- **Time passes**: Represents the period during which the insured individual continues to hold the insurance policy.\n",
    "- **Death of Insured**: Represents the occurrence of death at any time in the future.\n",
    "- **Benefit Payable Immediately upon Death**: Indicates that the death benefit (sum insured) of 1 is payable immediately upon the death of the insured individual, regardless of when it occurs in the future.\n",
    "\n",
    "This timeline visually demonstrates the conditions of Whole Life Insurance, where the death benefit is guaranteed and payable immediately upon the death of the insured individual.\n",
    "\n",
    "\n",
    "```{figure} _build/images/tikz-sol2-1.png\n",
    ":name: figure-tikz-sol2-1.png\n",
    "\n",
    "The timeline of the whole life insurance contract\n",
    "```\n",
    "\n",
    "\n",
    "</details>"
   ]
  },
  {
   "cell_type": "markdown",
   "id": "091f00e8-8503-46f9-856e-e70fd4c08fbc",
   "metadata": {},
   "source": [
    "```{admonition} **Exercise 3.19**\n",
    ":class: tip\n",
    "\n",
    "Starting at 1 January 2015, the effective rate of interest per annum was 3\\% per quarter-year for 9 months, 4\\% per half-year for 15 months and and 2\\% per month thereafter.\n",
    "\n",
    "1. Calculate the accumulation factor from 1 January 2015 to 1 January 2018.\n",
    "2. Calculate the accumulation of ฿5,000 from 1 July 2015 to 1 October 2017.\n",
    "3. Calculate the accumulation of ฿100 from 1 March 2016 to 1 August 2018.\n",
    "4. Calculate the present value at 1 January 2015 of ฿25,000 receivable on 1 July 2016.\n",
    "5. Calculate the present value at 1 April 2015 of ฿8,000 receivable on 1 October 2017.\n",
    "6. Calculate the discount factor from 1 July 2015 to 1 October 2016."
   ]
  },
  {
   "cell_type": "markdown",
   "id": "74ce319b-054e-458f-b2c5-735d5750bfad",
   "metadata": {},
   "source": [
    "```{admonition}  **Solution to Exercise 3.19**\n",
    ":class: important\n",
    "\n",
    "<details>\n",
    "  <summary>Click to toggle answer</summary>\n",
    "\n",
    "The solutions to each question are as follows:\n",
    "    \n",
    "1. $(1.03)^3(1.04)^{2.5} (1.02)^{12} = 1.528611$\n",
    "2. $5000A(0.5,2.75) = 5000(1.03)(1.04)^{2.5} (1.02)^{9} = 6788.786068$\n",
    "3. We first find the rate $j\\%$ per month effective that is equivalent to the rate of $4\\%$ per half-year effective.\n",
    "\n",
    "$$j = (1.04)^{1/6} - 1 = 0.00656.$$\n",
    "\n",
    "The accumulated value is $100A(1+2/12, 3 + 7/12 ) = 100(1+j)^{10}(1.02)^{19} = 155.522118.$\n",
    "\n",
    "4. $25000V(0,1.5) = \\frac{25000}{(1.03)^3(1.04)^{1.5}} = 21571.39968.$\n",
    "5. $8000V(0.25,2.75) = \\frac{8000}{(1.03)^2(1.04)^{2.5}(1.02)^{9}} = 5720.455921.$\n",
    "6. $V(0.5,1.75) = \\frac{1}{(1.03)(1.04)^{2}} = 0.897627.$\n",
    "\n",
    "</details>\n",
    "```"
   ]
  },
  {
   "cell_type": "markdown",
   "id": "9f62ba5b-3471-45fa-9fc8-e4aaa0f255cb",
   "metadata": {},
   "source": [
    "```{admonition} **Exercise 3.20**\n",
    ":class: tip\n",
    "\n",
    "Calculate the present value now of an annuity payable monthly in advance. The annual amount of the annuity will be ฿2,400 for the first 10 years and ฿3,600 for the next 15 years, after which payment will cease. Assume that the effective rate of interest is 2\\% per annum.\n",
    "```"
   ]
  },
  {
   "cell_type": "markdown",
   "id": "95c90b5e-2db9-4a25-b8b9-ff4135bb9865",
   "metadata": {},
   "source": [
    "```{admonition}  **Solution to Exercise 3.20**\n",
    ":class: important\n",
    "\n",
    "<details>\n",
    "  <summary>Click to toggle answer</summary>\n",
    "\n",
    "Let $j$ be the effective rate per month equivalent to $i = 2$%. We have\n",
    "\n",
    "$$ j = (1.02)^{1/12}  - 1= 0.001652. $$\n",
    "Hence, \n",
    "\n",
    "$$ PV(0) = 200 \\ddot{a}^{j}_{120} + 300 \\ddot{a}^{j}_{180} \\left( \\frac{1}{1.02} \\right)^{10} = 60148.03. $$\n",
    "\n",
    "</details>\n",
    "```"
   ]
  },
  {
   "cell_type": "markdown",
   "id": "78a0a281-f578-4aab-92d9-a61ee6bbdbbd",
   "metadata": {},
   "source": [
    "```{admonition} **Exercise 3.21**\n",
    ":class: tip\n",
    "\n",
    "Assume that the effective rate of interest will be 3\\% for 5 years from now, 4\\% for the next 5 years and 5\\% thereafter. Calculate the following values:\n",
    "\n",
    "1. The present value of an annuity of ฿1,000 per annum, payable in arrear for 15 years.\n",
    "2. The present value of an annuity due of ฿500 per annum, payable at the beginning of the year for 20 years.\n",
    "3. The accumulation value of an increasing annuity payable yearly in arrear for 30 years. The first annual payment is ฿100, and payments will be increased by ฿100 each year.\n",
    "4. The accumulation value of an increasing annuity payable yearly in advance for 18 years. The first annual payment is ฿1,000, and payments will be increased by 2\\% each year (compound).\n",
    "5. The present value of an annuity of ฿200, payable in arrear for 10 years and deferred for 3 years.\n",
    "```"
   ]
  },
  {
   "cell_type": "markdown",
   "id": "c18b0ef4-816d-428a-8392-71d8d673b315",
   "metadata": {},
   "source": [
    "```{admonition}  **Solution to Exercise 3.21**\n",
    ":class: important\n",
    "\n",
    "<details>\n",
    "  <summary>Click to toggle answer</summary>\n",
    "\n",
    "The solutions to each question are as follows:\n",
    "\n",
    "1. The cashflows have been splitted into three periods: (a) from time point 0-5, (b) 5-10 and (c) time point 10 onward.\n",
    "    \n",
    "$$PV(0) = 1000 ( a^{3\\%}_{5} + 1.03^{-5} a^{4\\%}_{5} +  1.03^{-5} 1.04^{-5} a^{5\\%}_{5}) = 11489.49  $$\n",
    "\n",
    "2. We have\n",
    "\n",
    "$$PV(0) = 500 ( \\ddot{a}^{3\\%}_{5} + 1.03^{-5} \\ddot{a}^{4\\%}_{5} +  1.03^{-5} 1.04^{-5} \\ddot{a}^{5\\%}_{10}) = 7229.67  $$\n",
    "    \n",
    "3. The accumuated value is\n",
    "\n",
    "   $$100 (Is)^{3\\%}_{5} (1.04)^5 (1.05)^{20} + \\left[100 (Is)^{4\\%}_{5} + 500 s^{4\\%}_{5} \\right] (1.05)^{20}  + \\left[100 (Is)^{5\\%}_{20} + 1000 s^{5\\%}_{20} \\right]= 78929.01  $$\n",
    "    \n",
    "4. Let $i_1 = 3\\%, i_2 = 4\\%$ and $i_3 = 5\\%$. The accumuated value is given by\n",
    "\n",
    "$$\\begin{aligned} \n",
    "    V(18) &= \\left[1000(1+i_1)^5 + 1000(1.02)(1+i_1)^4 + 1000(1.02)^2(1+i_1)^3 + \\ldots + 1000(1.02)^4(1+i_1)\\right](1.04)^5(1.05)^8   \\\\\n",
    "    &+ \\left[1000(1.02)^5(1+i_2)^5 + 1000(1.02)^6(1+i_2)^4 + 1000(1.02)^7(1+i_2)^3 + \\ldots + 1000(1.02)^9(1+i_2)\\right](1.05)^8   \\\\\n",
    "    &+ \\left[1000(1.02)^{10}(1+i_3)^8 + 1000(1.02)^{11}(1+i_3)^7 + 1000(1.02)^{12}(1+i_3)^6 + \\ldots + 1000(1.02)^{17}(1+i_3)\\right]  \\\\\n",
    "    &= 1000(1.02)^5 \\left[ \\left(\\frac{1+i_1}{1.02}\\right)^5   + \\left(\\frac{1+i_1}{1.02}\\right)^4 + \\ldots + \\left(\\frac{1+i_1}{1.02}\\right) \\right](1.04)^5(1.05)^8 \\\\\n",
    "    &+ 1000(1.02)^{10} \\left[ \\left(\\frac{1+i_2}{1.02}\\right)^5   + \\left(\\frac{1+i_2}{1.02}\\right)^4 + \\ldots + \\left(\\frac{1+i_2}{1.02}\\right) \\right](1.05)^8 \\\\\n",
    "     &+ 1000(1.02)^{18} \\left[ \\left(\\frac{1+i_3}{1.02}\\right)^8   + \\left(\\frac{1+i_3}{1.02}\\right)^7 + \\ldots + \\left(\\frac{1+i_3}{1.02}\\right) \\right] \n",
    "    \\end{aligned}$$\n",
    "    \n",
    "Let $1+j_1  = \\frac{1+i_1}{1.02}$. Then, $j_1 = 0.009804$ and \n",
    "\n",
    "$$ \\left[ \\left(\\frac{1+i_1}{1.02}\\right)^5   + \\left(\\frac{1+i_1}{1.02}\\right)^4 + \\ldots + \\left(\\frac{1+i_1}{1.02}\\right) \\right] = \\frac{(1+j_1)^5 - 1}{j_1/(1+j_1)} =\n",
    "5.148995.$$\n",
    "\n",
    "Let $1+j_2  = \\frac{1+i_2}{1.02}$. Then, $j_2 = 0.019608$ and \n",
    "\n",
    "$$ \\left[ \\left(\\frac{1+i_2}{1.02}\\right)^5   + \\left(\\frac{1+i_2}{1.02}\\right)^4 + \\ldots + \\left(\\frac{1+i_2}{1.02}\\right) \\right] = 5.301921.$$\n",
    "\n",
    "Let $1+j_3  = \\frac{1+i_3}{1.02}$. Then, $j_3 = 0.029412$ and \n",
    "\n",
    "$$ \\left[ \\left(\\frac{1+i_3}{1.02}\\right)^8   + \\left(\\frac{1+i_3}{1.02}\\right)^7 + \\ldots + \\left(\\frac{1+i_3}{1.02}\\right) \\right]  = 9.134790.$$\n",
    "\n",
    "Therefore, $V(18) = 32814.45$.\n",
    "\n",
    "5. The present value is \n",
    "    \n",
    "$$\\begin{aligned}\n",
    "    PV(0) &= \\left( \\frac{200}{(1.03)^4} + \\frac{200}{(1.03)^5}\\right) + 200 a^{0.04}_5 (1.03)^{-5} + 200 a^{0.05}_{3} (1.03)^{-5} (1.04)^{-5} \\\\\n",
    "    &= 350.2192 + 768.0362 + 386.1574 = 1504.413\n",
    "\\end{aligned}$$\n",
    "\n",
    "</details>\n",
    "```"
   ]
  },
  {
   "cell_type": "markdown",
   "id": "22c5174e-e5ed-4953-b1ac-8fe699332c0d",
   "metadata": {},
   "source": [
    "```{admonition} **Exercise 3.22**\n",
    ":class: tip\n",
    "\n",
    "You borrow ฿240,000 from a bank to be repaid by the end of 5 years. Assume that the interest rate is 4\\% per annum. Consider the following four possible options for the loan to be repaid.\n",
    "\n",
    "1. Calculate the amount of the repayments to repay if you choose to repay the loan as late as possible.\n",
    "\n",
    "2. You may choose to repay interest only during the 6 years term of loan and repay the capital at the end of the term. Calculate interest to be repaid and draw the timeline to illustrate the cash flows for the repayment of the loan.\n",
    "\n",
    "3. Calculate the amount X of level instalments to repay the loan which will be paid at the end of each year for 5 years and draw the timeline to illustrate the cash flows for the repayment of the loan.\n",
    "\n",
    "4. Calculate the amount Y of level instalments to repay the loan which will be paid at the end of each month for 5 years and draw the timeline to illustrate the cash flows for the repayment of the loan.\n",
    "```"
   ]
  },
  {
   "cell_type": "markdown",
   "id": "84e9a236-6cca-4d0b-bd87-9b7d2e99b4ec",
   "metadata": {},
   "source": [
    "```{admonition}  **Solution to Exercise 3.22**\n",
    ":class: important\n",
    "\n",
    "<details>\n",
    "  <summary>Click to toggle answer</summary>\n",
    "\n",
    "The solutions to each question are as follows:\n",
    "\n",
    "1. $240000 (1.04)^5 = 291996.7$\n",
    "2. The interest amounts are $0.04\\times 240000 = 9600.$\n",
    "3. By the Principle of Equivalence, we have\n",
    "\n",
    "$$ 240000 = X a^{0.04}_{5}. $$\n",
    "\n",
    "This gives X = 53910.51.\n",
    "\n",
    "4. Level installments are payable monthly, which follows\n",
    "\n",
    "$$ 240000 = Y a^{j}_{60}, $$\n",
    "\n",
    "where $j = (1.04)^{1/12} - 1$. This gives Y = 4412.23.\n",
    "\n",
    "\n",
    "\n",
    "</details>\n",
    "```"
   ]
  },
  {
   "cell_type": "markdown",
   "id": "397c5a41-65bb-4a9d-88e9-b95adf32d75c",
   "metadata": {},
   "source": [
    "```{admonition} **Exercise 3.23**\n",
    ":class: tip\n",
    "\n",
    "A person now age 30 has received a pension from a company. When he retires at age 60, he will be paid on each birthday from the 60th to the 85th inclusive. The first annual payment will be half of his salary when he retires, and payments will then increase by 2\\% compounding each year. Currently, he receives a salary of ฿20,000 and will increase by 3\\% each year compounding in line with inflation. Assume that the effective rate of interest will be 4\\% for the next 20 years and 5\\% thereafter. Calculate the present value now of this pension.\n",
    "```"
   ]
  },
  {
   "cell_type": "markdown",
   "id": "10ebdae1-a2c6-4531-8b7e-e8010ebb677d",
   "metadata": {},
   "source": [
    "```{admonition}  **Solution to Exercise 3.23**\n",
    ":class: important\n",
    "\n",
    "<details>\n",
    "  <summary>Click to toggle answer</summary>\n",
    "\n",
    "\n",
    "The person retires in 30 years, when his salary is expected to be \n",
    "$20000 \\times (1.03)^{30} = 48545.25.$ \n",
    "\n",
    "The first payment will be half of this which is equal to 24272.62.\n",
    "The present value at age 60 of his pension is\n",
    "\n",
    "$$  24272.62 \\times \\ddot{a}^{0.029412}_{26} = 449717.9$$\n",
    "\n",
    "(the precise value is 449719.051954).\n",
    "\n",
    "Here we use $\\frac{1.05}{1.02} = 1.029412$ and the annuity is paid from the 60th to the 85th birthday inclusive so there are 26 payments made in advance.\n",
    "\n",
    "Therefore, the present value of this at age 30 is\n",
    "\n",
    "$$ 449717.9 \\times (1.05)^{-10} \\times (1.04)^{-20} = 126002.9. $$\n",
    "\n",
    "(the precise value is 126003.181173)\n",
    "</details>\n",
    "```"
   ]
  }
 ],
 "metadata": {
  "kernelspec": {
   "display_name": "Python 3 (ipykernel)",
   "language": "python",
   "name": "python3"
  },
  "language_info": {
   "codemirror_mode": {
    "name": "ipython",
    "version": 3
   },
   "file_extension": ".py",
   "mimetype": "text/x-python",
   "name": "python",
   "nbconvert_exporter": "python",
   "pygments_lexer": "ipython3",
   "version": "3.10.9"
  }
 },
 "nbformat": 4,
 "nbformat_minor": 5
}