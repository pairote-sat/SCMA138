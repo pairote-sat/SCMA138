{
 "cells": [
  {
   "cell_type": "markdown",
   "id": "16ef4dbd-34b3-4e2b-a24e-3e1584f6a148",
   "metadata": {},
   "source": [
    "# Exercises for Chapter 2.1"
   ]
  },
  {
   "cell_type": "markdown",
   "id": "7bc169d5-92e1-48e1-abdc-28b8cf5be21d",
   "metadata": {},
   "source": [
    "```{admonition}  **Exercise 2.1**\n",
    ":class: tip\n",
    "\n",
    "Define the terms population, sample, variable, data value, data, experiment, parameter, and statistic.\n",
    "```"
   ]
  },
  {
   "cell_type": "markdown",
   "id": "5bea9bdb-738a-4482-8d72-1312d5266e3e",
   "metadata": {},
   "source": [
    "```{admonition}  **Exercise 2.2**\n",
    ":class: tip\n",
    "\n",
    "Can you provide an example from the field of actuarial science or business where you can identify the population, sample, variable, data value, data, experiment, parameter, and statistic to demonstrate a clear understanding of these key components in a practical context?\n",
    "```"
   ]
  },
  {
   "cell_type": "markdown",
   "id": "289c7922-2df3-4618-bf10-512baec9a9e4",
   "metadata": {},
   "source": [
    "```{admonition} **Exercise 2.3** Adecco’s Salary Guide 2023\n",
    ":class: tip\n",
    "\n",
    "The Adecco Group Thailand, a world-leading HR solutvions agency, has revealed its Salary Guide 2023 which showcases the information of minimum and maximum salaries.\n",
    "\n",
    "![Alt Text](_build/images/AdeccoSalaryGuide2023.png)\n",
    "\n",
    "\n",
    "\n",
    "Image from: https://www.nationthailand.com/business/corporate/40024522\n",
    "\n",
    "1. What is the population?\n",
    "\n",
    "2. Describe the sample used for this report.\n",
    "\n",
    "3. Identify the variables used to collect this information.\n",
    "```"
   ]
  },
  {
   "cell_type": "markdown",
   "id": "cca0baba-74db-4df8-96b7-6a55ebdcf8c7",
   "metadata": {},
   "source": [
    "```{admonition}  **Example 2.4** mtcars dataset\n",
    ":class: tip\n",
    "\n",
    "\n",
    "In this exercise, we use the \"mtcars\" dataset, which is included in the base R package. It contains information about various car models, including attributes such as miles per gallon (mpg), number of cylinders, and horsepower. \n",
    "\n",
    "You can stratify the sampling based on the number of cylinders in this dataset.\n",
    "\n",
    "**Tasks:**\n",
    "\n",
    "1. **Explore Cylinder Subgroups in mtcars Dataset**\n",
    "   - Analyze mtcars to understand vehicle characteristics based on cylinder count.\n",
    "\n",
    "2. **Introduce \"CylinderGroup\" Variable**\n",
    "   - Use 'cut' to create \"CylinderGroup\" for 3-4, 5-6, and 7-8 cylinders.\n",
    "\n",
    "3. **Facilitate Subgroup Analysis**\n",
    "   - Utilize \"CylinderGroup\" for efficient subgroup analysis.\n",
    "\n",
    "4. **Implement Stratified Sampling**\n",
    "   - Ensure sampling reflects cylinder group proportions.\n",
    "\n",
    "5. **Enhance Analytical Approach**\n",
    "   - Extract insights from unique characteristics within each cylinder subgroup.\n",
    "\n",
    "```"
   ]
  },
  {
   "cell_type": "markdown",
   "id": "54ff4dc4-d939-4d1a-963b-ef2aed10b907",
   "metadata": {},
   "source": [
    "```{tip}\n",
    "Here's a template for using the cut function to create subgroups in R: \n",
    "\n",
    "```{code}\n",
    "# Create a categorical variable for stratification\n",
    "your_dataframe <- your_dataframe %>%\n",
    "  mutate(NewVariable = cut(as.numeric(your_variable), breaks = c(break_points), labels = c(\"Label1\", \"Label2\", \"Label3\")))\n",
    "```\n",
    "\n",
    "Replace the following placeholders:\n",
    "\n",
    "* `your_dataframe`: Replace with the name of your data frame.\n",
    "* `your_variable`: Replace with the variable you want to categorize.\n",
    "* `NewVariable`: Replace with the desired name for your new categorical variable.\n",
    "* `break_points`: Replace with the specific break points you want to use for subgrouping.\n",
    "* `\"Label1\", \"Label2\", \"Label3\"`: Replace with the labels you want for each subgroup.\n",
    "\n",
    "For example, using the mtcars dataset:\n",
    "\n",
    "```{code}\n",
    "# Create a categorical variable for stratification\n",
    "mtcars <- mtcars %>%\n",
    "  mutate(CylinderGroup = cut(as.numeric(cyl), breaks = c(3, 4, 6, 8), labels = c(\"Low\", \"Medium\", \"High\")))\n",
    "```"
   ]
  },
  {
   "cell_type": "markdown",
   "id": "e169ff5e-4117-4c44-bb78-7fd88ac89101",
   "metadata": {},
   "source": [
    "```{admonition} **Exercise 2.5** freMTPL2freq dataset from CASdatasets package \n",
    ":class: tip\n",
    "\n",
    "We explore the freMTPL2freq dataset from the R package CASdatasets, which represents a French motor third-party liability (MTPL) insurance portfolio with observed claim counts in a single accounting year. Use R to delve into this dataset and provide answers to the following questions:\n",
    "\n",
    "1. How many observations are there in the dataset?\n",
    "2. What is the structure of the dataset?\n",
    "3. What is the data type of the 'IDpol' variable?\n",
    "4. How many levels does the 'IDpol' variable have?\n",
    "5. Which variables are qualitative (categorical) in nature?\n",
    "6. How many quantitative variables are there in the dataset?\n",
    "7. What are the possible levels for the 'VehGas' variable?\n",
    "8. What is the range of values for the 'VehPower' variable?\n",
    "9. Which regions are included in the dataset?\n",
    "10. What is the distribution of values in the 'Area' variable?\n",
    "```"
   ]
  },
  {
   "cell_type": "markdown",
   "id": "d67419c1-9e5d-4837-ad3b-d67f5a36ea0f",
   "metadata": {},
   "source": [
    "```{admonition} **Exercise 2.6** \n",
    ":class: tip\n",
    "\n",
    "1. How can one summarize a qualitative variable? Which chart types are suitable for graphing a qualitative variable? \n",
    "\n",
    "2. How does one summarize a quantitative variable? What chart types can be utilized for graphing a quantitative variable?\n",
    "```"
   ]
  },
  {
   "cell_type": "code",
   "execution_count": null,
   "id": "4f4d4fad-9c4f-4e4d-803a-f79b4239ae37",
   "metadata": {},
   "outputs": [],
   "source": []
  }
 ],
 "metadata": {
  "kernelspec": {
   "display_name": "R",
   "language": "R",
   "name": "ir"
  },
  "language_info": {
   "codemirror_mode": "r",
   "file_extension": ".r",
   "mimetype": "text/x-r-source",
   "name": "R",
   "pygments_lexer": "r",
   "version": "4.2.1"
  }
 },
 "nbformat": 4,
 "nbformat_minor": 5
}