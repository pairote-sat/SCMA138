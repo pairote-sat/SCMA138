{
 "cells": [
  {
   "cell_type": "markdown",
   "id": "fcb22c31-6bd5-4f42-8fc8-73fb22e31a04",
   "metadata": {},
   "source": [
    "## <span style=\"color: dimgray;\">**3.3 Fundamentals of Finance: Cashflow Models, Time Value of Money, and Interest Rates**</span>"
   ]
  },
  {
   "cell_type": "markdown",
   "id": "e96e66de-e50a-439a-9eae-e148ab188ea0",
   "metadata": {},
   "source": [
    "Understanding **cashflow models, the time value of money, and interest rates** is essential in finance and investment. \n",
    "\n",
    "**Cashflow models** provide a framework for analyzing the inflows and outflows of cash over time, enabling informed decision-making in resource allocation, project evaluation, and financial planning. However, cashflows are not equal across time due to the **time value of money principle**, which asserts that a dollar today is worth more than a dollar in the future due to its potential earning capacity if invested. This principle underscores the importance of considering the timing of cashflows and the associated opportunity cost in financial decision-making.\n",
    "\n",
    "**Interest rates** play a pivotal role in determining the time value of money, representing the cost of borrowing or the return on investment. They significantly influence the present and future value of cashflows, whether it's the interest earned on savings accounts, the cost of borrowing for a mortgage, or the discount rate used in cashflow models. \n",
    "\n",
    "Understanding interest rates is crucial for assessing investment opportunities, managing debt, and evaluating the attractiveness of financial instruments. \n",
    "\n",
    "In essence, cashflow models, the time value of money, and interest rates are interconnected concepts that form the foundation of financial analysis and decision-making."
   ]
  },
  {
   "cell_type": "markdown",
   "id": "51dbf50e-0977-4038-a569-34d887902da4",
   "metadata": {},
   "source": [
    "```{admonition}  **Example 3.5: Illustrating Cashflows and Timeline**\n",
    "\n",
    "Explore how cashflows can be visually represented and understood through a timeline. Consider the following cashflow: \n",
    "\n",
    "A series of payments into and out of a bank account is given as follows:\n",
    "\n",
    "-   payments into the account : ฿1000 on 1 January 2014 and ฿100 on 1\n",
    "    January 2016\n",
    "\n",
    "-   payments out of the account : ฿200 on 1 July 2015, ฿300 on 1 July\n",
    "    2016, and ฿400 on 1 January 2018\n",
    "\n",
    "In practice, cashflows can be represented by a timeline as can be\n",
    "illustrated in this example.\n",
    "```"
   ]
  },
  {
   "cell_type": "markdown",
   "id": "18241cd2-74a4-41cc-82f0-58f9c0b3ddf7",
   "metadata": {
    "editable": true,
    "slideshow": {
     "slide_type": ""
    },
    "tags": []
   },
   "source": [
    "```{figure} _build/images/tikz-ex1-1.png\n",
    ":name: figure-tikz-ex1-1.png\n",
    "\n",
    "an example of a timeline\n",
    "```"
   ]
  },
  {
   "cell_type": "markdown",
   "id": "0b3c929d-1483-45ed-8777-71b125079db1",
   "metadata": {},
   "source": [
    "#### <span style=\"color: dimgray;\">**Interest and the Time Value of Money**</span>\n",
    "\n",
    "\n",
    "This section introduces the time value of money using the concepts of\n",
    "compound interest and discounting. The effect of interest rates on the\n",
    "present value of future cash flows is discussed. The value of distant\n",
    "cash flows in the present and current cash flows in the future are then\n",
    "considered.\n",
    "\n",
    "We illustrate the time value of money by considering the following\n",
    "examples."
   ]
  },
  {
   "cell_type": "markdown",
   "id": "85b8ef05-b063-4720-95ff-eb4ec9d45005",
   "metadata": {},
   "source": [
    "```{admonition}  **Example 3.6**\n",
    "An investor want to make a payment of ฿10000 in 2 years. Suppose that a\n",
    "bank pays compound interest at 4% per annum effective. How much should\n",
    "the initial investment?\n",
    "```"
   ]
  },
  {
   "cell_type": "markdown",
   "id": "fea95c03-f69f-498a-9c5a-625bf91fffab",
   "metadata": {},
   "source": [
    "**Note** The amount we need to invest now (i.e. the initial investment\n",
    "in this example) is called the *present value (PV)* or *discounted\n",
    "value* of the payments."
   ]
  },
  {
   "cell_type": "markdown",
   "id": "188f0ddf-3525-4f31-a879-0aa4fca8b8c5",
   "metadata": {},
   "source": [
    "```{admonition}  **Solution to Example 3.6**\n",
    ":class: important\n",
    "\n",
    "<details>\n",
    "  <summary>Click to toggle answer</summary>\n",
    "\n",
    "By the end of 2 years an initial payment of \\textbaht X will have accumulated to: \n",
    "\n",
    "$$  X  \\cdot  1.04^2 = 10000. $$\n",
    " \n",
    "Hence, $X = 9245.56 $.\n",
    "\n",
    "</details>\n",
    "```"
   ]
  },
  {
   "cell_type": "markdown",
   "id": "d1a7f2b2-707a-44cc-8d87-c64016b6b3f0",
   "metadata": {},
   "source": [
    "```{admonition}  **Example 3.7: Time Value of Money**\n",
    "Consider the following arguments\n",
    "\n",
    "-   It is obvious that you would prefer to have ฿1100 now than ฿1000\n",
    "    now.\n",
    "\n",
    "-   If we receive and hold ฿1 now, then it is worth more than receiving\n",
    "    and holding ฿1 at some time in the future? Why is this?\n",
    "\n",
    "-   Is it obvious that your would be better off with ฿1100 in 2 years\n",
    "    than ฿1000 now?\n",
    "```"
   ]
  },
  {
   "cell_type": "markdown",
   "id": "2a74041c-6f5b-4616-a90b-5eda356892cb",
   "metadata": {},
   "source": [
    "```{admonition}  **Solution to Example 3.7**\n",
    ":class: important\n",
    "\n",
    "<details>\n",
    "  <summary>Click to toggle answer</summary>\n",
    "  \n",
    "For the second argument, this one baht will grow to $1 + r$ in the first\n",
    "year, $(1 + r)^2$ in two years, and so on. These amounts are clearly\n",
    "worth more than receiving and holding ฿1 at the same time in the future.\n",
    "\n",
    "For the last argument, we need to compare the values of the amounts received at different times. To do this, we can look at the today's\n",
    "values of ฿1100 received in 2 years assuming that we can invest at an\n",
    "annual interest rate of $r$ percent.\n",
    "\n",
    "The present value of this amount $X$ in year 2 is \n",
    "\n",
    "$$1100/(1 + r)^2.$$ \n",
    "\n",
    "Assuming $r = 5\\%$, the present value of $X$ is $997.73$.\n",
    "\n",
    "Comparing the values in today's baths, it is better to\n",
    "have ฿1000 now than to have ฿1100 in 2 years.\n",
    "\n",
    "</details>\n",
    "```"
   ]
  },
  {
   "cell_type": "markdown",
   "id": "13f70a73-e1e8-4407-9afc-3366e6bc362b",
   "metadata": {},
   "source": [
    "```{tip}\n",
    "\n",
    "From the above example,\n",
    "\n",
    "1.  One can deposit or invest ฿1 now and will receive ฿1 back and a\n",
    "    reward called **interest** at some point in the future. Because of its\n",
    "    potential earning power, money in the present is worth more than an\n",
    "    equal amount in the future. This is a fundamental financial\n",
    "    principle known as **the time value of money**.\n",
    "\n",
    "2.  At a given point of time, cash has a monetary value, but also has a\n",
    "    **time value**.\n",
    "\n",
    "3.  The amount deposited or invested is called **capital** or *principal*.\n",
    "```"
   ]
  },
  {
   "cell_type": "markdown",
   "id": "f3251afd-f4f1-49de-814e-e14b2bf53d5c",
   "metadata": {},
   "source": [
    "#### <span style=\"color: dimgray;\">**Simple interest**</span>\n",
    "\n",
    "\n",
    "**Simple interest** is a calculation of interest that does not take into\n",
    "account the effect of compounding. Under simple interest, the amount of interest that accrues over time is proportional to the length of the period.\n",
    "\n",
    "Suppose an amount $C$ is deposited in\n",
    "an account that pays simple interest at the rate of $i$% per annum. Then\n",
    "after $n$ years the deposit will have accumulated to\n",
    "\n",
    "$$C( 1 + i \\cdot n).$$ \n",
    "\n",
    "Hence, the interest accrued over $n$ years is\n",
    "\n",
    "$$\\text{Simple Interest}  = C \\cdot i \\cdot n.$$\n",
    "\n",
    "**Note** Auto loans and short-term personal loans are usually simple\n",
    "interest loans.\n"
   ]
  },
  {
   "cell_type": "markdown",
   "id": "cae5c3b2-2c72-4a2c-a39a-6e062cdb80cc",
   "metadata": {},
   "source": [
    "```{admonition}  **Example 3.8: Simple Interest**\n",
    "\n",
    "An investor deposits ฿10000 in a bank account that pays simple interest\n",
    "at a rate of 5% per annum. Calculate\n",
    "\n",
    "1.  interest he will earn after the first two years.\n",
    "\n",
    "2.  interest he will earn after the first three months.\n",
    "```\n",
    "\n",
    "**Note** When $n$ is not an integer, interest is paid on a pro-rate\n",
    "basis (in proportion). "
   ]
  },
  {
   "cell_type": "markdown",
   "id": "e4999f71-541b-4c0c-85a8-02f12989a050",
   "metadata": {},
   "source": [
    "```{admonition}  **Solution to Example 3.8**\n",
    ":class: important\n",
    "\n",
    "<details>\n",
    "  <summary>Click to toggle answer</summary>\n",
    "\n",
    "\n",
    "1.  At the end of 2 years the interest earned is\n",
    "\n",
    "    $$10000 \\cdot 0.05 \\cdot 2 = 1000.$$\n",
    "\n",
    "3.  At the end of 3 months the interest earned is\n",
    "\n",
    "    $$10000 \\cdot 0.05 \\cdot \\frac{3}{12} = 125.$$\n",
    "\n",
    "    Alternatively, the\n",
    "    interest per month is 5%/12 = 0.4167% and hence the interest earned\n",
    "    can be calculated as\n",
    "\n",
    "    $$10000 \\cdot 0.004167 \\cdot 3 = 125.$$\n",
    "\n",
    "```"
   ]
  },
  {
   "cell_type": "markdown",
   "id": "83fad4f4-50c2-47e6-a2ae-4abac42f89b5",
   "metadata": {},
   "source": [
    "#### <span style=\"color: dimgray;\">**Compound interest**</span>\n",
    "\n",
    "**Compound interest** refers to the interest that's calculated on the initial principal, as well as on the accumulated interest from previous periods. In other words, it's interest on interest. When interest is compounded, the interest earned in each period is added to the principal amount, and subsequent interest is calculated based on the new principal. Compound interest can lead to exponential growth of an investment or debt over time.\n",
    "\n",
    "In compound interest, the accumulated amount over a period of time is the capital of the following period. Therefore, a capital of 1 unit at the end of the year increases to $1 + i$ units, which becomes the capital for the following year. \n",
    "\n",
    "For year 2, the principal is $1 + i$ and the interest for the year is \n",
    "$( 1 + i ) \\cdot i$. By the end of 2 years, an initial payment of 1 will have accumuulated to \n",
    "\n",
    "$$ (1+i) + ( 1 + i ) \\cdot i = (1+i)^2.$$\n",
    "\n",
    "As this progression continues, the accumulated amount of $X$ units at the end of year $n$ becomes\n",
    "\n",
    "  $$ X\\cdot(1 + i)^n. $$\n",
    "\n",
    "**Note** In this case, we can take money out and reinvest it as new capital illustrated in the timeline."
   ]
  },
  {
   "cell_type": "markdown",
   "id": "6fa658bf-d75f-4026-ab5e-dd607fa5dc46",
   "metadata": {},
   "source": [
    "```{figure} _build/images/tikz-ex2-1.png\n",
    ":name: figure-tikz-ex2-1.png\n",
    "\n",
    "a timeline of compounding interest\n",
    "```"
   ]
  },
  {
   "cell_type": "markdown",
   "id": "8762e16e-e567-45a6-93a3-5954454b34d8",
   "metadata": {},
   "source": [
    "```{admonition}  **Example 3.9**\n",
    "\n",
    "(Excel)  Use Excel to create a table showing the accumulated amounts at the end of each year for 15 years for a principal of ฿100 under the simple interest approach and the compound interest approach with $r = 6\\%$ for both cases.\n",
    "Discuss the results obtained (How long does it take to double the investment? How much will the principal grow over a 15-year period?)\n",
    "\n",
    "```"
   ]
  },
  {
   "cell_type": "markdown",
   "id": "cd936c7d-0020-4482-90e2-07ff6fb89d15",
   "metadata": {},
   "source": [
    "#### <span style=\"color: dimgray;\">**Frequency of Compounding**</span>\n",
    "\n",
    "Even though the interest rate is typically expressed in annual terms, an investment's interest is frequently paid more frequently than once per year. For example, a savings account may offer an interest rate of 4% per year, credited quarterly. This interest rate is usually referred to as **nominal rate of interest**, i.e., 4% due four times per year. \n",
    "\n",
    "```{admonition}  **Definition of Nominal Rate of Interest**\n",
    ":class: tip\n",
    "\n",
    "The nominal rate of interest, also known as the stated rate or **annual percentage rate (APR)**, is the interest rate stated in a loan agreement or investment contract. It represents the rate at which interest is applied to the principal amount annually, **without considering the effect of compounding or other factors**. The nominal rate of interest is typically expressed as a percentage per annum.\n",
    "```\n",
    "\n",
    "We will see that the frequency of interest payments, also known as the **frequency of compounding**, has a significant impact on the total amount accrued and the interest collected. Consequently, it is crucial to precisely specify the rate of interest.\n",
    "\n",
    "```{admonition}  **Notation of Nominal Rate of Interest**\n",
    ":class: tip\n",
    "\n",
    "We use $i^{(m)}$ to represent the nominal rate of interest payable $m$ times a year in order to underline the significance of the frequency of compounding. Therefore, $m$ is the\n",
    "frequency of compounding per year and $1/m$ year is the **compounding period** or **conversion period**.\n",
    "```\n",
    "\n",
    "**Note** The nominal rate of interest payable $m$ times per period is also known as the rate of interest convertible $m$thly or compounded $m$thly.\n",
    "\n"
   ]
  },
  {
   "cell_type": "markdown",
   "id": "5b065cc2-d335-43b4-931c-11d5189769ba",
   "metadata": {},
   "source": [
    "```{admonition}  **Example 3.10**\n",
    "Calculate the accumulated value in 1 year of a deposit of ฿100 in a saving account that earns interest at 10% payable quarterly.\n",
    "```\n",
    "\n",
    "```{admonition}  **Solution to Example 3.10**\n",
    ":class: important\n",
    "\n",
    "<details>\n",
    "  <summary>Click to toggle answer</summary>\n",
    "\n",
    "In this example, the nominal rate of interest of $i^{(4)} = 10\\%$ p.a. convertible\n",
    "quarterly means an interest rate of 10%/4 = 2.5% per quarter. In this case, the interest rate of 2.5% is the **effective interest**.\n",
    "\n",
    "The effective interest rate of $i$ per unit of time (which may be month, quarter, etc.) is the amount of interest received at the end of a unit of time per ฿1 invested at the beginning of that unit.\n",
    "\n",
    "Therefore, the nominal interest rate $i^{(4)} = 10\\%$ is equivalent to an\n",
    "*effective interest rate* of $2.5\\%$ per quarter. \n",
    "The accumulated value in\n",
    "1 year is\n",
    "\n",
    "$$100 (1 + \\frac{10\\%}{4})^4 = 100 (1 + 2.5\\%)^4 = 110.3813.$$ \n",
    "\n",
    "Note that after compound interest is\n",
    "taken into account, the interest income of an investor at the quarterly\n",
    "convertible nominal interest rate of 10% p.a. is 10.3813 (or 10.3813%.p.a. effective)\n",
    "\n",
    "</details>\n",
    "```"
   ]
  },
  {
   "cell_type": "markdown",
   "id": "39462d04-e53f-4fc0-a93d-8c19db9ec168",
   "metadata": {},
   "source": [
    "```{admonition}  **Definition of Effective Rate of Interest**\n",
    ":class: tip\n",
    "\n",
    "The **effective interest rate** of $i$ per unit of time (which may be month, quarter, etc.) is the amount of interest received at the end of a unit of time per ฿1 invested at the beginning of that unit\n",
    "\n",
    "The **effective rate of interest**, also known as the **annual equivalent rate (AER)** or **annual percentage yield (APY)**, takes into account the effect of compounding on the nominal rate of interest. It represents the actual rate of return or cost of borrowing over a **specific period, considering the compounding frequency**.\n",
    "\n",
    "The effective rate of interest provides a more accurate measure of the true cost or return on an investment or loan compared to the nominal rate, especially when interest is compounded more frequently than annually.\n",
    "```"
   ]
  },
  {
   "cell_type": "markdown",
   "id": "cc02a98e-3823-422b-a01c-e499c95ebadb",
   "metadata": {
    "editable": true,
    "slideshow": {
     "slide_type": ""
    },
    "tags": []
   },
   "source": [
    "\n",
    "\n",
    "```{admonition}  **Example 3.11**\n",
    "At a rate of 12% p.a. effective, draw a timeline to show cashflows if\n",
    "฿100 is invested at the start of the year.\n",
    "```\n",
    "\n",
    "\n",
    "```{admonition}  **Solution to Example 3.11**\n",
    ":class: important\n",
    "\n",
    "<details>\n",
    "  <summary>Click to toggle answer</summary>\n",
    "\n",
    "The accumulated value of ฿100 at the end of the year is\n",
    "$100 (1 + 12\\%) = 112$.\n",
    "</details>\n",
    "```"
   ]
  },
  {
   "cell_type": "code",
   "execution_count": 1,
   "id": "f14d5eab-5dfa-4370-bda5-4bf27dd5ecb3",
   "metadata": {
    "editable": true,
    "scrolled": true,
    "slideshow": {
     "slide_type": ""
    },
    "tags": [
     "hide-input"
    ]
   },
   "outputs": [
    {
     "data": {
      "image/png": "[encoded data removed]",
      "text/plain": [
       "<Figure size 800x150 with 1 Axes>"
      ]
     },
     "metadata": {},
     "output_type": "display_data"
    }
   ],
   "source": [
    "import numpy as np\n",
    "import matplotlib.pyplot as plt\n",
    "%matplotlib inline\n",
    "\n",
    "# Parameters\n",
    "investment = 100\n",
    "interest_rate = 0.12\n",
    "years = 1\n",
    "\n",
    "# Compute future value\n",
    "future_value = investment * (1 + interest_rate)\n",
    "\n",
    "# Plotting\n",
    "plt.figure(figsize=(8, 1.5))  # Adjusted height to 2 cm\n",
    "plt.plot([0], [investment], marker='o', linestyle='', color='b')  # Adjusted x and y data\n",
    "plt.arrow(0, investment, 0, -investment * 0.9, head_width=0.02, head_length=investment * 0.1, fc='blue', ec='blue')\n",
    "plt.text(0, investment + 5, f'+{investment}', verticalalignment='bottom', horizontalalignment='center')  # Adjusted y-coordinate\n",
    "plt.xlabel('Years')\n",
    "plt.ylabel('Cash Flow ($)')\n",
    "plt.title('Timeline of Example 3.11', y=1.3)  # Adding small space above the figure\n",
    "plt.xticks(np.arange(0, years + 1, 1))  # Adjusted x ticks\n",
    "plt.grid(False)\n",
    "plt.gca().spines['top'].set_visible(False)\n",
    "plt.gca().spines['right'].set_visible(False)\n",
    "plt.gca().spines['left'].set_visible(False)\n",
    "plt.gca().get_yaxis().set_visible(False)\n",
    "plt.text(0.5, investment + 5, 'i = 0.12 per year', verticalalignment='bottom', horizontalalignment='center')  # Text at x=0.5\n",
    "plt.text(1, investment + 5, f'$FV = {future_value:.2f}$', verticalalignment='bottom', horizontalalignment='left')  # Adjusted x-coordinate\n",
    "plt.show()\n"
   ]
  },
  {
   "cell_type": "markdown",
   "id": "290c89bf-7a4f-4e1a-81d9-ddf53c0ecf42",
   "metadata": {
    "editable": true,
    "slideshow": {
     "slide_type": ""
    },
    "tags": []
   },
   "source": [
    "\n",
    "```{admonition}  **Example 3.12**\n",
    "At a rate of 12% p.a. compounding quarterly, draw a time line to show\n",
    "cashflows if ฿100 is invested at the start of the year.\n",
    "```\n",
    "\n",
    "```{admonition}  **Solution to Example 3.12**\n",
    ":class: important\n",
    "\n",
    "<details>\n",
    "  <summary>Click to toggle answer</summary>\n",
    "\n",
    "The nominal interest rate $i^{(4)} = 12\\%$ is equivalent\n",
    "to an effective interest rate of $3\\%$ per quarter. The accumulated\n",
    "value in 1 year is $100 (1 + 3\\%)^4 = 112.55$. After compound interest\n",
    "is taken into account, the interest income of an investor at the\n",
    "quarterly convertible nominal interest rate of 10% p.a. is 12.55 (or\n",
    "12.55%. p.a. effective)\n",
    "</details>\n",
    "```\n",
    "\n",
    "```{tip}\n",
    "**Note** $i^{(m)}$ is a nominal rate of interest which is equivalent to $i^{(m)}/m$ applied for\n",
    "each $m$th of a period. The interest is paid $m$ times per measurement period.\n",
    "```\n"
   ]
  },
  {
   "cell_type": "code",
   "execution_count": 2,
   "id": "549e1084-37ec-4afc-afa2-51222d5b1488",
   "metadata": {
    "editable": true,
    "scrolled": true,
    "slideshow": {
     "slide_type": ""
    },
    "tags": [
     "hide-input"
    ]
   },
   "outputs": [
    {
     "data": {
      "image/png": "[encoded data removed]",
      "text/plain": [
       "<Figure size 800x150 with 1 Axes>"
      ]
     },
     "metadata": {},
     "output_type": "display_data"
    }
   ],
   "source": [
    "import numpy as np\n",
    "import matplotlib.pyplot as plt\n",
    "%matplotlib inline\n",
    "\n",
    "# Parameters\n",
    "investment = 100\n",
    "interest_rate_annual = 0.12\n",
    "compounding_periods_per_year = 4\n",
    "years = 1\n",
    "\n",
    "# Compute future value\n",
    "interest_rate_quarterly = interest_rate_annual / compounding_periods_per_year\n",
    "future_value = investment * (1 + interest_rate_quarterly)**(compounding_periods_per_year * years)\n",
    "\n",
    "# Plotting\n",
    "plt.figure(figsize=(8, 1.5))  # Adjusted height to 2 cm\n",
    "plt.plot([0], [investment], marker='o', linestyle='', color='b')  # Adjusted x and y data\n",
    "\n",
    "# Adding the arrow\n",
    "\n",
    "\n",
    "plt.arrow(0, investment, 0, -investment * 0.9, head_width=0.02, head_length=investment * 0.1, fc='blue', ec='blue')\n",
    "\n",
    "plt.text(0, investment + 5, f'+{investment}', verticalalignment='bottom', horizontalalignment='center')  # Adjusted y-coordinate\n",
    "plt.xlabel('Years')\n",
    "plt.ylabel('Cash Flow ($)')\n",
    "plt.title('Timeline of Example 3.12', y=1.3)  # Adding small space above the figure\n",
    "plt.xticks(np.arange(0, years + 1/4, 1/4))  # Adjusted x ticks\n",
    "plt.grid(False)\n",
    "plt.gca().spines['top'].set_visible(False)\n",
    "plt.gca().spines['right'].set_visible(False)\n",
    "plt.gca().spines['left'].set_visible(False)\n",
    "plt.gca().get_yaxis().set_visible(False)\n",
    "plt.text(0.5, investment + 5, 'i = 0.03 per quarter', verticalalignment='bottom', horizontalalignment='center')  # Text at x=0.5\n",
    "plt.text(1, investment + 5, f'$FV = {future_value:.2f}$', verticalalignment='bottom', horizontalalignment='left')  # Adjusted x-coordinate\n",
    "plt.show()\n"
   ]
  },
  {
   "cell_type": "markdown",
   "id": "1acc9064-1831-4f3f-a53e-cdf2e3605eff",
   "metadata": {},
   "source": [
    "#### <span style=\"color: dimgray;\">**Relationship between the nominal rate and the effective rate**</span>\n",
    "\n",
    "The relationship between the nominal rate and the effective rate is influenced by the frequency of compounding. The effective rate takes into account how often the interest is compounded within a given period, whereas the nominal rate does not consider compounding.\n",
    "\n",
    "```{tip}\n",
    "The following formula can be used to convert between the effective rate\n",
    "$i$ p.a. and the nominal rate $i^{(m)}$ p.a.:\n",
    "\n",
    "$$( 1 + i) = \\left( 1 + \\frac{i^{(m)}}{m}\\right)^m.$$\n",
    "```"
   ]
  },
  {
   "cell_type": "markdown",
   "id": "ef548408-56c5-4632-a00c-2f0aab08c2ae",
   "metadata": {
    "editable": true,
    "slideshow": {
     "slide_type": ""
    },
    "tags": []
   },
   "source": [
    "```{admonition}  **Example 3.13**\n",
    "Consider the following problems.\n",
    "\n",
    "1.  Express a nominal annual interest rate of 9% convertible half-yearly as a monthly effective interest.\n",
    "\n",
    "2.  Express a two-monthly effective interest of 3% as a nominal annual interest rate convertible two-monthly.\n",
    "```\n",
    "\n",
    "```{admonition}  **Solution to Example 3.13**\n",
    ":class: important\n",
    "\n",
    "<details>\n",
    "  <summary>Click to toggle answer</summary>\n",
    "\n",
    "\n",
    "1.  The effective rate $i$% p.a. is\n",
    "\n",
    "$$i = ( 1 + \\frac{0.09}{2})^2 - 1.$$\n",
    "\n",
    "Hence the monthly effective rate is\n",
    "\n",
    "$$j = (1 + i)^{1/12} - 1 = ( 1 + \\frac{0.09}{2})^{2/12} - 1 = 0.007363.$$\n",
    "\n",
    "2.  A nominal annual interest rate convertible two-monthly is\n",
    "\n",
    "$$6 \\cdot 3\\% = 18\\%.$$\n",
    "\n",
    "</details>\n",
    "```\n",
    "\n",
    "```{admonition}  **Example 3.14**\n",
    "\n",
    "Express each of the following effective rates per annum as a nominal\n",
    "rate, and vice versa.\n",
    "\n",
    "| ***Effective Rate*** | ***Nominal Rate***    |\n",
    "|:---------------------|:----------------------|\n",
    "| $i$ = 0.04           | $i^{(4)} = 0.039412$  |\n",
    "| $i$ = 0.10           | $i^{(12)} = 0.095690$ |\n",
    "| $i$ = 0.06152        | $i^{(2)} = 0.06$      |\n",
    "| $i$ = 0.126825       | $i^{(12)} = 0.12$     |\n",
    "```"
   ]
  },
  {
   "cell_type": "markdown",
   "id": "6c99e5c7-a8e4-4ac4-a986-cd7ded664ee2",
   "metadata": {
    "editable": true,
    "slideshow": {
     "slide_type": ""
    },
    "tags": []
   },
   "source": [
    "#### <span style=\"color: dimgray;\">**Compounding over any number of time units**</span>\n",
    "\n",
    "Suppose an amount ฿1 is invested at the rate of $i$% per time unit. At\n",
    "time $t$ the accumulation is $(1 + i)^t$.\n",
    "\n",
    "\n",
    "```{admonition}  **Example 3.15**\n",
    "\n",
    "1.  An investor invests ฿4000 at $8.5$% per quarter effective. What\n",
    "    will be the deposit have accumulated to after 1 month.\n",
    "\n",
    "2.  An investor invests ฿800 at $6$% per half-year effective. What\n",
    "    will be the deposit have accumulated to after 2.6 years.\n",
    "\n",
    "```\n",
    "\n",
    "```{admonition}  **Solution to Example 3.15**\n",
    ":class: important\n",
    "\n",
    "<details>\n",
    "  <summary>Click to toggle answer</summary>\n",
    "\n",
    "\n",
    "1.  The accumulation after 1 month is\n",
    "    $4000 \\cdot 1.085^{1/3} = 4110.265768.$\n",
    "\n",
    "2.  The accumulation after 2.6 years is\n",
    "    $800 \\cdot 1.06^{5.2} = 1083.129754.$\n",
    "\n",
    "</details>\n",
    "```\n",
    "\n",
    "\n",
    "```{admonition}  **Example 3.16**\n",
    "(Excel)  Use Excel to create a table showing the accumulated amounts after 1 year under several different compounding frequencies (yearly, quarterly, monthly, daily) for a principal of ฿100 under with nominal rate of $r = 4\\%$ per annum.\n",
    "\n",
    "Discuss the results obtained. What happens if the compounding is made over infinitely small intervals (i.e. as $m \\rightarrow \\infty$)?\n",
    "```"
   ]
  },
  {
   "cell_type": "markdown",
   "id": "e7c40a8f-3653-4e6b-b4ad-5718f565b414",
   "metadata": {
    "editable": true,
    "slideshow": {
     "slide_type": ""
    },
    "tags": []
   },
   "source": [
    "#### <span style=\"color: dimgray;\">**Changing the time period of the effective rates of interest**</span>\n",
    "\n",
    "It is often very useful to change the effective rate of interest per\n",
    "time period to another. \n",
    "\n",
    "For example, if the effective rate of interest is defined per annum but cashflows occur monthly.\n",
    "\n",
    "Let $i$ be the effective rate of interest per $t_i$ years (which can be\n",
    "any positive number, for e.g. $t_i = 1/2$). Here $t_i$ years can be\n",
    "regarded as one time unit. Let $j$ be the effective rate of interest per\n",
    "$t_j$ years.\n",
    "\n",
    "```{admonition}  The condition under which the two effective rates of interest $i$ and $j$ are equivalent.\n",
    ":class: tip\n",
    "\n",
    "Suppose we invest 1 for one year. Then at the end of the year under each rate of interest, we will have\n",
    "\n",
    "$$(1+i)^{1/t_i} \\text{ and } (1+j)^{1/t_j}.$$\n",
    "Two rates of interest are\n",
    "equivalent if the given amount of principal invested for the same length\n",
    "of time produces the same accumulated value, i.e.\n",
    "\n",
    "$$(1+i)^{1/t_i} = (1+j)^{1/t_j}.$$\n",
    "\n",
    "Solving the equation for $j$ yields\n",
    "\n",
    "$$j = (1+i)^{t_j/t_i} - 1.$$\n",
    "```\n",
    "\n",
    "\n",
    "\n",
    "\n",
    "```{admonition}  **Example 3.17**\n",
    "\n",
    "1.  If the effective rate of interest is 6% per annum, what is the\n",
    "    effective rate of interest per half-year?\n",
    "\n",
    "2.  If the effective rate of interest is 12% per two-years effective,\n",
    "    what is the effective rate of interest per quarter-year?\n",
    "\n",
    "3.  If the effective rate of interest is 2% per month effective, what\n",
    "    is the effective rate of interest per 1.5-years?\n",
    "\n",
    "\n",
    "```\n",
    "\n",
    "```{admonition}  **Solution to Example 3.17**\n",
    ":class: important\n",
    "\n",
    "<details>\n",
    "  <summary>Click to toggle answer</summary>\n",
    "\n",
    "\n",
    "1.  $i = 6\\%$ p.a. Then\n",
    "\n",
    "$$j = (1.06)^{1/2} -1 = 0.029563 \\text{ per half-year}.$$\n",
    "\n",
    "2.  $i = 12\\%$ per two-years. Then\n",
    "\n",
    "$$j = (1.12)^{1/(2\\times4)} -1 = 0.0142669 \\text{ per quarter-year}.$$\n",
    "\n",
    "3.  $i = 2\\%$ per month. Then\n",
    "\n",
    "$$j = (1.02)^{1.5/(1/12)} -1 = 0.428246 \\text{ per 1.5-years}.$$\n",
    "\n",
    "</details>\n",
    "```\n",
    "\n",
    "\n"
   ]
  },
  {
   "cell_type": "markdown",
   "id": "232d62d4-b0b4-48e4-bd2d-d5b4f88067ba",
   "metadata": {},
   "source": [
    "#### <span style=\"color: dimgray;\">**Non-constant interest rates**</span>\n",
    "\n",
    "\n",
    "The effective rate may not be the same during every time period. We\n",
    "shall assume that the rates in every future time periods are known in\n",
    "advance.\n",
    "\n",
    "\n",
    "\n",
    "\n",
    "```{admonition}  **Example 3.18**\n",
    "\n",
    "The effective rate of interest per annum was 4% during 2015, 4.5%\n",
    "during 2016 and 5% during 2017. Calculate the accumulation of ฿200\n",
    "invested on\n",
    "\n",
    "1.  01/01/2015 for 3 years\n",
    "\n",
    "2.  01/07/2015 for 2 years\n",
    "\n",
    "3.  01/04/2016 for 1.5 years\n",
    "\n",
    "```\n",
    "\n",
    "```{admonition}  **Solution to Example 3.18**\n",
    ":class: important\n",
    "\n",
    "<details>\n",
    "  <summary>Click to toggle answer</summary>\n",
    "\n",
    "\n",
    "1.  Accumulating the ฿200 for the first year at the rate of 4% p.a. gives\n",
    "\n",
    "$$200 \\cdot 1.04.$$\n",
    "\n",
    "The accumulated value was then invested at the rate of 4.5% p.a. for another year, and its value at after 2 years was $$200 \\cdot 1.04 \\cdot 1.045.$$ At the rate of 5% in the final year, the value after 3 years was\n",
    "\n",
    "$$200 \\cdot 1.04 \\cdot 1.045 \\cdot 1.05 = 228.228.$$\n",
    "\n",
    "2.  The accumulation is\n",
    "\n",
    "    $$200 \\cdot 1.04^{1/2} \\cdot 1.045 \\cdot 1.05^{1/2} = 218.4025.$$\n",
    "\n",
    "3.  The accumulation is\n",
    "\n",
    "    $$200 \\cdot 1.045^{9/12} \\cdot 1.05^{3/4} = 214.416986.$$\n",
    "\n",
    "</details>\n",
    "```"
   ]
  },
  {
   "cell_type": "markdown",
   "id": "7dc607dd-1cee-4de5-9de1-9cdb12568d3a",
   "metadata": {},
   "source": [
    "#### <span style=\"color: dimgray;\">**Present Value and Future Value**</span>\n",
    "\n",
    "```{admonition}  **Definition of Present Value and Future Value**\n",
    ":class: tip\n",
    "\n",
    "**Present Value (PV)** is the current worth of a future sum of money, discounted at the effective rate of interest. It represents the amount required to invest today to accumulate to a desired future value.\n",
    "\n",
    "**Future Value (FV)**  is the value of an investment or asset at a specified future date, compounded at the effective rate of interest. It represents the accumulation of the initial investment or principal, along with any interest or returns earned over time.\n",
    "```"
   ]
  },
  {
   "cell_type": "markdown",
   "id": "c1e971a6-82aa-4f7b-bd5c-30d09ca89711",
   "metadata": {},
   "source": [
    "##### <span style=\"color: dimgray;\">**Why calculate Present Value (PV)?**</span>\n",
    "\n",
    "- PV is calculated to evaluate the attractiveness of an investment or a financial decision by comparing the present value of expected future cash flows to the initial investment or cost.\n",
    "- It helps in assessing the feasibility of projects or investments by considering the time value of money.\n",
    "- PV assists in determining the fair price of financial assets, such as bonds or stocks, by discounting their future cash flows to their present value.\n",
    "\n",
    "##### <span style=\"color: dimgray;\">**Why calculate Future Value (FV)?**</span>\n",
    "\n",
    "- FV helps individuals and businesses estimate the growth potential of investments over time.\n",
    "- It assists in setting financial goals and planning for long-term objectives, such as retirement savings or education funds.\n",
    "- FV enables investors to compare different investment options by projecting their potential future returns."
   ]
  },
  {
   "cell_type": "markdown",
   "id": "725b2b03-3c6c-413b-86e2-9f4b50661a06",
   "metadata": {},
   "source": [
    "```{admonition}  **Example 3.19: Present Value Example**\n",
    "\n",
    "Suppose you want to accumulate $1,000 in 5 years, and you have the option to invest today in a savings account that offers an effective annual interest rate of 5%. You want to calculate the present value, which represents the amount you need to invest today to achieve the desired future value.\n",
    "\n",
    "Using the present value formula:\n",
    "\n",
    "$$PV = \\frac{FV}{(1 + r)^n}$$\n",
    "\n",
    "Where:\n",
    "- $PV$ = Present Value\n",
    "- $FV$ = Future Value ($1,000 in this case)\n",
    "- $r$ = Effective rate of interest per period (5% in this case)\n",
    "- $n$ = Number of periods (5 years in this case)\n",
    "\n",
    "Substituting the values:\n",
    "\n",
    "$$PV = \\frac{1,000}{(1 + 0.05)^5}$$\n",
    "$$PV ≈ \\frac{1,000}{1.27628} ≈ 783.53$$ (rounded to two decimal places)\n",
    "\n",
    "**Interpretation**:\n",
    "The present value of investing approximately \\$783.53 today, with an effective annual interest rate of 5% compounded annually, is required to accumulate to \\$1,000 in 5 years.\n",
    "\n",
    "```"
   ]
  },
  {
   "cell_type": "markdown",
   "id": "d1149f80-5f09-40eb-a2bf-3b2ad8c79192",
   "metadata": {},
   "source": [
    "```{admonition}  **Example 3.20: Future Value Example**\n",
    "\n",
    "\n",
    "Suppose you invest \\$500 in a savings account that offers an effective annual interest rate of 8%, compounded annually. You want to calculate the future value of this investment after 3 years.\n",
    "\n",
    "Using the future value formula:\n",
    "\n",
    "$$FV = PV \\times (1 + r)^n$$\n",
    "\n",
    "Where:\n",
    "- $FV$ = Future Value\n",
    "- $PV$ = Present Value ($500 in this case)\n",
    "- $r$ = Effective rate of interest per period (8% in this case)\n",
    "- $n$ = Number of periods (3 years in this case)\n",
    "\n",
    "Substituting the values:\n",
    "\n",
    "$$FV = 500 \\times (1 + 0.08)^3$$\n",
    "$$FV ≈ 500 \\times 1.259712 ≈ 629.86$$\n",
    "\n",
    "(rounded to two decimal places)\n",
    "\n",
    "**Interpretation**:\n",
    "The future value of investing \\$500 today, with an effective annual interest rate of 8% compounded annually, will be approximately \\$629.86 after 3 years.\n",
    "```"
   ]
  }
 ],
 "metadata": {
  "kernelspec": {
   "display_name": "Python 3 (ipykernel)",
   "language": "python",
   "name": "python3"
  },
  "language_info": {
   "codemirror_mode": {
    "name": "ipython",
    "version": 3
   },
   "file_extension": ".py",
   "mimetype": "text/x-python",
   "name": "python",
   "nbconvert_exporter": "python",
   "pygments_lexer": "ipython3",
   "version": "3.10.9"
  }
 },
 "nbformat": 4,
 "nbformat_minor": 5
}