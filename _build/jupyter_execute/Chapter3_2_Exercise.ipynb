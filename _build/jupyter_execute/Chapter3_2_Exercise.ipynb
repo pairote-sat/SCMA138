{
 "cells": [
  {
   "cell_type": "markdown",
   "id": "68cce759-14ed-4b7b-b8e9-a540becc848d",
   "metadata": {},
   "source": [
    "# Exercises for Chapter 3.2"
   ]
  },
  {
   "cell_type": "markdown",
   "id": "e7010d1e-d5ab-45d2-8340-c2539b32f5c6",
   "metadata": {},
   "source": [
    "```{admonition}  **Exercise 3.7**\n",
    ":class: tip\n",
    "\n",
    "Compare and contrast stochastic and deterministic models in the context of financial mathematics. Provide an example of each type of model and explain how it is used to analyze or solve financial problems.\n",
    "\n",
    "```"
   ]
  },
  {
   "cell_type": "markdown",
   "id": "855b6a85-e7c4-4897-8ecb-393fc2bacd1c",
   "metadata": {},
   "source": [
    "```{admonition}  **Exercise 3.8**\n",
    ":class: tip\n",
    "\n",
    "Provide three examples of cashflows for each type based on their contingency: certain cashflows and uncertain cashflows. Explain why each example falls into its respective category and discuss the factors that influence their predictability or uncertainty.\n",
    "```"
   ]
  },
  {
   "cell_type": "markdown",
   "id": "e70f57d8-2c0c-49de-896b-9e969e558b8e",
   "metadata": {},
   "source": [
    "```{admonition}  **Exercise 3.9**\n",
    ":class: tip\n",
    "\n",
    "What tools are required to analyze each type of cashflow based on its contingency? Discuss the specific analytical methods or techniques used for certain cashflows and uncertain cashflows, highlighting how these tools help in understanding and managing the associated risks or uncertainties.\n",
    "```"
   ]
  }
 ],
 "metadata": {
  "kernelspec": {
   "display_name": "Python 3 (ipykernel)",
   "language": "python",
   "name": "python3"
  },
  "language_info": {
   "codemirror_mode": {
    "name": "ipython",
    "version": 3
   },
   "file_extension": ".py",
   "mimetype": "text/x-python",
   "name": "python",
   "nbconvert_exporter": "python",
   "pygments_lexer": "ipython3",
   "version": "3.10.9"
  }
 },
 "nbformat": 4,
 "nbformat_minor": 5
}