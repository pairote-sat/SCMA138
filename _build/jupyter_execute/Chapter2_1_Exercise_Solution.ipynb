{
 "cells": [
  {
   "cell_type": "markdown",
   "id": "16ef4dbd-34b3-4e2b-a24e-3e1584f6a148",
   "metadata": {},
   "source": [
    "# Solutions to Exercises for Chapter 2.1"
   ]
  },
  {
   "cell_type": "markdown",
   "id": "7bc169d5-92e1-48e1-abdc-28b8cf5be21d",
   "metadata": {},
   "source": [
    "```{admonition}  **Exercise 2.1**\n",
    ":class: tip\n",
    "\n",
    "Define the terms population, sample, variable, data value, data, experiment, parameter, and statistic.\n",
    "```"
   ]
  },
  {
   "cell_type": "markdown",
   "id": "2fd21bbf-8aff-481b-8567-a667aa4eb2a7",
   "metadata": {},
   "source": [
    "```{admonition}  **Solution to Exercise 2.1**\n",
    ":class: important\n",
    "\n",
    "<details>\n",
    "  <summary>Click to toggle answer</summary>\n",
    "  \n",
    "- **Population**: The entire group of individuals or items that we are interested in studying and from which we collect data.\n",
    "\n",
    "- **Sample**: A subset of the population selected for study. It's chosen to represent the population and make generalizations about it.\n",
    "\n",
    "- **Variable**: A characteristic or attribute that can take on different values. It's what we measure or observe in a study.\n",
    "\n",
    "- **Data Value**: The specific value or observation that a variable can take.\n",
    "\n",
    "- **Data**: The information collected through observation, experimentation, or survey. It can be in the form of numbers, words, or images.\n",
    "\n",
    "- **Experiment**: A study in which researchers manipulate one or more variables to observe the effect on another variable.\n",
    "\n",
    "- **Parameter**: A characteristic of a population, typically unknown, which is usually inferred from statistics computed from a sample.\n",
    "\n",
    "- **Statistic**: A characteristic of a sample, typically known, which is used to estimate parameters or make inferences about the population.\n",
    "\n",
    "\n",
    "</details>\n",
    "```"
   ]
  },
  {
   "cell_type": "markdown",
   "id": "5bea9bdb-738a-4482-8d72-1312d5266e3e",
   "metadata": {},
   "source": [
    "```{admonition}  **Exercise 2.2**\n",
    ":class: tip\n",
    "\n",
    "Can you provide an example from the field of actuarial science or business where you can identify the population, sample, variable, data value, data, experiment, parameter, and statistic to demonstrate a clear understanding of these key components in a practical context?\n",
    "```"
   ]
  },
  {
   "cell_type": "markdown",
   "id": "bd21f0ef-b094-49b1-840b-9d1731d542d8",
   "metadata": {},
   "source": [
    "```{admonition}  **Solution to Exercise 2.2**\n",
    ":class: important\n",
    "\n",
    "<details>\n",
    "  <summary>Click to toggle answer</summary>\n",
    "  \n",
    "This example illustrates how these components are applied in the field of actuarial science or business, specifically within the context of analyzing claims data from a car insurance portfolio.\n",
    "\n",
    "- **Population**: The entire set of insurance claims made by policyholders within a specific car insurance portfolio over a defined period.\n",
    "\n",
    "- **Sample**: A subset of the population, perhaps randomly selected, consisting of, say, 1000 insurance claims made within the last year.\n",
    "\n",
    "- **Variable**: The various factors or characteristics associated with each insurance claim, such as the age of the driver, type of car, location of the accident, amount of damage, and cost of the claim.\n",
    "\n",
    "- **Data Value**: Specific values associated with each variable in a particular insurance claim. For instance, the age of the driver could be 35 years old, the type of car could be a sedan, the location of the accident could be a city intersection, etc.\n",
    "\n",
    "- **Data**: The collection of all the information recorded for each insurance claim, including the variables mentioned above. This data could be stored in a database or spreadsheet.\n",
    "\n",
    "- **Experiment**: In the context of insurance, an experiment could involve testing the effectiveness of a new claims processing system. For example, implementing a new automated claims processing software and comparing the processing time and accuracy of claims before and after its implementation.\n",
    "\n",
    "- **Parameter**: A characteristic of the entire population of insurance claims, such as the average cost per claim, the median age of drivers involved in accidents, or the percentage of claims related to accidents in urban areas.\n",
    "\n",
    "- **Statistic**: A characteristic of the sample of insurance claims, such as the average cost per claim for the selected subset, the median age of drivers in the sample, or the proportion of claims related to accidents in urban areas within the sample.\n",
    "\n",
    "</details>\n",
    "```"
   ]
  },
  {
   "cell_type": "markdown",
   "id": "289c7922-2df3-4618-bf10-512baec9a9e4",
   "metadata": {},
   "source": [
    "```{admonition} **Exercise 2.3** Adecco’s Salary Guide 2023\n",
    ":class: tip\n",
    "\n",
    "The Adecco Group Thailand, a world-leading HR solutvions agency, has revealed its Salary Guide 2023 which showcases the information of minimum and maximum salaries.\n",
    "\n",
    "![Alt Text](_build/images/AdeccoSalaryGuide2023.png)\n",
    "\n",
    "\n",
    "\n",
    "Image from: https://www.nationthailand.com/business/corporate/40024522\n",
    "\n",
    "1. What is the population?\n",
    "\n",
    "2. Describe the sample used for this report.\n",
    "\n",
    "3. Identify the variables used to collect this information.\n",
    "```"
   ]
  },
  {
   "cell_type": "markdown",
   "id": "4c0cb220-dd6a-4a59-a551-6e1e576da4bf",
   "metadata": {},
   "source": [
    "```{admonition}  **Solution to Exercise 2.3**\n",
    ":class: important\n",
    "\n",
    "<details>\n",
    "  <summary>Click to toggle answer</summary>\n",
    "  \n",
    "The following breakdown helps understand how the information in the Salary Guide 2023 from The Adecco Group Thailand is structured and what it aims to represent.\n",
    "\n",
    "1. **Population**: The population in this context would likely be all office workers in Thailand across various industries and levels of experience.\n",
    "\n",
    "2. **Sample**: The sample used for the report is likely a subset of the office workers in Thailand. It may include data from a variety of industries and experience levels but might not cover the entire population comprehensively. The sample could be based on data collected from Adecco Group's client companies or a survey conducted among a specific group of office workers.\n",
    "\n",
    "3. **Variables**: The variables used to collect the information would include:\n",
    "   - Industry: This variable categorizes the office workers based on the industry they work in, such as IT, finance, healthcare, etc.\n",
    "   - Years of work experience: This variable categorizes the office workers based on their level of experience, such as junior, middle, or senior.\n",
    "   - Minimum salary: The minimum salary offered to office workers within each industry and experience level category.\n",
    "   - Maximum salary: The maximum salary offered to office workers within each industry and experience level category.\n",
    "\n",
    "</details>\n",
    "\n",
    "```"
   ]
  },
  {
   "cell_type": "markdown",
   "id": "cca0baba-74db-4df8-96b7-6a55ebdcf8c7",
   "metadata": {},
   "source": [
    "```{admonition}  **Example 2.4** mtcars dataset\n",
    ":class: tip\n",
    "\n",
    "\n",
    "In this exercise, we use the \"mtcars\" dataset, which is included in the base R package. It contains information about various car models, including attributes such as miles per gallon (mpg), number of cylinders, and horsepower. \n",
    "\n",
    "You can stratify the sampling based on the number of cylinders in this dataset.\n",
    "\n",
    "**Tasks:**\n",
    "\n",
    "1. **Explore Cylinder Subgroups in mtcars Dataset**\n",
    "   - Analyze mtcars to understand vehicle characteristics based on cylinder count.\n",
    "\n",
    "2. **Introduce \"CylinderGroup\" Variable**\n",
    "   - Use 'cut' to create \"CylinderGroup\" for 3-4, 5-6, and 7-8 cylinders.\n",
    "\n",
    "3. **Facilitate Subgroup Analysis**\n",
    "   - Utilize \"CylinderGroup\" for efficient subgroup analysis.\n",
    "\n",
    "4. **Implement Stratified Sampling**\n",
    "   - Ensure sampling reflects cylinder group proportions.\n",
    "\n",
    "5. **Enhance Analytical Approach**\n",
    "   - Extract insights from unique characteristics within each cylinder subgroup.\n",
    "\n",
    "\n",
    "```"
   ]
  },
  {
   "cell_type": "markdown",
   "id": "54ff4dc4-d939-4d1a-963b-ef2aed10b907",
   "metadata": {},
   "source": [
    "```{tip}\n",
    "Here's a template for using the cut function to create subgroups in R: \n",
    "\n",
    "```{code}\n",
    "# Create a categorical variable for stratification\n",
    "your_dataframe <- your_dataframe %>%\n",
    "  mutate(NewVariable = cut(as.numeric(your_variable), breaks = c(break_points), labels = c(\"Label1\", \"Label2\", \"Label3\")))\n",
    "```\n",
    "\n",
    "Replace the following placeholders:\n",
    "\n",
    "* `your_dataframe`: Replace with the name of your data frame.\n",
    "* `your_variable`: Replace with the variable you want to categorize.\n",
    "* `NewVariable`: Replace with the desired name for your new categorical variable.\n",
    "* `break_points`: Replace with the specific break points you want to use for subgrouping.\n",
    "* `\"Label1\", \"Label2\", \"Label3\"`: Replace with the labels you want for each subgroup.\n",
    "\n",
    "For example, using the mtcars dataset:\n",
    "\n",
    "```{code}\n",
    "# Create a categorical variable for stratification\n",
    "mtcars <- mtcars %>%\n",
    "  mutate(CylinderGroup = cut(as.numeric(cyl), breaks = c(3, 4, 6, 8), labels = c(\"Low\", \"Medium\", \"High\")))\n",
    "```"
   ]
  },
  {
   "cell_type": "markdown",
   "id": "841e717c-4927-4834-935d-365284f0da20",
   "metadata": {},
   "source": [
    "```{admonition}  **Solution to Example 2.4** mtcars dataset\n",
    ":class: important\n",
    "\n",
    "<details>\n",
    "  <summary>Click to toggle answer</summary>\n",
    "  \n",
    "**Interpreting the outcome of stratifying the sampling based on the number of cylinders in the mtcars dataset using the R code below:**\n",
    "\n",
    "1. **Population Proportions**:\n",
    "   - *Low CylinderGroup*: Represents 34.4% of the population.\n",
    "   - *Medium CylinderGroup*: Represents 21.9% of the population.\n",
    "   - *High CylinderGroup*: Represents 43.8% of the population.\n",
    "\n",
    "2. **Stratified Sample Proportions**:\n",
    "   - After stratifying the sample based on the number of cylinders:\n",
    "     - *Low CylinderGroup*: Represents 35.3% of the sample.\n",
    "     - *Medium CylinderGroup*: Represents 23.5% of the sample.\n",
    "     - *High CylinderGroup*: Represents 41.2% of the sample.\n",
    "\n",
    "**Interpretation:**\n",
    "- The proportion of cars with low cylinder counts in the sample slightly increased compared to the population proportion.\n",
    "- The proportion of cars with medium cylinder counts in the sample remained relatively close to the population proportion.\n",
    "- The proportion of cars with high cylinder counts in the sample slightly decreased compared to the population proportion.\n",
    "\n",
    "This suggests that the stratified sampling method has maintained the proportional representation of each CylinderGroup reasonably well in the sample compared to the overall population.\n",
    "\n",
    "</details>\n",
    "```"
   ]
  },
  {
   "cell_type": "code",
   "execution_count": 1,
   "id": "f3eb7312-f8cb-4d56-81a3-940a243c9b0c",
   "metadata": {},
   "outputs": [
    {
     "name": "stdout",
     "output_type": "stream",
     "text": [
      "[1] \"Proportions in the Original Dataset:\"\n"
     ]
    },
    {
     "name": "stdout",
     "output_type": "stream",
     "text": [
      "\u001b[90m# A tibble: 3 × 2\u001b[39m\n",
      "  CylinderGroup Proportion\n",
      "  \u001b[3m\u001b[90m<fct>\u001b[39m\u001b[23m              \u001b[3m\u001b[90m<dbl>\u001b[39m\u001b[23m\n",
      "\u001b[90m1\u001b[39m Low                0.344\n",
      "\u001b[90m2\u001b[39m Medium             0.219\n",
      "\u001b[90m3\u001b[39m High               0.438\n"
     ]
    },
    {
     "name": "stdout",
     "output_type": "stream",
     "text": [
      "[1] \"Proportions in the Stratified Sample:\"\n"
     ]
    },
    {
     "name": "stdout",
     "output_type": "stream",
     "text": [
      "\u001b[90m# A tibble: 3 × 2\u001b[39m\n",
      "  CylinderGroup Proportion\n",
      "  \u001b[3m\u001b[90m<fct>\u001b[39m\u001b[23m              \u001b[3m\u001b[90m<dbl>\u001b[39m\u001b[23m\n",
      "\u001b[90m1\u001b[39m Low                0.353\n",
      "\u001b[90m2\u001b[39m Medium             0.235\n",
      "\u001b[90m3\u001b[39m High               0.412\n"
     ]
    }
   ],
   "source": [
    "suppressMessages(library(dplyr))\n",
    "\n",
    "# Set seed for reproducibility\n",
    "set.seed(123)\n",
    "\n",
    "# Load the mtcars dataset\n",
    "data(mtcars)\n",
    "\n",
    "# Create a categorical variable for stratification\n",
    "mtcars <- mtcars %>%\n",
    "  mutate(CylinderGroup = cut(as.numeric(cyl), breaks = c(3, 4, 6, 8), labels = c(\"Low\", \"Medium\", \"High\")))\n",
    "\n",
    "# Calculate the proportion of each subgroup in the original dataset\n",
    "original_proportions <- mtcars %>%\n",
    "  group_by(CylinderGroup) %>%\n",
    "  summarize(Proportion = n() / nrow(mtcars))\n",
    "\n",
    "# Proportional stratified sampling\n",
    "stratified_sample <- mtcars %>%\n",
    "  group_by(CylinderGroup) %>%\n",
    "  sample_frac(size = 0.5, replace = TRUE)\n",
    "\n",
    "# Calculate the proportion of each subgroup in the stratified sample\n",
    "sample_proportions <- stratified_sample %>%\n",
    "  group_by(CylinderGroup) %>%\n",
    "  summarize(Proportion = n() / nrow(stratified_sample))\n",
    "\n",
    "# View the proportions\n",
    "print(\"Proportions in the Original Dataset:\")\n",
    "print(original_proportions)\n",
    "\n",
    "print(\"Proportions in the Stratified Sample:\")\n",
    "print(sample_proportions)"
   ]
  },
  {
   "cell_type": "markdown",
   "id": "e169ff5e-4117-4c44-bb78-7fd88ac89101",
   "metadata": {},
   "source": [
    "```{admonition} **Exercise 2.5** freMTPL2freq dataset from CASdatasets package \n",
    ":class: tip\n",
    "\n",
    "We explore the freMTPL2freq dataset from the R package CASdatasets, which represents a French motor third-party liability (MTPL) insurance portfolio with observed claim counts in a single accounting year. Use R to delve into this dataset and provide answers to the following questions:\n",
    "\n",
    "1. How many observations are there in the dataset?\n",
    "2. What is the structure of the dataset?\n",
    "3. What is the data type of the 'IDpol' variable?\n",
    "4. How many levels does the 'IDpol' variable have?\n",
    "5. Which variables are qualitative (categorical) in nature?\n",
    "6. How many quantitative variables are there in the dataset?\n",
    "7. What are the possible levels for the 'VehGas' variable?\n",
    "8. What is the range of values for the 'VehPower' variable?\n",
    "9. Which regions are included in the dataset?\n",
    "10. What is the distribution of values in the 'Area' variable?\n",
    "```"
   ]
  },
  {
   "cell_type": "markdown",
   "id": "4badb91f-d87a-4bef-80fd-6f11fc3a3c3b",
   "metadata": {},
   "source": [
    "```{admonition} **Solution to Exercise 2.5** freMTPL2freq dataset from CASdatasets package \n",
    ":class: important\n",
    "\n",
    "<details>\n",
    "  <summary>Click to toggle answer</summary>\n",
    "  \n",
    "Please refer to the solution file in the Google Classroom at <https://classroom.google.com/c/NjUzODkxNjk4MTI1/p/NjYyNTgwMzAwNDU3/details>\n",
    "\n",
    "</details>\n",
    "```"
   ]
  },
  {
   "cell_type": "markdown",
   "id": "d67419c1-9e5d-4837-ad3b-d67f5a36ea0f",
   "metadata": {},
   "source": [
    "```{admonition} **Exercise 2.6** \n",
    ":class: tip\n",
    "\n",
    "1. How can one summarize a qualitative variable? Which chart types are suitable for graphing a qualitative variable? \n",
    "\n",
    "2. How does one summarize a quantitative variable? What chart types can be utilized for graphing a quantitative variable?\n",
    "```"
   ]
  },
  {
   "cell_type": "markdown",
   "id": "afaab300-d5a8-42a9-997b-6be6a2dad724",
   "metadata": {},
   "source": [
    "```{admonition} **Solution to Exercise 2.6** \n",
    ":class: important\n",
    "\n",
    "<details>\n",
    "  <summary>Click to toggle answer</summary>\n",
    "  \n",
    "**Summarizing a Qualitative Variable:**\n",
    "\n",
    "1. To summarize a qualitative variable, one can use frequency tables or counts to show how many times each category or value appears in the data.\n",
    "   \n",
    "2. Suitable chart types for graphing a qualitative variable include:\n",
    "   - Bar chart: Displays the frequency or proportion of each category using bars.\n",
    "   - Pie chart: Represents the proportion of each category as a slice of a pie, useful for illustrating the distribution of categorical data.\n",
    "\n",
    "**Summarizing a Quantitative Variable:**\n",
    "\n",
    "1. To summarize a quantitative variable, one can use measures of central tendency (such as mean, median, or mode) and measures of dispersion (such as range, variance, or standard deviation) to describe the center and spread of the data.\n",
    "   \n",
    "2. Chart types that can be utilized for graphing a quantitative variable include:\n",
    "   - Histogram: Displays the distribution of quantitative data by dividing it into intervals (bins) and showing the frequency or proportion of observations in each interval using bars.\n",
    "   - Box plot (Box-and-Whisker plot): Provides a visual summary of the distribution of quantitative data by displaying the minimum, first quartile, median, third quartile, and maximum values, along with any outliers.\n",
    "   - Line plot: Shows changes in quantitative data over time or another continuous variable by connecting data points with lines.\n",
    "\n",
    "</details>  \n",
    "```"
   ]
  }
 ],
 "metadata": {
  "kernelspec": {
   "display_name": "R",
   "language": "R",
   "name": "ir"
  },
  "language_info": {
   "codemirror_mode": "r",
   "file_extension": ".r",
   "mimetype": "text/x-r-source",
   "name": "R",
   "pygments_lexer": "r",
   "version": "4.2.1"
  }
 },
 "nbformat": 4,
 "nbformat_minor": 5
}