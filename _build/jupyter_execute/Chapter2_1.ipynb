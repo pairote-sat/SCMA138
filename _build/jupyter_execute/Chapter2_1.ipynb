{
 "cells": [
  {
   "cell_type": "markdown",
   "id": "d42b2370-7842-45e5-818f-51d044077a5f",
   "metadata": {},
   "source": [
    "## <span style=\"color: dimgray;\">**2.1 Data Collection and Descriptive Statistics**</span>\n"
   ]
  },
  {
   "cell_type": "markdown",
   "id": "7f23753b-1b0e-4edb-acc4-7fc0357dbe3c",
   "metadata": {},
   "source": [
    "In actuarial science,  the foundational processes of data collection and descriptive statistics play a pivotal role in understanding and quantifying risk. **Accurate and comprehensive data** serves as the foundation for reliable information for actuarial analyses,collection providing essential insights into the patterns and characteristics of events under consideration. \n",
    "\n",
    "**Descriptive statistics**, in turn, facilitate the concise summarization and interpretation of this data, serving as a crucial step in the actuarial decision-making process by enabling professionals to derive meaningful conclusions and assess potential financial implications."
   ]
  },
  {
   "cell_type": "markdown",
   "id": "819f6497-f9a1-478f-9e03-e5f6ff4ce28c",
   "metadata": {},
   "source": [
    "Basic terms in statistics are illustrated in the following example."
   ]
  },
  {
   "cell_type": "markdown",
   "id": "8c37d0d0-6fcb-47bf-95a3-289a29c03291",
   "metadata": {},
   "source": [
    "```{admonition}  **Example 2.3** \n",
    "An actuarial student is interested in exploring the average income of policyholders in an actuarial portfolio. Applying the concepts in the context of actuarial science:\n",
    "\n",
    "1. **Population:** The entire collection of incomes earned by all policyholders in the actuarial portfolio.\n",
    "2. **Sample:** A subset of the population, such as the incomes of policyholders within a specific demographic or policy category.\n",
    "3. **Variable:** The \"income\" assigned to each individual policyholder.\n",
    "4. **Data Value:** For instance, the income of a specific policyholder, like Ms. Johnson's income at \\$60,000.\n",
    "5. **Data:** The set of values corresponding to the obtained sample (e.g., \\$60,000; \\$45,000; \\$75,000; ...).\n",
    "6. **Experiment:** The methods employed to select policyholders for the sample and determine the income of each, which could involve analyzing demographic data or using actuarial models.\n",
    "7. **Parameter:** The sought-after information concerns the \"average\" income of all policyholders in the entire portfolio.\n",
    "8. **Statistic:** The determined \"average\" income of policyholders within the selected sample.\n",
    "```"
   ]
  },
  {
   "cell_type": "markdown",
   "id": "fd5b867a-9796-41be-8515-14186e6eb58c",
   "metadata": {},
   "source": [
    "### <span style=\"color: dimgray;\">**Exploring Actuarial Data Collection**</span>\n",
    "\n",
    "In the field of actuarial science, various methods are commonly employed for data collection:\n",
    "\n",
    "1. **Actuarial Interviews**\n",
    "   Individuals often provide responses when interviewed by an actuarial professional, but their answers may be influenced by the interviewer's approach, for e.g., an actuarial interview aiming to assess individuals' perception of insurance risk.\n",
    "\n",
    "2. **Phone Surveys**\n",
    "   A cost-effective method, but it is essential to keep surveys brief as respondents in actuarial contexts may have limited patience.\n",
    "\n",
    "3. **Self-Administered Actuarial Questionnaires**\n",
    "   An economical option, yet the response rate may be lower, and the participants might constitute a biased sample in actuarial analyses.\n",
    "\n",
    "4. **Direct Risk Observation**\n",
    "   For specific risk factors, an actuary may directly observe and measure quantities of interest within the sample.\n",
    "\n",
    "5. **Web-Based Risk Surveys**\n",
    "   This method is limited to the population using the web, catering to a specific subset of individuals in actuarial investigations."
   ]
  },
  {
   "cell_type": "markdown",
   "id": "22e6f819-00bb-4ce3-afab-4ce3c5baa862",
   "metadata": {},
   "source": [
    "```{tip} \n",
    "it is imperative to employ sampling methods for data collection that ensure the obtained data accurately represents the population and is free from **bias**.\n",
    "```"
   ]
  },
  {
   "cell_type": "markdown",
   "id": "163de37d-c3fa-4add-ae9c-1b7774c8adbd",
   "metadata": {},
   "source": [
    "### <span style=\"color: dimgray;\">**Strategies for Collecting Data**</span>\n",
    "\n",
    "Data collection is a crucial step in the research process, and the selection of observations or measurements for a study depends on the research question and the goals of the study. There are two broad categories of methods for collecting data: **non-probability methods** and **probability methods**.\n",
    "\n",
    "#### <span style=\"color: dimgray;\">**Non-Probability Methods**</span>\n",
    "\n",
    "1. **Convenience or Haphazard Sampling:**\n",
    "In convenience or haphazard sampling, units are chosen without a planned method, assuming population homogeneity. For instance, a vox pop survey randomly selects individuals passing by, introducing **biases** based on the interviewer's decisions and the characteristics of those present during sampling.\n",
    "\n",
    "\n",
    "```{figure} _build/images/convenience-sampling.png\n",
    ":name: figure-Convenience-Sampling\n",
    "\n",
    "Convenience Sampling\n",
    "\n",
    "Image from https://lc.gcumedia.com/hlt362v/the-visual-learner/images/convenience-sampling-.png   \n",
    "```\n",
    "\n",
    "\n",
    "```{admonition}  **Example 2.4** \n",
    "Imagine estimating life expectancy by randomly selecting individuals waiting in line at an insurance office for an actuarial study; however, this may introduce biases if those in line have specific characteristics.\n",
    "```"
   ]
  },
  {
   "cell_type": "markdown",
   "id": "fa205e8c-d3d7-4615-9df2-edd372289b54",
   "metadata": {},
   "source": [
    "2.  **Volunteer Sampling:**\n",
    "Volunteer sampling involves including only willing participants, often with specific criteria. For example, in a radio show discussion, only those with strong opinions may respond, causing **a selection bias** as the silent majority typically does not participate.\n",
    "\n",
    "```{admonition}  **Example 2.5**\n",
    "Understanding financial behaviors within an insurance portfolio may involve volunteer sampling by inviting policyholders to participate; however, biases may occur if those who volunteer have unique characteristics not representative of the entire group.\n",
    "```"
   ]
  },
  {
   "cell_type": "markdown",
   "id": "1c44f0c2-952d-4954-b226-a1e6919e00dc",
   "metadata": {},
   "source": [
    "#### <span style=\"color: dimgray;\">**Probability Methods**</span>\n",
    "\n",
    "1. **Simple Random Sample:**\n",
    "Simple random sampling involves selecting units from a population in a completely random manner, ensuring every unit has an equal chance of being chosen. For example, drawing names from a hat for a survey is a simple random sampling method, minimizing biases and providing a representative sample.\n",
    "\n",
    "```{figure} _build/images/simple-random-sample.png\n",
    ":name: figure-simple-random-sample\n",
    "\n",
    "Simple Random Sampling\n",
    "\n",
    "Image from https://lc.gcumedia.com/hlt362v/the-visual-learner/images/simple-random-sample.png  \n",
    "```\n",
    "\n",
    "\n",
    "```{admonition}  **Example 2.6**\n",
    "Estimating the average lifespan of policyholders by randomly selecting a subset for study through the use of randomly generated numbers is an application of simple random sampling, ensuring unbiased representation.\n",
    "```"
   ]
  },
  {
   "cell_type": "markdown",
   "id": "71a60492-7f7b-46bb-9f06-86c8d098449d",
   "metadata": {},
   "source": [
    "2.  **Stratified Random Sampling:**\n",
    "Stratified random sampling involves dividing the population into subgroups (strata) based on certain characteristics and then randomly selecting samples from each stratum. For instance, when studying a diverse population, dividing it into age groups and then randomly selecting individuals from each group ensures representation across different age ranges, providing more accurate insights.\n",
    "\n",
    "\n",
    "```{figure} _build/images/stratified-sample.png\n",
    ":name: figure-stratified-sample\n",
    "\n",
    "Stratified Sampling\n",
    "\n",
    "Image from https://lc.gcumedia.com/hlt362v/the-visual-learner/images/stratified-sample.png\n",
    "```\n",
    "\n",
    "```{admonition}  **Example 2.7**\n",
    "Estimating insurance claims across various demographic groups could involve stratified random sampling by categorizing policyholders based on income levels and then selecting samples from each stratum, ensuring a more subtle understanding of claim patterns.\n",
    "```"
   ]
  },
  {
   "cell_type": "markdown",
   "id": "8c7db505-c3df-428f-9cda-76da4e1d0224",
   "metadata": {},
   "source": [
    "3.  **Cluster Sampling:**\n",
    "Cluster sampling involves dividing the population into clusters and randomly selecting entire clusters for inclusion in the sample. For example, when studying a large geographical area, dividing it into clusters (such as cities or neighborhoods) and randomly selecting some clusters for analysis can be more practical than trying to include every individual unit, saving time and resources.\n",
    "\n",
    "\n",
    "```{figure} _build/images/cluster-sampling.png\n",
    ":name: figure-cluster-sample\n",
    "\n",
    "Cluster Sampling\n",
    "\n",
    "Image from https://lc.gcumedia.com/hlt362v/the-visual-learner/images/cluster-sampling.png\n",
    "```\n",
    "\n",
    "\n",
    "```{admonition}  **Example 2.8**\n",
    "Assessing the risk profile of policyholders in various regions might involve cluster sampling by randomly selecting specific cities or towns as clusters and then studying all policyholders within those selected areas, providing insights into regional risk patterns.\n",
    "```"
   ]
  },
  {
   "cell_type": "markdown",
   "id": "59a537c0-a25f-423f-80a5-885441e628d9",
   "metadata": {
    "jp-MarkdownHeadingCollapsed": true,
    "tags": []
   },
   "source": [
    "### <span style=\"color: dimgray;\">**Considerations in Data Collection**</span>\n",
    "\n",
    "\n",
    "1. **Sampling Frame:**\n",
    "   - The list or source from which the sample is drawn.\n",
    "   - Should represent the entire population.\n",
    "\n",
    "2. **Sample Size:**\n",
    "   - Balancing precision with practical considerations.\n",
    "   - Larger samples increase representativeness but may be impractical.\n",
    "\n",
    "3. **Data Collection Tools:**\n",
    "   - Choosing appropriate instruments for measurement (surveys, interviews, etc.).\n",
    "   - Depends on research objectives.\n",
    "\n",
    "4. **Ethical Considerations:**\n",
    "   - Ensuring participant rights through informed consent and confidentiality.\n",
    "   - Adherence to ethical guidelines.\n",
    "\n",
    "In conclusion, the choice between non-probability and probability methods depends on the research design, resources, and the level of representativeness required. Both methods have their strengths and limitations, and researchers must carefully consider these factors when selecting their data collection approach."
   ]
  },
  {
   "cell_type": "markdown",
   "id": "4f057832-0ff3-46bd-a01a-2b2238d91ac5",
   "metadata": {},
   "source": [
    "### <span style=\"color: dimgray;\">**Sampling Methods in R**</span>\n",
    "\n",
    "This section explores various techniques for obtaining subsets of data from larger datasets using the R programming language. Understanding and implementing these sampling methods is fundamental to achieving accurate and reliable insights from data, contributing to the robustness of statistical analyses and research findings."
   ]
  },
  {
   "cell_type": "markdown",
   "id": "09211f05-21db-4a5b-b281-c1ab86c60da7",
   "metadata": {},
   "source": [
    "#### <span style=\"color: dimgray;\">**Simple Random Sampling in R**</span>\n",
    "\n",
    "To obtain a random sample, one can sequentially label all cases and generate uniformly distributed random numbers for selecting cases from the population.\n",
    "\n",
    "\n",
    "In R, a simple random sample can be generated using the `sample()` function. The function is defined as follows:\n",
    "\n",
    "```R\n",
    "sample(x, size, replace = FALSE, prob = NULL)\n"
   ]
  },
  {
   "cell_type": "markdown",
   "id": "3835e129-e510-4b3f-97b9-1fb9bd1a0dd1",
   "metadata": {},
   "source": [
    "```{admonition}  **Example 2.9**\n",
    "How can the acceptability of a sample, drawn through simple random sampling from a normal distribution with a given mean ($\\mu$) and standard deviation ($\\sigma$), be evaluated? The evaluation includes comparing histograms and conducting basic statistical checks to ensure the sample adequately represents the population.\n",
    "\n",
    "- **Objective:** Evaluate the acceptability of a sample drawn through simple random sampling from a normal distribution.\n",
    "\n",
    "- **Tasks:**\n",
    "  1. Generate a large population ($N$) following a normal distribution with a specified mean ($\\mu$) and standard deviation ($\\sigma$).\n",
    "  2. Draw a sample ($n$) from the population using simple random sampling.\n",
    "  3. Compare the histograms of the population and the sample to visually inspect their distributions.\n",
    "  4. Perform basic statistical checks, including calculating means and variances, to assess the representativeness of the sample.\n",
    "  5. Optionally, conduct a t-test to further validate the similarity between the sample and the population.\n",
    "\n",
    "\n",
    "```"
   ]
  },
  {
   "cell_type": "code",
   "execution_count": 1,
   "id": "528eb806-2ebf-44e0-b8b1-0413d665fba4",
   "metadata": {},
   "outputs": [
    {
     "name": "stdout",
     "output_type": "stream",
     "text": [
      "Population Mean: 49.97628 \n"
     ]
    },
    {
     "name": "stdout",
     "output_type": "stream",
     "text": [
      "Sample Mean: 49.93819 \n"
     ]
    },
    {
     "name": "stdout",
     "output_type": "stream",
     "text": [
      "Population Variance: 99.72751 \n"
     ]
    },
    {
     "name": "stdout",
     "output_type": "stream",
     "text": [
      "Sample Variance: 115.2845 \n"
     ]
    },
    {
     "name": "stdout",
     "output_type": "stream",
     "text": [
      "\n",
      "T-test p-value: 0.9542086 \n"
     ]
    },
    {
     "data": {
      "image/png": "[encoded data removed]",
      "text/plain": [
       "Plot with title “Sample Histogram”"
      ]
     },
     "metadata": {
      "image/png": {
       "height": 420,
       "width": 420
      }
     },
     "output_type": "display_data"
    }
   ],
   "source": [
    "# Set seed for reproducibility\n",
    "set.seed(123)\n",
    "\n",
    "# Parameters\n",
    "N <- 10000        # Population size\n",
    "mu <- 50          # Mean of the population\n",
    "sigma <- 10       # Standard deviation of the population\n",
    "n <- 100          # Sample size\n",
    "\n",
    "# Step 1: Create a population following a normal distribution\n",
    "population <- rnorm(N, mean = mu, sd = sigma)\n",
    "\n",
    "# Step 2: Draw a sample using simple random sampling\n",
    "sample_data <- sample(population, size = n)\n",
    "\n",
    "# Step 3: Compare the histogram of the population and the sample\n",
    "par(mfrow = c(1, 2))\n",
    "\n",
    "hist(population, main = \"Population Histogram\", col = \"lightblue\", xlim = c(20, 80), breaks = 30)\n",
    "hist(sample_data, main = \"Sample Histogram\", col = \"lightgreen\", xlim = c(20, 80), breaks = 30)\n",
    "\n",
    "# Step 4: Verify that the sample is acceptable\n",
    "# You can perform statistical tests or compare summary statistics\n",
    "\n",
    "# For example, compare means and variances\n",
    "cat(\"Population Mean:\", mean(population), \"\\n\")\n",
    "cat(\"Sample Mean:\", mean(sample_data), \"\\n\")\n",
    "\n",
    "cat(\"Population Variance:\", var(population), \"\\n\")\n",
    "cat(\"Sample Variance:\", var(sample_data), \"\\n\")\n",
    "\n",
    "# Alternatively, you can perform a t-test if the population parameters are known\n",
    "t_test_result <- t.test(sample_data, mu = mu)\n",
    "cat(\"\\nT-test p-value:\", t_test_result$p.value, \"\\n\")\n",
    "\n",
    "# You can also visually inspect the histograms and summary statistics to check for bias\n",
    "\n",
    "# Reset the par settings\n",
    "par(mfrow = c(1, 1))\n"
   ]
  },
  {
   "cell_type": "markdown",
   "id": "f675279e-f981-4312-873a-aea636aa915a",
   "metadata": {},
   "source": [
    "```{tip} \n",
    "**Null Hypothesis for T-Test:**\n",
    "\n",
    "$ H_0: \\mu_{\\text{sample}} = \\mu_{\\text{population}} $\n",
    "\n",
    "Where:\n",
    "- $ \\mu_{\\text{sample}} $ is the mean of the sample.\n",
    "- $ \\mu_{\\text{population}} $ is the known or hypothesized mean of the population.\n",
    "\n",
    "The null hypothesis posits that there is no significant difference between the mean of the sample and the specified mean of the population. The t-test will assess whether any observed differences are statistically significant or if they could likely occur due to random sampling variability.\n",
    "\n",
    "\n",
    "**Conclusion from T-Test:**\n",
    "\n",
    "With a p-value of 0.9542086 obtained from the t-test, we fail to reject the null hypothesis ($ H_0: \\mu_{\\text{sample}} = \\mu_{\\text{population}} $). This suggests that there is not enough statistical evidence to conclude that the mean of the sample is significantly different from the specified mean of the population. The observed differences are likely attributable to random sampling variability.\n",
    "\n",
    "```"
   ]
  },
  {
   "cell_type": "markdown",
   "id": "a158bf9b-c099-4274-ab1c-8cbfcb177337",
   "metadata": {},
   "source": [
    "#### <span style=\"color: dimgray;\">**Stratified Sampling in R**</span>\n",
    "\n",
    "In stratified sampling, the population is divided into smaller subgroups, or strata, based on common factors such as age, gender, income, etc. These strata are designed to accurately represent the overall population. \n",
    "\n",
    "For instance, when examining the daily time spent on messaging for male and female users, the strata may be defined as male and female users, and random sampling is then applied within each gender stratum."
   ]
  },
  {
   "cell_type": "markdown",
   "id": "076b9a67-a6dd-43bc-a3e4-858bb4835b2f",
   "metadata": {},
   "source": [
    "```{tip}\n",
    "It's important to note that while stratified sampling provides more precise estimates compared to random sampling, a major drawback is the need for knowledge about the specific characteristics of the population, which may not always be readily available. Additionally, determining the appropriate characteristics for stratification can pose challenges.\n",
    "```"
   ]
  },
  {
   "cell_type": "markdown",
   "id": "f436888a-4af2-49a5-a85f-42b881b4fab0",
   "metadata": {},
   "source": [
    "#### <span style=\"color: dimgray;\">**Balanced and Imbalanced Dataset**</span>\n",
    "\n",
    "In the following examples, we will create two different synthetic datasets and implement stratified sampling, a technique crucial for **maintaining proportional representation within distinct subgroups or strata**. \n",
    "\n",
    "The initial dataset, representing a balanced distribution, guarantees that each category is evenly presented within its own subgroup. This creates an inclusive learning environment where all classes have a fair presence.\n",
    "\n",
    "\n",
    "\n",
    "Conversely, the second dataset deliberately introduces an imbalance. Here, certain classes are intentionally presented in smaller numbers within their respective subgroups. This intentional imbalance reflects real-world situations where certain scenarios require focused attention on specific classes.\n",
    "\n",
    "Stratified sampling becomes essential in preserving proportional class representation within each subgroup, a methodology particularly valuable in both balanced and imbalanced cases.\n",
    "\n",
    "- **Balanced Dataset:** A balanced dataset is characterized by an equal or nearly equal distribution of instances across different classes or categories. In other words, each class in the dataset has a comparable number of samples.\n",
    "\n",
    "- **Imbalanced Dataset:** An imbalanced dataset occurs when the number of instances in different classes significantly varies. One or more classes might be underrepresented, making it challenging for a model to learn patterns associated with the minority class(es)."
   ]
  },
  {
   "cell_type": "markdown",
   "id": "80bfcbe6-058e-4fa8-88a5-93a2340b86c6",
   "metadata": {},
   "source": [
    "```{admonition}  **Example 2.10** Synthetic balanced datasets \n",
    "\n",
    "We aim to perform stratified sampling on a synthetic balanced dataset using the `dplyr` package in R. The dataset contains two classes, \"ClassA\" and \"ClassB,\" and we intend to create a representative sample while maintaining the balance between the classes. The following tasks will be executed:\n",
    "\n",
    "- **Tasks for Stratified Sampling on Synthetic Imbalanced Datasets:**\n",
    "1. **Install and Load Packages:**\n",
    "    - Use `install.packages` to install the necessary packages.\n",
    "    - Load the `dplyr` library for data manipulation.\n",
    "\n",
    "2. **Create a Balanced Dataset:**\n",
    "    - Generate a synthetic dataset with two features, \"feature1\" and \"feature2,\" and 200 observations.\n",
    "    - The dataset is balanced, with 100 instances for each class.\n",
    "\n",
    "3. **Stratified Sampling:**\n",
    "    - Utilize the `group_by` and `sample_n` functions from `dplyr` to perform stratified sampling.\n",
    "    - Ensure that the sample size is set to 50 for each class to maintain balance.\n",
    "\n",
    "4. **Display the Result:**\n",
    "   - Use the `table` or `prop.table` function to present the counts or proportions of each class within the sampled data subgroups.\n",
    "   - This will provide insights into the distribution of classes within the stratified sample, considering the intentional imbalance in the dataset.\n",
    "\n",
    "\n",
    "```"
   ]
  },
  {
   "cell_type": "code",
   "execution_count": 2,
   "id": "de4c6f4d-dd02-4c70-bb6d-7f6bc2503671",
   "metadata": {},
   "outputs": [
    {
     "data": {
      "text/plain": [
       "\n",
       "ClassA ClassB \n",
       "   0.5    0.5 "
      ]
     },
     "metadata": {},
     "output_type": "display_data"
    }
   ],
   "source": [
    "# Load the dplyr package\n",
    "suppressMessages(library(dplyr))\n",
    "\n",
    "# Create a balanced dataset\n",
    "set.seed(123)\n",
    "data_balanced <- data.frame(\n",
    "  feature1 = rnorm(200, mean = 5),\n",
    "  feature2 = rnorm(200, mean = 10),\n",
    "  class = rep(c(\"ClassA\", \"ClassB\"), each = 100)\n",
    ")\n",
    "\n",
    "# Stratified sampling for a balanced dataset\n",
    "sampled_data_balanced <- data_balanced %>%\n",
    "  group_by(class) %>%\n",
    "  sample_n(size = 50) %>%\n",
    "  ungroup()\n",
    "\n",
    "# Display the result\n",
    "prop.table(table(sampled_data_balanced$class))\n"
   ]
  },
  {
   "cell_type": "markdown",
   "id": "94171248-5ae4-4d86-b9fd-85c2760cd7d5",
   "metadata": {},
   "source": [
    "```{tip}\n",
    "In the obtained result for the balanced case, the stratified sampling successfully yielded a distribution of classes where both 'ClassA' and 'ClassB' are evenly represented, each constituting 50% of the stratified sample.\n",
    "```"
   ]
  },
  {
   "cell_type": "markdown",
   "id": "67d1a7ef-2c3a-4440-9306-c1325e3ff2e1",
   "metadata": {},
   "source": [
    "<hr style=\"border: 2px solid #333;\">"
   ]
  },
  {
   "cell_type": "markdown",
   "id": "9f646cac-dda2-4de1-9737-3fa30599e5f4",
   "metadata": {},
   "source": [
    "```{admonition}  **Example 2.11** Synthetic imbalanced datasets \n",
    "\n",
    "We aim to perform stratified sampling on a synthetic imbalanced dataset using the `dplyr` package in R. The dataset comprises two classes, \"ClassA\" and \"ClassB,\" intentionally structured to demonstrate imbalance. The objective is to create a representative sample while acknowledging and addressing the intentional underrepresentation of specific classes within their respective subgroups. \n",
    "\n",
    "### Tasks for Stratified Sampling on Synthetic Imbalanced Datasets\n",
    "\n",
    "1. **Install and Load Packages:**\n",
    "   - Use `install.packages` to install the necessary packages.\n",
    "   - Load the `dplyr` library for data manipulation.\n",
    "\n",
    "2. **Create an Imbalanced Dataset:**\n",
    "   - Generate a synthetic dataset with two features, \"feature1\" and \"feature2,\" and 200 observations.\n",
    "   - Intentionally structure the dataset to illustrate imbalance, with specific classes deliberately underrepresented within their corresponding subgroups.\n",
    "\n",
    "3. **Stratified Sampling for Imbalanced Dataset:**\n",
    "   - Utilize the `group_by` and `sample_frac` functions from `dplyr` to perform stratified sampling.\n",
    "   - Set the `size` parameter to sample a fraction (e.g., 0.5) of the observations from each class, allowing for replacement (`replace = TRUE`) to address intentional underrepresentation.\n",
    "\n",
    "4. **Display the Result:**\n",
    "   - Use the `table` or `prop.table` function to present the counts or proportions of each class within the sampled data subgroups.\n",
    "   - This will provide insights into the distribution of classes within the stratified sample, considering the intentional imbalance in the dataset.\n",
    "\n",
    "Adjust parameters and explore various sampling strategies based on the specific requirements of your imbalanced dataset.\n"
   ]
  },
  {
   "cell_type": "code",
   "execution_count": 3,
   "id": "94a8fd8d-8eae-4a40-a571-4e9da2686d99",
   "metadata": {},
   "outputs": [
    {
     "data": {
      "text/plain": [
       "\n",
       "ClassA ClassB \n",
       "   0.9    0.1 "
      ]
     },
     "metadata": {},
     "output_type": "display_data"
    }
   ],
   "source": [
    "# Create an imbalanced dataset\n",
    "set.seed(123)\n",
    "data_imbalanced <- data.frame(\n",
    "  feature1 = rnorm(200, mean = 5),\n",
    "  feature2 = rnorm(200, mean = 10),\n",
    "  class = c(rep(\"ClassA\", 180), rep(\"ClassB\", 20))\n",
    ")\n",
    "\n",
    "# Stratified sampling for an imbalanced dataset using sample_frac\n",
    "sampled_data_imbalanced <- data_imbalanced %>%\n",
    "  group_by(class) %>%\n",
    "  sample_frac(size = 0.5, replace = TRUE) %>%\n",
    "  ungroup()\n",
    "\n",
    "# Display the result\n",
    "prop.table(table(sampled_data_imbalanced$class))\n"
   ]
  },
  {
   "cell_type": "markdown",
   "id": "9d39f0c0-1bf9-43ac-822f-87117d1266d9",
   "metadata": {},
   "source": [
    "In this example, `sample_frac` is used to sample 50% of the observations from each group (`size = 0.5`). The `replace = TRUE` argument allows for replacement, which is necessary when sampling a fraction that exceeds the number of available observations in the minority class.\n",
    "\n",
    "Using `sample_frac` helps maintain the relative imbalance in the dataset while ensuring that the sampled dataset has a representative mix of both majority and minority classes. Adjust the `size` parameter according to your specific sampling requirements."
   ]
  },
  {
   "cell_type": "markdown",
   "id": "60461186-e3ba-4741-a5cf-74babd938423",
   "metadata": {},
   "source": [
    "#### <span style=\"color: dimgray;\">**Case Study: mtcars Dataset**</span>"
   ]
  },
  {
   "cell_type": "markdown",
   "id": "e1ffb32e-8021-4a49-8778-b973f518a19f",
   "metadata": {},
   "source": [
    "You can use other datasets related to business, economics, or finance to apply the same stratified sampling code in R. One such dataset is the \"mtcars\" dataset, which is included in the base R package. It contains information about various car models, including attributes such as miles per gallon (mpg), number of cylinders, and horsepower. You can stratify the sampling based on the number of cylinders in this dataset."
   ]
  },
  {
   "cell_type": "markdown",
   "id": "adb0586e-f490-4ee8-bcaf-9a44b03b000b",
   "metadata": {},
   "source": [
    "```{admonition}  **Example 2.12** mtcars dataset\n",
    "\n",
    "In the analysis of the mtcars dataset, we aim to explore and understand the characteristics of different subgroups based on the number of cylinders in each vehicle. To facilitate this investigation, a new categorical variable named \"CylinderGroup\" has been introduced, utilizing the 'cut' function to stratify the data into three distinct groups: \"Low,\" \"Medium,\" and \"High,\" representing vehicles with 3-4 cylinders, 5-6 cylinders, and 7-8 cylinders, respectively. This stratification allows us to create meaningful subgroups for further analysis. As part of our analytical approach, we will employ stratified sampling techniques to ensure that our sample accurately reflects the proportion of vehicles in each cylinder group. This approach enables us to draw meaningful insights by considering the unique characteristics and variations within each cylinder subgroup, contributing to a more nuanced understanding of the mtcars dataset.\n",
    "```"
   ]
  },
  {
   "cell_type": "markdown",
   "id": "475b3b96-b9f2-459d-8cba-d8e239368112",
   "metadata": {},
   "source": [
    "### <span style=\"color: dimgray;\">**Descriptive Statistics**</span>\n",
    "\n",
    "Descriptive statistics is a branch of statistics that involves the collection, analysis, interpretation, presentation, and organization of data. In general, data can be classified into two main types: **Qualitative (Categorical)** and **Quantitative**.\n",
    "\n",
    "\n",
    "### <span style=\"color: dimgray;\">**Types of Data**</span>\n",
    "\n",
    "#### <span style=\"color: dimgray;\">Qualitative (Categorical)</span>\n",
    "\n",
    "Qualitative data represents categories and can be divided into three subtypes:\n",
    "\n",
    "1. **Binary**\n",
    "\n",
    "   Data with only two possible values, making it a binary choice. In actuarial science, examples include:\n",
    "   - Gender (Male/Female)\n",
    "   - Policy Status (Active/Inactive)\n",
    "\n",
    "2. **Ordinal**\n",
    "\n",
    "   Data with ordered categories that hold a meaningful sequence. Actuarial examples encompass:\n",
    "   - Policy Rating (Low/Medium/High)\n",
    "   - Customer Satisfaction Level (Low/Medium/High)\n",
    "\n",
    "3. **Nominal**\n",
    "\n",
    "   Data with categories that lack a specific order. Actuarial instances comprise:\n",
    "   - Marital Status (Single/Married/Divorced)\n",
    "   - Type of Insurance (Life/Health/Property)\n",
    "\n",
    "\n",
    "\n",
    "\n",
    "#### <span style=\"color: dimgray;\">Quantitative</span>\n",
    "\n",
    "Quantitative data involves numerical values and is further categorized into two types:\n",
    "\n",
    "1. **Discrete**\n",
    "\n",
    "   Data with distinct, separate values. In actuarial science, examples include:\n",
    "   - Number of Policies Sold\n",
    "   - Count of Claims in a Year\n",
    "\n",
    "2. **Continuous**\n",
    "\n",
    "   Data that can take any value within a given range. Actuarial examples comprise:\n",
    "   - Policy Premium Amount\n",
    "   - Policyholder Age\n",
    "\n"
   ]
  },
  {
   "cell_type": "markdown",
   "id": "58726e45-84bf-407d-ae4b-202bd31238a9",
   "metadata": {},
   "source": [
    "### <span style=\"color: dimgray;\">**Data Type Exploration in R**</span>\n",
    "\n",
    "\n",
    "You can use various functions to identify the types of data in a dataset. The `str()` function is particularly useful for this purpose. For the mtcars dataset, you can use the following code to display information about the types of data:"
   ]
  },
  {
   "cell_type": "code",
   "execution_count": 4,
   "id": "92628ed4-49e8-42b0-8221-597643442ea6",
   "metadata": {},
   "outputs": [
    {
     "name": "stdout",
     "output_type": "stream",
     "text": [
      "'data.frame':\t32 obs. of  11 variables:\n",
      " $ mpg : num  21 21 22.8 21.4 18.7 18.1 14.3 24.4 22.8 19.2 ...\n",
      " $ cyl : num  6 6 4 6 8 6 8 4 4 6 ...\n",
      " $ disp: num  160 160 108 258 360 ...\n",
      " $ hp  : num  110 110 93 110 175 105 245 62 95 123 ...\n",
      " $ drat: num  3.9 3.9 3.85 3.08 3.15 2.76 3.21 3.69 3.92 3.92 ...\n",
      " $ wt  : num  2.62 2.88 2.32 3.21 3.44 ...\n",
      " $ qsec: num  16.5 17 18.6 19.4 17 ...\n",
      " $ vs  : num  0 0 1 1 0 1 0 1 1 1 ...\n",
      " $ am  : num  1 1 1 0 0 0 0 0 0 0 ...\n",
      " $ gear: num  4 4 4 3 3 3 3 4 4 4 ...\n",
      " $ carb: num  4 4 1 1 2 1 4 2 2 4 ...\n"
     ]
    }
   ],
   "source": [
    "# Load the mtcars dataset\n",
    "data(mtcars)\n",
    "\n",
    "# Display the structure of the dataset\n",
    "str(mtcars)"
   ]
  },
  {
   "cell_type": "markdown",
   "id": "326072d7-eeab-4af2-b022-becf484e577c",
   "metadata": {},
   "source": [
    "```{tip}\n",
    "These results indicate that all variables in the `mtcars` dataset are numeric, suggesting that they are quantitative data. If there were any categorical variables, you would see factors listed in the output.\n",
    "```"
   ]
  },
  {
   "cell_type": "markdown",
   "id": "1fbc3c15-b2d2-45da-a355-854793e21868",
   "metadata": {},
   "source": [
    "```{tip}\n",
    "In R, factors are used to represent categorical or qualitative data. Categorical data consists of distinct categories or groups and does not have a natural ordering. Factors in R allow you to efficiently represent and work with such categorical variables.\n",
    "\n",
    "When you have a variable in your dataset that represents categories (like \"Male\" and \"Female\" or \"Red,\" \"Green,\" \"Blue\"), R automatically converts it to a factor. This is because factors provide several advantages over character vectors for representing categorical data.\n",
    "```"
   ]
  },
  {
   "cell_type": "code",
   "execution_count": 5,
   "id": "9231915a-766f-454a-ac1d-1299b2057a62",
   "metadata": {},
   "outputs": [
    {
     "ename": "ERROR",
     "evalue": "Error in library(CASdatasets): there is no package called ‘CASdatasets’\n",
     "output_type": "error",
     "traceback": [
      "Error in library(CASdatasets): there is no package called ‘CASdatasets’\nTraceback:\n",
      "1. suppressMessages(library(CASdatasets))",
      "2. withCallingHandlers(expr, message = function(c) if (inherits(c, \n .     classes)) tryInvokeRestart(\"muffleMessage\"))",
      "3. library(CASdatasets)"
     ]
    }
   ],
   "source": [
    "suppressMessages(library(CASdatasets))\n",
    "\n",
    "data(freMTPL2freq)"
   ]
  },
  {
   "cell_type": "code",
   "execution_count": 15,
   "id": "e4071d71-487e-471d-b499-82cb9da16ec5",
   "metadata": {},
   "outputs": [
    {
     "name": "stdout",
     "output_type": "stream",
     "text": [
      "'data.frame':\t677991 obs. of  12 variables:\n",
      " $ IDpol     : Factor w/ 677991 levels \"1\",\"3\",\"5\",\"10\",..: 1 2 3 4 5 6 7 8 9 10 ...\n",
      " $ ClaimNb   : num  0 0 0 0 0 0 0 0 0 0 ...\n",
      " $ Exposure  : num  0.1 0.77 0.75 0.09 0.84 0.52 0.45 0.27 0.71 0.15 ...\n",
      " $ VehPower  : int  5 5 6 7 7 6 6 7 7 7 ...\n",
      " $ VehAge    : int  0 0 2 0 0 2 2 0 0 0 ...\n",
      " $ DrivAge   : int  55 55 52 46 46 38 38 33 33 41 ...\n",
      " $ BonusMalus: int  50 50 50 50 50 50 50 68 68 50 ...\n",
      " $ VehBrand  : Factor w/ 11 levels \"B1\",\"B10\",\"B11\",..: 4 4 4 4 4 4 4 4 4 4 ...\n",
      " $ VehGas    : chr  \"Regular\" \"Regular\" \"Diesel\" \"Diesel\" ...\n",
      " $ Area      : Factor w/ 6 levels \"A\",\"B\",\"C\",\"D\",..: 4 4 2 2 2 5 5 3 3 2 ...\n",
      " $ Density   : int  1217 1217 54 76 76 3003 3003 137 137 60 ...\n",
      " $ Region    : Factor w/ 22 levels \"Alsace\",\"Aquitaine\",..: 22 22 19 2 2 17 17 13 13 18 ...\n"
     ]
    }
   ],
   "source": [
    "str(freMTPL2freq)"
   ]
  },
  {
   "cell_type": "code",
   "execution_count": null,
   "id": "bae4e173-f6e5-4f8d-bc6b-8d018047c27e",
   "metadata": {},
   "outputs": [],
   "source": []
  }
 ],
 "metadata": {
  "kernelspec": {
   "display_name": "R",
   "language": "R",
   "name": "ir"
  },
  "language_info": {
   "codemirror_mode": "r",
   "file_extension": ".r",
   "mimetype": "text/x-r-source",
   "name": "R",
   "pygments_lexer": "r",
   "version": "4.4.0"
  }
 },
 "nbformat": 4,
 "nbformat_minor": 5
}