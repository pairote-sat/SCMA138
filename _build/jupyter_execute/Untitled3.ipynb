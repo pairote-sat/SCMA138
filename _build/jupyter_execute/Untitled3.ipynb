{
 "cells": [
  {
   "cell_type": "markdown",
   "id": "df18109d-eb8d-4def-a628-0ce83e0ada65",
   "metadata": {},
   "source": [
    "## Discrete Probability Distribution Example: Poisson Distribution for Number of Claims\n",
    "\n",
    "In insurance, the number of claims that arise up to a given time period can often be modeled using the Poisson distribution. This distribution is commonly used when dealing with count data, such as the number of accidents, claims, or arrivals in a fixed interval of time or space.\n",
    "\n",
    "### Probability Mass Function (PMF) and Cumulative Distribution Function (CDF)\n",
    "\n",
    "The probability mass function (PMF) of the Poisson distribution is given by:\n",
    "\n",
    "$$P(X = k) = \\frac{e^{-\\lambda} \\lambda^k}{k!}$$\n",
    "\n",
    "Where:\n",
    "- $X$ is the random variable representing the number of claims,\n",
    "- $k$ is a non-negative integer representing the number of claims,\n",
    "- $\\lambda$ is the average rate of claims occurring per unit time.\n",
    "\n",
    "The cumulative distribution function (CDF) of the Poisson distribution can be calculated as:\n",
    "\n",
    "$$F(X \\leq k) = \\sum_{i=0}^{k} \\frac{e^{-\\lambda} \\lambda^i}{i!}$$\n",
    "\n",
    "### Example Table of Possible Values and Probabilities\n",
    "\n",
    "| Number of Claims ($k$) | Probability ($P(X = k)$) |\n",
    "|-----------------------------|------------------------------|\n",
    "| 0                           | $e^{-\\lambda}$           |\n",
    "| 1                           | $\\frac{e^{-\\lambda} \\lambda}{1!}$ |\n",
    "| 2                           | $\\frac{e^{-\\lambda} \\lambda^2}{2!}$ |\n",
    "| ...                         | ...                          |\n",
    "\n",
    "### Visualizing PMF and CDF\n",
    "\n",
    "You can visualize the PMF by plotting the probabilities of different numbers of claims on a bar chart. For the CDF, you can plot the cumulative probabilities against the number of claims.\n",
    "\n",
    "### R Code Example"
   ]
  },
  {
   "cell_type": "markdown",
   "id": "4c35e25a-e80d-4357-b88a-1972f5730b86",
   "metadata": {},
   "source": [
    "```{admonition} **Example 2.34: Discrete uniform distribution: Poisson Distribution for Number of Claims**"
   ]
  },
  {
   "cell_type": "markdown",
   "id": "88d1f5c0-573e-42c5-8edb-8f43ea2089f5",
   "metadata": {},
   "source": [
    "**Discrete Probability Distribution Example: Binomial Distribution in Actuarial Science**\n",
    "\n",
    "In actuarial science, the Binomial distribution is often used to model the number of successful outcomes in a fixed number of independent Bernoulli trials. It’s applicable in scenarios such as the number of travel insurance policies that result in at most one claim.\n",
    "\n",
    "**Probability Mass Function (PMF) and Cumulative Distribution Function (CDF)**\n",
    "\n",
    "The probability mass function (PMF) of the Binomial distribution is given by:\n",
    "\n",
    "$$ P(X = k) = {n \\choose k} p^k (1 - p)^{n - k} $$\n",
    "\n",
    "Where:\n",
    "- $X$is the random variable representing the number of policies resulting in at most one claim,\n",
    "- $k$is a non-negative integer representing the number of policies resulting in at most one claim,\n",
    "- $n$is the total number of travel insurance policies,\n",
    "- $p$is the probability that a policy results in at most one claim.\n",
    "\n",
    "The cumulative distribution function (CDF) of the Binomial distribution can be calculated using the formula:\n",
    "\n",
    "$$ F(X \\leq k) = \\sum_{i=0}^{k} {n \\choose i} p^i (1 - p)^{n - i} $$\n",
    "\n",
    "**Example Table of Possible Values and Probabilities**\n",
    "\n",
    "| Policies Resulting in at most One Claim ($k \\)) | Probability ($P(X = k) \\)) |\n",
    "|---------------------------------------------------|------------------------------|\n",
    "| 0                                                 | $(1 - p)^n$             |\n",
    "| 1                                                 | ${n \\choose 1} p (1 - p)^{n - 1}$|\n",
    "| 2                                                 | ${n \\choose 2} p^2 (1 - p)^{n - 2}$|\n",
    "| ...                                               | ...                          |\n",
    "\n",
    "**Visualizing PMF and CDF**\n",
    "\n",
    "You can visualize the PMF by plotting the probabilities of different numbers of policies resulting in at most one claim on a bar chart. For the CDF, you can plot the cumulative probabilities against the number of policies resulting in at most one claim.\n",
    "\n",
    "**R Code Example**"
   ]
  }
 ],
 "metadata": {
  "kernelspec": {
   "display_name": "R",
   "language": "R",
   "name": "ir"
  },
  "language_info": {
   "codemirror_mode": "r",
   "file_extension": ".r",
   "mimetype": "text/x-r-source",
   "name": "R",
   "pygments_lexer": "r",
   "version": "4.4.0"
  }
 },
 "nbformat": 4,
 "nbformat_minor": 5
}