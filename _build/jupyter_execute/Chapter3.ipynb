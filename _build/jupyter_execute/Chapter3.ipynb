{
 "cells": [
  {
   "cell_type": "markdown",
   "id": "e5b6bbee-0b61-4030-a9f4-8f44dae9cb0e",
   "metadata": {},
   "source": [
    "(chapter3-label)=\n",
    "# <span style=\"color: dimgray;\">**Chapter 3**</span>"
   ]
  },
  {
   "cell_type": "markdown",
   "id": "4fcf8163-bcb4-4214-990a-b01c383aec04",
   "metadata": {},
   "source": [
    "## <span style=\"color: dimgray;\">**Principles Underlying Risk Management and Actuarial Modeling**</span>\n",
    "\n",
    "In finance and insurance, the concept of **risk** is central to decision-making. This chapter serves as a foundational exploration of the principles that govern how we understand and manage risk. \n",
    "\n",
    "We will start by defining what we mean by \"risk\" and how it relates to specific events or situations. Then, we'll explore actuarial phenomena—events with uncertain outcomes that have economic consequences and the key variables that characterize them: \n",
    "\n",
    "* frequency,\n",
    "* timing, and\n",
    "* severity.\n",
    "\n",
    "By examining these concepts, we aim to provide a solid academic footing for understanding how risk is quantified, managed, and navigated within economic systems.\n",
    "\n"
   ]
  },
  {
   "cell_type": "markdown",
   "id": "8961a811-ed7f-4d4e-9e50-b22c2a0e87cc",
   "metadata": {},
   "source": [
    "### <span style=\"color: dimgray;\">**Understanding Risk in Actuarial Science**</span>\n",
    "\n",
    "**Risk management and actuarial modeling** are essential in actuarial science, involving the identification, quantification, and management of risks. \n",
    "\n",
    "The term **risk** refers to both an event that can be observed and a particular entity, such as a person, object, or group of individuals, with which the event is associated."
   ]
  },
  {
   "cell_type": "markdown",
   "id": "f8f36416-a7a6-48a3-ae95-c7a1d5f618b0",
   "metadata": {},
   "source": [
    "```{admonition}  **Example 3.1** \n",
    "\n",
    "Consider the risk of a car accident. In this scenario, \"risk\" refers to both the possibility of a car accident occurring (the event that can be observed) and the specific entity involved, such as the driver, passengers, or the vehicle itself (the particular entity with which the event is associated).\n",
    "```"
   ]
  },
  {
   "cell_type": "markdown",
   "id": "2ddffec2-199e-4ea1-ba38-be4f03f6a6ac",
   "metadata": {},
   "source": [
    "```{admonition} Definition\n",
    ":class: tip\n",
    "\n",
    "**An actuarial phenomenon** is a stochastic phenomenon consisting of a random number of stochastic events, with outcomes occurring within specified time periods and being considered desirable or undesirable by participants in an economic system. \n",
    "\n",
    "**Actuarial risk variables** include frequency (the number of component stochastic events), timing (when outcomes occur), and severity (the undesirability of outcomes).\n",
    "```"
   ]
  },
  {
   "cell_type": "markdown",
   "id": "121cfcd3-337c-4fa5-94bc-6788948e034d",
   "metadata": {},
   "source": [
    "```{tip}\n",
    "Actuarial phenomena occur within economic systems and have various possible outcomes, often measured in monetary units.\n",
    "```"
   ]
  },
  {
   "cell_type": "markdown",
   "id": "a30bfb2d-0b13-4f97-8cef-e792f4d284de",
   "metadata": {},
   "source": [
    "```{admonition}  **Example 3.2: Car Insurance** \n",
    "\n",
    "In the context of car insurance, the phenomenon encompasses all incidents involving a particular insured vehicle within a specified period. Each incident may involve various stochastic events and outcomes, such as accidents, thefts, or damage due to natural disasters. The frequency of these incidents represents the number of occurrences within the insurance coverage period. Each incident involves multiple outcomes, including the event itself (accident or theft), the extent of damage to the vehicle, injuries to passengers or other parties, insurance payouts, and any legal proceedings resulting from the incident. Timing variables include the time of the incident, notification to the insurer, assessment of damage, processing of insurance claims, and resolution of legal matters. Severity variables measure the extent of damage to the vehicle, the severity of injuries, the amount of insurance coverage required, and any legal liabilities.\n",
    "\n",
    "- **Phenomenon:** Car insurance covers all incidents involving a specific insured vehicle over a designated time frame.\n",
    "- **Frequency:** The frequency of incidents represents the number of occurrences within the insurance coverage period.\n",
    "- **Stochastic Events:** Each incident, such as accidents or thefts, constitutes a stochastic event.\n",
    "- **Outcomes:** Various outcomes include the incident itself, damage to the vehicle, injuries, insurance payouts, and legal proceedings.\n",
    "- **Timing:** Timing variables encompass the occurrence of the incident, notification to the insurer, assessment of damage, claims processing, and legal resolution.\n",
    "- **Severity:** Severity variables measure the extent of damage, severity of injuries, required insurance coverage, and legal liabilities.\n",
    "```"
   ]
  },
  {
   "cell_type": "markdown",
   "id": "2593affe-007c-4060-a5b6-5d7bf454b5ff",
   "metadata": {},
   "source": [
    "```{admonition}  **Example 3.3: Life Insurance** \n",
    "\n",
    "In life insurance, the phenomenon encompasses all events related to the insured individual's life and its consequences within a specified period. These events include death, disability, or critical illness. The frequency of such events represents the number of occurrences within the insurance coverage period, with each event constituting a stochastic phenomenon. \n",
    "\n",
    "- **Phenomenon:** Life insurance covers events related to the insured individual's life, such as death, disability, or critical illness, within a specified period.\n",
    "- **Frequency:** The frequency of events represents the number of occurrences within the insurance coverage period.\n",
    "- **Stochastic Events:** Each event, such as death or disability, constitutes a stochastic phenomenon.\n",
    "- **Outcomes:** Various outcomes include the occurrence of the event itself (death, disability, critical illness), financial support for the insured or their beneficiaries, and any legal or administrative proceedings.\n",
    "- **Timing:** Timing variables encompass the occurrence of the event, notification to the insurer, processing of insurance claims, and distribution of benefits to beneficiaries.\n",
    "- **Severity:** Severity variables measure the financial impact of the event on the insured or their beneficiaries, the amount of insurance coverage provided, and any legal or administrative complexities involved.\n"
   ]
  },
  {
   "cell_type": "markdown",
   "id": "fcb22c31-6bd5-4f42-8fc8-73fb22e31a04",
   "metadata": {},
   "source": [
    "### <span style=\"color: dimgray;\">**Understanding Actuarial Models**</span>\n",
    "\n",
    "Actuarial models play a crucial role in the world of risk management and insurance. Let's break down what they are and how they work.\n",
    "\n",
    "**What is an Actuarial Model?**\n",
    "\n",
    "- An actuarial model is essentially a mathematical representation of one or more risks that actuaries use to understand and manage those risks.\n",
    "- Actuarial values are numerical values assigned to specific sets of risks, determined using these models.\n",
    "- Participants in the process assign a degree of confidence to these values, believing that higher confidence reflects values closer to the truth.\n",
    "\n",
    "**Stochastic vs. Deterministic Models**\n",
    "\n",
    "- Actuarial phenomena are inherently uncertain, but actuarial models can represent risks in two ways: stochastically or deterministically.\n",
    "- Stochastic models incorporate probability distributions to represent risk variables, essential for determining failure probabilities.\n",
    "- Deterministic models use sets of fixed values, often representing the means of underlying distributions.\n",
    "\n",
    "**Principles Behind Actuarial Modeling**\n",
    "\n",
    "- Actuarial models can be based on outcomes of experiments, observations, or knowledge related to the phenomenon itself.\n",
    "- They allow for understanding the likelihood of failure relative to specific criteria over a defined period.\n",
    "\n",
    "**Interconnected Components**\n",
    "\n",
    "- Components of an actuarial model can be interdependent. For instance, certain risks may be related, and changing one variable may affect others.\n",
    "- Actuarial risks often lead to rights or obligations involving cash transactions, such as insurance payouts or premiums.\n",
    "\n",
    "In essence, actuarial models serve as powerful tools for assessing risk, allowing for informed decision-making in the complex world of insurance and finance.\n"
   ]
  },
  {
   "cell_type": "markdown",
   "id": "ff3f46b7-1144-4346-8907-a993dbe9298f",
   "metadata": {},
   "source": [
    "```{admonition} Participants in the Process Assign Confidence\n",
    ":class: tip\n",
    "\n",
    "- In actuarial modeling, various stakeholders are involved, including actuaries, insurance companies, policymakers, and individuals seeking insurance coverage.\n",
    "- These participants rely on actuarial values provided by the models to make decisions regarding risk management, pricing of insurance policies, and setting financial reserves.\n",
    "- When assigning actuarial values to specific risks, participants may have differing levels of confidence in the accuracy of these values.\n",
    "- Higher confidence levels indicate a stronger belief that the assigned values accurately reflect the true underlying risks.\n",
    "- Actuaries and other experts involved in the modeling process strive to produce values that inspire confidence among stakeholders, as higher confidence levels contribute to more informed decision-making and greater trust in the insurance industry.\n",
    "\n",
    "```"
   ]
  },
  {
   "cell_type": "markdown",
   "id": "fd0bc7c3-2424-4375-b107-bccf5e6a8b26",
   "metadata": {},
   "source": [
    "## <span style=\"color: dimgray;\">**Financial Dynamics in Actuarial Modeling**</span>\n",
    "\n",
    "In actuarial modeling, an understanding of **financial dynamics** is essential. \n",
    "\n",
    "We will begin our exploration by leveraging financial modeling techniques to analyze how cashflows and interest rates impact risk assessment and insurance product design. \n",
    "\n",
    "This section delves into the fundamental principles governing cashflows, interest rates, and the time value of money within actuarial contexts. By exploring these concepts, we gain insight into how financial factors influence risk valuation and insurance product design. \n"
   ]
  },
  {
   "cell_type": "markdown",
   "id": "c120e065-2e89-49e5-9278-9bb5fe348d72",
   "metadata": {},
   "source": [
    "### <span style=\"color: dimgray;\">**Cashflows, Interest and the Time Value of Money**</span> \n",
    "\n",
    "\n",
    "In financial modeling, understanding **cashflows** is crucial because they represent the money a business receives or spends over time. By forecasting future cashflows, analysts can predict how well a company will perform, make investment decisions, and determine the value of assets or projects. Cashflows also help in budgeting, risk management, and assessing the financial health of a business. Essentially, cashflows provide valuable insights into the financial viability of investments, helping businesses plan for the future and make informed decisions about allocating resources.\n",
    "\n",
    "\n",
    "#### <span style=\"color: dimgray;\">**Cashflows**</span>\n",
    "\n",
    "\n",
    "Cashflows are amounts of money which are received (or income, positive\n",
    "cashflows) or paid (or outgo, negative cashflows) at particular times.\n",
    "Those payments arise from a financial transaction, e.g\n",
    "\n",
    "-   a bank account,\n",
    "\n",
    "-   a loan,\n",
    "\n",
    "-   an equity,\n",
    "\n",
    "-   a zero-coupon bond: A bond is a fixed income instrument that\n",
    "    represents a loan from an investor to a debtor either a government\n",
    "    or a corporation. A zero-coupon bond is a bond that pays no interest\n",
    "    during its life.\n",
    "\n",
    "-   a fixed interest security: A fixed-income security is a debt\n",
    "    instrument such as a bond or debenture that investors use to lend\n",
    "    money to a company in exchange for interest payments.\n",
    "\n",
    "-   an index-linked security: An index-linked bonds pay interest that is\n",
    "    tied to an underlying index, such as the consumer price index (CPI).\n",
    "    Index-linked bonds are issued by governments to mitigate the effects\n",
    "    of inflation by paying a real return plus accrued inflation.\n",
    "\n",
    "-   an annuity: An annuity is a series of payments made at regular\n",
    "    intervals, such as equal monthly payments on a mortgage.\n",
    "\n",
    "-   a capital project etc.\n",
    "\n",
    "Cash received represents inflows, income or also called **positive\n",
    "cashflows**, while money spent represents outflows, outgo or **negative\n",
    "cashflows**. The net cashflow at a given point in time is the difference\n",
    "between expenses and income.\n"
   ]
  },
  {
   "cell_type": "markdown",
   "id": "b3eed953-8cf2-4784-b7a6-aa24bc3593be",
   "metadata": {},
   "source": [
    "#### <span style=\"color: dimgray;\">**Types of Cashflows Based on Contingency**</span>\n",
    "\n",
    "Cashflows can be categorized based on their contingent nature, which refers to the conditions or events that trigger them. There are two main types of contingent cashflows:\n",
    "\n",
    "1. **Certain Cashflows:** These are cashflows that are expected to occur with certainty, meaning there is no uncertainty or risk associated with their timing or amount. For example, regular interest payments on a fixed-rate bond or scheduled dividend payments from a stable company are certain cashflows because they are contractually obligated and predictable.\n",
    "\n",
    "2. **Uncertain Cashflows:** These cashflows are contingent upon certain events or conditions, making their occurrence uncertain. Examples of uncertain cashflows include insurance claim payments, legal settlements, or sales revenues from a new product launch. These cashflows depend on external factors such as market conditions, customer demand, or regulatory changes, making them inherently unpredictable and subject to risk.\n"
   ]
  },
  {
   "cell_type": "markdown",
   "id": "3edf0b3e-4c68-4683-b152-85ecfb522c92",
   "metadata": {},
   "source": [
    "```{admonition}  **Example 3.4**\n",
    "Identify whether the following financial instruments generate certain or uncertain cashflows: a bank account, a loan, an equity, a zero-coupon bond, a fixed interest security, an index-linked security, an annuity, and a capital project.\n",
    "```"
   ]
  },
  {
   "cell_type": "markdown",
   "id": "5b7ef382-3783-4443-9d24-29b1b45830a8",
   "metadata": {},
   "source": [
    "Let's identify the type of cashflow associated with each financial instrument:\n",
    "\n",
    "1. **Bank Account:** Certain Cashflow - Deposits into a bank account typically represent certain cashflows, as they are predictable and occur regularly.\n",
    "\n",
    "2. **Loan:** Certain Cashflow - Loan repayments from borrowers represent certain cashflows, as they are contractually obligated and predictable.\n",
    "\n",
    "3. **Equity:** Uncertain Cashflow - Dividend payments from equity investments are uncertain cashflows, as they depend on the company's performance and profitability.\n",
    "\n",
    "4. **Zero-Coupon Bond:** Certain Cashflow - The final repayment of the principal amount at maturity represents a certain cashflow, as it is contractually obligated and predictable. However, zero-coupon bonds do not pay periodic interest, so they do not generate regular cashflows.\n",
    "\n",
    "5. **Fixed Interest Security:** Certain Cashflow - Interest payments from fixed-interest securities represent certain cashflows, as they are contractually obligated and predictable.\n",
    "\n",
    "6. **Index-Linked Security:** Uncertain Cashflow - Interest payments from index-linked securities are uncertain cashflows, as they depend on changes in the underlying index, such as the consumer price index (CPI).\n",
    "\n",
    "7. **Annuity:** Certain Cashflow - Annuity payments represent certain cashflows, as they are predetermined and occur at regular intervals.\n",
    "\n",
    "8. **Capital Project:** Uncertain Cashflow - Cashflows associated with a capital project, such as revenues from sales or cost savings, are uncertain cashflows, as they depend on various factors such as market conditions and project success.\n",
    "\n",
    "These examples illustrate how different financial instruments generate certain or uncertain cashflows based on their characteristics and contractual agreements.\n"
   ]
  },
  {
   "cell_type": "markdown",
   "id": "51dbf50e-0977-4038-a569-34d887902da4",
   "metadata": {},
   "source": [
    "```{admonition}  **Example 3.5**\n",
    "\n",
    "A series of payments into and out of a bank account is given as follows:\n",
    "\n",
    "-   payments into the account : ฿1000 on 1 January 2014 and ฿100 on 1\n",
    "    January 2016\n",
    "\n",
    "-   payments out of the account : ฿200 on 1 July 2015, ฿300 on 1 July\n",
    "    2016, and ฿400 on 1 January 2018\n",
    "\n",
    "```"
   ]
  },
  {
   "cell_type": "markdown",
   "id": "8b2ff92a-88b1-4e20-925f-4cb0182d4ece",
   "metadata": {},
   "source": [
    "```{tip}\n",
    "In practice, cashflows can be represented by a timeline as can be\n",
    "illustrated in this example.\n",
    "```"
   ]
  },
  {
   "cell_type": "markdown",
   "id": "0b3c929d-1483-45ed-8777-71b125079db1",
   "metadata": {},
   "source": [
    "#### <span style=\"color: dimgray;\">**Interest and the Time Value of Money**</span>\n",
    "\n",
    "\n",
    "This section introduces the time value of money using the concepts of\n",
    "compound interest and discounting. The effect of interest rates on the\n",
    "present value of future cash flows is discussed. The value of distant\n",
    "cash flows in the present and current cash flows in the future are then\n",
    "considered.\n",
    "\n",
    "We illustrate the time value of money by considering the following\n",
    "examples."
   ]
  },
  {
   "cell_type": "markdown",
   "id": "85b8ef05-b063-4720-95ff-eb4ec9d45005",
   "metadata": {},
   "source": [
    "```{admonition}  **Example 3.6**\n",
    "An investor want to make a payment of ฿10000 in 2 years. Suppose that a\n",
    "bank pays compound interest at 4% per annum effective. How much should\n",
    "the initial investment?\n",
    "```"
   ]
  },
  {
   "cell_type": "markdown",
   "id": "fea95c03-f69f-498a-9c5a-625bf91fffab",
   "metadata": {},
   "source": [
    "**Note** The amount we need to invest now (i.e. the initial investment\n",
    "in this example) is called the *present value (PV)* or *discounted\n",
    "value* of the payments."
   ]
  },
  {
   "cell_type": "markdown",
   "id": "d1a7f2b2-707a-44cc-8d87-c64016b6b3f0",
   "metadata": {},
   "source": [
    "```{admonition}  **Example 3.7**\n",
    "Consider the following arguments\n",
    "\n",
    "-   It is obvious that you would prefer to have ฿1100 now than ฿1000\n",
    "    now.\n",
    "\n",
    "-   If we receive and hold ฿1 now, then it is worth more than receiving\n",
    "    and holding ฿1 at some time in the future? Why is this?\n",
    "\n",
    "-   Is it obvious that your would be better off with ฿1100 in 2 years\n",
    "    than ฿1000 now?\n",
    "```"
   ]
  },
  {
   "cell_type": "markdown",
   "id": "2a74041c-6f5b-4616-a90b-5eda356892cb",
   "metadata": {},
   "source": [
    "**Solution:**\n",
    "\n",
    "For the second argument, this one baht will grow to $1 + r$ in the first\n",
    "year, $(1 + r)^2$ in two years, and so on. These amounts are clearly\n",
    "worth more than receiving and holding ฿1 at the same time in the future.\n",
    "\n",
    "For the last argument, we need to compare the values of the amounts received at different times. To do this, we can look at the today's\n",
    "values of ฿1100 received in 2 years assuming that we can invest at an\n",
    "annual interest rate of $r$ percent.\n",
    "\n",
    "The present value of this amount $X$ in year 2 is \n",
    "\n",
    "$$1100/(1 + r)^2.$$ \n",
    "\n",
    "Assuming $r = 5\\%$, the present value of $X$ is `r 1100/(1 + 0.05)^2`.\n",
    "\n",
    "Comparing the values in today's baths, it is better to\n",
    "have ฿1000 now than to have ฿1100 in 2 years."
   ]
  },
  {
   "cell_type": "markdown",
   "id": "13f70a73-e1e8-4407-9afc-3366e6bc362b",
   "metadata": {},
   "source": [
    "```{tip}\n",
    "\n",
    "**Notes** From the above example,\n",
    "\n",
    "1.  One can deposit or invest ฿1 now and will receive ฿1 back and a\n",
    "    reward called *interest* at some point in the future. Because of its\n",
    "    potential earning power, money in the present is worth more than an\n",
    "    equal amount in the future. This is a fundamental financial\n",
    "    principle known as **the time value of money**.\n",
    "\n",
    "2.  At a given point of time, cash has a monetary value, but also has a\n",
    "    *time value*.\n",
    "\n",
    "3.  The amount deposited or invested is called *capital* or *principal*.\n",
    "```"
   ]
  },
  {
   "cell_type": "markdown",
   "id": "f3251afd-f4f1-49de-814e-e14b2bf53d5c",
   "metadata": {},
   "source": [
    "#### <span style=\"color: dimgray;\">**Interest and the Time Value of Money**</span>\n",
    "\n",
    "##### <span style=\"color: dimgray;\">**Simple interest**</span>\n",
    "\n",
    "\n",
    "**Simple interest** is a calculation of interest that does not take into\n",
    "account the effect of compounding. Under simple interest, the amount of interest that accrues over time is proportional to the length of the period.\n",
    "\n",
    "Suppose an amount $C$ is deposited in\n",
    "an account that pays simple interest at the rate of $i$% per annum. Then\n",
    "after $n$ years the deposit will have accumulated to\n",
    "\n",
    "$$C( 1 + i \\cdot n).$$ \n",
    "\n",
    "Hence, the interest accrued over $n$ years is\n",
    "\n",
    "$$\\text{Simple Interest}  = C \\cdot i \\cdot n.$$\n",
    "\n",
    "**Note** Auto loans and short-term personal loans are usually simple\n",
    "interest loans.\n"
   ]
  },
  {
   "cell_type": "markdown",
   "id": "cae5c3b2-2c72-4a2c-a39a-6e062cdb80cc",
   "metadata": {},
   "source": [
    "```{admonition}  **Example 3.8**\n",
    "\n",
    "An investor deposits ฿10000 in a bank account that pays simple interest\n",
    "at a rate of 5% per annum. Calculate\n",
    "\n",
    "1.  interest he will earn after the first two years.\n",
    "\n",
    "2.  interest he will earn after the first three months.\n",
    "```\n"
   ]
  },
  {
   "cell_type": "markdown",
   "id": "e4999f71-541b-4c0c-85a8-02f12989a050",
   "metadata": {},
   "source": [
    "**Note** When $n$ is not an integer, interest is paid on a pro-rate\n",
    "basis (in proportion). \n",
    "\n",
    "**Solution:**\n",
    "\n",
    "1.  At the end of 2 years the interest earned is\n",
    "\n",
    "    $$10000 \\cdot 0.05 \\cdot 2 = 1000.$$\n",
    "\n",
    "3.  At the end of 3 months the interest earned is\n",
    "\n",
    "    $$10000 \\cdot 0.05 \\cdot \\frac{3}{12} = 125.$$\n",
    "\n",
    "    Alternatively, the\n",
    "    interest per month is 5%/12 = 0.4167% and hence the interest earned\n",
    "    can be calculated as\n",
    "\n",
    "    $$10000 \\cdot 0.004167 \\cdot 3 = 125.$$\n"
   ]
  },
  {
   "cell_type": "markdown",
   "id": "83fad4f4-50c2-47e6-a2ae-4abac42f89b5",
   "metadata": {},
   "source": [
    "##### <span style=\"color: dimgray;\">**Compound interest**</span>\n",
    "\n",
    "\n",
    "In compound interest, the accumulated amount over a period of time is the capital of the following period. Therefore, a capital of 1 unit at the end of the year increases to $1 + i$ units, which becomes the capital for the following year. \n",
    "\n",
    "For year 2, the principal is $1 + i$ and the interest for the year is \n",
    "$( 1 + i ) \\cdot i$. By the end of 2 years, an initial payment of 1 will have accumuulated to \n",
    "\n",
    "$$ (1+i) + ( 1 + i ) \\cdot i = (1+i)^2.$$\n",
    "\n",
    "As this progression continues, the accumulated amount of $X$ units at the end of year $n$ becomes\n",
    "\n",
    "  $$ X\\cdot(1 + i)^n. $$\n",
    "\n",
    "**Note** In this case, we can take money out and reinvest it as new capital illustrated in the timeline."
   ]
  },
  {
   "cell_type": "markdown",
   "id": "8762e16e-e567-45a6-93a3-5954454b34d8",
   "metadata": {},
   "source": [
    "```{admonition}  **Example 3.9**\n",
    "\n",
    "(Excel)  Use Excel to create a table showing the accumulated amounts at the end of each year for 15 years for a principal of ฿100 under the simple interest approach and the compound interest approach with $r = 6\\%$ for both cases.\n",
    "Discuss the results obtained (How long does it take to double the investment? How much will the principal grow over a 15-year period?)\n",
    "\n",
    "```"
   ]
  },
  {
   "cell_type": "markdown",
   "id": "cd936c7d-0020-4482-90e2-07ff6fb89d15",
   "metadata": {},
   "source": [
    "##### <span style=\"color: dimgray;\">**Frequency of Compounding**</span>\n",
    "\n",
    "Even though the interest rate is typically expressed in annual terms, an investment's interest is frequently paid more frequently than once per year. For example, a savings account may offer an interest rate of 4% per year, credited quarterly. This interest rate is usually referred to as **nominal rate of interest**, i.e., 4% due four times per year. \n",
    "\n",
    "We will see that the frequency of interest payments, also known as the **frequency of compounding**, has a significant impact on the total amount accrued and the interest collected. Consequently, it is crucial to precisely specify the rate of interest.\n",
    "\n",
    "We use $i^{(m)}$ to represent the nominal rate of interest payable $m$ times a year in order to underline the significance of the frequency of compounding. Therefore, $m$ is the\n",
    "frequency of compounding per year and $1/m$ year is the **compounding period** or **conversion period**.\n",
    "\n",
    "**Note** The nominal rate of interest payable $m$ times per period is also known as the rate of interest convertible $m$thly or compounded $m$thly.\n",
    "\n"
   ]
  },
  {
   "cell_type": "markdown",
   "id": "5b065cc2-d335-43b4-931c-11d5189769ba",
   "metadata": {},
   "source": [
    "```{admonition}  **Example 3.10**\n",
    "Calculate the accumulated value in 1 year of a deposit of ฿100 in a saving account that earns interest at 10% payable quarterly.\n",
    "```\n",
    "\n",
    "**Solution:** In this example, the nominal rate of interest of $i^{(4)} = 10\\%$ p.a. convertible\n",
    "quarterly means an interest rate of 10%/4 = 2.5% per quarter. In this case, the interest rate of 2.5% is *effective interest*. The effective interest rate of $i$ per unit of time (which may be month, quarter, etc.) is the amount of interest received at the end of a unit of time per ฿1 invested at the beginning of that unit.\n",
    "\n",
    "Therefore, the nominal interest rate $i^{(4)} = 10\\%$ is equivalent to an\n",
    "*effective interest rate* of $2.5\\%$ per quarter. \n",
    "The accumulated value in\n",
    "1 year is $100 (1 + \\frac{10\\%}{4})^4 = 100 (1 + 2.5\\%)^4 = 110.3813$. \n",
    "\n",
    "Note that after compound interest is\n",
    "taken into account, the interest income of an investor at the quarterly\n",
    "convertible nominal interest rate of 10% p.a. is 10.3813 (or 10.3813%.p.a. effective)"
   ]
  },
  {
   "cell_type": "markdown",
   "id": "cc02a98e-3823-422b-a01c-e499c95ebadb",
   "metadata": {},
   "source": [
    "\n",
    "\n",
    "```{admonition}  **Example 3.11**\n",
    "At a rate of 12% p.a. effective, draw a timeline to show cashflows if\n",
    "฿100 is invested at the start of the year.\n",
    "```\n",
    "\n",
    "**Solution:** The accumulated value of ฿100 at the end of the year is\n",
    "$100 (1 + 12\\%) = 112$.\n",
    "\n",
    "```{admonition}  **Example 3.12**\n",
    "At a rate of 12% p.a. compounding quarterly, draw a time line to show\n",
    "cashflows if ฿100 is invested at the start of the year.\n",
    "```\n",
    "\n",
    "**Solution:** The nominal interest rate $i^{(4)} = 12\\%$ is equivalent\n",
    "to an effective interest rate of $3\\%$ per quarter. The accumulated\n",
    "value in 1 year is $100 (1 + 3\\%)^4 = 112.55$. After compound interest\n",
    "is taken into account, the interest income of an investor at the\n",
    "quarterly convertible nominal interest rate of 10% p.a. is 12.55 (or\n",
    "12.55%. p.a. effective)\n",
    "\n",
    "**Note** $i^{(m)}$ is a nominal rate of interest which is equivalent to $i^{(m)}/m$ applied for\n",
    "each $m$th of a period. The interest is paid $m$ times per measurement period. "
   ]
  }
 ],
 "metadata": {
  "kernelspec": {
   "display_name": "R",
   "language": "R",
   "name": "ir"
  },
  "language_info": {
   "codemirror_mode": "r",
   "file_extension": ".r",
   "mimetype": "text/x-r-source",
   "name": "R",
   "pygments_lexer": "r",
   "version": "4.2.1"
  }
 },
 "nbformat": 4,
 "nbformat_minor": 5
}