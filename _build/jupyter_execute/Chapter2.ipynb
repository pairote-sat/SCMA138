{
 "cells": [
  {
   "cell_type": "markdown",
   "id": "2a0d0a07-9c4f-4e4a-9546-ffae6f8add97",
   "metadata": {},
   "source": [
    "(chapter2-label)=\n",
    "# <span style=\"color: dimgray;\">**Chapter 2**</span>"
   ]
  },
  {
   "cell_type": "markdown",
   "id": "1e12abbc-34d7-43e3-9984-8716e1b5f6c5",
   "metadata": {},
   "source": [
    "## <span style=\"color: dimgray;\">**Statistical and Probabilistic Framework**</span>"
   ]
  },
  {
   "cell_type": "markdown",
   "id": "cc578dc3-7e3d-408b-82d1-a49b0a03750d",
   "metadata": {},
   "source": [
    "**Statistics** is essential in various fields, including actuarial science, where it's a key tool for managing risks and making decisions. In actuarial science, actuaries use statistical methods, especially **statistical inferential methods**, to analyze data related to insurance, pensions, and financial risks.\n",
    "\n",
    "Actuaries employ inferential statistics to predict and derive meaningful insights from limited datasets, undertaking vital tasks such as \n",
    "\n",
    "* estimating life expectancies, \n",
    "* calculating insurance premiums, and \n",
    "* evaluating investment risks. \n",
    "\n",
    "This application of statistical methods enables them to assess the **probability** of future events and understand their potential impact on financial systems. \n",
    "\n",
    "\n",
    "By using these statistical techniques, actuaries can better understand and deal with the uncertainties that come with their work. The combination of statistics and actuarial science emphasizes the importance of using data to make well-informed decisions in finance and insurance."
   ]
  },
  {
   "cell_type": "markdown",
   "id": "19693427-658f-4071-beb9-0a11769402e4",
   "metadata": {},
   "source": [
    "### <span style=\"color: dimgray;\">**How Do Probability and Statistical Inference Work Together?**</span>"
   ]
  },
  {
   "cell_type": "markdown",
   "id": "8acdbd47-6797-4b19-85fb-8662fb6cf586",
   "metadata": {},
   "source": [
    "In the world of statistics, probability and inferential statistics work together like puzzle pieces, helping us build a clearer picture. Think of probability as the foundation – it's like the starting point that assists us in understanding real-life situations through statistical inference.\n",
    "\n",
    "In simpler terms, when we have some information from a smaller group (sample), we use statistical methods and probability to make conclusions about a larger group (population)."
   ]
  },
  {
   "cell_type": "markdown",
   "id": "7de3ee2a-a92c-4407-b5c4-d1cf52b7a6d6",
   "metadata": {},
   "source": [
    "```{admonition}  **Example 2.1** \n",
    "\n",
    "For instance, let's say we measure the heights of a few students (our sample) to guess the average height of all students in a school (the population). This is where probability and statistical inference come into play – helping us make educated guesses about the whole group based on the limited information we have. Here, we are emphasizing \"**inferential statistics**.\""
   ]
  },
  {
   "cell_type": "markdown",
   "id": "440714fc-28c2-4f69-b8e9-79804990c0b4",
   "metadata": {},
   "source": [
    "```{admonition}  **Example 2.2**  \n",
    "\n",
    "Now, let's explore a different scenario where we already know all the details about the entire group (population). Here, we use probability to predict what information we might obtain if we were to take a hypothetical sample. It's like saying, \"We know everything about all the students; now, what can we expect if we only look at a few randomly chosen students?\" In this case, we are emphasizing \"**probability**.\""
   ]
  },
  {
   "cell_type": "markdown",
   "id": "f7ef25b3-c0b4-40a7-ab82-6af79889dc5d",
   "metadata": {},
   "source": [
    "So, in a nutshell, probability and inferential statistics team up – using what we know to understand what we don't know, whether it's making guesses about a big group from a small one (inferential statistics) or predicting what we might find in a sample from a known population (probability). The relationship between probability and inferential statistics is illustrated in Figure "
   ]
  },
  {
   "cell_type": "markdown",
   "id": "e8fbbe8d-cb0a-42c3-aa73-8c2433e5d08f",
   "metadata": {},
   "source": [
    "```{figure} _build/images/RelationshipProbStat.png\n",
    ":name: figure-relationship-prob-stat\n",
    "\n",
    "Fundamental relationship between probability and inferential statistics. \n",
    "\n",
    "Source: {cite:ts}`walpole2011probability`.   \n",
    "```"
   ]
  },
  {
   "cell_type": "markdown",
   "id": "56edeb23-47b6-43ca-ae4c-163ad9a95134",
   "metadata": {},
   "source": [
    "## <span style=\"color: dimgray;\">**Outline of Chapter 2**</span>\n",
    "\n",
    "In this chapter, we establish a comprehensive understanding of statistics and probability, laying the groundwork for subsequent lessons.\n",
    "\n",
    "### <span style=\"color: dimgray;\">**Probability**</span>\n",
    "\n",
    "#### <span style=\"color: dimgray;\">**2.1 Data Collection and Descriptive Statistics**</span>\n",
    "Before delving into probabilistic concepts, we initiate with the crucial step of collecting and summarizing data. Topics include data collection methods, descriptive statistics, and graphical representations, providing the essential foundation for meaningful analysis.\n",
    "\n",
    "#### <span style=\"color: dimgray;\">**2.2 Probability Basics**</span>\n",
    "\n",
    "Building on the groundwork laid in 2.1, we explore the fundamentals of probability. This encompasses understanding sample spaces, events, and calculating probabilities, setting the stage for probabilistic reasoning.\n",
    "\n",
    "#### <span style=\"color: dimgray;\">**2.3 Probability Distributions**</span>\n",
    "\n",
    "Moving forward, we delve into probability distributions and random variables, elucidating how they form the basis for statistical analyses by describing the likelihood of different outcomes.\n",
    "\n",
    "### <span style=\"color: dimgray;\">**Statistical Inference**</span>\n",
    "\n",
    "#### <span style=\"color: dimgray;\">**2.4 Sampling Distributions**</span>\n",
    "\n",
    "As an extension of probability distributions, we discuss sampling distributions, highlighting their importance in statistical inference.\n",
    "\n",
    "#### <span style=\"color: dimgray;\">**2.5 Confidence Intervals**</span>\n",
    "\n",
    "Transitioning into statistical inference, we cover confidence intervals, demonstrating how they provide a range of plausible values for population parameters.\n",
    "\n",
    "#### <span style=\"color: dimgray;\">**2.6 Hypothesis Testing**</span>\n",
    "\n",
    "The chapter concludes by addressing hypothesis testing. This practical application integrates probability concepts into statistical inference, showcasing their collaborative role."
   ]
  }
 ],
 "metadata": {
  "kernelspec": {
   "display_name": "R",
   "language": "R",
   "name": "ir"
  },
  "language_info": {
   "codemirror_mode": "r",
   "file_extension": ".r",
   "mimetype": "text/x-r-source",
   "name": "R",
   "pygments_lexer": "r",
   "version": "4.2.1"
  }
 },
 "nbformat": 4,
 "nbformat_minor": 5
}