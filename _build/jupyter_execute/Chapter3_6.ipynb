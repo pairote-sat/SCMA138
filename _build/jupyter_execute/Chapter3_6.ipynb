{
 "cells": [
  {
   "cell_type": "markdown",
   "id": "d61a0b90-0424-42aa-b68d-3768011e8793",
   "metadata": {},
   "source": [
    "## <span style=\"color: dimgray;\">**3.6  Exploring Actuarial Models in Life Insurance**</span>"
   ]
  },
  {
   "cell_type": "markdown",
   "id": "520d4ee4-0917-4c1c-8a44-abb97327ae85",
   "metadata": {},
   "source": [
    "### <span style=\"color: dimgray;\">**3.6  Introduction to Survival Models**</span>"
   ]
  },
  {
   "cell_type": "markdown",
   "id": "a0361fb9-16fb-499c-b2bf-cab44b0e5d5a",
   "metadata": {},
   "source": [
    "The **survival model** is a foundational concept in actuarial science and statistical modeling.\n",
    "\n",
    "The survival model treats the **future lifetime** of an individual as a continuous random variable, forming the basis for various actuarial and statistical analyses. Let us explore its key components and applications:\n",
    "\n",
    "1. **Continuous Random Variable**: The lifetime of an individual is represented as a continuous random variable, allowing for precise modeling and analysis.\n",
    "\n",
    "2. **Survival Function**: Denoted as $ S(t) $, the survival function represents the probability that an individual survives beyond time $ t $. It is defined as $ S(t) = \\mathbb{P}(T > t) $, where $ T $ is the random variable representing lifetime.\n",
    "\n",
    "3. **Hazard Function**: The hazard function, denoted as $ \\mu(t) $ or $ h(t) $, represents the instantaneous rate of mortality at time $ t $, given survival up to that time. It is defined as $ \\mu(t) = \\frac{f(t)}{S(t)} $, where $ f(t) $ is the probability density function of the lifetime.\n",
    "\n",
    "4. **Applications**:\n",
    "   - **Life Insurance**: Assessing risk, determining premiums, and managing financial obligations.\n",
    "   - **Pension Plans**: Estimating liabilities, making strategic investment decisions.\n",
    "   - **Healthcare Planning**: Resource allocation, preventive healthcare strategies.\n",
    "\n",
    "5. **Extensions**:\n",
    "   - **Insurance Policy Duration**: Analyzing policyholder behavior, predicting policy durations.\n",
    "   - **Healthcare Analysis**: Assessing disease progression, planning interventions.\n",
    "\n",
    "The survival model's versatility extends beyond mortality to other domains such as insurance policy duration and healthcare analysis.\n"
   ]
  },
  {
   "cell_type": "markdown",
   "id": "b6d4e9f9-42c8-4461-ba17-e82026edcdda",
   "metadata": {},
   "source": [
    "```{admonition}  **Example 3.25: The timeline of the whole life insurance contract**\n",
    "\n",
    "Draw a timeline to illustrate this insurance benefit: Whole Life Insurance, payable immediately upon death, has the following conditions: \n",
    "\n",
    "- death benefit (sum insured) of 1\n",
    "\n",
    "- payable immediately on the death\n",
    "\n",
    "- of an individual currently aged x\n",
    "\n",
    "- for death occurring any time in the future.\n",
    "```\n"
   ]
  },
  {
   "cell_type": "markdown",
   "id": "99a3a1c8-bd41-4737-84b5-12f6611cc22c",
   "metadata": {},
   "source": [
    "```{admonition}  **Solution to Example 3.25**\n",
    ":class: important\n",
    "\n",
    "<details>\n",
    "  <summary>Click to toggle answer</summary>\n",
    "\n",
    "\n",
    "We need to define a random variable  \n",
    "\n",
    "$$T_x = \\text{the remaining future life time of a life aged }x.$$\n",
    "\n",
    "In this timeline below:\n",
    "- **Age x**: Represents the current age of the insured individual when the insurance policy is taken out.\n",
    "- **Time passes**: Represents the period during which the insured individual continues to hold the insurance policy.\n",
    "- **Death of Insured**: Represents the occurrence of death at any time in the future.\n",
    "- **Benefit Payable Immediately upon Death**: Indicates that the death benefit (sum insured) of 1 is payable immediately upon the death of the insured individual, regardless of when it occurs in the future.\n",
    "\n",
    "This timeline visually demonstrates the conditions of Whole Life Insurance, where the death benefit is guaranteed and payable immediately upon the death of the insured individual.\n",
    "\n",
    "\n",
    "```{figure} _build/images/tikz-sol2-1.png\n",
    ":name: figure-tikz-sol2-1.png\n",
    "\n",
    "The timeline of the whole life insurance contract\n",
    "```\n",
    "\n",
    "\n",
    "</details>\n"
   ]
  },
  {
   "cell_type": "markdown",
   "id": "9ac2ef37-c8b4-4d0b-b58c-0cf22b05267d",
   "metadata": {},
   "source": [
    "```{tip}\n",
    "Further information can be found in the course **Life Contingencies I**.\n",
    "```"
   ]
  },
  {
   "cell_type": "markdown",
   "id": "85c98999-3f07-4ee5-9520-de9a6660e08d",
   "metadata": {},
   "source": [
    "## <span style=\"color: dimgray;\">**The probability density function of $T_x$**</span>\n",
    "\n",
    "\n",
    "The (remaining) future lifetime of a life aged $x$ is a random variable $T_x$, which is continuously distributed on an interval $[0,w], \\, 0 < w < \\infty$. The value $w$ is called the **limiting age**, which is in practice taken the value in the range $[100,120]$. It is the maximum age beyond which it is not possible to live.\n"
   ]
  },
  {
   "cell_type": "markdown",
   "id": "f51a49d0-06c7-45e2-b04e-29eca66052c0",
   "metadata": {},
   "source": [
    "\n",
    "The distribution of $T_x$ is \n",
    "\n",
    "$$F_x(t) = \\Pr(T_x \\le t) = \\Pr(\\text{a life aged } (x) \\text{ dies not later than } x+ t).$$\n",
    "\n",
    "The survival function $S_x(t)$ is defined as\n",
    "\n",
    "$$S_x(t) = \\Pr(T_x > t) = \\Pr(\\text{a life aged } (x) \\text{ dies after (or survives to) age } x+ t).$$\n",
    "\n",
    "\n",
    "```{figure} _build/images/FutureLifeTime.png\n",
    ":name: figure-FutureLifeTime.png\n",
    "\n",
    "Future life time random variable\n",
    "```\n",
    "\n",
    "These two functions define transition probabilities between Alive and Dead states in the mortality model (as given in the above diagram). Actuaries have their own notation as follows:\n",
    "\n",
    "$${}_{t}q_{x} = F_x(t) = \\Pr(T_0 \\le x + t | T_0 > x),$$\n",
    "\n",
    "where $T_0$ is the remaining future lifetime from birth.\n",
    "and\n",
    "\n",
    "$${}_{t}p_{x} = S_x(t) = \\Pr(T_0 > x + t | T_0 > x) .$$\n",
    "\n",
    "### <span style=\"color: dimgray;\">**Force of mortality**</span>\n",
    "\n",
    "\n",
    "The probability that a life alive at a given age will be dead at any subsequent age is governed by the **force of mortality** (or **transition intensity** or **hazard rate** or **instantaneous rate of death**). For age $x$, $0 \\le x \\le w$, we define\n",
    "\n",
    "$$\\mu_x = \\lim_{h \\rightarrow 0^+} \\frac{1}{h} \\times \\Pr(T_0 \\le x + h | T_0 > x).$$\n",
    "\n",
    "It follows that for small $h$, the transition probability ${}_{h}q_{x}$ can be approximated by\n",
    "\n",
    "$${}_{h}q_{x} \\approx h \\cdot \\mu_x.$$\n",
    "\n",
    "The force of mortality is measured with respect to a time unit. We will assume the time unit is year.\n",
    "\n"
   ]
  },
  {
   "cell_type": "markdown",
   "id": "9a41c95b-6da3-4055-bbe0-2faf6082535d",
   "metadata": {},
   "source": [
    "```{admonition}  **Example 3.26: Approximation of transition probability**\n",
    "\n",
    "Given that $\\mu_{70} \\approx 0.05$ per year for males in Thailand, calculate approximately the probability that a 70 year old male dies within\n",
    "\n",
    "(a) one day;\n",
    "(b) one week. \n",
    "```\n",
    "\n",
    "```{admonition}  **Solution to Example 3.2**\n",
    ":class: important\n",
    "\n",
    "<details>\n",
    "  <summary>Click to toggle answer</summary>\n",
    "\n",
    "The transition probability ${}_{h}q_{x}$ can be approximated by\n",
    "\n",
    "$${}_{h}q_{x} \\approx h \\cdot \\mu_x.$$\n",
    "\n",
    "Hence,\t\n",
    "\n",
    "$${}_{\\frac{1}{365}}q_{70} \\approx \\left( \\frac{1}{365} \\right) \\times  \\mu_{70}  =  \\left( \\frac{1}{365} \\right)  \\times 0.05 = 0.000137,$$\n",
    "\n",
    "and \n",
    "\n",
    "$${}_{\\frac{7}{365}}q_{70} \\approx \\left( \\frac{7}{365} \\right) \\times  \\mu_{70}  =  \\left( \\frac{7}{365} \\right)  \\times 0.05 = 0.000959.$$\n",
    "```"
   ]
  },
  {
   "cell_type": "markdown",
   "id": "6906f302-9e04-43a9-92f7-520ee9dfef72",
   "metadata": {},
   "source": [
    "#### <span style=\"color: dimgray;\">**Summary of model**</span>\n",
    "\n",
    "- $T_x$ is the (random) future lifetime after age $x$. It is, by assumption, a continuous random variable taking values in $[0, \\omega - x]$. Its distribution function is $F_x(t) = {}_{t} q_x$.\n",
    "\n",
    "- Its probability density function is $f_x(t) = {}_{t}p_x \\cdot \\mu_{x+t}$.\n",
    "\n",
    "- The force of mortality is interpreted by the approximate relationship:\n",
    "${}_{h}q_x \\approx h \\cdot \\mu_x$ (for small $h$).\n",
    "\n",
    "- The survival functions $S_x(t)$ or ${}_{t}p_x$ satisfy the relationship:\n",
    "\n",
    "$${}_{s+t}p_x = {}_{s}p_x \\cdot {}_{t}p_{x + s} = {}_{t}p_x \\cdot {}_{s}p_{x + t},$$ \n",
    "\n",
    "for any $s > 0, t > 0.$\n"
   ]
  },
  {
   "cell_type": "markdown",
   "id": "a7394167-cc2b-4cf6-a0b5-239f66cc3cb4",
   "metadata": {},
   "source": [
    "### <span style=\"color: dimgray;\">**Life Table**</span>\n",
    "\n",
    "A **life table** is a statistical tool used to represent the mortality and survival patterns of a population. It organizes data on \n",
    "\n",
    "- the probability of death and\n",
    "- the number of survivors at each age for a given population over a specific period, typically one year.\n",
    "\n",
    "Life tables are commonly used in demography, actuarial science, epidemiology, and public health to analyze population dynamics, forecast future trends, and calculate life expectancies.\n",
    "\n",
    "#### <span style=\"color: dimgray;\">**Structure of a Life Table**</span>\n",
    "\n",
    "1. **Age**: This signifies individual ages, often expressed as single years or grouped into intervals.\n",
    "\n",
    "2. **Number of Deaths ($d_x$)**: This represents the expected number of individuals who die within the age interval.\n",
    "\n",
    "3. **Expected Number of Lives ($l_x$)**: $l_x$ denotes the expected number of lives at age $x$\n",
    "\n",
    "4. **Probability of Dying ($q_x$)**: This is the probability of dying within the specific age interval.\n",
    "\n",
    "5. **Life Expectancy ($\\mathring{e}_x$ (read \"e-circle-x\"))**: This is the expected future lifetime after age $x$ , which is referred to by demographers as the expectation of life at age $x$. \n",
    "\n",
    "\n",
    "```{admonition}  **Example 3.27: Life table**\n",
    "\n",
    "The table represents the mortality rates of the population of England and Wales during the years 1990, 1991, and 1992.\n",
    "\n",
    "We can observe the survival patterns, mortality rates, and life expectancies for different age groups within the population. \n",
    "```"
   ]
  },
  {
   "cell_type": "markdown",
   "id": "f496fd26-3926-4781-ad74-43caeb6195ee",
   "metadata": {},
   "source": [
    "```{figure} _build/images/elt15.png\n",
    ":name: figure-elt.png\n",
    "\n",
    "The mortality of the population of England and Wales during the years 1990, 1991 and 1992\n",
    "```"
   ]
  }
 ],
 "metadata": {
  "kernelspec": {
   "display_name": "Python 3 (ipykernel)",
   "language": "python",
   "name": "python3"
  },
  "language_info": {
   "codemirror_mode": {
    "name": "ipython",
    "version": 3
   },
   "file_extension": ".py",
   "mimetype": "text/x-python",
   "name": "python",
   "nbconvert_exporter": "python",
   "pygments_lexer": "ipython3",
   "version": "3.10.9"
  }
 },
 "nbformat": 4,
 "nbformat_minor": 5
}