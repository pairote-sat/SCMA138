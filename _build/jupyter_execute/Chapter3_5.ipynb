{
 "cells": [
  {
   "cell_type": "markdown",
   "id": "ac3ba419-19ff-40e9-92e1-3f0fdf40ae1a",
   "metadata": {},
   "source": [
    "## <span style=\"color: dimgray;\">**3.5  Equations of Value**</span>\n"
   ]
  },
  {
   "cell_type": "markdown",
   "id": "895be199-0148-4038-82e8-2194cbfc6a6e",
   "metadata": {},
   "source": [
    "**An equation of value**, particularly in actuarial work, is a fundamental concept used to determine **fair prices** and **premiums** for insurance products or financial contracts. \n",
    "\n",
    "It's essentially an equation that equates the present value of future cash flows to the price or premium being paid or received. This concept is crucial in ensuring that both parties involved are treated fairly and that the transaction is economically sound."
   ]
  },
  {
   "cell_type": "markdown",
   "id": "5406de17-2fe3-4511-9c9b-88584e945001",
   "metadata": {},
   "source": [
    "```{admonition}  **Definitions**\n",
    ":class: tip\n",
    "An equation equates the present value of money received to the present value of money paid out:\n",
    "\n",
    "$$\\text{PV income = PV outgo},$$\n",
    "\n",
    "or equivalently:\n",
    "\n",
    "$$\\text{PV income - PV outgo = 0}$$\n",
    "```"
   ]
  },
  {
   "cell_type": "markdown",
   "id": "8e7ff263-eb78-4ea8-8454-45c5663c9338",
   "metadata": {},
   "source": [
    "In the context of actuarial work, one common application of the equation of value is in pricing insurance policies, such as life insurance or annuities. Let's explore an example:\n",
    "\n",
    "\n",
    "```{admonition}  **Example 3.22: The equation of value in a whole life insurance policy cxample**\n",
    "\n",
    "Consider a simple whole life insurance policy that pays out a death benefit of $100,000 upon the death of the insured. The insurer needs to determine the premium that the policyholder should pay to ensure that, on average, they collect enough money to cover the expected future payouts, administrative costs, and a reasonable profit margin.\n",
    "\n",
    "How can we express the equation of value for this particular scenario?"
   ]
  },
  {
   "cell_type": "markdown",
   "id": "55fe3ca3-adaf-4792-9a8a-bf594a893074",
   "metadata": {},
   "source": [
    "```{admonition}  **Solution to Example 3.22**\n",
    ":class: important\n",
    "\n",
    "<details>\n",
    "  <summary>Click to toggle answer</summary>\n",
    "\n",
    "The equation of value for this scenario would look something like this:\n",
    "\n",
    "$$\\text{PV=Premium=Expected Future Claims+Administrative Costs+Profit Margin\n",
    "}$$\n",
    "\n",
    "Where:\n",
    "- $PV$ is the present value of the future cash flows.\n",
    "- $\\text{Premium}$ is the amount the policyholder pays.\n",
    "- $\\text{Expected Future Claims}$ represents the expected amount the insurer will need to pay out in death benefits over the life of the policy.\n",
    "- $\\text{Administrative Costs}$ include expenses associated with policy administration, such as underwriting, marketing, and policy maintenance.\n",
    "- $\\text{Profit Margin}$ is the additional amount the insurer seeks to cover its overhead costs and generate a profit.\n",
    "\n",
    "To determine the fair premium, actuaries use various mathematical models and actuarial assumptions to estimate the expected future claims, administrative costs, and desired profit margin. They then solve for the premium that satisfies the equation of value, ensuring that the insurer can meet its obligations while remaining financially viable.\n",
    "\n",
    "For instance, if the expected future claims over the life of the policy are estimated to be \\$70,000, administrative costs amount to \\$10,000, and the desired profit margin is \\$20,000, then the fair premium would be:\n",
    "\n",
    "$$\\text{PV=Premium=\\$70,000+\\$10,000+\\$20,000=\\$100,000}$$\n",
    "\n",
    "So, in this example, the premium would be set at $100,000 to ensure that the insurer can cover its expected costs and make a reasonable profit.\n",
    "\n",
    "</details>\n",
    "```"
   ]
  },
  {
   "cell_type": "markdown",
   "id": "d5dc10de-22bf-4fb5-b2c9-fde71d5a9e6a",
   "metadata": {},
   "source": [
    "In finance and investment, the equation of value finds application in determining bond pricing, where it helps calculate the present value of future cash flows from interest payments and the final redemption payment. Let us explore an example to illustrate its usage in financial contexts.\n",
    "\n",
    "```{admonition}  **Example 3.23: The equation of value: fixed interest security**\n",
    "\n",
    "A fixed interest security $S$ involves an initial payment $P$\n",
    "made by the investor in exchange for a series of interest payments of $D$ payable at the end of each of the next $n$ years and a final redemption payment of $R$ payable at the end of the $n$ years. The investor earns an annual effective rate of return of $i$.\n",
    "\n",
    "Note that the final redemption payment is the last payment made to the investor at the end of the investment period\n",
    "\n",
    "Express the equation of value for this particular scenario."
   ]
  },
  {
   "cell_type": "markdown",
   "id": "30ca9bc6-d8c1-4533-878b-b0498a275180",
   "metadata": {},
   "source": [
    "```{admonition}  **Solution to Example 3.23**\n",
    ":class: important\n",
    "\n",
    "<details>\n",
    "  <summary>Click to toggle answer</summary>\n",
    "\n",
    "This equation represents the pricing of a security where an investor pays an initial price $P$ to receive a stream of future cash flows. \n",
    "\n",
    "$$P = D a_{\\overline{n}|} + R v^n, \\quad \\text{calculated at interest rate } i$$\n",
    "\n",
    "- $P$: The initial price paid by the investor.\n",
    "- $D$: The periodic payment received by the investor (interest payments) at the end of each period.\n",
    "- $R$: The final redemption payment received by the investor at the end of the investment period.\n",
    "- $a_{\\overline{n}|}$: The accumulation factor for an annuity due, which represents the present value of an annuity with $n$ payments, calculated at an interest rate $i$.\n",
    "- $v$: The present value factor for a single payment received in the future, discounted back to the present at an interest rate $i$.\n",
    "- $n$: The number of periods over which the cash flows occur.\n",
    "\n",
    "The equation can be understood as follows: the initial price $P$ equals the present value of all the future cash flows. The present value of the annuity payments ($D a_{\\overline{n}|}$) represents the present value of the stream of interest payments, and the present value of the redemption payment ($R v^n$) accounts for the final payment received at the end of the investment period."
   ]
  },
  {
   "cell_type": "markdown",
   "id": "7c9ea51e-09ab-4b39-8385-60a9ebf59070",
   "metadata": {},
   "source": [
    "```{admonition}  **Example 3.24: Bond pricing**\n",
    "\n",
    "A company issues a 10-year bond, to be redeemed at 102\\%, with an annual interest rate of 6% pa payable half-yearly in arrears. The nominal amount of each bond is ฿100. \n",
    "\n",
    "An investor buy this bond on its issue date.\n",
    "Cashflows are illusrtated in the following table.\n",
    "\n",
    "| Time (year) | 0    | 0.5  | 1    | 1.5  | ... | 9.5  | 10       |\n",
    "|-------------|------|------|------|------|-----|------|----------|\n",
    "| Cashflow    | -P    | 3    | 3    | 3    | ... | 3    | 3 + 102 |\n",
    "\n",
    "Calculate the price the investor should pay to obtain a yield of 9\\%.\n",
    "```"
   ]
  },
  {
   "cell_type": "markdown",
   "id": "dee43cd3-1ebd-419c-8c6f-98aa61ce8658",
   "metadata": {},
   "source": [
    "```{admonition}  **Solution to Example 3.24**\n",
    ":class: important\n",
    "\n",
    "<details>\n",
    "  <summary>Click to toggle answer</summary>\n",
    "  \n",
    "**Solution:** Appplying the Principle of Equivalence: by equate the\n",
    "present value of the future incomes at 9% with the unknown price $P$.\n",
    "\n",
    "$$P = \\frac{6}{2} a_{\\overline{20|}j} + 102 (\\frac{1}{1.09})^{10},$$ where\n",
    "$j = (1.09)^{(1/2)} - 1 = 0.044031.$ \n",
    "\n",
    "This gives $P = 82.44$. It should\n",
    "be emphasised that the price in this example differs from the nominal\n",
    "amount of $100$.\n",
    "\n",
    "</details>\n",
    "```"
   ]
  }
 ],
 "metadata": {
  "kernelspec": {
   "display_name": "Python 3 (ipykernel)",
   "language": "python",
   "name": "python3"
  },
  "language_info": {
   "codemirror_mode": {
    "name": "ipython",
    "version": 3
   },
   "file_extension": ".py",
   "mimetype": "text/x-python",
   "name": "python",
   "nbconvert_exporter": "python",
   "pygments_lexer": "ipython3",
   "version": "3.10.9"
  }
 },
 "nbformat": 4,
 "nbformat_minor": 5
}