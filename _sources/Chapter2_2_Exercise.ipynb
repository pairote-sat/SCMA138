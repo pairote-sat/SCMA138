{
 "cells": [
  {
   "cell_type": "markdown",
   "id": "3d7c5d36-7ec9-4304-9681-b2bccb30b450",
   "metadata": {},
   "source": [
    "# Exercises for Chapter 2.2"
   ]
  },
  {
   "cell_type": "markdown",
   "id": "94376265-b0e0-4626-b27e-4b37f7f118b0",
   "metadata": {},
   "source": [
    "```{admonition}  **Exercise 2.7**\n",
    ":class: tip\n",
    "\n",
    "Write R code to simulate the `num_outcomes` outcomes of rolling two six-sided dice and store the results as tuples. Additionally, display the simulated outcomes in tuple format.\n",
    "```"
   ]
  },
  {
   "cell_type": "markdown",
   "id": "f80cf217-85de-42b1-aba4-9a1cfe55b69a",
   "metadata": {},
   "source": [
    "```{admonition}  **Exercise 2.8**\n",
    ":class: warning\n",
    "\n",
    "Develop a Microsoft Excel spreadsheet to simulate the outcomes of rolling two six-sided dice. Additionally, format the spreadsheet to display the simulated outcomes in tuple format, with the outcomes of the first die in Column A, the outcomes of the second die in Column B, and the outcomes in tuple format in Column C.\n",
    "```"
   ]
  },
  {
   "cell_type": "markdown",
   "id": "ab404ff6-06ac-4356-8a4b-b42def210e90",
   "metadata": {},
   "source": [
    "```{admonition}  **Exercise 2.9**\n",
    ":class: tip\n",
    "\n",
    "Define the sample space for the sum of the results from rolling two six-sided dice. Additionally, include R code to simulate  simulate the `num_outcomes` outcomes of this experiment.\n",
    "```"
   ]
  },
  {
   "cell_type": "markdown",
   "id": "8aae9847-c685-4617-915d-f5f218ad55cd",
   "metadata": {},
   "source": [
    "```{admonition}  **Exercise 2.10**\n",
    ":class: tip\n",
    "\n",
    "Calculate the theoretical probability of each outcome resulting from rolling two six-sided dice and summing the results.\n",
    "```"
   ]
  },
  {
   "cell_type": "markdown",
   "id": "837b633c-ea58-4044-b2e3-57c0642ebd31",
   "metadata": {},
   "source": [
    "```{admonition}  **Exercise 2.11**\n",
    ":class: tip\n",
    "\n",
    "Write R code to verify the theoretical probability of each outcome obtained from rolling two six-sided dice and summing the results.\n",
    "\n",
    "Hint: Consider using the `replicate()` function to simulate rolling two six-sided dice and summing the results multiple times. You can then compare the frequencies of the simulated outcomes to the theoretical probabilities. Here's an example of how to use the replicate() function:\n",
    "```"
   ]
  },
  {
   "cell_type": "code",
   "execution_count": 1,
   "id": "30a9c391-a8fd-40b5-aa81-0a93c5aff90f",
   "metadata": {},
   "outputs": [],
   "source": [
    "# Example of using replicate() function\n",
    "num_simulations <- 1000\n",
    "\n",
    "simulated_outcomes <- replicate(num_simulations, sum(sample(1:6, 2, replace = TRUE)))"
   ]
  },
  {
   "cell_type": "markdown",
   "id": "ae1256b3-8c2f-4e79-b97c-5ba72e120c57",
   "metadata": {},
   "source": [
    "```{admonition}  **Exercise 2.12**\n",
    ":class: warning\n",
    "\n",
    "Create an Excel spreadsheet to simulate the results of rolling two six-sided dice and summing their outcomes. Additionally, confirm the theoretical probability of each outcome resulting from this process.\n",
    "```"
   ]
  }
 ],
 "metadata": {
  "kernelspec": {
   "display_name": "R",
   "language": "R",
   "name": "ir"
  },
  "language_info": {
   "codemirror_mode": "r",
   "file_extension": ".r",
   "mimetype": "text/x-r-source",
   "name": "R",
   "pygments_lexer": "r",
   "version": "4.2.1"
  }
 },
 "nbformat": 4,
 "nbformat_minor": 5
}
