{
 "cells": [
  {
   "cell_type": "markdown",
   "id": "68cce759-14ed-4b7b-b8e9-a540becc848d",
   "metadata": {},
   "source": [
    "# Exercises for Chapter 3.3 and 3.4"
   ]
  },
  {
   "cell_type": "markdown",
   "id": "ebd34f9b-e553-4cce-b99f-1e5618e4b5bb",
   "metadata": {},
   "source": [
    "```{admonition} **Exercise 3.10**\n",
    ":class: tip\n",
    "\n",
    "Calculate the following accumulation:\n",
    "   - Accumulate ฿5,000 for 4 years at 7.5\\% per annum effective.\n",
    "   - Accumulate ฿800 for 2.7 years at 3\\% per quarter-year effective.\n",
    "   - Accumulate ฿10,000 for 27 months at 4.25\\% per half-year effective.\n",
    "```"
   ]
  },
  {
   "cell_type": "markdown",
   "id": "4c6977c7-2744-477b-b844-6156dc6c6ca1",
   "metadata": {},
   "source": [
    "```{admonition} **Exercise 3.11**\n",
    ":class: tip\n",
    "\n",
    "Calculate the present values on 1 January 2015 of the following payments at the given rates of interest:\n",
    "   - ฿1,000 on 1 January 2016, at 7.5\\% per annum effective.\n",
    "   - ฿100 on 1 October 2016, at 3\\% per quarter-year effective.\n",
    "   - ฿10,000 on 1 April 2016, at 4.25\\% per half-year effective.\n",
    "```"
   ]
  },
  {
   "cell_type": "markdown",
   "id": "509b1ffb-a6c3-4061-b2bd-fcd95fa6fb50",
   "metadata": {},
   "source": [
    "```{admonition} **Exercise 3.12**\n",
    ":class: tip\n",
    "\n",
    "If the effective rate of interest is 4\\% per annum, calculate the effective rate of interest per month?\n",
    "   If the effective rate of interest is 6.5\\% per half-year, calculate the effective rate of interest per quarter-year?\n",
    "```"
   ]
  },
  {
   "cell_type": "markdown",
   "id": "cb35804a-1a3a-4845-8385-ba4dff6042ad",
   "metadata": {},
   "source": [
    "```{admonition} **Exercise 3.13**\n",
    ":class: tip\n",
    "\n",
    "The effective rate of interest per annum was 4\\% during 2015, 5\\% during 2016 and 6\\% thereafter.\n",
    "   - Calculate the accumulation of ฿500 from 1 January 2015 to 1 January 2018.\n",
    "   - Calculate the accumulation of ฿2000 from 1 April 2015 to 1 October 2017.\n",
    "   - Calculate the accumulation factor from 1 January 2015 to 1 January 2018.\n",
    "```"
   ]
  },
  {
   "cell_type": "markdown",
   "id": "cfc89be8-0e73-4597-b96f-c9507130097e",
   "metadata": {},
   "source": [
    "```{admonition} **Exercise 3.14**\n",
    ":class: tip\n",
    "\n",
    "You deposit ฿3000 to an account that earns 2.5\\% compounded annually. How much will you have in three years?\n",
    "```"
   ]
  },
  {
   "cell_type": "markdown",
   "id": "3b1ae694-d131-46c0-abcf-062177ccf60d",
   "metadata": {},
   "source": [
    "```{admonition} **Exercise 3.15**\n",
    ":class: tip\n",
    "\n",
    "A person borrows a sum of ฿5,000 and agrees to pay this back at the end of 1 year with interest calculated at an effective rate of 10\\% per annum. Calculate the amount to be repaid for the loan.\n",
    "```"
   ]
  },
  {
   "cell_type": "markdown",
   "id": "aa49fe22-bcd8-4e64-a62f-5362bd5cb01f",
   "metadata": {},
   "source": [
    "```{admonition} **Exercise 3.16**\n",
    ":class: tip\n",
    "\n",
    "You want to have ฿1000 in 2 years and ฿2000 in 4 years. How much should you deposit now into an account earning the effective rate of 5.75\\% semiannually?\n",
    "```"
   ]
  },
  {
   "cell_type": "markdown",
   "id": "41c750f1-90d6-41f3-bcba-6293c4d75601",
   "metadata": {},
   "source": [
    "```{admonition} **Exercise 3.17**\n",
    ":class: tip\n",
    "\n",
    "An ordinary annuity is a series of equal payments made at the end of consecutive periods over a fixed length of time. Draw a timeline for the following annuity having cashflow of 1 unit at the end of each of the next n time units.\n",
    "```"
   ]
  },
  {
   "cell_type": "markdown",
   "id": "eeb65795-c967-4d87-a70b-62b53f636e25",
   "metadata": {},
   "source": [
    "```{admonition} **Exercise 3.18**\n",
    ":class: tip\n",
    "\n",
    "Draw a timeline to illustrate this insurance benefit:\n",
    "\n",
    "Whole Life Insurance - payable immediately on death - has following conditions:\n",
    "\n",
    "- death benefit (sum insured) of 1\n",
    "- payable immediately on the death\n",
    "- of an individual currently aged x\n",
    "- for death occurring any time in the future.\n",
    "```"
   ]
  },
  {
   "cell_type": "markdown",
   "id": "091f00e8-8503-46f9-856e-e70fd4c08fbc",
   "metadata": {},
   "source": [
    "```{admonition} **Exercise 3.19**\n",
    ":class: tip\n",
    "\n",
    "Starting at 1 January 2015, the effective rate of interest per annum was 3\\% per quarter-year for 9 months, 4\\% per half-year for 15 months and and 2\\% per month thereafter.\n",
    "   - Calculate the accumulation factor from 1 January 2015 to 1 January 2018.\n",
    "   - Calculate the accumulation of ฿5,000 from 1 July 2015 to 1 October 2017.\n",
    "   - Calculate the accumulation of ฿100 from 1 March 2016 to 1 August 2018.\n",
    "   - Calculate the present value at 1 January 2015 of ฿25,000 receivable on 1 July 2016.\n",
    "   - Calculate the present value at 1 April 2015 of ฿8,000 receivable on 1 October 2017.\n",
    "   - Calculate the discount factor from 1 July 2015 to 1 October 2016."
   ]
  },
  {
   "cell_type": "markdown",
   "id": "9f62ba5b-3471-45fa-9fc8-e4aaa0f255cb",
   "metadata": {},
   "source": [
    "```{admonition} **Exercise 3.20**\n",
    ":class: tip\n",
    "\n",
    "Calculate the present value now of an annuity payable monthly in advance. The annual amount of the annuity will be ฿2,400 for the first 10 years and ฿3,600 for the next 15 years, after which payment will cease. Assume that the effective rate of interest is 2\\% per annum.\n",
    "```"
   ]
  },
  {
   "cell_type": "markdown",
   "id": "78a0a281-f578-4aab-92d9-a61ee6bbdbbd",
   "metadata": {},
   "source": [
    "```{admonition} **Exercise 3.21**\n",
    ":class: tip\n",
    "\n",
    "Assume that the effective rate of interest will be 3\\% for 5 years from now, 4\\% for the next 5 years and 5\\% thereafter. Calculate the following values:\n",
    "   - The present value of an annuity of ฿1,000 per annum, payable in arrear for 15 years.\n",
    "   - The present value of an annuity due of ฿500 per annum, payable at the beginning of the year for 20 years.\n",
    "   - The accumulation value of an increasing annuity payable yearly in arrear for 30 years. The first annual payment is ฿100, and payments will be increased by ฿100 each year.\n",
    "   - The accumulation value of an increasing annuity payable yearly in advance for 18 years. The first annual payment is ฿1,000, and payments will be increased by 2\\% each year (compound).\n",
    "   - The present value of an annuity of ฿200, payable in arrear for 10 years and deferred for 3 years.\n",
    "```"
   ]
  },
  {
   "cell_type": "markdown",
   "id": "22c5174e-e5ed-4953-b1ac-8fe699332c0d",
   "metadata": {},
   "source": [
    "```{admonition} **Exercise 3.22**\n",
    ":class: tip\n",
    "\n",
    "You borrow ฿240,000 from a bank to be repaid by the end of 5 years. Assume that the interest rate is 4\\% per annum. Consider the following four possible options for the loan to be repaid.\n",
    "   - Calculate the amount of the repayments to repay if you choose to repay the loan as late as possible.\n",
    "   - You may choose to repay interest only during the 6 years term of loan and repay the capital at the end of the term. Calculate interest to be repaid and draw the timeline to illustrate the cash flows for the repayment of the loan.\n",
    "   - Calculate the amount X of level instalments to repay the loan which will be paid at the end of each year for 5 years and draw the timeline to illustrate the cash flows for the repayment of the loan.\n",
    "   - Calculate the amount Y of level instalments to repay the loan which will be paid at the end of each month for 5 years and draw the timeline to illustrate the cash flows for the repayment of the loan.\n",
    "```"
   ]
  },
  {
   "cell_type": "markdown",
   "id": "397c5a41-65bb-4a9d-88e9-b95adf32d75c",
   "metadata": {},
   "source": [
    "```{admonition} **Exercise 3.23**\n",
    ":class: tip\n",
    "\n",
    "A person now age 30 has received a pension from a company. When he retires at age 60, he will be paid on each birthday from the 60th to the 85th inclusive. The first annual payment will be half of his salary when he retires, and payments will then increase by 2\\% compounding each year. Currently, he receives a salary of ฿20,000 and will increase by 3\\% each year compounding in line with inflation. Assume that the effective rate of interest will be 4\\% for the next 20 years and 5\\% thereafter. Calculate the present value now of this pension.\n",
    "```"
   ]
  },
  {
   "cell_type": "markdown",
   "id": "410153f4-b5d1-40a4-99ae-084f3da6fc75",
   "metadata": {},
   "source": []
  }
 ],
 "metadata": {
  "kernelspec": {
   "display_name": "Python 3 (ipykernel)",
   "language": "python",
   "name": "python3"
  },
  "language_info": {
   "codemirror_mode": {
    "name": "ipython",
    "version": 3
   },
   "file_extension": ".py",
   "mimetype": "text/x-python",
   "name": "python",
   "nbconvert_exporter": "python",
   "pygments_lexer": "ipython3",
   "version": "3.10.9"
  }
 },
 "nbformat": 4,
 "nbformat_minor": 5
}
