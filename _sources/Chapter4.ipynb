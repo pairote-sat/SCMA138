{
 "cells": [
  {
   "cell_type": "markdown",
   "id": "526169db-f42e-46df-9ba9-190d7642e2bf",
   "metadata": {},
   "source": [
    "Slide 1: Economic and Behavioral Framework\n",
    "\n",
    "* Economics explains behavior through incentives and disincentives.\n",
    "* Actions of organizations are influenced by the actions of individuals within them.\n",
    "* Economic system comprises participants, goods, and markets."
   ]
  },
  {
   "cell_type": "markdown",
   "id": "c9d05981-7314-420d-9bc2-861eaa0524a5",
   "metadata": {},
   "source": [
    "\n",
    "Slide 1: Economic and Behavioral Framework\n",
    "Economics provides insights into behavior by analyzing incentives and disincentives. Organizations' actions are shaped by the individuals within them, operating within an economic system consisting of participants, goods, and markets."
   ]
  },
  {
   "cell_type": "markdown",
   "id": "d8bfc5d5-2cb3-4817-9790-411b60d1aee6",
   "metadata": {},
   "source": [
    "Slide 2: Definitions\n",
    "\n",
    "Economic system: Participants, goods, and markets.\n",
    "Economic transaction: Exchange of goods among participants.\n",
    "Contract: Mutual commitment to certain actions.\n",
    "Not all goods can be exchanged due to legal restrictions or absence of willing parties."
   ]
  },
  {
   "cell_type": "markdown",
   "id": "4fb6dbf9-f958-47c8-97b4-275efcd4f09c",
   "metadata": {},
   "source": [
    "Slide 2: Definitions\n",
    "Key terms include economic system (participants, goods, markets), economic transaction (exchange among participants), and contract (mutual commitments). Not all goods can be exchanged due to legal constraints or lack of willing parties.\n"
   ]
  },
  {
   "cell_type": "markdown",
   "id": "7c2a10a0-7220-4bf0-b811-f1a770770d5e",
   "metadata": {},
   "source": [
    "Slide 3: Participant Preferences\n",
    "\n",
    "Actions reflect relative preferences for goods.\n",
    "Transactions influenced by other participants' ability and willingness.\n",
    "Outcomes reflect relative preferences of participants."
   ]
  },
  {
   "cell_type": "markdown",
   "id": "b0e8d762-baeb-4390-b484-ea91df03c58d",
   "metadata": {},
   "source": [
    "Slide 3: Participant Preferences\n",
    "Actions of participants reflect their relative preferences for goods. Transactions are influenced by other participants' willingness and capacity to engage, leading to outcomes that mirror the preferences of involved parties.\n"
   ]
  },
  {
   "cell_type": "markdown",
   "id": "84d3049c-6bae-4ed3-bb0b-66394fbe3bed",
   "metadata": {},
   "source": [
    "Slide 4: Preferences and Indifference\n",
    "\n",
    "Participant prefers one good over another if unwilling to exchange it for the other.\n",
    "Indifference occurs when participant is willing to exchange either good for the other.\n",
    "Relative preferences can change with occurrence of transactions.\n"
   ]
  },
  {
   "cell_type": "markdown",
   "id": "2c648247-b4af-4ca9-bc47-b81028d8e1b0",
   "metadata": {},
   "source": [
    "Slide 4: Preferences and Indifference\n",
    "Participants prefer one good over another if unwilling to exchange it for the latter. Indifference occurs when participants are equally willing to exchange either good for the other. Preferences may change with transaction occurrences."
   ]
  },
  {
   "cell_type": "markdown",
   "id": "f4216ade-4dab-4383-94c7-17856fcd3db7",
   "metadata": {},
   "source": [
    "Slide 5: Principle (Preference or Indifference)\n",
    "\n",
    "* Principle 2.1: At a given time, participants either prefer one good to another or are indifferent between them.\n",
    "* Rare cases of non-identical goods where preference or indifference doesn't apply can usually be ignored."
   ]
  },
  {
   "cell_type": "markdown",
   "id": "85329a62-fb4d-4c05-b76e-8ac852903b35",
   "metadata": {},
   "source": [
    "Slide 5: Principle (Preference or Indifference)\n",
    "Principle 2.1 states that at any given time, participants either prefer one good over another or are indifferent between them. Rare cases where this doesn't apply can typically be disregarded."
   ]
  },
  {
   "cell_type": "code",
   "execution_count": null,
   "id": "031cf803-a68d-4599-889d-923ae215b705",
   "metadata": {},
   "outputs": [],
   "source": []
  },
  {
   "cell_type": "markdown",
   "id": "c0639e49-ded7-4a77-9d3c-9a3b905571ef",
   "metadata": {},
   "source": [
    "Slide 1: Definition of Desirable and Undesirable Goods\n",
    "\n",
    "* Desirable goods are preferred to be received, while undesirable goods are preferred to be disposed of.\n",
    "* Example: Garbage is generally considered undesirable.\n",
    "* Participants can express preferences or declare indifference, but agreement is not required (Principle 2.2)."
   ]
  },
  {
   "cell_type": "markdown",
   "id": "0b3da631-2d51-4312-a154-9fd1e5dbed85",
   "metadata": {},
   "source": [
    "Slide 2: Principle of Diversity of Preferences\n",
    "\n",
    "* Principle 2.2: In most economic systems, diverse preferences exist.\n",
    "* Some participants prefer one good over another, while others prefer the second good.\n",
    "* Diversity of preferences extends beyond current exchanges to potential future possessions."
   ]
  },
  {
   "cell_type": "markdown",
   "id": "9e5fc85a-dd3b-4fb3-bc8a-567f96463cb6",
   "metadata": {},
   "source": [
    "```{figure} _build/images/tikz-ex1-1.png\n",
    ":name: figure-tikz-ex1-1.png\n",
    "\n",
    "Fundamental relationship between probability and inferential statistics. \n",
    "\n",
    "Source: {cite:ts}`walpole2011probability`.   \n",
    "```"
   ]
  }
 ],
 "metadata": {
  "kernelspec": {
   "display_name": "Python 3 (ipykernel)",
   "language": "python",
   "name": "python3"
  },
  "language_info": {
   "codemirror_mode": {
    "name": "ipython",
    "version": 3
   },
   "file_extension": ".py",
   "mimetype": "text/x-python",
   "name": "python",
   "nbconvert_exporter": "python",
   "pygments_lexer": "ipython3",
   "version": "3.10.9"
  }
 },
 "nbformat": 4,
 "nbformat_minor": 5
}
