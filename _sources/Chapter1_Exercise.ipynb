{
 "cells": [
  {
   "cell_type": "markdown",
   "id": "24711cb5-e386-4451-a904-9628584978c3",
   "metadata": {},
   "source": [
    "# Exercises for Chapter 1"
   ]
  },
  {
   "cell_type": "markdown",
   "id": "6e24f846-594a-4a62-ab0c-183c093959d6",
   "metadata": {},
   "source": [
    "### **Individual Exercise:** \"2023 Global and Thailand Top Finance and Economic Stories\"\n",
    "\n",
    "**Objective:**\n",
    "This exercise aims to develop your skills in summarizing and citing important finance and economic events from both global and Thailand contexts in the year 2023. The emphasis on proper referencing encourages good research practices and ensures the credibility of your findings.\n",
    "\n",
    "**Instructions:**\n",
    "1. Examine the provided \"Finance and the Economy: Our 3 Top Stories from 2023\" for both the global and Thailand perspectives.\n",
    "2. Summarize each story in simple words, emphasizing key events and their impact on the global and Thai economies.\n",
    "3. Include appropriate references and citations for each story. Failure to do so will result in a 50% deduction of total marks."
   ]
  },
  {
   "cell_type": "markdown",
   "id": "2f38d27a-6d9d-432c-a55c-ff3f390ed34e",
   "metadata": {},
   "source": [
    "## **Group Reading Project:** Exploring the Historical Evolution of Actuarial Science\n",
    "\n",
    "**Objectives:** In the exercise section, we will focus on hands-on activities and materials related to the historical development of actuarial science. These practical tasks will help you apply what you've learned and gain a better understanding of how actuarial science has evolved.\n",
    "\n",
    "**Group Size:** Up to 4 students per group\n",
    "\n",
    "**Instructions:**\n",
    "\n",
    "1. **Reading and Analysis:** Read the materials carefully about the history of actuarial science. Look for important dates, people, and events that shaped its development.\n",
    "\n",
    "2. **Summarization:** Work together to create a short summary highlighting the main points you found. Include key facts, notable figures, and any significant changes in actuarial science over time.\n",
    "\n",
    "3. **References:** Don't forget to mention where you got the information. Write down the titles, authors, or sources of the materials you used in your summary.\n"
   ]
  },
  {
   "cell_type": "code",
   "execution_count": null,
   "id": "62d90d80-5d4e-46f0-a547-e3cd9a359ab2",
   "metadata": {},
   "outputs": [],
   "source": []
  }
 ],
 "metadata": {
  "kernelspec": {
   "display_name": "Python 3 (ipykernel)",
   "language": "python",
   "name": "python3"
  },
  "language_info": {
   "codemirror_mode": {
    "name": "ipython",
    "version": 3
   },
   "file_extension": ".py",
   "mimetype": "text/x-python",
   "name": "python",
   "nbconvert_exporter": "python",
   "pygments_lexer": "ipython3",
   "version": "3.9.12"
  }
 },
 "nbformat": 4,
 "nbformat_minor": 5
}
