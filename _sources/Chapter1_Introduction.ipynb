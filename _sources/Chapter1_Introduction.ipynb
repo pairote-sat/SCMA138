{
 "cells": [
  {
   "cell_type": "markdown",
   "id": "7955e4fc-1263-4b34-8add-d30dcc0097d5",
   "metadata": {
    "tags": []
   },
   "source": [
    "# <span style=\"color: dimgray;\">**Chapter 1**</span>\n"
   ]
  },
  {
   "cell_type": "markdown",
   "id": "2fa8515e-7e57-4e59-bc4c-720fb79d57f5",
   "metadata": {},
   "source": [
    "## <span style=\"color: dimgray;\">**Introduction to Actuarial Science**</span>"
   ]
  },
  {
   "cell_type": "markdown",
   "id": "e1702343-e718-4fd8-adc1-8ccf3075ef9d",
   "metadata": {},
   "source": [
    "In 2024, the world witnessed several ongoing conflicts that had significant implications on geopolitics and human lives. This year was marked by heightened tensions and devastating clashes in various regions, including the Russian invasion of Ukraine, the Israel-Hamas war, the Myanmar civil war, and the war in Sudan. Each conflict presented unique challenges and raised concerns about the broader impact on stability and security.\n",
    "\n",
    "Besides conflicts, let's look at the global outlook for 2024."
   ]
  },
  {
   "cell_type": "markdown",
   "id": "233feb8f-b520-48cd-8933-82273242c593",
   "metadata": {
    "tags": []
   },
   "source": [
    "## <span style=\"color: dimgray;\">**World Outlook 2024**</span>\n",
    "\n",
    "\n",
    "* Ongoing conflicts in 2024: Russian invasion of Ukraine, Israel–Hamas war, Myanmar civil war, and war in Sudan.\n",
    "\n",
    "\n",
    "```{figure} _build/images/Mapping_World_Ongoing_Conflicts_vertical.jpeg\n",
    "\n",
    ":name: figure-example\n",
    "\n",
    "Image from https://www.visualcapitalist.com/mapped-where-are-the-worlds-ongoing-conflicts-today/\n",
    "```\n",
    "\n",
    "\n",
    "* 2024 designed the \"biggest election year in history\" with approximately 76 countries, covering around four billion people, holding national elections.\n",
    "\n",
    "* Eight of the ten most populous countries (Bangladesh, Brazil, Pakistan, Russia, India, Mexico, Indonesia, and the United States) are part of this election year, along with the United Kingdom and the European Parliament.\n",
    "\n",
    "* Artificial intelligence likely to influence voters, raising concerns about political disinformation and democratic backsliding.\n",
    "\n",
    "* The Economist Democracy Index indicates that of the 71 countries covered, 28 will not have free democratic elections.\n",
    "\n",
    "Souce: https://en.wikipedia.org/wiki/2024"
   ]
  },
  {
   "cell_type": "markdown",
   "id": "9da6b876-dfd1-4593-9686-7d1d26d8b9bc",
   "metadata": {},
   "source": [
    "## <span style=\"color: dimgray;\">**Risks Associated with Global Developments in 2024**</span>"
   ]
  },
  {
   "cell_type": "markdown",
   "id": "429d91b3-a561-4c19-b7e0-e180a9157689",
   "metadata": {},
   "source": [
    "<details style=\"border: 2px solid dimgray; border-radius: 5px; padding: 10px;\">\n",
    "  <summary style=\"cursor: pointer; font-weight: bold; color: navy;\">Geopolitical Risks:</summary>\n",
    "    \n",
    "  * Ongoing conflicts in Ukraine, Israel-Hamas, Myanmar, and Sudan pose geopolitical risks, affecting international relations and stability.\n",
    "  * Potential for increased tensions and conflict escalation, leading to broader geopolitical implications.\n",
    "     \n",
    "</details>"
   ]
  },
  {
   "cell_type": "markdown",
   "id": "0cb6d709-c310-46f4-840b-543467567d72",
   "metadata": {
    "tags": []
   },
   "source": [
    "<style>\n",
    "    .vertical-space {\n",
    "        height: 0.5cm;\n",
    "    }\n",
    "</style>\n",
    "\n",
    "<div class=\"vertical-space\"></div>"
   ]
  },
  {
   "cell_type": "markdown",
   "id": "0fcc82cc-68d5-4dbc-8659-8072654c1be5",
   "metadata": {},
   "source": [
    "<details style=\"border: 2px solid dimgray; border-radius: 5px; padding: 10px;\">\n",
    "  <summary style=\"cursor: pointer; font-weight: bold; color: navy;\">Political Risks:</summary>\n",
    "  \n",
    "  * The \"biggest election year in history\" involves a substantial number of countries, raising political risks globally.\n",
    "  * Concerns about democratic backsliding in the 28 countries without free democratic elections, as identified by The Economist Democracy Index.\n",
    "</details>"
   ]
  },
  {
   "cell_type": "markdown",
   "id": "fe42f201-5160-45cb-8242-1d2ebfe392dc",
   "metadata": {
    "tags": []
   },
   "source": [
    "<style>\n",
    "    .vertical-space {\n",
    "        height: 0.5cm;\n",
    "    }\n",
    "</style>\n",
    "\n",
    "<div class=\"vertical-space\"></div>"
   ]
  },
  {
   "cell_type": "markdown",
   "id": "25f94c8c-b736-4eef-8425-e809d7e4b8df",
   "metadata": {},
   "source": [
    "<details style=\"border: 2px solid dimgray; border-radius: 5px; padding: 10px;\">\n",
    "  <summary style=\"cursor: pointer; font-weight: bold; color: navy;\">Security Risks:</summary>\n",
    "\n",
    "  * Ongoing wars and conflicts contribute to security risks in affected regions, potentially leading to displacement, refugee crises, and humanitarian challenges.\n",
    "</details>"
   ]
  },
  {
   "cell_type": "markdown",
   "id": "5362448f-d418-4f06-a2f4-48a06804ea1d",
   "metadata": {
    "tags": []
   },
   "source": [
    "<style>\n",
    "    .vertical-space {\n",
    "        height: 0.5cm;\n",
    "    }\n",
    "</style>\n",
    "\n",
    "<div class=\"vertical-space\"></div>"
   ]
  },
  {
   "cell_type": "markdown",
   "id": "8ccdb4e9-4448-4d5f-8a26-2a0d8595c5f2",
   "metadata": {},
   "source": [
    "<details style=\"border: 2px solid dimgray; border-radius: 5px; padding: 10px;\">\n",
    "  <summary style=\"cursor: pointer; font-weight: bold; color: navy;\">Social Risks:</summary>\n",
    "\n",
    "  * Conflict and political instability can lead to social unrest, impacting communities and societies.\n",
    "  * The influence of artificial intelligence in elections may contribute to social division and polarization.\n",
    "</details>"
   ]
  },
  {
   "cell_type": "markdown",
   "id": "1a408c41-3230-4a4d-896d-9d0d81cc8c3b",
   "metadata": {
    "tags": []
   },
   "source": [
    "<style>\n",
    "    .vertical-space {\n",
    "        height: 0.5cm;\n",
    "    }\n",
    "</style>\n",
    "\n",
    "<div class=\"vertical-space\"></div>"
   ]
  },
  {
   "cell_type": "markdown",
   "id": "48d14877-b79c-40e7-a10a-79c1f965273d",
   "metadata": {},
   "source": [
    "<details style=\"border: 2px solid dimgray; border-radius: 5px; padding: 10px;\">\n",
    "  <summary style=\"cursor: pointer; font-weight: bold; color: navy;\">Economic Risks:</summary>\n",
    "\n",
    "  * Wars and conflicts can disrupt economic activities and trade, leading to economic downturns in affected regions.\n",
    "  * The outcome of elections in major countries can introduce economic uncertainties and policy changes, affecting global markets.\n",
    "</details>"
   ]
  },
  {
   "cell_type": "markdown",
   "id": "b3389166-24a1-4cbb-9617-d534e9227637",
   "metadata": {
    "tags": []
   },
   "source": [
    "<style>\n",
    "    .vertical-space {\n",
    "        height: 0.5cm;\n",
    "    }\n",
    "</style>\n",
    "\n",
    "<div class=\"vertical-space\"></div>"
   ]
  },
  {
   "cell_type": "markdown",
   "id": "768796c5-4488-483d-b707-16abbbbf3edd",
   "metadata": {},
   "source": [
    "<details style=\"border: 2px solid dimgray; border-radius: 5px; padding: 10px;\">\n",
    "  <summary style=\"cursor: pointer; font-weight: bold; color: navy;\">Technology and Information Risks:</summary>\n",
    "\n",
    "  * Artificial intelligence influencing voters poses risks of political disinformation and manipulation.\n",
    "\n",
    "  * Potential for misinformation campaigns impacting election outcomes and public trust in democratic processes.\n",
    "</details>"
   ]
  },
  {
   "cell_type": "markdown",
   "id": "a9f8c28b-bb79-4220-97ba-42e06fe9bc5b",
   "metadata": {
    "tags": []
   },
   "source": [
    "<style>\n",
    "    .vertical-space {\n",
    "        height: 0.5cm;\n",
    "    }\n",
    "</style>\n",
    "\n",
    "<div class=\"vertical-space\"></div>"
   ]
  },
  {
   "cell_type": "markdown",
   "id": "69a78d75-a5a6-4f14-85f5-a754030d59f8",
   "metadata": {},
   "source": [
    "<details style=\"border: 2px solid dimgray; border-radius: 5px; padding: 10px;\">\n",
    "  <summary style=\"cursor: pointer; font-weight: bold; color: navy;\">Human Rights Risks:</summary>\n",
    "\n",
    "  * Ongoing conflicts may lead to human rights abuses and violations, requiring international attention and intervention.\n",
    "  * Concerns about the democratic legitimacy of elections in countries where free democratic processes are compromised.\n",
    "</details>"
   ]
  },
  {
   "cell_type": "markdown",
   "id": "05557540-6daa-43f7-a482-e8e9894758ca",
   "metadata": {
    "tags": []
   },
   "source": [
    "<style>\n",
    "    .vertical-space {\n",
    "        height: 0.5cm;\n",
    "    }\n",
    "</style>\n",
    "\n",
    "<div class=\"vertical-space\"></div>"
   ]
  },
  {
   "cell_type": "markdown",
   "id": "777ec58a-6ae5-4a5a-bc98-9956183d09e4",
   "metadata": {},
   "source": [
    "<details style=\"border: 2px solid dimgray; border-radius: 5px; padding: 10px;\">\n",
    "  <summary style=\"cursor: pointer; font-weight: bold; color: navy;\">Financial Risks:</summary>\n",
    "\n",
    "  * Economic uncertainties stemming from conflicts and election outcomes can result in financial market volatility.\n",
    "  * Investments may be impacted due to geopolitical and economic uncertainties associated with the identified risks.\n",
    "</details>"
   ]
  },
  {
   "cell_type": "markdown",
   "id": "76707879-8800-4fda-9fa3-aaf2e646db84",
   "metadata": {
    "tags": []
   },
   "source": [
    "<style>\n",
    "    .vertical-space {\n",
    "        height: 0.5cm;\n",
    "    }\n",
    "</style>\n",
    "\n",
    "<div class=\"vertical-space\"></div>"
   ]
  },
  {
   "cell_type": "markdown",
   "id": "2f14c079-2156-4653-8cf4-ffde697b6602",
   "metadata": {},
   "source": [
    "<details style=\"border: 2px solid dimgray; border-radius: 5px; padding: 10px;\">\n",
    "  <summary style=\"cursor: pointer; font-weight: bold; color: navy;\">International Relations Risks:</summary>\n",
    "\n",
    "  * Geopolitical tensions from conflicts and elections can strain international relations, leading to diplomatic challenges and alliances being reshaped.\n",
    "</details>"
   ]
  },
  {
   "cell_type": "markdown",
   "id": "16e21f5d-ea31-4af7-8060-13006d1ef528",
   "metadata": {
    "tags": []
   },
   "source": [
    "<style>\n",
    "    .vertical-space {\n",
    "        height: 0.5cm;\n",
    "    }\n",
    "</style>\n",
    "\n",
    "<div class=\"vertical-space\"></div>"
   ]
  },
  {
   "cell_type": "markdown",
   "id": "1d2aa85c-4bd8-4226-aaa3-8601d582da6e",
   "metadata": {},
   "source": [
    "<details style=\"border: 2px solid dimgray; border-radius: 5px; padding: 10px;\">\n",
    "  <summary style=\"cursor: pointer; font-weight: bold; color: navy;\">Cybersecurity Risks:</summary>\n",
    "\n",
    "  * The use of artificial intelligence in elections increases the vulnerability to cyber threats, risking the integrity of electoral processes.\n",
    "  * Potential for cyber attacks aimed at influencing election outcomes or destabilizing political systems.\n",
    "</details>"
   ]
  },
  {
   "cell_type": "markdown",
   "id": "59b31c9e-1411-493a-88be-265ba4a2214e",
   "metadata": {
    "tags": []
   },
   "source": [
    "<style>\n",
    "    .vertical-space {\n",
    "        height: 0.5cm;\n",
    "    }\n",
    "</style>\n",
    "\n",
    "<div class=\"vertical-space\"></div>"
   ]
  },
  {
   "cell_type": "markdown",
   "id": "587553cf-96b1-4dde-8b26-b28eb9004309",
   "metadata": {},
   "source": [
    "## <span style=\"color: dimgray;\">**Actuaries Managing Global Risks**</span>\n",
    "\n",
    "In the global outlook for 2024, actuaries play a pivotal role in navigating and managing risks across diverse sectors. They leverage their expertise in \n",
    "\n",
    "* mathematical modeling, \n",
    "\n",
    "* statistical analysis, and \n",
    "\n",
    "* financial forecasting \n",
    "\n",
    "to assess and quantify risks associated with factors such as \n",
    "\n",
    "* mortality rates, \n",
    "\n",
    "* longevity, \n",
    "\n",
    "* interest rates, and \n",
    "\n",
    "* market fluctuations. \n",
    "\n",
    "Actuaries contribute to strategic **decision-making** by providing insights into insurance and pension planning, **optimizing investment strategies**, and **ensuring compliance with evolving global regulations**. \n",
    "\n",
    "Their involvement in enterprise risk management enables organizations to proactively identify, evaluate, and mitigate potential risks, fostering resilience in the face of uncertainties on a global scale. Through effective communication of complex risk insights, actuaries empower stakeholders to make informed decisions, contributing to the overall stability and sustainability of businesses and financial systems in the dynamic landscape of 2024."
   ]
  },
  {
   "cell_type": "markdown",
   "id": "81799560-fa2c-4359-8c1c-9466c5c4e968",
   "metadata": {},
   "source": [
    "## <span style=\"color: dimgray;\">**Overview of Actuarial Science:**</span>"
   ]
  },
  {
   "cell_type": "markdown",
   "id": "da3de2dc-31c2-4d26-8887-65af1f9b1d29",
   "metadata": {},
   "source": [
    "### What is actuarial science?\n",
    "\n",
    "**Actuarial science** is a subject that assesses ***financial risks*** in insurance and finance through mathematics and statistics. It uses ***probability and statistics*** to understand and solve the financial impacts of uncertain future events.\n",
    "\n",
    "Actuarial science is commonly applied by **actuaries** within the insurance sector.\n",
    "\n",
    "```{figure} _build/images/ActuarialScienceInvestpedia.png\n",
    ":name: figure-Actuarial-Science\n",
    "\n",
    "Image from https://www.investopedia.com/terms/a/actuarial-science.asp"
   ]
  },
  {
   "cell_type": "markdown",
   "id": "87632385-5e81-479a-a4c2-113ac67d7a33",
   "metadata": {},
   "source": [
    "### What is an actuary?\n",
    "\n",
    "A definition for an actuary is defined by most professional actuarial organizations. Here are some examples."
   ]
  },
  {
   "cell_type": "markdown",
   "id": "3c73972f-cac8-4c01-9c5c-287d8bb87b7c",
   "metadata": {},
   "source": [
    "<details style=\"border: 2px solid dimgray; border-radius: 5px; padding: 10px;\">\n",
    "  <summary style=\"cursor: pointer; font-weight: bold; color: navy;\">Institute and Faculty of Actuaries in United Kingdom</summary>\n",
    "  \n",
    "**Actuaries** are problem solvers and strategic thinkers, who use their mathematical skills to help measure the probability and risk of future events. They use these skills to predict the financial impact of these events on a business and their clients.\n",
    "    \n",
    "Businesses and governments increasingly depend on the skills of actuaries and analysts to help them model and plan for the future. As the world changes at an increasingly rapid pace, risk management expertise can help businesses navigate this evolving landscape.     \n",
    "\n",
    "source: https://actuaries.org.uk/qualify/become-an-actuary/what-is-an-actuary/\n",
    "</details>"
   ]
  },
  {
   "cell_type": "markdown",
   "id": "37de77a0-cccb-416a-a9a3-bd954194ad97",
   "metadata": {},
   "source": [
    "<style>\n",
    "    .vertical-space {\n",
    "        height: 1cm;\n",
    "    }\n",
    "</style>\n",
    "\n",
    "<div class=\"vertical-space\"></div>"
   ]
  },
  {
   "cell_type": "markdown",
   "id": "b9242f7c-7401-4918-836a-72d063ececd3",
   "metadata": {},
   "source": [
    "<details style=\"border: 2px solid dimgray; border-radius: 5px; padding: 10px;\">\n",
    "  <summary style=\"cursor: pointer; font-weight: bold; color: navy;\">Society of Actuaries in United States of America</summary>\n",
    "  \n",
    "**Actuaries** measure and manage risk. Actuaries have a deep understanding of mathematics, statistics and business management. With this, they help businesses grow and provide value to their customers. Actuaries help leaders make strategic decisions and consumers prepare for their future.  \n",
    "\n",
    "Actuaries are highly sought-after professionals who develop and communicate solutions for complex financial issues.\n",
    "\n",
    "Actuaries are in demand. They work for and with businesses with a financial focus. Businesses including \n",
    "    \n",
    "  * insurance-life\n",
    "  * health\n",
    "  * property-casualty\n",
    "  * even pet insurance.\n",
    "    \n",
    "Also, banking, investments, government, energy, e-commerce, marketing, employee benefits, product development, enterprise risk management, predictive analytics, consulting and more.  \n",
    "    \n",
    "Source: https://www.soa.org/future-actuaries/what-is-an-actuary/\n",
    "</details>"
   ]
  },
  {
   "cell_type": "markdown",
   "id": "e60e56c2-7a23-4345-bcf2-3e82bc6e8cf0",
   "metadata": {},
   "source": [
    "<style>\n",
    "    .vertical-space {\n",
    "        height: 1cm;\n",
    "    }\n",
    "</style>\n",
    "\n",
    "<div class=\"vertical-space\"></div>"
   ]
  },
  {
   "cell_type": "markdown",
   "id": "2331bc3f-a47e-4b52-8156-ae99d3bbdb6f",
   "metadata": {},
   "source": [
    "<details style=\"border: 2px solid dimgray; border-radius: 5px; padding: 10px;\">\n",
    "  <summary style=\"cursor: pointer; font-weight: bold; color: navy;\">The Institute of Actuaries of Australia</summary>\n",
    "\n",
    "**Actuaries** have the skills to find pure, honest insights hidden in business data. Insights that enables business decision-making, which can change businesses, industries and even countries.\n",
    "    \n",
    "Source: https://www.actuaries.asn.au/\n",
    "</details>  "
   ]
  },
  {
   "cell_type": "markdown",
   "id": "acb0731b-2534-46f6-8b42-85224509de55",
   "metadata": {},
   "source": [
    "<style>\n",
    "    .vertical-space {\n",
    "        height: 1cm;\n",
    "    }\n",
    "</style>\n",
    "\n",
    "<div class=\"vertical-space\"></div>"
   ]
  },
  {
   "cell_type": "markdown",
   "id": "6b6f385a-e1b0-4764-97ab-92909679c006",
   "metadata": {},
   "source": [
    "[![What is an actuary? Watch IFoA members explain!](../images/IFoAYoutubeWhatActuary.png)](https://www.youtube.com/watch?v=9stATUJ9TgI&t=145s)"
   ]
  },
  {
   "cell_type": "markdown",
   "id": "a4c78a4b-f6fc-4adc-8ce1-4915a1494534",
   "metadata": {},
   "source": [
    "### The historical development and evolution of actuarial science\n",
    "\n",
    "In the exercise section, we will focus on hands-on activities and materials related to the historical development of actuarial science. These practical tasks will help you apply what you've learned and gain a better understanding of how actuarial science has evolved."
   ]
  },
  {
   "cell_type": "markdown",
   "id": "f30c78b5-59ea-4790-9af7-529b04557e61",
   "metadata": {},
   "source": [
    "Please go to [the exercise to Chapter 1 page](Chapter1_Exercise)."
   ]
  },
  {
   "cell_type": "markdown",
   "id": "518d300e-6fb7-4363-bfcc-547e4c78e357",
   "metadata": {},
   "source": [
    "### An actuary is a professional\n",
    "\n",
    "Being professional is important for actuaries because it means they use their special skills the right way, with good behavior. This helps them do valuable work for their employers and the public, and it keeps the actuarial profession trustworthy and respected.\n",
    "\n",
    "- **Specialized Knowledge and Skills:**\n",
    "  - Actuaries possess a unique set of skills and knowledge crucial for performing specific tasks within their field.\n",
    "  - Mastery of this expertise demands extensive education and practical experience.\n",
    "\n",
    "- **Value to Society and Ethical Behavior:**\n",
    "  - Actuaries contribute value to society by applying their expertise with a high standard of ethical behavior.\n",
    "  - Their work not only benefits employers and clients but also serves the broader public interest.\n",
    "\n",
    "- **Organized Profession:**\n",
    "  - The actuarial profession is structured in a way that supports specialized knowledge, skills, and ethical standards.\n",
    "  - This organization ensures coherence and adherence to professional standards.\n",
    "\n",
    "- **Continuing Education Requirement:**\n",
    "  - Actuaries have a continuing education obligation, either implicitly through ongoing qualification requirements or explicitly through formal professional development mandates.\n",
    "  - This ensures that actuaries stay current with evolving practices and maintain their proficiency.\n",
    "\n",
    "- **Standards of Practice:**\n",
    "  - National actuarial organizations establish standards of practice for various aspects of actuarial work.\n",
    "  - Adherence to these standards is mandatory for actuaries, and failure to comply may affect their membership status within the organization.\n",
    "  \n",
    "Source: {cite}`klugman2012understanding`.   "
   ]
  },
  {
   "cell_type": "markdown",
   "id": "87592e7d-e7bd-4d82-a81b-263cd238c0b7",
   "metadata": {},
   "source": [
    "###  The key responsibilities of actuaries\n",
    "\n",
    "Discovering the roles of actuaries in different industries, including **insurance, pension funds, and finance**, can provide a broad understanding of their key responsibilities. \n",
    "If you are curious about what actuaries do in **consulting industries**, check out the following YouTube for videos that explain it. "
   ]
  },
  {
   "cell_type": "markdown",
   "id": "d85dddd5-68b5-4fcc-a045-ba7fdb93ab11",
   "metadata": {},
   "source": [
    "[![What does an actuarial consultant do? ](../images/WhatDoesActuriesDo.png)](https://www.youtube.com/watch?v=2NO3aIpl5dE&t=89s)"
   ]
  },
  {
   "cell_type": "markdown",
   "id": "9c49337c-9ffd-42b6-b4a1-e49902691842",
   "metadata": {},
   "source": [
    "#### Key takeaways\n",
    "\n",
    "\n",
    "**Actuarial Consultant Definition:**\n",
    "- The speaker introduces themselves as a **consultant** in the financial services advisory team at KPMG Thailand, explaining the dual role of an actuary and a consultant.\n",
    "\n",
    "**Actuary's Responsibilities:**\n",
    "- Actuaries are **business professionals** dealing with risk and uncertainty, working in areas like insurance, pensions, banking, finance, investment, and sustainability.\n",
    "\n",
    "**Consulting as Employment:**\n",
    "- The distinction between a consultant as employment rather than a profession is clarified, with consultants providing advice in a specific area.\n",
    "\n",
    "**Actuaries as Problem Solvers:**\n",
    "- Actuaries are portrayed as problem solvers and strategic thinkers, using skills to manage risks, predict outcomes, and communicate financial impacts.\n",
    "\n",
    "**Importance in Planning for the Future:**\n",
    "- Companies and governments rely on actuaries to model and plan for the future, emphasizing the growing dependence on actuarial skills.\n",
    "\n",
    "**Skills and Characteristics:**\n",
    "- Actuaries need technical skills in **math, stats, data, and models**, along with **judgment, professionalism, domain expertise, insights, and communication skills**.\n",
    "\n",
    "**Academic Training and Opportunities:**\n",
    "- The relevance of academic training in actuarial science is stressed, with benefits mentioned for studying in Australia and networking opportunities.\n",
    "\n",
    "**Continuous Learning and Challenges:**\n",
    "- Actuaries are encouraged to be **self-motivated and persistent** due to the dynamic nature of the job. **Flexibility, quick learning, and effective task management** are discussed as challenges and interesting aspects.\n",
    "\n",
    "**Meeting Diverse People:**\n",
    "- Actuarial Consultants  engage with interesting people from various backgrounds, including clients and colleagues globally.\n",
    "\n",
    "**Advice for Aspiring Actuaries:**\n",
    "- The video concludes with advice for aspiring actuaries, emphasizing the long and rigorous journey to qualification, gaining well-rounded experiences, and self-reflection. "
   ]
  },
  {
   "cell_type": "markdown",
   "id": "5cc68a4a-1cd8-4eca-8ba8-4415c83d0588",
   "metadata": {},
   "source": [
    "```{figure} \n",
    "_build/images/Frank.png\n",
    ":name: figure-Frank\n",
    "\n",
    "Image from https://www.facebook.com/tansueechieh/photos/the-actuary-who-is-only-an-actuary-is-not-an-actuaryi-used-this-quote-by-frank-r/10158102538681839/?paipv=0&eav=AfYvGsaRRE8ZLhMYnAd25vJ-cQwXlVCyiN6ex_IWl9tFkkZ6EPc08Xxxit9yX_YUv_k&_rdr"
   ]
  },
  {
   "cell_type": "code",
   "execution_count": null,
   "id": "96bbe235-0b0c-46fb-9b54-6ffa47668b14",
   "metadata": {},
   "outputs": [],
   "source": []
  }
 ],
 "metadata": {
  "kernelspec": {
   "display_name": "Python 3 (ipykernel)",
   "language": "python",
   "name": "python3"
  },
  "language_info": {
   "codemirror_mode": {
    "name": "ipython",
    "version": 3
   },
   "file_extension": ".py",
   "mimetype": "text/x-python",
   "name": "python",
   "nbconvert_exporter": "python",
   "pygments_lexer": "ipython3",
   "version": "3.9.12"
  }
 },
 "nbformat": 4,
 "nbformat_minor": 5
}
