{
 "cells": [
  {
   "cell_type": "markdown",
   "id": "526169db-f42e-46df-9ba9-190d7642e2bf",
   "metadata": {},
   "source": [
    "Slide 1: Economic and Behavioral Framework\n",
    "\n",
    "* Economics explains behavior through incentives and disincentives.\n",
    "* Actions of organizations are influenced by the actions of individuals within them.\n",
    "* Economic system comprises participants, goods, and markets."
   ]
  },
  {
   "cell_type": "markdown",
   "id": "c9d05981-7314-420d-9bc2-861eaa0524a5",
   "metadata": {},
   "source": [
    "\n",
    "Slide 1: Economic and Behavioral Framework\n",
    "Economics provides insights into behavior by analyzing incentives and disincentives. Organizations' actions are shaped by the individuals within them, operating within an economic system consisting of participants, goods, and markets."
   ]
  },
  {
   "cell_type": "markdown",
   "id": "d8bfc5d5-2cb3-4817-9790-411b60d1aee6",
   "metadata": {},
   "source": [
    "Slide 2: Definitions\n",
    "\n",
    "Economic system: Participants, goods, and markets.\n",
    "Economic transaction: Exchange of goods among participants.\n",
    "Contract: Mutual commitment to certain actions.\n",
    "Not all goods can be exchanged due to legal restrictions or absence of willing parties."
   ]
  },
  {
   "cell_type": "markdown",
   "id": "4fb6dbf9-f958-47c8-97b4-275efcd4f09c",
   "metadata": {},
   "source": [
    "Slide 2: Definitions\n",
    "Key terms include economic system (participants, goods, markets), economic transaction (exchange among participants), and contract (mutual commitments). Not all goods can be exchanged due to legal constraints or lack of willing parties.\n"
   ]
  },
  {
   "cell_type": "markdown",
   "id": "7c2a10a0-7220-4bf0-b811-f1a770770d5e",
   "metadata": {},
   "source": [
    "Slide 3: Participant Preferences\n",
    "\n",
    "Actions reflect relative preferences for goods.\n",
    "Transactions influenced by other participants' ability and willingness.\n",
    "Outcomes reflect relative preferences of participants."
   ]
  },
  {
   "cell_type": "markdown",
   "id": "b0e8d762-baeb-4390-b484-ea91df03c58d",
   "metadata": {},
   "source": [
    "Slide 3: Participant Preferences\n",
    "Actions of participants reflect their relative preferences for goods. Transactions are influenced by other participants' willingness and capacity to engage, leading to outcomes that mirror the preferences of involved parties.\n"
   ]
  },
  {
   "cell_type": "markdown",
   "id": "84d3049c-6bae-4ed3-bb0b-66394fbe3bed",
   "metadata": {},
   "source": [
    "Slide 4: Preferences and Indifference\n",
    "\n",
    "Participant prefers one good over another if unwilling to exchange it for the other.\n",
    "Indifference occurs when participant is willing to exchange either good for the other.\n",
    "Relative preferences can change with occurrence of transactions.\n"
   ]
  },
  {
   "cell_type": "markdown",
   "id": "2c648247-b4af-4ca9-bc47-b81028d8e1b0",
   "metadata": {},
   "source": [
    "Slide 4: Preferences and Indifference\n",
    "Participants prefer one good over another if unwilling to exchange it for the latter. Indifference occurs when participants are equally willing to exchange either good for the other. Preferences may change with transaction occurrences."
   ]
  },
  {
   "cell_type": "markdown",
   "id": "f4216ade-4dab-4383-94c7-17856fcd3db7",
   "metadata": {},
   "source": [
    "Slide 5: Principle (Preference or Indifference)\n",
    "\n",
    "* Principle 2.1: At a given time, participants either prefer one good to another or are indifferent between them.\n",
    "* Rare cases of non-identical goods where preference or indifference doesn't apply can usually be ignored."
   ]
  },
  {
   "cell_type": "markdown",
   "id": "85329a62-fb4d-4c05-b76e-8ac852903b35",
   "metadata": {},
   "source": [
    "Slide 5: Principle (Preference or Indifference)\n",
    "Principle 2.1 states that at any given time, participants either prefer one good over another or are indifferent between them. Rare cases where this doesn't apply can typically be disregarded."
   ]
  },
  {
   "cell_type": "code",
   "execution_count": null,
   "id": "031cf803-a68d-4599-889d-923ae215b705",
   "metadata": {},
   "outputs": [],
   "source": []
  },
  {
   "cell_type": "markdown",
   "id": "c0639e49-ded7-4a77-9d3c-9a3b905571ef",
   "metadata": {},
   "source": [
    "Slide 1: Definition of Desirable and Undesirable Goods\n",
    "\n",
    "* Desirable goods are preferred to be received, while undesirable goods are preferred to be disposed of.\n",
    "* Example: Garbage is generally considered undesirable.\n",
    "* Participants can express preferences or declare indifference, but agreement is not required (Principle 2.2)."
   ]
  },
  {
   "cell_type": "markdown",
   "id": "0b3da631-2d51-4312-a154-9fd1e5dbed85",
   "metadata": {},
   "source": [
    "Slide 2: Principle of Diversity of Preferences\n",
    "\n",
    "* Principle 2.2: In most economic systems, diverse preferences exist.\n",
    "* Some participants prefer one good over another, while others prefer the second good.\n",
    "* Diversity of preferences extends beyond current exchanges to potential future possessions."
   ]
  },
  {
   "cell_type": "markdown",
   "id": "9e5fc85a-dd3b-4fb3-bc8a-567f96463cb6",
   "metadata": {},
   "source": [
    "```{figure} \n",
    "_build/images/Frank.png\n",
    ":name: figure-Frank\n",
    "\n",
    "Image from https://www.facebook.com/tansueechieh/photos/the-actuary-who-is-only-an-actuary-is-not-an-actuaryi-used-this-quote-by-frank-r/10158102538681839/?paipv=0&eav=AfYvGsaRRE8ZLhMYnAd25vJ-cQwXlVCyiN6ex_IWl9tFkkZ6EPc08Xxxit9yX_YUv_k&_rdr\n",
    "```"
   ]
  },
  {
   "cell_type": "code",
   "execution_count": 1,
   "id": "1710c590-684e-480e-a2b5-58bdfdb5f6ea",
   "metadata": {
    "tags": [
     "hide-input"
    ]
   },
   "outputs": [],
   "source": [
    "%load_ext tikzmagic"
   ]
  },
  {
   "cell_type": "code",
   "execution_count": 2,
   "id": "62c667d4-7a15-4090-88d5-db759842ebad",
   "metadata": {
    "scrolled": true,
    "tags": [
     "hide-input"
    ]
   },
   "outputs": [
    {
     "data": {
      "image/svg+xml": [
       "<svg xmlns=\"http://www.w3.org/2000/svg\" xmlns:xlink=\"http://www.w3.org/1999/xlink\" width=\"400px\" height=\"240px\" viewBox=\"0 0 28.745 57.091\">\n",
       "<defs>\n",
       "<clipPath id=\"clip-0\">\n",
       "<path clip-rule=\"nonzero\" d=\"M 0 0 L 28.746094 0 L 28.746094 57.089844 L 0 57.089844 Z M 0 0 \"/>\n",
       "</clipPath>\n",
       "</defs>\n",
       "<g clip-path=\"url(#clip-0)\">\n",
       "<path fill=\"none\" stroke-width=\"0.3985\" stroke-linecap=\"butt\" stroke-linejoin=\"miter\" stroke=\"rgb(0%, 0%, 0%)\" stroke-opacity=\"1\" stroke-miterlimit=\"10\" d=\"M 0.00021875 0.001375 L 0.00021875 56.692781 L 28.347875 56.692781 L 28.347875 0.001375 Z M 0.00021875 0.001375 \" transform=\"matrix(1, 0, 0, -1, 0.199, 56.892)\"/>\n",
       "</g>\n",
       "<path fill-rule=\"nonzero\" fill=\"rgb(0%, 0%, 0%)\" fill-opacity=\"1\" stroke-width=\"0.3985\" stroke-linecap=\"butt\" stroke-linejoin=\"miter\" stroke=\"rgb(0%, 0%, 0%)\" stroke-opacity=\"1\" stroke-miterlimit=\"10\" d=\"M 17.008031 14.17325 C 17.008031 15.739656 15.7385 17.009188 14.172094 17.009188 C 12.609594 17.009188 11.340063 15.739656 11.340063 14.17325 C 11.340063 12.606844 12.609594 11.337313 14.172094 11.337313 C 15.7385 11.337313 17.008031 12.606844 17.008031 14.17325 Z M 17.008031 14.17325 \" transform=\"matrix(1, 0, 0, -1, 0.199, 56.892)\"/>\n",
       "</svg>"
      ]
     },
     "metadata": {
      "isolated": "true"
     },
     "output_type": "display_data"
    }
   ],
   "source": [
    "%%tikz -S test_output.tikz -f svg\n",
    "\\draw (0,0) rectangle (1,2);\n",
    "\\filldraw (0.5,0.5) circle (.1);"
   ]
  },
  {
   "cell_type": "code",
   "execution_count": 3,
   "id": "b525736a-3528-45a7-ad49-61e1a0dbbad1",
   "metadata": {
    "scrolled": true,
    "tags": [
     "hide-input"
    ]
   },
   "outputs": [
    {
     "data": {
      "image/png": "[encoded data removed]"
     },
     "metadata": {},
     "output_type": "display_data"
    }
   ],
   "source": [
    "%%tikz -s 400,400 -sc 1.2 -f png\n",
    "\\draw [style=help lines, step=2]                (-1,-1)    grid        (+7,+7);\n",
    "\\draw [line width=0.5mm, fill=blue!40!white]    (+2,+2)    rectangle    (+4,+4);\n",
    " \n",
    "\\draw [blue!60!white] (  2,  2) node[anchor=north east] {$(i  ,j  )$};\n",
    "\\draw [blue!60!white] (  4,  2) node[anchor=north west] {$(i+1,j  )$};\n",
    "\\draw [blue!60!white] (  4,  4) node[anchor=south west] {$(i+1,j+1)$};\n",
    "\\draw [blue!60!white] (  2,  4) node[anchor=south east] {$(i  ,j+1)$};\n",
    "\n",
    "\\filldraw [color=gray]    (0,0) circle (.1);\n",
    "\\filldraw [color=gray]    (0,2) circle (.1);\n",
    "\\filldraw [color=gray]    (0,4) circle (.1);\n",
    "\\filldraw [color=gray]    (0,6) circle (.1);\n",
    "\\filldraw [color=gray]    (2,0) circle (.1);\n",
    "\\filldraw [color=black]    (2,2) circle (.1);\n",
    "\\filldraw [color=black]    (2,4) circle (.1);\n",
    "\\filldraw [color=gray]    (2,6) circle (.1);\n",
    "\\filldraw [color=gray]    (4,0) circle (.1);\n",
    "\\filldraw [color=black]    (4,2) circle (.1);\n",
    "\\filldraw [color=black]    (4,4) circle (.1);\n",
    "\\filldraw [color=gray]    (4,6) circle (.1);\n",
    "\\filldraw [color=gray]    (6,0) circle (.1);\n",
    "\\filldraw [color=gray]    (6,2) circle (.1);\n",
    "\\filldraw [color=gray]    (6,4) circle (.1);\n",
    "\\filldraw [color=gray]    (6,6) circle (.1);"
   ]
  },
  {
   "cell_type": "code",
   "execution_count": 4,
   "id": "a1135807-33ca-4a9d-9b52-193488329b4a",
   "metadata": {},
   "outputs": [
    {
     "data": {
      "image/svg+xml": [
       "<svg xmlns=\"http://www.w3.org/2000/svg\" xmlns:xlink=\"http://www.w3.org/1999/xlink\" width=\"400px\" height=\"240px\" viewBox=\"0 0 88.125 71.59\">\n",
       "<defs>\n",
       "<g>\n",
       "<g id=\"glyph-0-0\">\n",
       "<path d=\"M 1.78125 -1.140625 C 1.390625 -0.484375 1 -0.34375 0.5625 -0.3125 C 0.4375 -0.296875 0.34375 -0.296875 0.34375 -0.109375 C 0.34375 -0.046875 0.40625 0 0.484375 0 C 0.75 0 1.0625 -0.03125 1.328125 -0.03125 C 1.671875 -0.03125 2.015625 0 2.328125 0 C 2.390625 0 2.515625 0 2.515625 -0.1875 C 2.515625 -0.296875 2.4375 -0.3125 2.359375 -0.3125 C 2.140625 -0.328125 1.890625 -0.40625 1.890625 -0.65625 C 1.890625 -0.78125 1.953125 -0.890625 2.03125 -1.03125 L 2.796875 -2.296875 L 5.296875 -2.296875 C 5.3125 -2.09375 5.453125 -0.734375 5.453125 -0.640625 C 5.453125 -0.34375 4.9375 -0.3125 4.734375 -0.3125 C 4.59375 -0.3125 4.5 -0.3125 4.5 -0.109375 C 4.5 0 4.609375 0 4.640625 0 C 5.046875 0 5.46875 -0.03125 5.875 -0.03125 C 6.125 -0.03125 6.765625 0 7.015625 0 C 7.0625 0 7.1875 0 7.1875 -0.203125 C 7.1875 -0.3125 7.09375 -0.3125 6.953125 -0.3125 C 6.34375 -0.3125 6.34375 -0.375 6.3125 -0.671875 L 5.703125 -6.890625 C 5.6875 -7.09375 5.6875 -7.140625 5.515625 -7.140625 C 5.359375 -7.140625 5.3125 -7.0625 5.25 -6.96875 Z M 2.984375 -2.609375 L 4.9375 -5.90625 L 5.265625 -2.609375 Z M 2.984375 -2.609375 \"/>\n",
       "</g>\n",
       "<g id=\"glyph-0-1\">\n",
       "<path d=\"M 1.59375 -0.78125 C 1.5 -0.390625 1.46875 -0.3125 0.6875 -0.3125 C 0.515625 -0.3125 0.421875 -0.3125 0.421875 -0.109375 C 0.421875 0 0.515625 0 0.6875 0 L 4.25 0 C 5.828125 0 7 -1.171875 7 -2.15625 C 7 -2.875 6.421875 -3.453125 5.453125 -3.5625 C 6.484375 -3.75 7.53125 -4.484375 7.53125 -5.4375 C 7.53125 -6.171875 6.875 -6.8125 5.6875 -6.8125 L 2.328125 -6.8125 C 2.140625 -6.8125 2.046875 -6.8125 2.046875 -6.609375 C 2.046875 -6.5 2.140625 -6.5 2.328125 -6.5 C 2.34375 -6.5 2.53125 -6.5 2.703125 -6.484375 C 2.875 -6.453125 2.96875 -6.453125 2.96875 -6.3125 C 2.96875 -6.28125 2.953125 -6.25 2.9375 -6.125 Z M 3.09375 -3.65625 L 3.71875 -6.125 C 3.8125 -6.46875 3.828125 -6.5 4.25 -6.5 L 5.546875 -6.5 C 6.421875 -6.5 6.625 -5.90625 6.625 -5.46875 C 6.625 -4.59375 5.765625 -3.65625 4.5625 -3.65625 Z M 2.65625 -0.3125 C 2.515625 -0.3125 2.5 -0.3125 2.4375 -0.3125 C 2.328125 -0.328125 2.296875 -0.34375 2.296875 -0.421875 C 2.296875 -0.453125 2.296875 -0.46875 2.359375 -0.640625 L 3.046875 -3.421875 L 4.921875 -3.421875 C 5.875 -3.421875 6.078125 -2.6875 6.078125 -2.265625 C 6.078125 -1.28125 5.1875 -0.3125 4 -0.3125 Z M 2.65625 -0.3125 \"/>\n",
       "</g>\n",
       "<g id=\"glyph-0-2\">\n",
       "<path d=\"M 7.578125 -6.921875 C 7.578125 -6.953125 7.5625 -7.03125 7.46875 -7.03125 C 7.4375 -7.03125 7.421875 -7.015625 7.3125 -6.90625 L 6.625 -6.140625 C 6.53125 -6.28125 6.078125 -7.03125 4.96875 -7.03125 C 2.734375 -7.03125 0.5 -4.828125 0.5 -2.515625 C 0.5 -0.875 1.671875 0.21875 3.203125 0.21875 C 4.0625 0.21875 4.828125 -0.171875 5.359375 -0.640625 C 6.28125 -1.453125 6.453125 -2.359375 6.453125 -2.390625 C 6.453125 -2.5 6.34375 -2.5 6.328125 -2.5 C 6.265625 -2.5 6.21875 -2.46875 6.203125 -2.390625 C 6.109375 -2.109375 5.875 -1.390625 5.1875 -0.8125 C 4.5 -0.265625 3.875 -0.09375 3.359375 -0.09375 C 2.46875 -0.09375 1.40625 -0.609375 1.40625 -2.15625 C 1.40625 -2.734375 1.609375 -4.34375 2.609375 -5.515625 C 3.21875 -6.21875 4.15625 -6.71875 5.046875 -6.71875 C 6.0625 -6.71875 6.65625 -5.953125 6.65625 -4.796875 C 6.65625 -4.390625 6.625 -4.390625 6.625 -4.28125 C 6.625 -4.1875 6.734375 -4.1875 6.765625 -4.1875 C 6.890625 -4.1875 6.890625 -4.203125 6.953125 -4.390625 Z M 7.578125 -6.921875 \"/>\n",
       "</g>\n",
       "<g id=\"glyph-0-3\">\n",
       "<path d=\"M 1.578125 -0.78125 C 1.484375 -0.390625 1.46875 -0.3125 0.671875 -0.3125 C 0.515625 -0.3125 0.40625 -0.3125 0.40625 -0.125 C 0.40625 0 0.484375 0 0.671875 0 L 3.984375 0 C 6.046875 0 8.015625 -2.109375 8.015625 -4.28125 C 8.015625 -5.6875 7.171875 -6.8125 5.671875 -6.8125 L 2.328125 -6.8125 C 2.140625 -6.8125 2.03125 -6.8125 2.03125 -6.625 C 2.03125 -6.5 2.109375 -6.5 2.3125 -6.5 C 2.4375 -6.5 2.625 -6.484375 2.734375 -6.484375 C 2.90625 -6.453125 2.953125 -6.4375 2.953125 -6.3125 C 2.953125 -6.28125 2.953125 -6.25 2.921875 -6.125 Z M 3.734375 -6.125 C 3.828125 -6.46875 3.84375 -6.5 4.28125 -6.5 L 5.34375 -6.5 C 6.3125 -6.5 7.140625 -5.96875 7.140625 -4.65625 C 7.140625 -4.171875 6.953125 -2.53125 6.09375 -1.4375 C 5.8125 -1.0625 5.03125 -0.3125 3.796875 -0.3125 L 2.671875 -0.3125 C 2.53125 -0.3125 2.515625 -0.3125 2.453125 -0.3125 C 2.359375 -0.328125 2.328125 -0.34375 2.328125 -0.421875 C 2.328125 -0.453125 2.328125 -0.46875 2.375 -0.640625 Z M 3.734375 -6.125 \"/>\n",
       "</g>\n",
       "<g id=\"glyph-0-4\">\n",
       "<path d=\"M 3.71875 -3.765625 C 3.53125 -4.140625 3.25 -4.40625 2.796875 -4.40625 C 1.640625 -4.40625 0.40625 -2.9375 0.40625 -1.484375 C 0.40625 -0.546875 0.953125 0.109375 1.71875 0.109375 C 1.921875 0.109375 2.421875 0.0625 3.015625 -0.640625 C 3.09375 -0.21875 3.453125 0.109375 3.921875 0.109375 C 4.28125 0.109375 4.5 -0.125 4.671875 -0.4375 C 4.828125 -0.796875 4.96875 -1.40625 4.96875 -1.421875 C 4.96875 -1.53125 4.875 -1.53125 4.84375 -1.53125 C 4.75 -1.53125 4.734375 -1.484375 4.703125 -1.34375 C 4.53125 -0.703125 4.359375 -0.109375 3.953125 -0.109375 C 3.671875 -0.109375 3.65625 -0.375 3.65625 -0.5625 C 3.65625 -0.78125 3.671875 -0.875 3.78125 -1.3125 C 3.890625 -1.71875 3.90625 -1.828125 4 -2.203125 L 4.359375 -3.59375 C 4.421875 -3.875 4.421875 -3.890625 4.421875 -3.9375 C 4.421875 -4.109375 4.3125 -4.203125 4.140625 -4.203125 C 3.890625 -4.203125 3.75 -3.984375 3.71875 -3.765625 Z M 3.078125 -1.1875 C 3.015625 -1 3.015625 -0.984375 2.875 -0.8125 C 2.4375 -0.265625 2.03125 -0.109375 1.75 -0.109375 C 1.25 -0.109375 1.109375 -0.65625 1.109375 -1.046875 C 1.109375 -1.546875 1.421875 -2.765625 1.65625 -3.234375 C 1.96875 -3.8125 2.40625 -4.1875 2.8125 -4.1875 C 3.453125 -4.1875 3.59375 -3.375 3.59375 -3.3125 C 3.59375 -3.25 3.578125 -3.1875 3.5625 -3.140625 Z M 3.078125 -1.1875 \"/>\n",
       "</g>\n",
       "<g id=\"glyph-0-5\">\n",
       "<path d=\"M 3.953125 -3.78125 C 3.78125 -3.78125 3.65625 -3.78125 3.515625 -3.65625 C 3.34375 -3.5 3.328125 -3.328125 3.328125 -3.265625 C 3.328125 -3.015625 3.515625 -2.90625 3.703125 -2.90625 C 3.984375 -2.90625 4.25 -3.15625 4.25 -3.546875 C 4.25 -4.03125 3.78125 -4.40625 3.078125 -4.40625 C 1.734375 -4.40625 0.40625 -2.984375 0.40625 -1.578125 C 0.40625 -0.671875 0.984375 0.109375 2.03125 0.109375 C 3.453125 0.109375 4.28125 -0.953125 4.28125 -1.0625 C 4.28125 -1.125 4.234375 -1.203125 4.171875 -1.203125 C 4.109375 -1.203125 4.09375 -1.171875 4.03125 -1.09375 C 3.25 -0.109375 2.15625 -0.109375 2.046875 -0.109375 C 1.421875 -0.109375 1.140625 -0.59375 1.140625 -1.203125 C 1.140625 -1.609375 1.34375 -2.578125 1.6875 -3.1875 C 2 -3.765625 2.546875 -4.1875 3.09375 -4.1875 C 3.421875 -4.1875 3.8125 -4.0625 3.953125 -3.78125 Z M 3.953125 -3.78125 \"/>\n",
       "</g>\n",
       "<g id=\"glyph-0-6\">\n",
       "<path d=\"M 2.375 -6.8125 C 2.375 -6.8125 2.375 -6.921875 2.25 -6.921875 C 2.03125 -6.921875 1.296875 -6.84375 1.03125 -6.8125 C 0.953125 -6.8125 0.84375 -6.796875 0.84375 -6.625 C 0.84375 -6.5 0.9375 -6.5 1.09375 -6.5 C 1.5625 -6.5 1.578125 -6.4375 1.578125 -6.328125 C 1.578125 -6.265625 1.5 -5.921875 1.453125 -5.71875 L 0.625 -2.46875 C 0.515625 -1.96875 0.46875 -1.796875 0.46875 -1.453125 C 0.46875 -0.515625 1 0.109375 1.734375 0.109375 C 2.90625 0.109375 4.140625 -1.375 4.140625 -2.8125 C 4.140625 -3.71875 3.609375 -4.40625 2.8125 -4.40625 C 2.359375 -4.40625 1.9375 -4.109375 1.640625 -3.8125 Z M 1.453125 -3.046875 C 1.5 -3.265625 1.5 -3.28125 1.59375 -3.390625 C 2.078125 -4.03125 2.53125 -4.1875 2.796875 -4.1875 C 3.15625 -4.1875 3.421875 -3.890625 3.421875 -3.25 C 3.421875 -2.65625 3.09375 -1.515625 2.90625 -1.140625 C 2.578125 -0.46875 2.125 -0.109375 1.734375 -0.109375 C 1.390625 -0.109375 1.0625 -0.375 1.0625 -1.109375 C 1.0625 -1.3125 1.0625 -1.5 1.21875 -2.125 Z M 1.453125 -3.046875 \"/>\n",
       "</g>\n",
       "<g id=\"glyph-0-7\">\n",
       "<path d=\"M 5.140625 -6.8125 C 5.140625 -6.8125 5.140625 -6.921875 5.015625 -6.921875 C 4.859375 -6.921875 3.921875 -6.828125 3.75 -6.8125 C 3.671875 -6.796875 3.609375 -6.75 3.609375 -6.625 C 3.609375 -6.5 3.703125 -6.5 3.84375 -6.5 C 4.328125 -6.5 4.34375 -6.4375 4.34375 -6.328125 L 4.3125 -6.125 L 3.71875 -3.765625 C 3.53125 -4.140625 3.25 -4.40625 2.796875 -4.40625 C 1.640625 -4.40625 0.40625 -2.9375 0.40625 -1.484375 C 0.40625 -0.546875 0.953125 0.109375 1.71875 0.109375 C 1.921875 0.109375 2.421875 0.0625 3.015625 -0.640625 C 3.09375 -0.21875 3.453125 0.109375 3.921875 0.109375 C 4.28125 0.109375 4.5 -0.125 4.671875 -0.4375 C 4.828125 -0.796875 4.96875 -1.40625 4.96875 -1.421875 C 4.96875 -1.53125 4.875 -1.53125 4.84375 -1.53125 C 4.75 -1.53125 4.734375 -1.484375 4.703125 -1.34375 C 4.53125 -0.703125 4.359375 -0.109375 3.953125 -0.109375 C 3.671875 -0.109375 3.65625 -0.375 3.65625 -0.5625 C 3.65625 -0.8125 3.671875 -0.875 3.703125 -1.046875 Z M 3.078125 -1.1875 C 3.015625 -1 3.015625 -0.984375 2.875 -0.8125 C 2.4375 -0.265625 2.03125 -0.109375 1.75 -0.109375 C 1.25 -0.109375 1.109375 -0.65625 1.109375 -1.046875 C 1.109375 -1.546875 1.421875 -2.765625 1.65625 -3.234375 C 1.96875 -3.8125 2.40625 -4.1875 2.8125 -4.1875 C 3.453125 -4.1875 3.59375 -3.375 3.59375 -3.3125 C 3.59375 -3.25 3.578125 -3.1875 3.5625 -3.140625 Z M 3.078125 -1.1875 \"/>\n",
       "</g>\n",
       "</g>\n",
       "</defs>\n",
       "<g fill=\"rgb(0%, 0%, 0%)\" fill-opacity=\"1\">\n",
       "<use xlink:href=\"#glyph-0-0\" x=\"13.049\" y=\"17.531\"/>\n",
       "</g>\n",
       "<g fill=\"rgb(0%, 0%, 0%)\" fill-opacity=\"1\">\n",
       "<use xlink:href=\"#glyph-0-1\" x=\"67.428\" y=\"17.531\"/>\n",
       "</g>\n",
       "<g fill=\"rgb(0%, 0%, 0%)\" fill-opacity=\"1\">\n",
       "<use xlink:href=\"#glyph-0-2\" x=\"12.869\" y=\"60.867\"/>\n",
       "</g>\n",
       "<g fill=\"rgb(0%, 0%, 0%)\" fill-opacity=\"1\">\n",
       "<use xlink:href=\"#glyph-0-3\" x=\"67.194\" y=\"60.867\"/>\n",
       "</g>\n",
       "<path fill=\"none\" stroke-width=\"1.13385\" stroke-linecap=\"butt\" stroke-linejoin=\"miter\" stroke=\"rgb(0%, 0%, 0%)\" stroke-opacity=\"1\" stroke-miterlimit=\"10\" d=\"M -27.508844 14.744219 L -27.508844 -11.650313 \" transform=\"matrix(1, 0, 0, -1, 44.294, 35.795)\"/>\n",
       "<path fill-rule=\"nonzero\" fill=\"rgb(0%, 0%, 0%)\" fill-opacity=\"1\" d=\"M 16.785156 50.539062 L 19.261719 45.585938 L 16.785156 47.445312 L 14.308594 45.585938 \"/>\n",
       "<g fill=\"rgb(0%, 0%, 0%)\" fill-opacity=\"1\">\n",
       "<use xlink:href=\"#glyph-0-4\" x=\"3.321\" y=\"37.94\"/>\n",
       "<use xlink:href=\"#glyph-0-5\" x=\"8.58723\" y=\"37.94\"/>\n",
       "</g>\n",
       "<path fill=\"none\" stroke-width=\"1.13385\" stroke-linecap=\"butt\" stroke-linejoin=\"miter\" stroke=\"rgb(0%, 0%, 0%)\" stroke-opacity=\"1\" stroke-miterlimit=\"10\" d=\"M -20.251031 21.67 L 16.5185 21.67 \" transform=\"matrix(1, 0, 0, -1, 44.294, 35.795)\"/>\n",
       "<path fill-rule=\"nonzero\" fill=\"rgb(0%, 0%, 0%)\" fill-opacity=\"1\" d=\"M 63.910156 14.125 L 58.957031 11.648438 L 60.8125 14.125 L 58.957031 16.601562 \"/>\n",
       "<g fill=\"rgb(0%, 0%, 0%)\" fill-opacity=\"1\">\n",
       "<use xlink:href=\"#glyph-0-4\" x=\"39.204\" y=\"10.239\"/>\n",
       "<use xlink:href=\"#glyph-0-6\" x=\"44.47023\" y=\"10.239\"/>\n",
       "</g>\n",
       "<path fill=\"none\" stroke-width=\"1.13385\" stroke-linecap=\"butt\" stroke-linejoin=\"miter\" stroke=\"rgb(0%, 0%, 0%)\" stroke-opacity=\"1\" stroke-miterlimit=\"10\" d=\"M 27.163031 14.744219 L 27.163031 -11.650313 \" transform=\"matrix(1, 0, 0, -1, 44.294, 35.795)\"/>\n",
       "<path fill-rule=\"nonzero\" fill=\"rgb(0%, 0%, 0%)\" fill-opacity=\"1\" d=\"M 71.457031 50.539062 L 73.933594 45.585938 L 71.457031 47.445312 L 68.980469 45.585938 \"/>\n",
       "<g fill=\"rgb(0%, 0%, 0%)\" fill-opacity=\"1\">\n",
       "<use xlink:href=\"#glyph-0-6\" x=\"75.344\" y=\"39.254\"/>\n",
       "<use xlink:href=\"#glyph-0-7\" x=\"79.619948\" y=\"39.254\"/>\n",
       "</g>\n",
       "<path fill=\"none\" stroke-width=\"1.13385\" stroke-linecap=\"butt\" stroke-linejoin=\"miter\" stroke=\"rgb(0%, 0%, 0%)\" stroke-opacity=\"1\" stroke-miterlimit=\"10\" d=\"M -20.071344 -21.669844 L 16.284125 -21.669844 \" transform=\"matrix(1, 0, 0, -1, 44.294, 35.795)\"/>\n",
       "<path fill-rule=\"nonzero\" fill=\"rgb(0%, 0%, 0%)\" fill-opacity=\"1\" d=\"M 63.675781 57.464844 L 58.722656 54.988281 L 60.578125 57.464844 L 58.722656 59.941406 \"/>\n",
       "<g fill=\"rgb(0%, 0%, 0%)\" fill-opacity=\"1\">\n",
       "<use xlink:href=\"#glyph-0-5\" x=\"39.2\" y=\"68.269\"/>\n",
       "<use xlink:href=\"#glyph-0-7\" x=\"43.511813\" y=\"68.269\"/>\n",
       "</g>\n",
       "</svg>"
      ]
     },
     "metadata": {
      "isolated": "true"
     },
     "output_type": "display_data"
    }
   ],
   "source": [
    "%%tikz -l arrows,matrix -f svg\n",
    "\\matrix (m) [matrix of math nodes, row sep=3em, column sep=4em] {\n",
    "A & B \\\\\n",
    "C & D \\\\\n",
    "};\n",
    "\\path[-stealth, line width=.4mm]\n",
    "(m-1-1) edge node [left ] {$ac$} (m-2-1)\n",
    "(m-1-1) edge node [above] {$ab$} (m-1-2)\n",
    "(m-1-2) edge node [right] {$bd$} (m-2-2)\n",
    "(m-2-1) edge node [below] {$cd$} (m-2-2);"
   ]
  },
  {
   "cell_type": "code",
   "execution_count": 5,
   "id": "e808c6e7-7b17-4e72-877b-02173ca2fe0a",
   "metadata": {},
   "outputs": [
    {
     "data": {
      "image/svg+xml": [
       "<svg xmlns=\"http://www.w3.org/2000/svg\" xmlns:xlink=\"http://www.w3.org/1999/xlink\" width=\"400px\" height=\"240px\" viewBox=\"0 0 243.581 187.668\">\n",
       "<defs>\n",
       "<g>\n",
       "<g id=\"glyph-0-0\">\n",
       "<path d=\"M 6.5625 -2.296875 C 6.734375 -2.296875 6.921875 -2.296875 6.921875 -2.5 C 6.921875 -2.6875 6.734375 -2.6875 6.5625 -2.6875 L 1.171875 -2.6875 C 1 -2.6875 0.828125 -2.6875 0.828125 -2.5 C 0.828125 -2.296875 1 -2.296875 1.171875 -2.296875 Z M 6.5625 -2.296875 \"/>\n",
       "</g>\n",
       "<g id=\"glyph-1-0\">\n",
       "<path d=\"M 1.3125 -3.265625 L 1.3125 -3.515625 C 1.3125 -6.03125 2.546875 -6.390625 3.0625 -6.390625 C 3.296875 -6.390625 3.71875 -6.328125 3.9375 -5.984375 C 3.78125 -5.984375 3.390625 -5.984375 3.390625 -5.546875 C 3.390625 -5.234375 3.625 -5.078125 3.84375 -5.078125 C 4 -5.078125 4.3125 -5.171875 4.3125 -5.5625 C 4.3125 -6.15625 3.875 -6.640625 3.046875 -6.640625 C 1.765625 -6.640625 0.421875 -5.359375 0.421875 -3.15625 C 0.421875 -0.484375 1.578125 0.21875 2.5 0.21875 C 3.609375 0.21875 4.5625 -0.71875 4.5625 -2.03125 C 4.5625 -3.296875 3.671875 -4.25 2.5625 -4.25 C 1.890625 -4.25 1.515625 -3.75 1.3125 -3.265625 Z M 2.5 -0.0625 C 1.875 -0.0625 1.578125 -0.65625 1.515625 -0.8125 C 1.328125 -1.28125 1.328125 -2.078125 1.328125 -2.25 C 1.328125 -3.03125 1.65625 -4.03125 2.546875 -4.03125 C 2.71875 -4.03125 3.171875 -4.03125 3.484375 -3.40625 C 3.65625 -3.046875 3.65625 -2.53125 3.65625 -2.046875 C 3.65625 -1.5625 3.65625 -1.0625 3.484375 -0.703125 C 3.1875 -0.109375 2.734375 -0.0625 2.5 -0.0625 Z M 2.5 -0.0625 \"/>\n",
       "</g>\n",
       "<g id=\"glyph-1-1\">\n",
       "<path d=\"M 2.9375 -1.640625 L 2.9375 -0.78125 C 2.9375 -0.421875 2.90625 -0.3125 2.171875 -0.3125 L 1.96875 -0.3125 L 1.96875 0 C 2.375 -0.03125 2.890625 -0.03125 3.3125 -0.03125 C 3.734375 -0.03125 4.25 -0.03125 4.671875 0 L 4.671875 -0.3125 L 4.453125 -0.3125 C 3.71875 -0.3125 3.703125 -0.421875 3.703125 -0.78125 L 3.703125 -1.640625 L 4.6875 -1.640625 L 4.6875 -1.953125 L 3.703125 -1.953125 L 3.703125 -6.484375 C 3.703125 -6.6875 3.703125 -6.75 3.53125 -6.75 C 3.453125 -6.75 3.421875 -6.75 3.34375 -6.625 L 0.28125 -1.953125 L 0.28125 -1.640625 Z M 2.984375 -1.953125 L 0.5625 -1.953125 L 2.984375 -5.671875 Z M 2.984375 -1.953125 \"/>\n",
       "</g>\n",
       "<g id=\"glyph-1-2\">\n",
       "<path d=\"M 1.265625 -0.765625 L 2.328125 -1.796875 C 3.875 -3.171875 4.46875 -3.703125 4.46875 -4.703125 C 4.46875 -5.84375 3.578125 -6.640625 2.359375 -6.640625 C 1.234375 -6.640625 0.5 -5.71875 0.5 -4.828125 C 0.5 -4.28125 1 -4.28125 1.03125 -4.28125 C 1.203125 -4.28125 1.546875 -4.390625 1.546875 -4.8125 C 1.546875 -5.0625 1.359375 -5.328125 1.015625 -5.328125 C 0.9375 -5.328125 0.921875 -5.328125 0.890625 -5.3125 C 1.109375 -5.96875 1.65625 -6.328125 2.234375 -6.328125 C 3.140625 -6.328125 3.5625 -5.515625 3.5625 -4.703125 C 3.5625 -3.90625 3.078125 -3.125 2.515625 -2.5 L 0.609375 -0.375 C 0.5 -0.265625 0.5 -0.234375 0.5 0 L 4.203125 0 L 4.46875 -1.734375 L 4.234375 -1.734375 C 4.171875 -1.4375 4.109375 -1 4 -0.84375 C 3.9375 -0.765625 3.28125 -0.765625 3.0625 -0.765625 Z M 1.265625 -0.765625 \"/>\n",
       "</g>\n",
       "<g id=\"glyph-1-3\">\n",
       "<path d=\"M 4.578125 -3.1875 C 4.578125 -3.984375 4.53125 -4.78125 4.1875 -5.515625 C 3.734375 -6.484375 2.90625 -6.640625 2.5 -6.640625 C 1.890625 -6.640625 1.171875 -6.375 0.75 -5.453125 C 0.4375 -4.765625 0.390625 -3.984375 0.390625 -3.1875 C 0.390625 -2.4375 0.421875 -1.546875 0.84375 -0.78125 C 1.265625 0.015625 2 0.21875 2.484375 0.21875 C 3.015625 0.21875 3.78125 0.015625 4.21875 -0.9375 C 4.53125 -1.625 4.578125 -2.40625 4.578125 -3.1875 Z M 2.484375 0 C 2.09375 0 1.5 -0.25 1.328125 -1.203125 C 1.21875 -1.796875 1.21875 -2.71875 1.21875 -3.3125 C 1.21875 -3.953125 1.21875 -4.609375 1.296875 -5.140625 C 1.484375 -6.328125 2.234375 -6.421875 2.484375 -6.421875 C 2.8125 -6.421875 3.46875 -6.234375 3.65625 -5.25 C 3.765625 -4.6875 3.765625 -3.9375 3.765625 -3.3125 C 3.765625 -2.5625 3.765625 -1.890625 3.65625 -1.25 C 3.5 -0.296875 2.9375 0 2.484375 0 Z M 2.484375 0 \"/>\n",
       "</g>\n",
       "<g id=\"glyph-1-4\">\n",
       "<path d=\"M 2.9375 -6.375 C 2.9375 -6.625 2.9375 -6.640625 2.703125 -6.640625 C 2.078125 -6 1.203125 -6 0.890625 -6 L 0.890625 -5.6875 C 1.09375 -5.6875 1.671875 -5.6875 2.1875 -5.953125 L 2.1875 -0.78125 C 2.1875 -0.421875 2.15625 -0.3125 1.265625 -0.3125 L 0.953125 -0.3125 L 0.953125 0 C 1.296875 -0.03125 2.15625 -0.03125 2.5625 -0.03125 C 2.953125 -0.03125 3.828125 -0.03125 4.171875 0 L 4.171875 -0.3125 L 3.859375 -0.3125 C 2.953125 -0.3125 2.9375 -0.421875 2.9375 -0.78125 Z M 2.9375 -6.375 \"/>\n",
       "</g>\n",
       "<g id=\"glyph-1-5\">\n",
       "<path d=\"M 2.890625 -3.515625 C 3.703125 -3.78125 4.28125 -4.46875 4.28125 -5.265625 C 4.28125 -6.078125 3.40625 -6.640625 2.453125 -6.640625 C 1.453125 -6.640625 0.6875 -6.046875 0.6875 -5.28125 C 0.6875 -4.953125 0.90625 -4.765625 1.203125 -4.765625 C 1.5 -4.765625 1.703125 -4.984375 1.703125 -5.28125 C 1.703125 -5.765625 1.234375 -5.765625 1.09375 -5.765625 C 1.390625 -6.265625 2.046875 -6.390625 2.40625 -6.390625 C 2.828125 -6.390625 3.375 -6.171875 3.375 -5.28125 C 3.375 -5.15625 3.34375 -4.578125 3.09375 -4.140625 C 2.796875 -3.65625 2.453125 -3.625 2.203125 -3.625 C 2.125 -3.609375 1.890625 -3.59375 1.8125 -3.59375 C 1.734375 -3.578125 1.671875 -3.5625 1.671875 -3.46875 C 1.671875 -3.359375 1.734375 -3.359375 1.90625 -3.359375 L 2.34375 -3.359375 C 3.15625 -3.359375 3.53125 -2.6875 3.53125 -1.703125 C 3.53125 -0.34375 2.84375 -0.0625 2.40625 -0.0625 C 1.96875 -0.0625 1.21875 -0.234375 0.875 -0.8125 C 1.21875 -0.765625 1.53125 -0.984375 1.53125 -1.359375 C 1.53125 -1.71875 1.265625 -1.921875 0.984375 -1.921875 C 0.734375 -1.921875 0.421875 -1.78125 0.421875 -1.34375 C 0.421875 -0.4375 1.34375 0.21875 2.4375 0.21875 C 3.65625 0.21875 4.5625 -0.6875 4.5625 -1.703125 C 4.5625 -2.515625 3.921875 -3.296875 2.890625 -3.515625 Z M 2.890625 -3.515625 \"/>\n",
       "</g>\n",
       "<g id=\"glyph-2-0\">\n",
       "<path d=\"M 3.328125 -3.015625 C 3.390625 -3.265625 3.625 -4.1875 4.3125 -4.1875 C 4.359375 -4.1875 4.609375 -4.1875 4.8125 -4.0625 C 4.53125 -4 4.34375 -3.765625 4.34375 -3.515625 C 4.34375 -3.359375 4.453125 -3.171875 4.71875 -3.171875 C 4.9375 -3.171875 5.25 -3.34375 5.25 -3.75 C 5.25 -4.265625 4.671875 -4.40625 4.328125 -4.40625 C 3.75 -4.40625 3.40625 -3.875 3.28125 -3.65625 C 3.03125 -4.3125 2.5 -4.40625 2.203125 -4.40625 C 1.171875 -4.40625 0.59375 -3.125 0.59375 -2.875 C 0.59375 -2.765625 0.703125 -2.765625 0.71875 -2.765625 C 0.796875 -2.765625 0.828125 -2.796875 0.84375 -2.875 C 1.1875 -3.9375 1.84375 -4.1875 2.1875 -4.1875 C 2.375 -4.1875 2.71875 -4.09375 2.71875 -3.515625 C 2.71875 -3.203125 2.546875 -2.546875 2.1875 -1.140625 C 2.03125 -0.53125 1.671875 -0.109375 1.234375 -0.109375 C 1.171875 -0.109375 0.953125 -0.109375 0.734375 -0.234375 C 0.984375 -0.296875 1.203125 -0.5 1.203125 -0.78125 C 1.203125 -1.046875 0.984375 -1.125 0.84375 -1.125 C 0.53125 -1.125 0.296875 -0.875 0.296875 -0.546875 C 0.296875 -0.09375 0.78125 0.109375 1.21875 0.109375 C 1.890625 0.109375 2.25 -0.59375 2.265625 -0.640625 C 2.390625 -0.28125 2.75 0.109375 3.34375 0.109375 C 4.375 0.109375 4.9375 -1.171875 4.9375 -1.421875 C 4.9375 -1.53125 4.859375 -1.53125 4.828125 -1.53125 C 4.734375 -1.53125 4.71875 -1.484375 4.6875 -1.421875 C 4.359375 -0.34375 3.6875 -0.109375 3.375 -0.109375 C 2.984375 -0.109375 2.828125 -0.421875 2.828125 -0.765625 C 2.828125 -0.984375 2.875 -1.203125 2.984375 -1.640625 Z M 3.328125 -3.015625 \"/>\n",
       "</g>\n",
       "<g id=\"glyph-3-0\">\n",
       "<path d=\"M -3.984375 -3.65625 L -3.984375 -4.515625 C -3.984375 -4.71875 -3.984375 -4.8125 -4.1875 -4.8125 C -4.296875 -4.8125 -4.296875 -4.71875 -4.296875 -4.546875 L -4.296875 -3.71875 L -5.4375 -3.921875 C -5.640625 -3.96875 -6.34375 -4.109375 -6.46875 -4.171875 C -6.65625 -4.25 -6.8125 -4.421875 -6.8125 -4.640625 C -6.8125 -4.671875 -6.8125 -4.9375 -6.625 -5.125 C -6.59375 -4.6875 -6.234375 -4.578125 -6.09375 -4.578125 C -5.859375 -4.578125 -5.734375 -4.765625 -5.734375 -4.953125 C -5.734375 -5.21875 -5.96875 -5.5 -6.34375 -5.5 C -6.796875 -5.5 -7.03125 -5.046875 -7.03125 -4.640625 C -7.03125 -4.296875 -6.84375 -3.671875 -5.859375 -3.375 C -5.65625 -3.3125 -5.546875 -3.28125 -4.296875 -3.046875 L -4.296875 -2.359375 C -4.296875 -2.15625 -4.296875 -2.046875 -4.109375 -2.046875 C -3.984375 -2.046875 -3.984375 -2.140625 -3.984375 -2.328125 L -3.984375 -2.984375 L -0.046875 -2.25 C 0.921875 -2.0625 1.828125 -1.890625 1.828125 -1.375 C 1.828125 -1.328125 1.828125 -1.09375 1.640625 -0.890625 C 1.609375 -1.359375 1.25 -1.453125 1.109375 -1.453125 C 0.875 -1.453125 0.75 -1.265625 0.75 -1.078125 C 0.75 -0.8125 0.984375 -0.53125 1.359375 -0.53125 C 1.796875 -0.53125 2.046875 -0.96875 2.046875 -1.375 C 2.046875 -1.921875 1.453125 -2.328125 1.078125 -2.5 C 0.453125 -2.828125 -0.75 -3.046875 -0.828125 -3.0625 Z M -3.984375 -3.65625 \"/>\n",
       "</g>\n",
       "<g id=\"glyph-3-1\">\n",
       "<path d=\"M -3.015625 -3.328125 C -3.265625 -3.390625 -4.1875 -3.625 -4.1875 -4.3125 C -4.1875 -4.359375 -4.1875 -4.609375 -4.0625 -4.8125 C -4 -4.53125 -3.765625 -4.34375 -3.515625 -4.34375 C -3.359375 -4.34375 -3.171875 -4.453125 -3.171875 -4.71875 C -3.171875 -4.9375 -3.34375 -5.25 -3.75 -5.25 C -4.265625 -5.25 -4.40625 -4.671875 -4.40625 -4.328125 C -4.40625 -3.75 -3.875 -3.40625 -3.65625 -3.28125 C -4.3125 -3.03125 -4.40625 -2.5 -4.40625 -2.203125 C -4.40625 -1.171875 -3.125 -0.59375 -2.875 -0.59375 C -2.765625 -0.59375 -2.765625 -0.703125 -2.765625 -0.71875 C -2.765625 -0.796875 -2.796875 -0.828125 -2.875 -0.84375 C -3.9375 -1.1875 -4.1875 -1.84375 -4.1875 -2.1875 C -4.1875 -2.375 -4.09375 -2.71875 -3.515625 -2.71875 C -3.203125 -2.71875 -2.546875 -2.546875 -1.140625 -2.1875 C -0.53125 -2.03125 -0.109375 -1.671875 -0.109375 -1.234375 C -0.109375 -1.171875 -0.109375 -0.953125 -0.234375 -0.734375 C -0.296875 -0.984375 -0.5 -1.203125 -0.78125 -1.203125 C -1.046875 -1.203125 -1.125 -0.984375 -1.125 -0.84375 C -1.125 -0.53125 -0.875 -0.296875 -0.546875 -0.296875 C -0.09375 -0.296875 0.109375 -0.78125 0.109375 -1.21875 C 0.109375 -1.890625 -0.59375 -2.25 -0.640625 -2.265625 C -0.28125 -2.390625 0.109375 -2.75 0.109375 -3.34375 C 0.109375 -4.375 -1.171875 -4.9375 -1.421875 -4.9375 C -1.53125 -4.9375 -1.53125 -4.859375 -1.53125 -4.828125 C -1.53125 -4.734375 -1.484375 -4.71875 -1.421875 -4.6875 C -0.34375 -4.359375 -0.109375 -3.6875 -0.109375 -3.375 C -0.109375 -2.984375 -0.421875 -2.828125 -0.765625 -2.828125 C -0.984375 -2.828125 -1.203125 -2.875 -1.640625 -2.984375 Z M -3.015625 -3.328125 \"/>\n",
       "</g>\n",
       "<g id=\"glyph-4-0\">\n",
       "<path d=\"M 2.390625 -3.296875 C 2.359375 -3.296875 2.34375 -3.296875 2.171875 -3.125 C 0.921875 -1.890625 -0.96875 -1.5625 -2.5 -1.5625 C -4.234375 -1.5625 -5.96875 -1.9375 -7.203125 -3.171875 C -7.328125 -3.296875 -7.34375 -3.296875 -7.375 -3.296875 C -7.453125 -3.296875 -7.484375 -3.265625 -7.484375 -3.203125 C -7.484375 -3.09375 -6.796875 -2.203125 -5.53125 -1.609375 C -4.4375 -1.109375 -3.328125 -0.984375 -2.5 -0.984375 C -1.71875 -0.984375 -0.515625 -1.09375 0.625 -1.640625 C 1.84375 -2.25 2.5 -3.09375 2.5 -3.203125 C 2.5 -3.265625 2.46875 -3.296875 2.390625 -3.296875 Z M 2.390625 -3.296875 \"/>\n",
       "</g>\n",
       "<g id=\"glyph-4-1\">\n",
       "<path d=\"M -2.5 -2.875 C -3.265625 -2.875 -4.46875 -2.765625 -5.609375 -2.21875 C -6.828125 -1.625 -7.484375 -0.765625 -7.484375 -0.671875 C -7.484375 -0.609375 -7.4375 -0.5625 -7.375 -0.5625 C -7.34375 -0.5625 -7.328125 -0.5625 -7.140625 -0.75 C -6.15625 -1.734375 -4.578125 -2.296875 -2.5 -2.296875 C -0.78125 -2.296875 0.96875 -1.9375 2.21875 -0.703125 C 2.34375 -0.5625 2.359375 -0.5625 2.390625 -0.5625 C 2.453125 -0.5625 2.5 -0.609375 2.5 -0.671875 C 2.5 -0.765625 1.8125 -1.671875 0.546875 -2.25 C -0.546875 -2.765625 -1.65625 -2.875 -2.5 -2.875 Z M -2.5 -2.875 \"/>\n",
       "</g>\n",
       "<g id=\"glyph-4-2\">\n",
       "<path d=\"M -3.265625 -6.84375 C -3.265625 -7 -3.265625 -7.1875 -3.453125 -7.1875 C -3.65625 -7.1875 -3.65625 -7 -3.65625 -6.859375 L -3.65625 -0.890625 C -3.65625 -0.75 -3.65625 -0.5625 -3.453125 -0.5625 C -3.265625 -0.5625 -3.265625 -0.75 -3.265625 -0.890625 Z M -1.328125 -6.859375 C -1.328125 -7 -1.328125 -7.1875 -1.53125 -7.1875 C -1.71875 -7.1875 -1.71875 -7 -1.71875 -6.84375 L -1.71875 -0.890625 C -1.71875 -0.75 -1.71875 -0.5625 -1.53125 -0.5625 C -1.328125 -0.5625 -1.328125 -0.75 -1.328125 -0.890625 Z M -1.328125 -6.859375 \"/>\n",
       "</g>\n",
       "<g id=\"glyph-4-3\">\n",
       "<path d=\"M -2.296875 -4.078125 L -2.296875 -6.859375 C -2.296875 -7 -2.296875 -7.1875 -2.5 -7.1875 C -2.6875 -7.1875 -2.6875 -7 -2.6875 -6.859375 L -2.6875 -4.078125 L -5.484375 -4.078125 C -5.625 -4.078125 -5.8125 -4.078125 -5.8125 -3.875 C -5.8125 -3.671875 -5.625 -3.671875 -5.484375 -3.671875 L -2.6875 -3.671875 L -2.6875 -0.890625 C -2.6875 -0.75 -2.6875 -0.5625 -2.5 -0.5625 C -2.296875 -0.5625 -2.296875 -0.75 -2.296875 -0.890625 L -2.296875 -3.671875 L 0.5 -3.671875 C 0.640625 -3.671875 0.828125 -3.671875 0.828125 -3.875 C 0.828125 -4.078125 0.640625 -4.078125 0.5 -4.078125 Z M -2.296875 -4.078125 \"/>\n",
       "</g>\n",
       "<g id=\"glyph-4-4\">\n",
       "<path d=\"M -1.640625 -2.9375 L -0.78125 -2.9375 C -0.421875 -2.9375 -0.3125 -2.90625 -0.3125 -2.171875 L -0.3125 -1.96875 L 0 -1.96875 C -0.03125 -2.375 -0.03125 -2.890625 -0.03125 -3.3125 C -0.03125 -3.734375 -0.03125 -4.25 0 -4.671875 L -0.3125 -4.671875 L -0.3125 -4.453125 C -0.3125 -3.71875 -0.421875 -3.703125 -0.78125 -3.703125 L -1.640625 -3.703125 L -1.640625 -4.6875 L -1.953125 -4.6875 L -1.953125 -3.703125 L -6.484375 -3.703125 C -6.6875 -3.703125 -6.75 -3.703125 -6.75 -3.53125 C -6.75 -3.453125 -6.75 -3.421875 -6.625 -3.34375 L -1.953125 -0.28125 L -1.640625 -0.28125 Z M -1.953125 -2.984375 L -1.953125 -0.5625 L -5.671875 -2.984375 Z M -1.953125 -2.984375 \"/>\n",
       "</g>\n",
       "<g id=\"glyph-5-0\">\n",
       "<path d=\"M -1.265625 -3.515625 L -1.265625 -3.28125 C -1.109375 -3.265625 -0.703125 -3.1875 -0.640625 -3.09375 C -0.59375 -3.046875 -0.59375 -2.515625 -0.59375 -2.40625 L -0.59375 -1.125 C -1.234375 -1.859375 -1.4375 -2.109375 -1.765625 -2.515625 C -2.171875 -3.03125 -2.609375 -3.515625 -3.265625 -3.515625 C -4.109375 -3.515625 -4.625 -2.78125 -4.625 -1.890625 C -4.625 -1.03125 -4.015625 -0.4375 -3.375 -0.4375 C -3.03125 -0.4375 -2.984375 -0.734375 -2.984375 -0.8125 C -2.984375 -0.96875 -3.109375 -1.171875 -3.359375 -1.171875 C -3.484375 -1.171875 -3.734375 -1.125 -3.734375 -0.765625 C -4.21875 -0.984375 -4.375 -1.453125 -4.375 -1.78125 C -4.375 -2.484375 -3.828125 -2.84375 -3.265625 -2.84375 C -2.65625 -2.84375 -2.1875 -2.40625 -1.9375 -2.1875 L -0.265625 -0.515625 C -0.203125 -0.4375 -0.1875 -0.4375 0 -0.4375 L 0 -3.3125 Z M -1.265625 -3.515625 \"/>\n",
       "</g>\n",
       "<g id=\"glyph-6-0\">\n",
       "<path d=\"M -2.296875 -6.5625 C -2.296875 -6.734375 -2.296875 -6.921875 -2.5 -6.921875 C -2.6875 -6.921875 -2.6875 -6.734375 -2.6875 -6.5625 L -2.6875 -1.171875 C -2.6875 -1 -2.6875 -0.828125 -2.5 -0.828125 C -2.296875 -0.828125 -2.296875 -1 -2.296875 -1.171875 Z M -2.296875 -6.5625 \"/>\n",
       "</g>\n",
       "</g>\n",
       "</defs>\n",
       "<path fill=\"none\" stroke-width=\"0.19925\" stroke-linecap=\"butt\" stroke-linejoin=\"miter\" stroke=\"rgb(50%, 50%, 50%)\" stroke-opacity=\"1\" stroke-miterlimit=\"10\" d=\"M -16.188812 -13.44975 L -16.188812 -9.19975 M 16.190094 -13.44975 L 16.190094 -9.19975 M 48.569 -13.44975 L 48.569 -9.19975 M 80.951813 -13.44975 L 80.951813 -9.19975 M 113.330719 -13.44975 L 113.330719 -9.19975 M 145.709625 -13.44975 L 145.709625 -9.19975 M 178.092438 -13.44975 L 178.092438 -9.19975 M -16.188812 147.948688 L -16.188812 143.694781 M 16.190094 147.948688 L 16.190094 143.694781 M 48.569 147.948688 L 48.569 143.694781 M 80.951813 147.948688 L 80.951813 143.694781 M 113.330719 147.948688 L 113.330719 143.694781 M 145.709625 147.948688 L 145.709625 143.694781 M 178.092438 147.948688 L 178.092438 143.694781 \" transform=\"matrix(1, 0, 0, -1, 59.681, 148.144)\"/>\n",
       "<path fill=\"none\" stroke-width=\"0.19925\" stroke-linecap=\"butt\" stroke-linejoin=\"miter\" stroke=\"rgb(50%, 50%, 50%)\" stroke-opacity=\"1\" stroke-miterlimit=\"10\" d=\"M -16.192719 27.765094 L -11.938812 27.765094 M -16.192719 72.23775 L -11.938812 72.23775 M -16.192719 116.7065 L -11.938812 116.7065 M 178.088531 27.765094 L 173.838531 27.765094 M 178.088531 72.23775 L 173.838531 72.23775 M 178.088531 116.7065 L 173.838531 116.7065 \" transform=\"matrix(1, 0, 0, -1, 59.681, 148.144)\"/>\n",
       "<path fill=\"none\" stroke-width=\"0.3985\" stroke-linecap=\"butt\" stroke-linejoin=\"miter\" stroke=\"rgb(0%, 0%, 0%)\" stroke-opacity=\"1\" stroke-miterlimit=\"10\" d=\"M -16.192719 -13.44975 L -16.192719 147.948688 L 178.088531 147.948688 L 178.088531 -13.44975 Z M -16.192719 -13.44975 \" transform=\"matrix(1, 0, 0, -1, 59.681, 148.144)\"/>\n",
       "<g fill=\"rgb(0%, 0%, 0%)\" fill-opacity=\"1\">\n",
       "<use xlink:href=\"#glyph-0-0\" x=\"37.126\" y=\"171.534\"/>\n",
       "</g>\n",
       "<g fill=\"rgb(0%, 0%, 0%)\" fill-opacity=\"1\">\n",
       "<use xlink:href=\"#glyph-1-0\" x=\"44.874\" y=\"171.534\"/>\n",
       "</g>\n",
       "<g fill=\"rgb(0%, 0%, 0%)\" fill-opacity=\"1\">\n",
       "<use xlink:href=\"#glyph-0-0\" x=\"69.505\" y=\"171.534\"/>\n",
       "</g>\n",
       "<g fill=\"rgb(0%, 0%, 0%)\" fill-opacity=\"1\">\n",
       "<use xlink:href=\"#glyph-1-1\" x=\"77.254\" y=\"171.534\"/>\n",
       "</g>\n",
       "<g fill=\"rgb(0%, 0%, 0%)\" fill-opacity=\"1\">\n",
       "<use xlink:href=\"#glyph-0-0\" x=\"101.886\" y=\"171.534\"/>\n",
       "</g>\n",
       "<g fill=\"rgb(0%, 0%, 0%)\" fill-opacity=\"1\">\n",
       "<use xlink:href=\"#glyph-1-2\" x=\"109.635\" y=\"171.534\"/>\n",
       "</g>\n",
       "<g fill=\"rgb(0%, 0%, 0%)\" fill-opacity=\"1\">\n",
       "<use xlink:href=\"#glyph-1-3\" x=\"138.14\" y=\"171.534\"/>\n",
       "</g>\n",
       "<g fill=\"rgb(0%, 0%, 0%)\" fill-opacity=\"1\">\n",
       "<use xlink:href=\"#glyph-1-2\" x=\"170.52\" y=\"171.534\"/>\n",
       "</g>\n",
       "<g fill=\"rgb(0%, 0%, 0%)\" fill-opacity=\"1\">\n",
       "<use xlink:href=\"#glyph-1-1\" x=\"202.9\" y=\"171.534\"/>\n",
       "</g>\n",
       "<g fill=\"rgb(0%, 0%, 0%)\" fill-opacity=\"1\">\n",
       "<use xlink:href=\"#glyph-1-0\" x=\"235.28\" y=\"171.534\"/>\n",
       "</g>\n",
       "<g fill=\"rgb(0%, 0%, 0%)\" fill-opacity=\"1\">\n",
       "<use xlink:href=\"#glyph-1-4\" x=\"30.008\" y=\"123.591\"/>\n",
       "<use xlink:href=\"#glyph-1-3\" x=\"34.9893\" y=\"123.591\"/>\n",
       "</g>\n",
       "<g fill=\"rgb(0%, 0%, 0%)\" fill-opacity=\"1\">\n",
       "<use xlink:href=\"#glyph-1-2\" x=\"30.008\" y=\"79.119\"/>\n",
       "<use xlink:href=\"#glyph-1-3\" x=\"34.9893\" y=\"79.119\"/>\n",
       "</g>\n",
       "<g fill=\"rgb(0%, 0%, 0%)\" fill-opacity=\"1\">\n",
       "<use xlink:href=\"#glyph-1-5\" x=\"30.008\" y=\"34.648\"/>\n",
       "<use xlink:href=\"#glyph-1-3\" x=\"34.9893\" y=\"34.648\"/>\n",
       "</g>\n",
       "<path fill=\"none\" stroke-width=\"0.3985\" stroke-linecap=\"butt\" stroke-linejoin=\"miter\" stroke=\"rgb(0%, 0%, 100%)\" stroke-opacity=\"1\" stroke-miterlimit=\"10\" d=\"M -0.0013125 134.495563 L 6.744781 114.886188 L 13.490875 96.819781 L 20.236969 80.296344 L 26.983063 65.319781 L 33.729156 51.886188 L 40.47525 39.995563 L 47.221344 29.647906 L 53.967438 20.847125 L 60.713531 13.589313 L 67.459625 7.874469 L 74.201813 3.7065 L 80.947906 1.0815 L 87.694 -0.00053125 L 94.440094 0.464313 L 101.186188 2.468219 L 107.932281 6.022906 L 114.678375 11.116656 L 121.424469 17.757281 L 128.170563 25.940875 L 134.916656 35.667438 L 141.66275 46.936969 L 148.408844 59.753375 L 155.151031 74.11275 L 161.897125 90.019 \" transform=\"matrix(1, 0, 0, -1, 59.681, 148.144)\"/>\n",
       "<path fill-rule=\"nonzero\" fill=\"rgb(0%, 0%, 79.998779%)\" fill-opacity=\"1\" stroke-width=\"0.3985\" stroke-linecap=\"butt\" stroke-linejoin=\"miter\" stroke=\"rgb(0%, 0%, 100%)\" stroke-opacity=\"1\" stroke-miterlimit=\"10\" d=\"M 1.990875 134.495563 C 1.990875 135.597125 1.10025 136.48775 -0.0013125 136.48775 C -1.098969 136.48775 -1.9935 135.597125 -1.9935 134.495563 C -1.9935 133.397906 -1.098969 132.503375 -0.0013125 132.503375 C 1.10025 132.503375 1.990875 133.397906 1.990875 134.495563 Z M 1.990875 134.495563 \" transform=\"matrix(1, 0, 0, -1, 59.681, 148.144)\"/>\n",
       "<path fill-rule=\"nonzero\" fill=\"rgb(0%, 0%, 79.998779%)\" fill-opacity=\"1\" stroke-width=\"0.3985\" stroke-linecap=\"butt\" stroke-linejoin=\"miter\" stroke=\"rgb(0%, 0%, 100%)\" stroke-opacity=\"1\" stroke-miterlimit=\"10\" d=\"M 8.736969 114.886188 C 8.736969 115.98775 7.846344 116.878375 6.744781 116.878375 C 5.647125 116.878375 4.752594 115.98775 4.752594 114.886188 C 4.752594 113.784625 5.647125 112.894 6.744781 112.894 C 7.846344 112.894 8.736969 113.784625 8.736969 114.886188 Z M 8.736969 114.886188 \" transform=\"matrix(1, 0, 0, -1, 59.681, 148.144)\"/>\n",
       "<path fill-rule=\"nonzero\" fill=\"rgb(0%, 0%, 79.998779%)\" fill-opacity=\"1\" stroke-width=\"0.3985\" stroke-linecap=\"butt\" stroke-linejoin=\"miter\" stroke=\"rgb(0%, 0%, 100%)\" stroke-opacity=\"1\" stroke-miterlimit=\"10\" d=\"M 15.483063 96.819781 C 15.483063 97.921344 14.592438 98.811969 13.490875 98.811969 C 12.389313 98.811969 11.498688 97.921344 11.498688 96.819781 C 11.498688 95.718219 12.389313 94.827594 13.490875 94.827594 C 14.592438 94.827594 15.483063 95.718219 15.483063 96.819781 Z M 15.483063 96.819781 \" transform=\"matrix(1, 0, 0, -1, 59.681, 148.144)\"/>\n",
       "<path fill-rule=\"nonzero\" fill=\"rgb(0%, 0%, 79.998779%)\" fill-opacity=\"1\" stroke-width=\"0.3985\" stroke-linecap=\"butt\" stroke-linejoin=\"miter\" stroke=\"rgb(0%, 0%, 100%)\" stroke-opacity=\"1\" stroke-miterlimit=\"10\" d=\"M 22.229156 80.296344 C 22.229156 81.397906 21.338531 82.288531 20.236969 82.288531 C 19.135406 82.288531 18.244781 81.397906 18.244781 80.296344 C 18.244781 79.194781 19.135406 78.304156 20.236969 78.304156 C 21.338531 78.304156 22.229156 79.194781 22.229156 80.296344 Z M 22.229156 80.296344 \" transform=\"matrix(1, 0, 0, -1, 59.681, 148.144)\"/>\n",
       "<path fill-rule=\"nonzero\" fill=\"rgb(0%, 0%, 79.998779%)\" fill-opacity=\"1\" stroke-width=\"0.3985\" stroke-linecap=\"butt\" stroke-linejoin=\"miter\" stroke=\"rgb(0%, 0%, 100%)\" stroke-opacity=\"1\" stroke-miterlimit=\"10\" d=\"M 28.97525 65.319781 C 28.97525 66.417438 28.084625 67.311969 26.983063 67.311969 C 25.8815 67.311969 24.990875 66.417438 24.990875 65.319781 C 24.990875 64.218219 25.8815 63.327594 26.983063 63.327594 C 28.084625 63.327594 28.97525 64.218219 28.97525 65.319781 Z M 28.97525 65.319781 \" transform=\"matrix(1, 0, 0, -1, 59.681, 148.144)\"/>\n",
       "<path fill-rule=\"nonzero\" fill=\"rgb(0%, 0%, 79.998779%)\" fill-opacity=\"1\" stroke-width=\"0.3985\" stroke-linecap=\"butt\" stroke-linejoin=\"miter\" stroke=\"rgb(0%, 0%, 100%)\" stroke-opacity=\"1\" stroke-miterlimit=\"10\" d=\"M 35.721344 51.886188 C 35.721344 52.983844 34.830719 53.878375 33.729156 53.878375 C 32.627594 53.878375 31.736969 52.983844 31.736969 51.886188 C 31.736969 50.784625 32.627594 49.894 33.729156 49.894 C 34.830719 49.894 35.721344 50.784625 35.721344 51.886188 Z M 35.721344 51.886188 \" transform=\"matrix(1, 0, 0, -1, 59.681, 148.144)\"/>\n",
       "<path fill-rule=\"nonzero\" fill=\"rgb(0%, 0%, 79.998779%)\" fill-opacity=\"1\" stroke-width=\"0.3985\" stroke-linecap=\"butt\" stroke-linejoin=\"miter\" stroke=\"rgb(0%, 0%, 100%)\" stroke-opacity=\"1\" stroke-miterlimit=\"10\" d=\"M 42.467438 39.995563 C 42.467438 41.097125 41.576813 41.98775 40.47525 41.98775 C 39.373688 41.98775 38.483063 41.097125 38.483063 39.995563 C 38.483063 38.894 39.373688 38.003375 40.47525 38.003375 C 41.576813 38.003375 42.467438 38.894 42.467438 39.995563 Z M 42.467438 39.995563 \" transform=\"matrix(1, 0, 0, -1, 59.681, 148.144)\"/>\n",
       "<path fill-rule=\"nonzero\" fill=\"rgb(0%, 0%, 79.998779%)\" fill-opacity=\"1\" stroke-width=\"0.3985\" stroke-linecap=\"butt\" stroke-linejoin=\"miter\" stroke=\"rgb(0%, 0%, 100%)\" stroke-opacity=\"1\" stroke-miterlimit=\"10\" d=\"M 49.213531 29.647906 C 49.213531 30.749469 48.319 31.640094 47.221344 31.640094 C 46.119781 31.640094 45.229156 30.749469 45.229156 29.647906 C 45.229156 28.55025 46.119781 27.655719 47.221344 27.655719 C 48.319 27.655719 49.213531 28.55025 49.213531 29.647906 Z M 49.213531 29.647906 \" transform=\"matrix(1, 0, 0, -1, 59.681, 148.144)\"/>\n",
       "<path fill-rule=\"nonzero\" fill=\"rgb(0%, 0%, 79.998779%)\" fill-opacity=\"1\" stroke-width=\"0.3985\" stroke-linecap=\"butt\" stroke-linejoin=\"miter\" stroke=\"rgb(0%, 0%, 100%)\" stroke-opacity=\"1\" stroke-miterlimit=\"10\" d=\"M 55.959625 20.847125 C 55.959625 21.948688 55.065094 22.839313 53.967438 22.839313 C 52.865875 22.839313 51.97525 21.948688 51.97525 20.847125 C 51.97525 19.745563 52.865875 18.854938 53.967438 18.854938 C 55.065094 18.854938 55.959625 19.745563 55.959625 20.847125 Z M 55.959625 20.847125 \" transform=\"matrix(1, 0, 0, -1, 59.681, 148.144)\"/>\n",
       "<path fill-rule=\"nonzero\" fill=\"rgb(0%, 0%, 79.998779%)\" fill-opacity=\"1\" stroke-width=\"0.3985\" stroke-linecap=\"butt\" stroke-linejoin=\"miter\" stroke=\"rgb(0%, 0%, 100%)\" stroke-opacity=\"1\" stroke-miterlimit=\"10\" d=\"M 62.705719 13.589313 C 62.705719 14.690875 61.811188 15.5815 60.713531 15.5815 C 59.611969 15.5815 58.717438 14.690875 58.717438 13.589313 C 58.717438 12.48775 59.611969 11.597125 60.713531 11.597125 C 61.811188 11.597125 62.705719 12.48775 62.705719 13.589313 Z M 62.705719 13.589313 \" transform=\"matrix(1, 0, 0, -1, 59.681, 148.144)\"/>\n",
       "<path fill-rule=\"nonzero\" fill=\"rgb(0%, 0%, 79.998779%)\" fill-opacity=\"1\" stroke-width=\"0.3985\" stroke-linecap=\"butt\" stroke-linejoin=\"miter\" stroke=\"rgb(0%, 0%, 100%)\" stroke-opacity=\"1\" stroke-miterlimit=\"10\" d=\"M 69.451813 7.874469 C 69.451813 8.976031 68.557281 9.866656 67.459625 9.866656 C 66.358063 9.866656 65.463531 8.976031 65.463531 7.874469 C 65.463531 6.776813 66.358063 5.882281 67.459625 5.882281 C 68.557281 5.882281 69.451813 6.776813 69.451813 7.874469 Z M 69.451813 7.874469 \" transform=\"matrix(1, 0, 0, -1, 59.681, 148.144)\"/>\n",
       "<path fill-rule=\"nonzero\" fill=\"rgb(0%, 0%, 79.998779%)\" fill-opacity=\"1\" stroke-width=\"0.3985\" stroke-linecap=\"butt\" stroke-linejoin=\"miter\" stroke=\"rgb(0%, 0%, 100%)\" stroke-opacity=\"1\" stroke-miterlimit=\"10\" d=\"M 76.197906 3.7065 C 76.197906 4.808063 75.303375 5.698688 74.201813 5.698688 C 73.104156 5.698688 72.209625 4.808063 72.209625 3.7065 C 72.209625 2.604938 73.104156 1.714313 74.201813 1.714313 C 75.303375 1.714313 76.197906 2.604938 76.197906 3.7065 Z M 76.197906 3.7065 \" transform=\"matrix(1, 0, 0, -1, 59.681, 148.144)\"/>\n",
       "<path fill-rule=\"nonzero\" fill=\"rgb(0%, 0%, 79.998779%)\" fill-opacity=\"1\" stroke-width=\"0.3985\" stroke-linecap=\"butt\" stroke-linejoin=\"miter\" stroke=\"rgb(0%, 0%, 100%)\" stroke-opacity=\"1\" stroke-miterlimit=\"10\" d=\"M 82.940094 1.0815 C 82.940094 2.183063 82.049469 3.073688 80.947906 3.073688 C 79.85025 3.073688 78.955719 2.183063 78.955719 1.0815 C 78.955719 -0.0200625 79.85025 -0.910687 80.947906 -0.910687 C 82.049469 -0.910687 82.940094 -0.0200625 82.940094 1.0815 Z M 82.940094 1.0815 \" transform=\"matrix(1, 0, 0, -1, 59.681, 148.144)\"/>\n",
       "<path fill-rule=\"nonzero\" fill=\"rgb(0%, 0%, 79.998779%)\" fill-opacity=\"1\" stroke-width=\"0.3985\" stroke-linecap=\"butt\" stroke-linejoin=\"miter\" stroke=\"rgb(0%, 0%, 100%)\" stroke-opacity=\"1\" stroke-miterlimit=\"10\" d=\"M 89.686188 -0.00053125 C 89.686188 1.101031 88.795563 1.991656 87.694 1.991656 C 86.596344 1.991656 85.701813 1.101031 85.701813 -0.00053125 C 85.701813 -1.102094 86.596344 -1.992719 87.694 -1.992719 C 88.795563 -1.992719 89.686188 -1.102094 89.686188 -0.00053125 Z M 89.686188 -0.00053125 \" transform=\"matrix(1, 0, 0, -1, 59.681, 148.144)\"/>\n",
       "<path fill-rule=\"nonzero\" fill=\"rgb(0%, 0%, 79.998779%)\" fill-opacity=\"1\" stroke-width=\"0.3985\" stroke-linecap=\"butt\" stroke-linejoin=\"miter\" stroke=\"rgb(0%, 0%, 100%)\" stroke-opacity=\"1\" stroke-miterlimit=\"10\" d=\"M 96.432281 0.464313 C 96.432281 1.561969 95.541656 2.4565 94.440094 2.4565 C 93.338531 2.4565 92.447906 1.561969 92.447906 0.464313 C 92.447906 -0.63725 93.338531 -1.527875 94.440094 -1.527875 C 95.541656 -1.527875 96.432281 -0.63725 96.432281 0.464313 Z M 96.432281 0.464313 \" transform=\"matrix(1, 0, 0, -1, 59.681, 148.144)\"/>\n",
       "<path fill-rule=\"nonzero\" fill=\"rgb(0%, 0%, 79.998779%)\" fill-opacity=\"1\" stroke-width=\"0.3985\" stroke-linecap=\"butt\" stroke-linejoin=\"miter\" stroke=\"rgb(0%, 0%, 100%)\" stroke-opacity=\"1\" stroke-miterlimit=\"10\" d=\"M 103.178375 2.468219 C 103.178375 3.569781 102.28775 4.464313 101.186188 4.464313 C 100.084625 4.464313 99.194 3.569781 99.194 2.468219 C 99.194 1.370563 100.084625 0.476031 101.186188 0.476031 C 102.28775 0.476031 103.178375 1.370563 103.178375 2.468219 Z M 103.178375 2.468219 \" transform=\"matrix(1, 0, 0, -1, 59.681, 148.144)\"/>\n",
       "<path fill-rule=\"nonzero\" fill=\"rgb(0%, 0%, 79.998779%)\" fill-opacity=\"1\" stroke-width=\"0.3985\" stroke-linecap=\"butt\" stroke-linejoin=\"miter\" stroke=\"rgb(0%, 0%, 100%)\" stroke-opacity=\"1\" stroke-miterlimit=\"10\" d=\"M 109.924469 6.022906 C 109.924469 7.120563 109.033844 8.015094 107.932281 8.015094 C 106.830719 8.015094 105.940094 7.120563 105.940094 6.022906 C 105.940094 4.921344 106.830719 4.026813 107.932281 4.026813 C 109.033844 4.026813 109.924469 4.921344 109.924469 6.022906 Z M 109.924469 6.022906 \" transform=\"matrix(1, 0, 0, -1, 59.681, 148.144)\"/>\n",
       "<path fill-rule=\"nonzero\" fill=\"rgb(0%, 0%, 79.998779%)\" fill-opacity=\"1\" stroke-width=\"0.3985\" stroke-linecap=\"butt\" stroke-linejoin=\"miter\" stroke=\"rgb(0%, 0%, 100%)\" stroke-opacity=\"1\" stroke-miterlimit=\"10\" d=\"M 116.670563 11.116656 C 116.670563 12.218219 115.779938 13.108844 114.678375 13.108844 C 113.576813 13.108844 112.686188 12.218219 112.686188 11.116656 C 112.686188 10.015094 113.576813 9.124469 114.678375 9.124469 C 115.779938 9.124469 116.670563 10.015094 116.670563 11.116656 Z M 116.670563 11.116656 \" transform=\"matrix(1, 0, 0, -1, 59.681, 148.144)\"/>\n",
       "<path fill-rule=\"nonzero\" fill=\"rgb(0%, 0%, 79.998779%)\" fill-opacity=\"1\" stroke-width=\"0.3985\" stroke-linecap=\"butt\" stroke-linejoin=\"miter\" stroke=\"rgb(0%, 0%, 100%)\" stroke-opacity=\"1\" stroke-miterlimit=\"10\" d=\"M 123.416656 17.757281 C 123.416656 18.854938 122.526031 19.749469 121.424469 19.749469 C 120.322906 19.749469 119.432281 18.854938 119.432281 17.757281 C 119.432281 16.655719 120.322906 15.761188 121.424469 15.761188 C 122.526031 15.761188 123.416656 16.655719 123.416656 17.757281 Z M 123.416656 17.757281 \" transform=\"matrix(1, 0, 0, -1, 59.681, 148.144)\"/>\n",
       "<path fill-rule=\"nonzero\" fill=\"rgb(0%, 0%, 79.998779%)\" fill-opacity=\"1\" stroke-width=\"0.3985\" stroke-linecap=\"butt\" stroke-linejoin=\"miter\" stroke=\"rgb(0%, 0%, 100%)\" stroke-opacity=\"1\" stroke-miterlimit=\"10\" d=\"M 130.16275 25.940875 C 130.16275 27.038531 129.268219 27.933063 128.170563 27.933063 C 127.069 27.933063 126.178375 27.038531 126.178375 25.940875 C 126.178375 24.839313 127.069 23.944781 128.170563 23.944781 C 129.268219 23.944781 130.16275 24.839313 130.16275 25.940875 Z M 130.16275 25.940875 \" transform=\"matrix(1, 0, 0, -1, 59.681, 148.144)\"/>\n",
       "<path fill-rule=\"nonzero\" fill=\"rgb(0%, 0%, 79.998779%)\" fill-opacity=\"1\" stroke-width=\"0.3985\" stroke-linecap=\"butt\" stroke-linejoin=\"miter\" stroke=\"rgb(0%, 0%, 100%)\" stroke-opacity=\"1\" stroke-miterlimit=\"10\" d=\"M 136.908844 35.667438 C 136.908844 36.769 136.014313 37.659625 134.916656 37.659625 C 133.815094 37.659625 132.924469 36.769 132.924469 35.667438 C 132.924469 34.565875 133.815094 33.67525 134.916656 33.67525 C 136.014313 33.67525 136.908844 34.565875 136.908844 35.667438 Z M 136.908844 35.667438 \" transform=\"matrix(1, 0, 0, -1, 59.681, 148.144)\"/>\n",
       "<path fill-rule=\"nonzero\" fill=\"rgb(0%, 0%, 79.998779%)\" fill-opacity=\"1\" stroke-width=\"0.3985\" stroke-linecap=\"butt\" stroke-linejoin=\"miter\" stroke=\"rgb(0%, 0%, 100%)\" stroke-opacity=\"1\" stroke-miterlimit=\"10\" d=\"M 143.654938 46.936969 C 143.654938 48.038531 142.760406 48.929156 141.66275 48.929156 C 140.561188 48.929156 139.666656 48.038531 139.666656 46.936969 C 139.666656 45.839313 140.561188 44.944781 141.66275 44.944781 C 142.760406 44.944781 143.654938 45.839313 143.654938 46.936969 Z M 143.654938 46.936969 \" transform=\"matrix(1, 0, 0, -1, 59.681, 148.144)\"/>\n",
       "<path fill-rule=\"nonzero\" fill=\"rgb(0%, 0%, 79.998779%)\" fill-opacity=\"1\" stroke-width=\"0.3985\" stroke-linecap=\"butt\" stroke-linejoin=\"miter\" stroke=\"rgb(0%, 0%, 100%)\" stroke-opacity=\"1\" stroke-miterlimit=\"10\" d=\"M 150.401031 59.753375 C 150.401031 60.854938 149.5065 61.745563 148.408844 61.745563 C 147.307281 61.745563 146.41275 60.854938 146.41275 59.753375 C 146.41275 58.651813 147.307281 57.761188 148.408844 57.761188 C 149.5065 57.761188 150.401031 58.651813 150.401031 59.753375 Z M 150.401031 59.753375 \" transform=\"matrix(1, 0, 0, -1, 59.681, 148.144)\"/>\n",
       "<path fill-rule=\"nonzero\" fill=\"rgb(0%, 0%, 79.998779%)\" fill-opacity=\"1\" stroke-width=\"0.3985\" stroke-linecap=\"butt\" stroke-linejoin=\"miter\" stroke=\"rgb(0%, 0%, 100%)\" stroke-opacity=\"1\" stroke-miterlimit=\"10\" d=\"M 157.147125 74.11275 C 157.147125 75.214313 156.252594 76.104938 155.151031 76.104938 C 154.053375 76.104938 153.158844 75.214313 153.158844 74.11275 C 153.158844 73.015094 154.053375 72.120563 155.151031 72.120563 C 156.252594 72.120563 157.147125 73.015094 157.147125 74.11275 Z M 157.147125 74.11275 \" transform=\"matrix(1, 0, 0, -1, 59.681, 148.144)\"/>\n",
       "<path fill-rule=\"nonzero\" fill=\"rgb(0%, 0%, 79.998779%)\" fill-opacity=\"1\" stroke-width=\"0.3985\" stroke-linecap=\"butt\" stroke-linejoin=\"miter\" stroke=\"rgb(0%, 0%, 100%)\" stroke-opacity=\"1\" stroke-miterlimit=\"10\" d=\"M 163.889313 90.019 C 163.889313 91.120563 162.998688 92.011188 161.897125 92.011188 C 160.799469 92.011188 159.904938 91.120563 159.904938 90.019 C 159.904938 88.917438 160.799469 88.026813 161.897125 88.026813 C 162.998688 88.026813 163.889313 88.917438 163.889313 90.019 Z M 163.889313 90.019 \" transform=\"matrix(1, 0, 0, -1, 59.681, 148.144)\"/>\n",
       "<g fill=\"rgb(0%, 0%, 0%)\" fill-opacity=\"1\">\n",
       "<use xlink:href=\"#glyph-2-0\" x=\"137.783\" y=\"184.347\"/>\n",
       "</g>\n",
       "<g fill=\"rgb(0%, 0%, 0%)\" fill-opacity=\"1\">\n",
       "<use xlink:href=\"#glyph-3-0\" x=\"11.431\" y=\"119.83\"/>\n",
       "</g>\n",
       "<g fill=\"rgb(0%, 0%, 0%)\" fill-opacity=\"1\">\n",
       "<use xlink:href=\"#glyph-4-0\" x=\"11.431\" y=\"113.88\"/>\n",
       "</g>\n",
       "<g fill=\"rgb(0%, 0%, 0%)\" fill-opacity=\"1\">\n",
       "<use xlink:href=\"#glyph-3-1\" x=\"11.431\" y=\"110.006\"/>\n",
       "</g>\n",
       "<g fill=\"rgb(0%, 0%, 0%)\" fill-opacity=\"1\">\n",
       "<use xlink:href=\"#glyph-4-1\" x=\"11.431\" y=\"104.312\"/>\n",
       "</g>\n",
       "<g fill=\"rgb(0%, 0%, 0%)\" fill-opacity=\"1\">\n",
       "<use xlink:href=\"#glyph-4-2\" x=\"11.431\" y=\"97.667942\"/>\n",
       "</g>\n",
       "<g fill=\"rgb(0%, 0%, 0%)\" fill-opacity=\"1\">\n",
       "<use xlink:href=\"#glyph-3-1\" x=\"11.431\" y=\"87.154\"/>\n",
       "</g>\n",
       "<g fill=\"rgb(0%, 0%, 0%)\" fill-opacity=\"1\">\n",
       "<use xlink:href=\"#glyph-5-0\" x=\"7.816\" y=\"81.46\"/>\n",
       "</g>\n",
       "<g fill=\"rgb(0%, 0%, 0%)\" fill-opacity=\"1\">\n",
       "<use xlink:href=\"#glyph-6-0\" x=\"11.431\" y=\"74.777\"/>\n",
       "</g>\n",
       "<g fill=\"rgb(0%, 0%, 0%)\" fill-opacity=\"1\">\n",
       "<use xlink:href=\"#glyph-3-1\" x=\"11.431\" y=\"64.814\"/>\n",
       "</g>\n",
       "<g fill=\"rgb(0%, 0%, 0%)\" fill-opacity=\"1\">\n",
       "<use xlink:href=\"#glyph-4-3\" x=\"11.431\" y=\"56.906\"/>\n",
       "</g>\n",
       "<g fill=\"rgb(0%, 0%, 0%)\" fill-opacity=\"1\">\n",
       "<use xlink:href=\"#glyph-4-4\" x=\"11.431\" y=\"46.945393\"/>\n",
       "</g>\n",
       "</svg>"
      ]
     },
     "metadata": {
      "isolated": "true"
     },
     "output_type": "display_data"
    }
   ],
   "source": [
    "%%tikz -p pgfplots -f svg\n",
    "\\begin{axis}[\n",
    "  xlabel=$x$,\n",
    "  ylabel={$f(x) = x^2 - x +4$}\n",
    "]\n",
    "\\addplot {x^2 - x +4};\n",
    "\\end{axis}"
   ]
  },
  {
   "cell_type": "markdown",
   "id": "8395871b-a857-43d8-81f8-bec9d9896267",
   "metadata": {},
   "source": [
    "```{figure} \n",
    "_build/images/tikz-ex1-1.png\n",
    ":name: figure-tikz-ex1-1\n",
    "\n",
    "Image from https://www.facebook.com/tansueechieh/photos/the-actuary-who-is-only-an-actuary-is-not-an-actuaryi-used-this-quote-by-frank-r/10158102538681839/?paipv=0&eav=AfYvGsaRRE8ZLhMYnAd25vJ-cQwXlVCyiN6ex_IWl9tFkkZ6EPc08Xxxit9yX_YUv_k&_rdr\n",
    "```"
   ]
  },
  {
   "cell_type": "markdown",
   "id": "6eef8719-4549-4951-9506-1986b2ab9a2f",
   "metadata": {},
   "source": [
    "```{figure} \n",
    "_build/images/Frank.png\n",
    ":name: figure-Frank\n",
    "\n",
    "Image from https://www.facebook.com/tansueechieh/photos/the-actuary-who-is-only-an-actuary-is-not-an-actuaryi-used-this-quote-by-frank-r/10158102538681839/?paipv=0&eav=AfYvGsaRRE8ZLhMYnAd25vJ-cQwXlVCyiN6ex_IWl9tFkkZ6EPc08Xxxit9yX_YUv_k&_rdr\n",
    "```"
   ]
  }
 ],
 "metadata": {
  "kernelspec": {
   "display_name": "Python 3 (ipykernel)",
   "language": "python",
   "name": "python3"
  },
  "language_info": {
   "codemirror_mode": {
    "name": "ipython",
    "version": 3
   },
   "file_extension": ".py",
   "mimetype": "text/x-python",
   "name": "python",
   "nbconvert_exporter": "python",
   "pygments_lexer": "ipython3",
   "version": "3.10.9"
  }
 },
 "nbformat": 4,
 "nbformat_minor": 5
}
