{
 "cells": [
  {
   "cell_type": "markdown",
   "id": "eff021bb-fdc4-453b-8445-e036f2a3f467",
   "metadata": {},
   "source": [
    "## <span style=\"color: dimgray;\">**2.5 Analyzing Submission Patterns: Fitting Exponential Distributions to Timestamps of Student Answers via Google Form**</span>\n"
   ]
  },
  {
   "cell_type": "markdown",
   "id": "59e3116d-a1d3-4860-9e56-c7eba18dc737",
   "metadata": {},
   "source": [
    "### <span style=\"color: dimgray;\">**Introduction**</span>\n",
    "\n",
    "The provided R code aims to analyze a sequence of timestamps representing the **submission times of students' answers via a Google Form**. These timestamps are formatted as `mm/dd/yyyy hh:mm:ss` and represent discrete events occurring over a period of time. The code's objective is to extract meaningful insights from the time intervals between these submissions.\n",
    "\n",
    "#### <span style=\"color: dimgray;\">**Aim of the Code**</span>\n",
    "\n",
    "The primary goal of this code is to analyze the time intervals between consecutive submissions and fit an exponential distribution to these intervals. Specifically tailored for submissions via a Google Form, the analysis helps understand the rate at which students submit their answers. By employing the method of moments, the code estimates the parameter of the exponential distribution.\n",
    "\n",
    "Additionally, the code generates visualizations, such as histograms, to illustrate the distribution of time intervals and the fitted exponential distribution, aiding in the interpretation of submission patterns."
   ]
  },
  {
   "cell_type": "code",
   "execution_count": 1,
   "id": "48e47dd1-366b-4995-82d0-708c5c70df78",
   "metadata": {},
   "outputs": [],
   "source": [
    "# Sample data\n",
    "timestamps <- c(\"3/14/2024 14:32:43\", \"3/14/2024 14:32:44\", \"3/14/2024 14:32:45\", \n",
    "                \"3/14/2024 14:32:46\", \"3/14/2024 14:32:47\", \"3/14/2024 14:32:48\", \n",
    "                \"3/14/2024 14:32:49\", \"3/14/2024 14:32:50\", \"3/14/2024 14:32:51\", \n",
    "                \"3/14/2024 14:32:52\", \"3/14/2024 14:32:53\", \"3/14/2024 14:32:54\", \n",
    "                \"3/14/2024 14:32:55\", \"3/14/2024 14:37:48\", \"3/14/2024 14:37:50\", \n",
    "                \"3/14/2024 14:37:54\", \"3/14/2024 14:37:57\", \"3/14/2024 14:37:58\", \n",
    "                \"3/14/2024 14:37:58\", \"3/14/2024 14:38:05\", \"3/14/2024 14:38:10\", \n",
    "                \"3/14/2024 14:38:11\", \"3/14/2024 14:38:14\", \"3/14/2024 14:38:15\", \n",
    "                \"3/14/2024 14:38:18\", \"3/14/2024 14:38:29\", \"3/14/2024 14:38:30\", \n",
    "                \"3/14/2024 14:38:32\", \"3/14/2024 14:38:33\", \"3/14/2024 14:38:42\", \n",
    "                \"3/14/2024 14:38:43\", \"3/14/2024 14:38:45\", \"3/14/2024 14:38:52\", \n",
    "                \"3/14/2024 14:38:52\", \"3/14/2024 14:38:54\", \"3/14/2024 14:39:03\", \n",
    "                \"3/14/2024 14:39:05\", \"3/14/2024 14:39:11\", \"3/14/2024 14:39:11\", \n",
    "                \"3/14/2024 14:39:15\", \"3/14/2024 14:39:26\", \"3/14/2024 14:39:28\", \n",
    "                \"3/14/2024 14:39:30\", \"3/14/2024 14:39:35\", \"3/14/2024 14:39:35\", \n",
    "                \"3/14/2024 14:39:36\", \"3/14/2024 14:39:37\", \"3/14/2024 14:39:38\", \n",
    "                \"3/14/2024 14:39:38\", \"3/14/2024 14:39:39\", \"3/14/2024 14:39:39\", \n",
    "                \"3/14/2024 14:39:41\", \"3/14/2024 14:39:44\", \"3/14/2024 14:39:46\", \n",
    "                \"3/14/2024 14:39:49\", \"3/14/2024 14:39:55\", \"3/14/2024 14:39:55\", \n",
    "                \"3/14/2024 14:40:08\", \"3/14/2024 14:40:09\", \"3/14/2024 14:40:25\", \n",
    "                \"3/14/2024 14:40:38\", \"3/14/2024 14:40:38\", \"3/14/2024 14:41:17\", \n",
    "                \"3/14/2024 14:41:24\", \"3/14/2024 14:41:28\", \"3/14/2024 14:41:56\", \n",
    "                \"3/14/2024 14:41:57\", \"3/14/2024 14:42:17\", \"3/14/2024 14:42:17\", \n",
    "                \"3/14/2024 14:42:22\", \"3/14/2024 14:42:30\", \"3/14/2024 14:43:00\")"
   ]
  },
  {
   "cell_type": "markdown",
   "id": "77e3d2a2-5e0e-4014-8103-11e656b87d11",
   "metadata": {},
   "source": [
    "#### <span style=\"color: dimgray;\">**Code snippet: Explained**</span>\n",
    "\n",
    "The provided code snippet performs the following operations.\n",
    "\n",
    "1. **Convert Timestamps to POSIXct Objects in BKK Timezone** Using the `as.POSIXct()` function, the code converts the given timestamps, provided as character strings in the format \"mm/dd/yyyy hh:mm:ss\", into POSIXct objects. These objects represent dates and times in the Bangkok (BKK) timezone, as specified by the `tz` parameter set to \"Asia/Bangkok\".\n",
    "\n",
    "2. **Calculate Time Differences in Seconds** The `diff()` function calculates the differences between consecutive timestamps in the `timestamps` vector. These differences represent the time intervals between successive events.\n",
    "\n",
    "3. **Convert Time Differences to Numeric Values in Seconds** Since the output of `diff()` is a difftime object, the `as.numeric()` function is used to convert these time differences into numeric values representing seconds. This numeric vector, `time_diff`, holds the duration between consecutive events in seconds, facilitating further analysis.\n",
    "\n",
    "4. **Method of Moments Estimation for Exponential Distribution** In this step, the code estimates the parameter of the exponential distribution using the method of moments. The parameter lambda (λ) represents the rate at which events occur in the exponential distribution. The estimation formula calculates lambda_hat (λ̂) as the reciprocal of the mean of the time differences between consecutive events (time_diff).\n",
    "\n",
    "5. **Fitted Exponential Distribution** The estimated lambda parameter (lambda_hat) is stored in a list named `fit_exp`. This step organizes the estimation result for further reference.\n",
    "\n",
    "6. **Print the Estimated Lambda Parameter** Using the `cat()` function, the code prints the estimated lambda parameter to the console. This provides a numerical value representing the rate of event occurrences in the fitted exponential distribution.\n",
    "\n",
    "7. **Plot Histogram of Time Differences with Fitted Exponential Distribution** The code generates a histogram to visualize the distribution of time differences between consecutive events. The histogram displays the frequency of time intervals within specified bins. Additionally, the code overlays a curve representing the fitted exponential distribution using the estimated lambda parameter. This visualization helps in understanding the distribution of event occurrences and assessing the goodness-of-fit of the exponential model to the data.\n",
    "\n"
   ]
  },
  {
   "cell_type": "code",
   "execution_count": null,
   "id": "77f472ce-399a-494e-8852-29dad25ceff6",
   "metadata": {},
   "outputs": [],
   "source": [
    "# Convert timestamps to POSIXct objects in BKK timezone\n",
    "timestamps <- as.POSIXct(timestamps, format = \"%m/%d/%Y %H:%M:%S\", tz = \"Asia/Bangkok\")\n",
    "\n",
    "# Calculate time differences in seconds\n",
    "time_diff <- diff(timestamps)\n",
    "\n",
    "# Convert time differences to numeric values in seconds\n",
    "time_diff <- as.numeric(time_diff)\n",
    "\n",
    "# Method of moments estimation for exponential distribution\n",
    "lambda_hat <- 1/mean(time_diff)\n",
    "\n",
    "# Fitted exponential distribution\n",
    "fit_exp <- list(lambda = lambda_hat)\n",
    "\n",
    "# Print the estimated lambda parameter\n",
    "cat(\"Estimated lambda:\", lambda_hat, \"\\n\")\n",
    "\n",
    "# Plot histogram of time differences with fitted exponential distribution\n",
    "hist(time_diff, breaks = 50, freq = FALSE, main = \"Histogram of Time Differences\",\n",
    "     xlab = \"Time Difference (seconds)\", ylab = \"Density\")\n",
    "curve(dexp(x, rate = lambda_hat), add = TRUE, col = \"blue\", lwd = 2)\n",
    "\n",
    "# Add legend\n",
    "legend(\"topright\", legend = c(\"Exponential Fit\"), col = c(\"blue\"), lwd = 2)\n"
   ]
  }
 ],
 "metadata": {
  "kernelspec": {
   "display_name": "R",
   "language": "R",
   "name": "ir"
  },
  "language_info": {
   "codemirror_mode": "r",
   "file_extension": ".r",
   "mimetype": "text/x-r-source",
   "name": "R",
   "pygments_lexer": "r",
   "version": "4.2.1"
  }
 },
 "nbformat": 4,
 "nbformat_minor": 5
}
